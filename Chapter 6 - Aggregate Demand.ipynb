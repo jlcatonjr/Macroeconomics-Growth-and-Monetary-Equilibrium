{
 "cells": [
  {
   "cell_type": "markdown",
   "metadata": {},
   "source": [
    "# Aggregate Demand\n",
    "\n",
    "Macroeconomics is the study of all economic activity. This includes complexities that arise in the course of production and exchange. It also includes analysis using statistics that represent the sum of all economic activity or activity in different sectors and of different kinds.\n",
    "Although data reflecting economic activity cannot be reduced to aggregates without losing information, aggregates themselves contain information that is unavailable at the level of analysis of particular events or of particular firms or sectors. Consideration of aggregate values allows one to consider the details of macroeconomic equilibrium, as well as macroeconomic disequilibrium. \n",
    "\n",
    "## The Money Market and the Goods Market\n",
    "\n",
    "The equation of exchange is a golden key that unlocks the secrets of the macroeconomy. It links changes in the money market to changes in the market for non-money goods, and vice versa, by defining aggregate demand as $MV$. The aggregate demand curve assume a given level of expenditures. This value is defined across different combinations of $P$ and $y$. As the value of $P$ increases, the value of $y$ falls, thereby maintaining the given value of total expenditures.\n",
    "In this chapter, we will use the equation of exchange to understand how changes in the goods market lead to changes in the market for non-money goods.  For simplicity sake, we will assume that there is only one good that acts as money. We will discuss in a later chapter that analysis can include other moneys.\n",
    "\n",
    "> Figure 1: Market for Non-money Goods\n",
    "\n",
    "In the previous chapter we used the equation of exchange to define changes the supply of money that can result from changes in demand for money. For the sake of simplicity, we start with a market whose supply of money is perfectly inelastic, as compared with a commodity money whose supply is upward sloping. A perfectly inelastic money supply allows us to consider money as a choice variable, much as base money is the result of the policy of a monetary authority. Changes in the price of money will therefore not affect the quantity of money supplied to the market. With a perfectly inelastic quantity of money, $M$, is not a function of demand for money . Changes in demand for money impact the price of money and, therefore, the price level. \n",
    "\n",
    "Aside from exogenous changes in supply, we will focus on the effect of changes in portfolio demand, $k$, for money. Recall that this is the inverse of the average velocity of money:\n",
    "\n",
    ">$k=\\frac{1}{V}$\n",
    "\n",
    "A change in the quantity of money or a change in portfolio demand for money will shift in aggregate demand, thereby shifting the price level in the long-run.\n",
    "\n",
    "Try working witht the plot yourself!"
   ]
  },
  {
   "cell_type": "code",
   "execution_count": 1,
   "metadata": {},
   "outputs": [
    {
     "data": {
      "application/javascript": [
       "/* Put everything inside the global mpl namespace */\n",
       "/* global mpl */\n",
       "window.mpl = {};\n",
       "\n",
       "mpl.get_websocket_type = function () {\n",
       "    if (typeof WebSocket !== 'undefined') {\n",
       "        return WebSocket;\n",
       "    } else if (typeof MozWebSocket !== 'undefined') {\n",
       "        return MozWebSocket;\n",
       "    } else {\n",
       "        alert(\n",
       "            'Your browser does not have WebSocket support. ' +\n",
       "                'Please try Chrome, Safari or Firefox ≥ 6. ' +\n",
       "                'Firefox 4 and 5 are also supported but you ' +\n",
       "                'have to enable WebSockets in about:config.'\n",
       "        );\n",
       "    }\n",
       "};\n",
       "\n",
       "mpl.figure = function (figure_id, websocket, ondownload, parent_element) {\n",
       "    this.id = figure_id;\n",
       "\n",
       "    this.ws = websocket;\n",
       "\n",
       "    this.supports_binary = this.ws.binaryType !== undefined;\n",
       "\n",
       "    if (!this.supports_binary) {\n",
       "        var warnings = document.getElementById('mpl-warnings');\n",
       "        if (warnings) {\n",
       "            warnings.style.display = 'block';\n",
       "            warnings.textContent =\n",
       "                'This browser does not support binary websocket messages. ' +\n",
       "                'Performance may be slow.';\n",
       "        }\n",
       "    }\n",
       "\n",
       "    this.imageObj = new Image();\n",
       "\n",
       "    this.context = undefined;\n",
       "    this.message = undefined;\n",
       "    this.canvas = undefined;\n",
       "    this.rubberband_canvas = undefined;\n",
       "    this.rubberband_context = undefined;\n",
       "    this.format_dropdown = undefined;\n",
       "\n",
       "    this.image_mode = 'full';\n",
       "\n",
       "    this.root = document.createElement('div');\n",
       "    this.root.setAttribute('style', 'display: inline-block');\n",
       "    this._root_extra_style(this.root);\n",
       "\n",
       "    parent_element.appendChild(this.root);\n",
       "\n",
       "    this._init_header(this);\n",
       "    this._init_canvas(this);\n",
       "    this._init_toolbar(this);\n",
       "\n",
       "    var fig = this;\n",
       "\n",
       "    this.waiting = false;\n",
       "\n",
       "    this.ws.onopen = function () {\n",
       "        fig.send_message('supports_binary', { value: fig.supports_binary });\n",
       "        fig.send_message('send_image_mode', {});\n",
       "        if (fig.ratio !== 1) {\n",
       "            fig.send_message('set_dpi_ratio', { dpi_ratio: fig.ratio });\n",
       "        }\n",
       "        fig.send_message('refresh', {});\n",
       "    };\n",
       "\n",
       "    this.imageObj.onload = function () {\n",
       "        if (fig.image_mode === 'full') {\n",
       "            // Full images could contain transparency (where diff images\n",
       "            // almost always do), so we need to clear the canvas so that\n",
       "            // there is no ghosting.\n",
       "            fig.context.clearRect(0, 0, fig.canvas.width, fig.canvas.height);\n",
       "        }\n",
       "        fig.context.drawImage(fig.imageObj, 0, 0);\n",
       "    };\n",
       "\n",
       "    this.imageObj.onunload = function () {\n",
       "        fig.ws.close();\n",
       "    };\n",
       "\n",
       "    this.ws.onmessage = this._make_on_message_function(this);\n",
       "\n",
       "    this.ondownload = ondownload;\n",
       "};\n",
       "\n",
       "mpl.figure.prototype._init_header = function () {\n",
       "    var titlebar = document.createElement('div');\n",
       "    titlebar.classList =\n",
       "        'ui-dialog-titlebar ui-widget-header ui-corner-all ui-helper-clearfix';\n",
       "    var titletext = document.createElement('div');\n",
       "    titletext.classList = 'ui-dialog-title';\n",
       "    titletext.setAttribute(\n",
       "        'style',\n",
       "        'width: 100%; text-align: center; padding: 3px;'\n",
       "    );\n",
       "    titlebar.appendChild(titletext);\n",
       "    this.root.appendChild(titlebar);\n",
       "    this.header = titletext;\n",
       "};\n",
       "\n",
       "mpl.figure.prototype._canvas_extra_style = function (_canvas_div) {};\n",
       "\n",
       "mpl.figure.prototype._root_extra_style = function (_canvas_div) {};\n",
       "\n",
       "mpl.figure.prototype._init_canvas = function () {\n",
       "    var fig = this;\n",
       "\n",
       "    var canvas_div = (this.canvas_div = document.createElement('div'));\n",
       "    canvas_div.setAttribute(\n",
       "        'style',\n",
       "        'border: 1px solid #ddd;' +\n",
       "            'box-sizing: content-box;' +\n",
       "            'clear: both;' +\n",
       "            'min-height: 1px;' +\n",
       "            'min-width: 1px;' +\n",
       "            'outline: 0;' +\n",
       "            'overflow: hidden;' +\n",
       "            'position: relative;' +\n",
       "            'resize: both;'\n",
       "    );\n",
       "\n",
       "    function on_keyboard_event_closure(name) {\n",
       "        return function (event) {\n",
       "            return fig.key_event(event, name);\n",
       "        };\n",
       "    }\n",
       "\n",
       "    canvas_div.addEventListener(\n",
       "        'keydown',\n",
       "        on_keyboard_event_closure('key_press')\n",
       "    );\n",
       "    canvas_div.addEventListener(\n",
       "        'keyup',\n",
       "        on_keyboard_event_closure('key_release')\n",
       "    );\n",
       "\n",
       "    this._canvas_extra_style(canvas_div);\n",
       "    this.root.appendChild(canvas_div);\n",
       "\n",
       "    var canvas = (this.canvas = document.createElement('canvas'));\n",
       "    canvas.classList.add('mpl-canvas');\n",
       "    canvas.setAttribute('style', 'box-sizing: content-box;');\n",
       "\n",
       "    this.context = canvas.getContext('2d');\n",
       "\n",
       "    var backingStore =\n",
       "        this.context.backingStorePixelRatio ||\n",
       "        this.context.webkitBackingStorePixelRatio ||\n",
       "        this.context.mozBackingStorePixelRatio ||\n",
       "        this.context.msBackingStorePixelRatio ||\n",
       "        this.context.oBackingStorePixelRatio ||\n",
       "        this.context.backingStorePixelRatio ||\n",
       "        1;\n",
       "\n",
       "    this.ratio = (window.devicePixelRatio || 1) / backingStore;\n",
       "    if (this.ratio !== 1) {\n",
       "        fig.send_message('set_dpi_ratio', { dpi_ratio: this.ratio });\n",
       "    }\n",
       "\n",
       "    var rubberband_canvas = (this.rubberband_canvas = document.createElement(\n",
       "        'canvas'\n",
       "    ));\n",
       "    rubberband_canvas.setAttribute(\n",
       "        'style',\n",
       "        'box-sizing: content-box; position: absolute; left: 0; top: 0; z-index: 1;'\n",
       "    );\n",
       "\n",
       "    // Apply a ponyfill if ResizeObserver is not implemented by browser.\n",
       "    if (this.ResizeObserver === undefined) {\n",
       "        if (window.ResizeObserver !== undefined) {\n",
       "            this.ResizeObserver = window.ResizeObserver;\n",
       "        } else {\n",
       "            var obs = _JSXTOOLS_RESIZE_OBSERVER({});\n",
       "            this.ResizeObserver = obs.ResizeObserver;\n",
       "        }\n",
       "    }\n",
       "\n",
       "    this.resizeObserverInstance = new this.ResizeObserver(function (entries) {\n",
       "        var nentries = entries.length;\n",
       "        for (var i = 0; i < nentries; i++) {\n",
       "            var entry = entries[i];\n",
       "            var width, height;\n",
       "            if (entry.contentBoxSize) {\n",
       "                if (entry.contentBoxSize instanceof Array) {\n",
       "                    // Chrome 84 implements new version of spec.\n",
       "                    width = entry.contentBoxSize[0].inlineSize;\n",
       "                    height = entry.contentBoxSize[0].blockSize;\n",
       "                } else {\n",
       "                    // Firefox implements old version of spec.\n",
       "                    width = entry.contentBoxSize.inlineSize;\n",
       "                    height = entry.contentBoxSize.blockSize;\n",
       "                }\n",
       "            } else {\n",
       "                // Chrome <84 implements even older version of spec.\n",
       "                width = entry.contentRect.width;\n",
       "                height = entry.contentRect.height;\n",
       "            }\n",
       "\n",
       "            // Keep the size of the canvas and rubber band canvas in sync with\n",
       "            // the canvas container.\n",
       "            if (entry.devicePixelContentBoxSize) {\n",
       "                // Chrome 84 implements new version of spec.\n",
       "                canvas.setAttribute(\n",
       "                    'width',\n",
       "                    entry.devicePixelContentBoxSize[0].inlineSize\n",
       "                );\n",
       "                canvas.setAttribute(\n",
       "                    'height',\n",
       "                    entry.devicePixelContentBoxSize[0].blockSize\n",
       "                );\n",
       "            } else {\n",
       "                canvas.setAttribute('width', width * fig.ratio);\n",
       "                canvas.setAttribute('height', height * fig.ratio);\n",
       "            }\n",
       "            canvas.setAttribute(\n",
       "                'style',\n",
       "                'width: ' + width + 'px; height: ' + height + 'px;'\n",
       "            );\n",
       "\n",
       "            rubberband_canvas.setAttribute('width', width);\n",
       "            rubberband_canvas.setAttribute('height', height);\n",
       "\n",
       "            // And update the size in Python. We ignore the initial 0/0 size\n",
       "            // that occurs as the element is placed into the DOM, which should\n",
       "            // otherwise not happen due to the minimum size styling.\n",
       "            if (width != 0 && height != 0) {\n",
       "                fig.request_resize(width, height);\n",
       "            }\n",
       "        }\n",
       "    });\n",
       "    this.resizeObserverInstance.observe(canvas_div);\n",
       "\n",
       "    function on_mouse_event_closure(name) {\n",
       "        return function (event) {\n",
       "            return fig.mouse_event(event, name);\n",
       "        };\n",
       "    }\n",
       "\n",
       "    rubberband_canvas.addEventListener(\n",
       "        'mousedown',\n",
       "        on_mouse_event_closure('button_press')\n",
       "    );\n",
       "    rubberband_canvas.addEventListener(\n",
       "        'mouseup',\n",
       "        on_mouse_event_closure('button_release')\n",
       "    );\n",
       "    // Throttle sequential mouse events to 1 every 20ms.\n",
       "    rubberband_canvas.addEventListener(\n",
       "        'mousemove',\n",
       "        on_mouse_event_closure('motion_notify')\n",
       "    );\n",
       "\n",
       "    rubberband_canvas.addEventListener(\n",
       "        'mouseenter',\n",
       "        on_mouse_event_closure('figure_enter')\n",
       "    );\n",
       "    rubberband_canvas.addEventListener(\n",
       "        'mouseleave',\n",
       "        on_mouse_event_closure('figure_leave')\n",
       "    );\n",
       "\n",
       "    canvas_div.addEventListener('wheel', function (event) {\n",
       "        if (event.deltaY < 0) {\n",
       "            event.step = 1;\n",
       "        } else {\n",
       "            event.step = -1;\n",
       "        }\n",
       "        on_mouse_event_closure('scroll')(event);\n",
       "    });\n",
       "\n",
       "    canvas_div.appendChild(canvas);\n",
       "    canvas_div.appendChild(rubberband_canvas);\n",
       "\n",
       "    this.rubberband_context = rubberband_canvas.getContext('2d');\n",
       "    this.rubberband_context.strokeStyle = '#000000';\n",
       "\n",
       "    this._resize_canvas = function (width, height, forward) {\n",
       "        if (forward) {\n",
       "            canvas_div.style.width = width + 'px';\n",
       "            canvas_div.style.height = height + 'px';\n",
       "        }\n",
       "    };\n",
       "\n",
       "    // Disable right mouse context menu.\n",
       "    this.rubberband_canvas.addEventListener('contextmenu', function (_e) {\n",
       "        event.preventDefault();\n",
       "        return false;\n",
       "    });\n",
       "\n",
       "    function set_focus() {\n",
       "        canvas.focus();\n",
       "        canvas_div.focus();\n",
       "    }\n",
       "\n",
       "    window.setTimeout(set_focus, 100);\n",
       "};\n",
       "\n",
       "mpl.figure.prototype._init_toolbar = function () {\n",
       "    var fig = this;\n",
       "\n",
       "    var toolbar = document.createElement('div');\n",
       "    toolbar.classList = 'mpl-toolbar';\n",
       "    this.root.appendChild(toolbar);\n",
       "\n",
       "    function on_click_closure(name) {\n",
       "        return function (_event) {\n",
       "            return fig.toolbar_button_onclick(name);\n",
       "        };\n",
       "    }\n",
       "\n",
       "    function on_mouseover_closure(tooltip) {\n",
       "        return function (event) {\n",
       "            if (!event.currentTarget.disabled) {\n",
       "                return fig.toolbar_button_onmouseover(tooltip);\n",
       "            }\n",
       "        };\n",
       "    }\n",
       "\n",
       "    fig.buttons = {};\n",
       "    var buttonGroup = document.createElement('div');\n",
       "    buttonGroup.classList = 'mpl-button-group';\n",
       "    for (var toolbar_ind in mpl.toolbar_items) {\n",
       "        var name = mpl.toolbar_items[toolbar_ind][0];\n",
       "        var tooltip = mpl.toolbar_items[toolbar_ind][1];\n",
       "        var image = mpl.toolbar_items[toolbar_ind][2];\n",
       "        var method_name = mpl.toolbar_items[toolbar_ind][3];\n",
       "\n",
       "        if (!name) {\n",
       "            /* Instead of a spacer, we start a new button group. */\n",
       "            if (buttonGroup.hasChildNodes()) {\n",
       "                toolbar.appendChild(buttonGroup);\n",
       "            }\n",
       "            buttonGroup = document.createElement('div');\n",
       "            buttonGroup.classList = 'mpl-button-group';\n",
       "            continue;\n",
       "        }\n",
       "\n",
       "        var button = (fig.buttons[name] = document.createElement('button'));\n",
       "        button.classList = 'mpl-widget';\n",
       "        button.setAttribute('role', 'button');\n",
       "        button.setAttribute('aria-disabled', 'false');\n",
       "        button.addEventListener('click', on_click_closure(method_name));\n",
       "        button.addEventListener('mouseover', on_mouseover_closure(tooltip));\n",
       "\n",
       "        var icon_img = document.createElement('img');\n",
       "        icon_img.src = '_images/' + image + '.png';\n",
       "        icon_img.srcset = '_images/' + image + '_large.png 2x';\n",
       "        icon_img.alt = tooltip;\n",
       "        button.appendChild(icon_img);\n",
       "\n",
       "        buttonGroup.appendChild(button);\n",
       "    }\n",
       "\n",
       "    if (buttonGroup.hasChildNodes()) {\n",
       "        toolbar.appendChild(buttonGroup);\n",
       "    }\n",
       "\n",
       "    var fmt_picker = document.createElement('select');\n",
       "    fmt_picker.classList = 'mpl-widget';\n",
       "    toolbar.appendChild(fmt_picker);\n",
       "    this.format_dropdown = fmt_picker;\n",
       "\n",
       "    for (var ind in mpl.extensions) {\n",
       "        var fmt = mpl.extensions[ind];\n",
       "        var option = document.createElement('option');\n",
       "        option.selected = fmt === mpl.default_extension;\n",
       "        option.innerHTML = fmt;\n",
       "        fmt_picker.appendChild(option);\n",
       "    }\n",
       "\n",
       "    var status_bar = document.createElement('span');\n",
       "    status_bar.classList = 'mpl-message';\n",
       "    toolbar.appendChild(status_bar);\n",
       "    this.message = status_bar;\n",
       "};\n",
       "\n",
       "mpl.figure.prototype.request_resize = function (x_pixels, y_pixels) {\n",
       "    // Request matplotlib to resize the figure. Matplotlib will then trigger a resize in the client,\n",
       "    // which will in turn request a refresh of the image.\n",
       "    this.send_message('resize', { width: x_pixels, height: y_pixels });\n",
       "};\n",
       "\n",
       "mpl.figure.prototype.send_message = function (type, properties) {\n",
       "    properties['type'] = type;\n",
       "    properties['figure_id'] = this.id;\n",
       "    this.ws.send(JSON.stringify(properties));\n",
       "};\n",
       "\n",
       "mpl.figure.prototype.send_draw_message = function () {\n",
       "    if (!this.waiting) {\n",
       "        this.waiting = true;\n",
       "        this.ws.send(JSON.stringify({ type: 'draw', figure_id: this.id }));\n",
       "    }\n",
       "};\n",
       "\n",
       "mpl.figure.prototype.handle_save = function (fig, _msg) {\n",
       "    var format_dropdown = fig.format_dropdown;\n",
       "    var format = format_dropdown.options[format_dropdown.selectedIndex].value;\n",
       "    fig.ondownload(fig, format);\n",
       "};\n",
       "\n",
       "mpl.figure.prototype.handle_resize = function (fig, msg) {\n",
       "    var size = msg['size'];\n",
       "    if (size[0] !== fig.canvas.width || size[1] !== fig.canvas.height) {\n",
       "        fig._resize_canvas(size[0], size[1], msg['forward']);\n",
       "        fig.send_message('refresh', {});\n",
       "    }\n",
       "};\n",
       "\n",
       "mpl.figure.prototype.handle_rubberband = function (fig, msg) {\n",
       "    var x0 = msg['x0'] / fig.ratio;\n",
       "    var y0 = (fig.canvas.height - msg['y0']) / fig.ratio;\n",
       "    var x1 = msg['x1'] / fig.ratio;\n",
       "    var y1 = (fig.canvas.height - msg['y1']) / fig.ratio;\n",
       "    x0 = Math.floor(x0) + 0.5;\n",
       "    y0 = Math.floor(y0) + 0.5;\n",
       "    x1 = Math.floor(x1) + 0.5;\n",
       "    y1 = Math.floor(y1) + 0.5;\n",
       "    var min_x = Math.min(x0, x1);\n",
       "    var min_y = Math.min(y0, y1);\n",
       "    var width = Math.abs(x1 - x0);\n",
       "    var height = Math.abs(y1 - y0);\n",
       "\n",
       "    fig.rubberband_context.clearRect(\n",
       "        0,\n",
       "        0,\n",
       "        fig.canvas.width / fig.ratio,\n",
       "        fig.canvas.height / fig.ratio\n",
       "    );\n",
       "\n",
       "    fig.rubberband_context.strokeRect(min_x, min_y, width, height);\n",
       "};\n",
       "\n",
       "mpl.figure.prototype.handle_figure_label = function (fig, msg) {\n",
       "    // Updates the figure title.\n",
       "    fig.header.textContent = msg['label'];\n",
       "};\n",
       "\n",
       "mpl.figure.prototype.handle_cursor = function (fig, msg) {\n",
       "    var cursor = msg['cursor'];\n",
       "    switch (cursor) {\n",
       "        case 0:\n",
       "            cursor = 'pointer';\n",
       "            break;\n",
       "        case 1:\n",
       "            cursor = 'default';\n",
       "            break;\n",
       "        case 2:\n",
       "            cursor = 'crosshair';\n",
       "            break;\n",
       "        case 3:\n",
       "            cursor = 'move';\n",
       "            break;\n",
       "    }\n",
       "    fig.rubberband_canvas.style.cursor = cursor;\n",
       "};\n",
       "\n",
       "mpl.figure.prototype.handle_message = function (fig, msg) {\n",
       "    fig.message.textContent = msg['message'];\n",
       "};\n",
       "\n",
       "mpl.figure.prototype.handle_draw = function (fig, _msg) {\n",
       "    // Request the server to send over a new figure.\n",
       "    fig.send_draw_message();\n",
       "};\n",
       "\n",
       "mpl.figure.prototype.handle_image_mode = function (fig, msg) {\n",
       "    fig.image_mode = msg['mode'];\n",
       "};\n",
       "\n",
       "mpl.figure.prototype.handle_history_buttons = function (fig, msg) {\n",
       "    for (var key in msg) {\n",
       "        if (!(key in fig.buttons)) {\n",
       "            continue;\n",
       "        }\n",
       "        fig.buttons[key].disabled = !msg[key];\n",
       "        fig.buttons[key].setAttribute('aria-disabled', !msg[key]);\n",
       "    }\n",
       "};\n",
       "\n",
       "mpl.figure.prototype.handle_navigate_mode = function (fig, msg) {\n",
       "    if (msg['mode'] === 'PAN') {\n",
       "        fig.buttons['Pan'].classList.add('active');\n",
       "        fig.buttons['Zoom'].classList.remove('active');\n",
       "    } else if (msg['mode'] === 'ZOOM') {\n",
       "        fig.buttons['Pan'].classList.remove('active');\n",
       "        fig.buttons['Zoom'].classList.add('active');\n",
       "    } else {\n",
       "        fig.buttons['Pan'].classList.remove('active');\n",
       "        fig.buttons['Zoom'].classList.remove('active');\n",
       "    }\n",
       "};\n",
       "\n",
       "mpl.figure.prototype.updated_canvas_event = function () {\n",
       "    // Called whenever the canvas gets updated.\n",
       "    this.send_message('ack', {});\n",
       "};\n",
       "\n",
       "// A function to construct a web socket function for onmessage handling.\n",
       "// Called in the figure constructor.\n",
       "mpl.figure.prototype._make_on_message_function = function (fig) {\n",
       "    return function socket_on_message(evt) {\n",
       "        if (evt.data instanceof Blob) {\n",
       "            /* FIXME: We get \"Resource interpreted as Image but\n",
       "             * transferred with MIME type text/plain:\" errors on\n",
       "             * Chrome.  But how to set the MIME type?  It doesn't seem\n",
       "             * to be part of the websocket stream */\n",
       "            evt.data.type = 'image/png';\n",
       "\n",
       "            /* Free the memory for the previous frames */\n",
       "            if (fig.imageObj.src) {\n",
       "                (window.URL || window.webkitURL).revokeObjectURL(\n",
       "                    fig.imageObj.src\n",
       "                );\n",
       "            }\n",
       "\n",
       "            fig.imageObj.src = (window.URL || window.webkitURL).createObjectURL(\n",
       "                evt.data\n",
       "            );\n",
       "            fig.updated_canvas_event();\n",
       "            fig.waiting = false;\n",
       "            return;\n",
       "        } else if (\n",
       "            typeof evt.data === 'string' &&\n",
       "            evt.data.slice(0, 21) === 'data:image/png;base64'\n",
       "        ) {\n",
       "            fig.imageObj.src = evt.data;\n",
       "            fig.updated_canvas_event();\n",
       "            fig.waiting = false;\n",
       "            return;\n",
       "        }\n",
       "\n",
       "        var msg = JSON.parse(evt.data);\n",
       "        var msg_type = msg['type'];\n",
       "\n",
       "        // Call the  \"handle_{type}\" callback, which takes\n",
       "        // the figure and JSON message as its only arguments.\n",
       "        try {\n",
       "            var callback = fig['handle_' + msg_type];\n",
       "        } catch (e) {\n",
       "            console.log(\n",
       "                \"No handler for the '\" + msg_type + \"' message type: \",\n",
       "                msg\n",
       "            );\n",
       "            return;\n",
       "        }\n",
       "\n",
       "        if (callback) {\n",
       "            try {\n",
       "                // console.log(\"Handling '\" + msg_type + \"' message: \", msg);\n",
       "                callback(fig, msg);\n",
       "            } catch (e) {\n",
       "                console.log(\n",
       "                    \"Exception inside the 'handler_\" + msg_type + \"' callback:\",\n",
       "                    e,\n",
       "                    e.stack,\n",
       "                    msg\n",
       "                );\n",
       "            }\n",
       "        }\n",
       "    };\n",
       "};\n",
       "\n",
       "// from http://stackoverflow.com/questions/1114465/getting-mouse-location-in-canvas\n",
       "mpl.findpos = function (e) {\n",
       "    //this section is from http://www.quirksmode.org/js/events_properties.html\n",
       "    var targ;\n",
       "    if (!e) {\n",
       "        e = window.event;\n",
       "    }\n",
       "    if (e.target) {\n",
       "        targ = e.target;\n",
       "    } else if (e.srcElement) {\n",
       "        targ = e.srcElement;\n",
       "    }\n",
       "    if (targ.nodeType === 3) {\n",
       "        // defeat Safari bug\n",
       "        targ = targ.parentNode;\n",
       "    }\n",
       "\n",
       "    // pageX,Y are the mouse positions relative to the document\n",
       "    var boundingRect = targ.getBoundingClientRect();\n",
       "    var x = e.pageX - (boundingRect.left + document.body.scrollLeft);\n",
       "    var y = e.pageY - (boundingRect.top + document.body.scrollTop);\n",
       "\n",
       "    return { x: x, y: y };\n",
       "};\n",
       "\n",
       "/*\n",
       " * return a copy of an object with only non-object keys\n",
       " * we need this to avoid circular references\n",
       " * http://stackoverflow.com/a/24161582/3208463\n",
       " */\n",
       "function simpleKeys(original) {\n",
       "    return Object.keys(original).reduce(function (obj, key) {\n",
       "        if (typeof original[key] !== 'object') {\n",
       "            obj[key] = original[key];\n",
       "        }\n",
       "        return obj;\n",
       "    }, {});\n",
       "}\n",
       "\n",
       "mpl.figure.prototype.mouse_event = function (event, name) {\n",
       "    var canvas_pos = mpl.findpos(event);\n",
       "\n",
       "    if (name === 'button_press') {\n",
       "        this.canvas.focus();\n",
       "        this.canvas_div.focus();\n",
       "    }\n",
       "\n",
       "    var x = canvas_pos.x * this.ratio;\n",
       "    var y = canvas_pos.y * this.ratio;\n",
       "\n",
       "    this.send_message(name, {\n",
       "        x: x,\n",
       "        y: y,\n",
       "        button: event.button,\n",
       "        step: event.step,\n",
       "        guiEvent: simpleKeys(event),\n",
       "    });\n",
       "\n",
       "    /* This prevents the web browser from automatically changing to\n",
       "     * the text insertion cursor when the button is pressed.  We want\n",
       "     * to control all of the cursor setting manually through the\n",
       "     * 'cursor' event from matplotlib */\n",
       "    event.preventDefault();\n",
       "    return false;\n",
       "};\n",
       "\n",
       "mpl.figure.prototype._key_event_extra = function (_event, _name) {\n",
       "    // Handle any extra behaviour associated with a key event\n",
       "};\n",
       "\n",
       "mpl.figure.prototype.key_event = function (event, name) {\n",
       "    // Prevent repeat events\n",
       "    if (name === 'key_press') {\n",
       "        if (event.which === this._key) {\n",
       "            return;\n",
       "        } else {\n",
       "            this._key = event.which;\n",
       "        }\n",
       "    }\n",
       "    if (name === 'key_release') {\n",
       "        this._key = null;\n",
       "    }\n",
       "\n",
       "    var value = '';\n",
       "    if (event.ctrlKey && event.which !== 17) {\n",
       "        value += 'ctrl+';\n",
       "    }\n",
       "    if (event.altKey && event.which !== 18) {\n",
       "        value += 'alt+';\n",
       "    }\n",
       "    if (event.shiftKey && event.which !== 16) {\n",
       "        value += 'shift+';\n",
       "    }\n",
       "\n",
       "    value += 'k';\n",
       "    value += event.which.toString();\n",
       "\n",
       "    this._key_event_extra(event, name);\n",
       "\n",
       "    this.send_message(name, { key: value, guiEvent: simpleKeys(event) });\n",
       "    return false;\n",
       "};\n",
       "\n",
       "mpl.figure.prototype.toolbar_button_onclick = function (name) {\n",
       "    if (name === 'download') {\n",
       "        this.handle_save(this, null);\n",
       "    } else {\n",
       "        this.send_message('toolbar_button', { name: name });\n",
       "    }\n",
       "};\n",
       "\n",
       "mpl.figure.prototype.toolbar_button_onmouseover = function (tooltip) {\n",
       "    this.message.textContent = tooltip;\n",
       "};\n",
       "\n",
       "///////////////// REMAINING CONTENT GENERATED BY embed_js.py /////////////////\n",
       "// prettier-ignore\n",
       "var _JSXTOOLS_RESIZE_OBSERVER=function(A){var t,i=new WeakMap,n=new WeakMap,a=new WeakMap,r=new WeakMap,o=new Set;function s(e){if(!(this instanceof s))throw new TypeError(\"Constructor requires 'new' operator\");i.set(this,e)}function h(){throw new TypeError(\"Function is not a constructor\")}function c(e,t,i,n){e=0 in arguments?Number(arguments[0]):0,t=1 in arguments?Number(arguments[1]):0,i=2 in arguments?Number(arguments[2]):0,n=3 in arguments?Number(arguments[3]):0,this.right=(this.x=this.left=e)+(this.width=i),this.bottom=(this.y=this.top=t)+(this.height=n),Object.freeze(this)}function d(){t=requestAnimationFrame(d);var s=new WeakMap,p=new Set;o.forEach((function(t){r.get(t).forEach((function(i){var r=t instanceof window.SVGElement,o=a.get(t),d=r?0:parseFloat(o.paddingTop),f=r?0:parseFloat(o.paddingRight),l=r?0:parseFloat(o.paddingBottom),u=r?0:parseFloat(o.paddingLeft),g=r?0:parseFloat(o.borderTopWidth),m=r?0:parseFloat(o.borderRightWidth),w=r?0:parseFloat(o.borderBottomWidth),b=u+f,F=d+l,v=(r?0:parseFloat(o.borderLeftWidth))+m,W=g+w,y=r?0:t.offsetHeight-W-t.clientHeight,E=r?0:t.offsetWidth-v-t.clientWidth,R=b+v,z=F+W,M=r?t.width:parseFloat(o.width)-R-E,O=r?t.height:parseFloat(o.height)-z-y;if(n.has(t)){var k=n.get(t);if(k[0]===M&&k[1]===O)return}n.set(t,[M,O]);var S=Object.create(h.prototype);S.target=t,S.contentRect=new c(u,d,M,O),s.has(i)||(s.set(i,[]),p.add(i)),s.get(i).push(S)}))})),p.forEach((function(e){i.get(e).call(e,s.get(e),e)}))}return s.prototype.observe=function(i){if(i instanceof window.Element){r.has(i)||(r.set(i,new Set),o.add(i),a.set(i,window.getComputedStyle(i)));var n=r.get(i);n.has(this)||n.add(this),cancelAnimationFrame(t),t=requestAnimationFrame(d)}},s.prototype.unobserve=function(i){if(i instanceof window.Element&&r.has(i)){var n=r.get(i);n.has(this)&&(n.delete(this),n.size||(r.delete(i),o.delete(i))),n.size||r.delete(i),o.size||cancelAnimationFrame(t)}},A.DOMRectReadOnly=c,A.ResizeObserver=s,A.ResizeObserverEntry=h,A}; // eslint-disable-line\n",
       "mpl.toolbar_items = [[\"Home\", \"Reset original view\", \"fa fa-home icon-home\", \"home\"], [\"Back\", \"Back to previous view\", \"fa fa-arrow-left icon-arrow-left\", \"back\"], [\"Forward\", \"Forward to next view\", \"fa fa-arrow-right icon-arrow-right\", \"forward\"], [\"\", \"\", \"\", \"\"], [\"Pan\", \"Left button pans, Right button zooms\\nx/y fixes axis, CTRL fixes aspect\", \"fa fa-arrows icon-move\", \"pan\"], [\"Zoom\", \"Zoom to rectangle\\nx/y fixes axis, CTRL fixes aspect\", \"fa fa-square-o icon-check-empty\", \"zoom\"], [\"\", \"\", \"\", \"\"], [\"Download\", \"Download plot\", \"fa fa-floppy-o icon-save\", \"download\"]];\n",
       "\n",
       "mpl.extensions = [\"eps\", \"jpeg\", \"pdf\", \"png\", \"ps\", \"raw\", \"svg\", \"tif\"];\n",
       "\n",
       "mpl.default_extension = \"png\";/* global mpl */\n",
       "\n",
       "var comm_websocket_adapter = function (comm) {\n",
       "    // Create a \"websocket\"-like object which calls the given IPython comm\n",
       "    // object with the appropriate methods. Currently this is a non binary\n",
       "    // socket, so there is still some room for performance tuning.\n",
       "    var ws = {};\n",
       "\n",
       "    ws.close = function () {\n",
       "        comm.close();\n",
       "    };\n",
       "    ws.send = function (m) {\n",
       "        //console.log('sending', m);\n",
       "        comm.send(m);\n",
       "    };\n",
       "    // Register the callback with on_msg.\n",
       "    comm.on_msg(function (msg) {\n",
       "        //console.log('receiving', msg['content']['data'], msg);\n",
       "        // Pass the mpl event to the overridden (by mpl) onmessage function.\n",
       "        ws.onmessage(msg['content']['data']);\n",
       "    });\n",
       "    return ws;\n",
       "};\n",
       "\n",
       "mpl.mpl_figure_comm = function (comm, msg) {\n",
       "    // This is the function which gets called when the mpl process\n",
       "    // starts-up an IPython Comm through the \"matplotlib\" channel.\n",
       "\n",
       "    var id = msg.content.data.id;\n",
       "    // Get hold of the div created by the display call when the Comm\n",
       "    // socket was opened in Python.\n",
       "    var element = document.getElementById(id);\n",
       "    var ws_proxy = comm_websocket_adapter(comm);\n",
       "\n",
       "    function ondownload(figure, _format) {\n",
       "        window.open(figure.canvas.toDataURL());\n",
       "    }\n",
       "\n",
       "    var fig = new mpl.figure(id, ws_proxy, ondownload, element);\n",
       "\n",
       "    // Call onopen now - mpl needs it, as it is assuming we've passed it a real\n",
       "    // web socket which is closed, not our websocket->open comm proxy.\n",
       "    ws_proxy.onopen();\n",
       "\n",
       "    fig.parent_element = element;\n",
       "    fig.cell_info = mpl.find_output_cell(\"<div id='\" + id + \"'></div>\");\n",
       "    if (!fig.cell_info) {\n",
       "        console.error('Failed to find cell for figure', id, fig);\n",
       "        return;\n",
       "    }\n",
       "    fig.cell_info[0].output_area.element.on(\n",
       "        'cleared',\n",
       "        { fig: fig },\n",
       "        fig._remove_fig_handler\n",
       "    );\n",
       "};\n",
       "\n",
       "mpl.figure.prototype.handle_close = function (fig, msg) {\n",
       "    var width = fig.canvas.width / fig.ratio;\n",
       "    fig.cell_info[0].output_area.element.off(\n",
       "        'cleared',\n",
       "        fig._remove_fig_handler\n",
       "    );\n",
       "    fig.resizeObserverInstance.unobserve(fig.canvas_div);\n",
       "\n",
       "    // Update the output cell to use the data from the current canvas.\n",
       "    fig.push_to_output();\n",
       "    var dataURL = fig.canvas.toDataURL();\n",
       "    // Re-enable the keyboard manager in IPython - without this line, in FF,\n",
       "    // the notebook keyboard shortcuts fail.\n",
       "    IPython.keyboard_manager.enable();\n",
       "    fig.parent_element.innerHTML =\n",
       "        '<img src=\"' + dataURL + '\" width=\"' + width + '\">';\n",
       "    fig.close_ws(fig, msg);\n",
       "};\n",
       "\n",
       "mpl.figure.prototype.close_ws = function (fig, msg) {\n",
       "    fig.send_message('closing', msg);\n",
       "    // fig.ws.close()\n",
       "};\n",
       "\n",
       "mpl.figure.prototype.push_to_output = function (_remove_interactive) {\n",
       "    // Turn the data on the canvas into data in the output cell.\n",
       "    var width = this.canvas.width / this.ratio;\n",
       "    var dataURL = this.canvas.toDataURL();\n",
       "    this.cell_info[1]['text/html'] =\n",
       "        '<img src=\"' + dataURL + '\" width=\"' + width + '\">';\n",
       "};\n",
       "\n",
       "mpl.figure.prototype.updated_canvas_event = function () {\n",
       "    // Tell IPython that the notebook contents must change.\n",
       "    IPython.notebook.set_dirty(true);\n",
       "    this.send_message('ack', {});\n",
       "    var fig = this;\n",
       "    // Wait a second, then push the new image to the DOM so\n",
       "    // that it is saved nicely (might be nice to debounce this).\n",
       "    setTimeout(function () {\n",
       "        fig.push_to_output();\n",
       "    }, 1000);\n",
       "};\n",
       "\n",
       "mpl.figure.prototype._init_toolbar = function () {\n",
       "    var fig = this;\n",
       "\n",
       "    var toolbar = document.createElement('div');\n",
       "    toolbar.classList = 'btn-toolbar';\n",
       "    this.root.appendChild(toolbar);\n",
       "\n",
       "    function on_click_closure(name) {\n",
       "        return function (_event) {\n",
       "            return fig.toolbar_button_onclick(name);\n",
       "        };\n",
       "    }\n",
       "\n",
       "    function on_mouseover_closure(tooltip) {\n",
       "        return function (event) {\n",
       "            if (!event.currentTarget.disabled) {\n",
       "                return fig.toolbar_button_onmouseover(tooltip);\n",
       "            }\n",
       "        };\n",
       "    }\n",
       "\n",
       "    fig.buttons = {};\n",
       "    var buttonGroup = document.createElement('div');\n",
       "    buttonGroup.classList = 'btn-group';\n",
       "    var button;\n",
       "    for (var toolbar_ind in mpl.toolbar_items) {\n",
       "        var name = mpl.toolbar_items[toolbar_ind][0];\n",
       "        var tooltip = mpl.toolbar_items[toolbar_ind][1];\n",
       "        var image = mpl.toolbar_items[toolbar_ind][2];\n",
       "        var method_name = mpl.toolbar_items[toolbar_ind][3];\n",
       "\n",
       "        if (!name) {\n",
       "            /* Instead of a spacer, we start a new button group. */\n",
       "            if (buttonGroup.hasChildNodes()) {\n",
       "                toolbar.appendChild(buttonGroup);\n",
       "            }\n",
       "            buttonGroup = document.createElement('div');\n",
       "            buttonGroup.classList = 'btn-group';\n",
       "            continue;\n",
       "        }\n",
       "\n",
       "        button = fig.buttons[name] = document.createElement('button');\n",
       "        button.classList = 'btn btn-default';\n",
       "        button.href = '#';\n",
       "        button.title = name;\n",
       "        button.innerHTML = '<i class=\"fa ' + image + ' fa-lg\"></i>';\n",
       "        button.addEventListener('click', on_click_closure(method_name));\n",
       "        button.addEventListener('mouseover', on_mouseover_closure(tooltip));\n",
       "        buttonGroup.appendChild(button);\n",
       "    }\n",
       "\n",
       "    if (buttonGroup.hasChildNodes()) {\n",
       "        toolbar.appendChild(buttonGroup);\n",
       "    }\n",
       "\n",
       "    // Add the status bar.\n",
       "    var status_bar = document.createElement('span');\n",
       "    status_bar.classList = 'mpl-message pull-right';\n",
       "    toolbar.appendChild(status_bar);\n",
       "    this.message = status_bar;\n",
       "\n",
       "    // Add the close button to the window.\n",
       "    var buttongrp = document.createElement('div');\n",
       "    buttongrp.classList = 'btn-group inline pull-right';\n",
       "    button = document.createElement('button');\n",
       "    button.classList = 'btn btn-mini btn-primary';\n",
       "    button.href = '#';\n",
       "    button.title = 'Stop Interaction';\n",
       "    button.innerHTML = '<i class=\"fa fa-power-off icon-remove icon-large\"></i>';\n",
       "    button.addEventListener('click', function (_evt) {\n",
       "        fig.handle_close(fig, {});\n",
       "    });\n",
       "    button.addEventListener(\n",
       "        'mouseover',\n",
       "        on_mouseover_closure('Stop Interaction')\n",
       "    );\n",
       "    buttongrp.appendChild(button);\n",
       "    var titlebar = this.root.querySelector('.ui-dialog-titlebar');\n",
       "    titlebar.insertBefore(buttongrp, titlebar.firstChild);\n",
       "};\n",
       "\n",
       "mpl.figure.prototype._remove_fig_handler = function (event) {\n",
       "    var fig = event.data.fig;\n",
       "    if (event.target !== this) {\n",
       "        // Ignore bubbled events from children.\n",
       "        return;\n",
       "    }\n",
       "    fig.close_ws(fig, {});\n",
       "};\n",
       "\n",
       "mpl.figure.prototype._root_extra_style = function (el) {\n",
       "    el.style.boxSizing = 'content-box'; // override notebook setting of border-box.\n",
       "};\n",
       "\n",
       "mpl.figure.prototype._canvas_extra_style = function (el) {\n",
       "    // this is important to make the div 'focusable\n",
       "    el.setAttribute('tabindex', 0);\n",
       "    // reach out to IPython and tell the keyboard manager to turn it's self\n",
       "    // off when our div gets focus\n",
       "\n",
       "    // location in version 3\n",
       "    if (IPython.notebook.keyboard_manager) {\n",
       "        IPython.notebook.keyboard_manager.register_events(el);\n",
       "    } else {\n",
       "        // location in version 2\n",
       "        IPython.keyboard_manager.register_events(el);\n",
       "    }\n",
       "};\n",
       "\n",
       "mpl.figure.prototype._key_event_extra = function (event, _name) {\n",
       "    var manager = IPython.notebook.keyboard_manager;\n",
       "    if (!manager) {\n",
       "        manager = IPython.keyboard_manager;\n",
       "    }\n",
       "\n",
       "    // Check for shift+enter\n",
       "    if (event.shiftKey && event.which === 13) {\n",
       "        this.canvas_div.blur();\n",
       "        // select the cell after this one\n",
       "        var index = IPython.notebook.find_cell_index(this.cell_info[0]);\n",
       "        IPython.notebook.select(index + 1);\n",
       "    }\n",
       "};\n",
       "\n",
       "mpl.figure.prototype.handle_save = function (fig, _msg) {\n",
       "    fig.ondownload(fig, null);\n",
       "};\n",
       "\n",
       "mpl.find_output_cell = function (html_output) {\n",
       "    // Return the cell and output element which can be found *uniquely* in the notebook.\n",
       "    // Note - this is a bit hacky, but it is done because the \"notebook_saving.Notebook\"\n",
       "    // IPython event is triggered only after the cells have been serialised, which for\n",
       "    // our purposes (turning an active figure into a static one), is too late.\n",
       "    var cells = IPython.notebook.get_cells();\n",
       "    var ncells = cells.length;\n",
       "    for (var i = 0; i < ncells; i++) {\n",
       "        var cell = cells[i];\n",
       "        if (cell.cell_type === 'code') {\n",
       "            for (var j = 0; j < cell.output_area.outputs.length; j++) {\n",
       "                var data = cell.output_area.outputs[j];\n",
       "                if (data.data) {\n",
       "                    // IPython >= 3 moved mimebundle to data attribute of output\n",
       "                    data = data.data;\n",
       "                }\n",
       "                if (data['text/html'] === html_output) {\n",
       "                    return [cell, data, j];\n",
       "                }\n",
       "            }\n",
       "        }\n",
       "    }\n",
       "};\n",
       "\n",
       "// Register the function which deals with the matplotlib target/channel.\n",
       "// The kernel may be null if the page has been refreshed.\n",
       "if (IPython.notebook.kernel !== null) {\n",
       "    IPython.notebook.kernel.comm_manager.register_target(\n",
       "        'matplotlib',\n",
       "        mpl.mpl_figure_comm\n",
       "    );\n",
       "}\n"
      ],
      "text/plain": [
       "<IPython.core.display.Javascript object>"
      ]
     },
     "metadata": {},
     "output_type": "display_data"
    },
    {
     "data": {
      "text/html": [
       "<img src=\"data:image/png;base64,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\" width=\"799.65\">"
      ],
      "text/plain": [
       "<IPython.core.display.HTML object>"
      ]
     },
     "metadata": {},
     "output_type": "display_data"
    },
    {
     "data": {
      "application/vnd.jupyter.widget-view+json": {
       "model_id": "225848e21b284c11a64924772121a329",
       "version_major": 2,
       "version_minor": 0
      },
      "text/plain": [
       "interactive(children=(IntSlider(value=1000, description='M', max=2000, min=100, step=10), FloatSlider(value=12…"
      ]
     },
     "metadata": {},
     "output_type": "display_data"
    }
   ],
   "source": [
    "%matplotlib notebook\n",
    "import ipywidgets as ipw\n",
    "import numpy as np\n",
    "import matplotlib.pyplot as plt\n",
    "from livePlot import *\n",
    "\n",
    "plot = livePlot()"
   ]
  },
  {
   "cell_type": "markdown",
   "metadata": {},
   "source": [
    "\n",
    "## Long-run Dynamics\n",
    "\n",
    "The distinction between long-run and short-run is critical for understanding dynamics that develop between the money market and the non-money goods market. In the long-run, the price level fully reflects changes in $AD$, whether the shift in $AD$ is a result of a change in $M$ or a change in $V$. In the short-run, changes in real income absorb changes in $AD$. While long-run changes are essentially inevitable, short-run changes do not ever need to occur. If they are observed, they occur only in the short-run.[1] After investigating long-run dynamics, we will consider short-run dynamics.\n",
    "\n",
    "### Case 1: Aggregate Demand Increases\n",
    "\n",
    "> Figure 2: Aggregate Demand Increases\n",
    "\n",
    "An increase in $AD$ represents an increase in the value of total expenditures across the economy (Figure 2). By definition, this value of total expenditures matches the value of nominal income. In the long-run, an increase in $AD$ will lift the price level from $P_0$ to $P_1$. Notice that this results in an increase in nominal income from a value of $P_0y_0$ to $P_1y_0$. This increase in nominal income does not entail an increase in real income in the long-run. This would only happen if the long-run aggregate supply shifted to the right and would be represented by a $y_1$ whose value is greater than $y_0$.\n",
    "\n",
    "> Figure 3: Decrease in Supply of Money\n",
    "\n",
    "The increase in $AD$ can come from one of two sources: either an increase in the quantity of money, $M$, or an increase in portfolio demand, $k$. We will consider the more intuitive case of an increase in $M$ first. If the increase in the quantity of money occurs when the economy is already in equilibrium, the shift will most obviously change the price of money, $P_m$. Since $P_m=\\frac{1}{P}$, the a change in the average price of money is simply the corollary to amovement of the price level in the opposite direction.\n",
    "\n",
    "The increase in the quantity of money represents a movement along the demand curve. This demand curve includes both portfolio demand, $k$, and transactions demand, $Py$. For now, we assume that these sources of demand remain constant. Thus, the increase from $M_0$ to $M_1$ translates directly to a fall in $P_m$ from $P_{m_0}$ to $P_{m_1}$.\n",
    "\n",
    "> Figure 4: Decrease in Portfolio Demand for Money\n",
    "\n",
    "Only a shift in $k$ represents an inverse change in portfolio demand as $k$ represents the portion of the money stock that individuals choose to hold throughout the period under consideration. Since $k$ is the inverse of $V$, so long as $V$ is greater than 1, then $k$ is a fraction less than 1. As with the increase in $M$, a fall in $k$ leads to a fall in the $P_m$ from $P_{m_0}$ to $P_{m_1}$. This coincides with an increase in $P$ from $P_0$ to $P_1$. Thus, a fall in the value of money is tantamount to a rise in the price level. This fall in the price level means that the new value of nominal income, $P_1y_0$ is less than the old value, $P_0y_0$.\n",
    "\n",
    "# Case 2: Aggregate Demand Falls\n",
    "\n",
    "> Figure 5: Increase in AD\n",
    "\n",
    "A fall in $AD$ represents an decrease in the value of total expenditures across the economy (Figure 6). This results in a fall in nominal income. In the long-run, an fall in $AD$ will depress the price level from $P_0$ to $P_1$. Notice that this results in a decrease in nominal income from a value of $P_0y_0$ to $P_1y_0$. The long-run level of real income, $y_0$, remains unaffected. Just as a rise in $M$ increases $AD$, a fall in $AD$ may occur due to a shrinking of the money stock. With less money in the economy, the previous equilibrium level of prices could only be sustained if individuals tended to decrease their cash holdings in response. For clarity, we consider cases where only one of the variables comprising aggregate demand changes.\n",
    "\n",
    "> Figure 6: Increase in Supply of Money\n",
    ">\n",
    "> Figure 7: Increase in Portfolio Demand for Money\n",
    "\n",
    "$AD$ may also fall due to an increase in demand to hold money. This increase in portfolio demand for money, $k$, is the same as a fall in the average velocity of money, $V$. An increase in demand to hold money leaves less money available for expenditure. This exerts a negative influence on prices and, necessarily, a positive influence on the price of money. Just as with a fall in the money supply, the equilibrium price of money rises from $P_{M_0}$ to $P_{M_1}$.\n",
    "\n",
    "## Short-run Dynamics: Excess Supply and Excess Demand\n",
    "\n",
    "The short-run is defined by any period of time that real income responds to changes in aggregate demand. The short-run is defined by a short-run aggregate supply ($SRAS$) is perfectly elastic. This means that it is horizontal, set at the value of the initial price level.  We assume that in the short-run, quantities adjust before the price level. In the long-run, any value of $y$ that is less than $y_0$ is less than the full potential that can be produced in the long-run. Any value of yy that is greater than $y_0$ cannot be sustained as it would demand that producers sustain real losses as input prices are bid upward. An scess demand for goods imply an excess supply of money and excess supply of goods implies an excess demand for money.\n",
    "\n",
    "It is not necessary that the short-run outcome actually occur. If forward looking agents expect that there will be a change in total expenditures and that this change will affect the price of particular goods, they may adjust these prices downward in expectation of the price change. However, there are cases where investors may be less willing to realize a loss by the sale of a home, such as might occur in the real estate market during a recession. Homeowners that have purchased their home with a mortgage will likely avoid such a sale if the value of the home falls below what is owed on the mortgage. In situations like this, assets that would otherwise be sold may remain unsold, leading to a fall in real income. This will be discussed in greater detail in the discussion of business cycles in a later chapter.\n",
    "\n",
    "### Case 1: Excess Supply of Money and Excess Demand for Goods\n",
    "\n",
    "> Figure 8: Increase in AD: Excess Demand for Goods\n",
    "\n",
    "If aggregate demand increases, the immediate effect will be for consumers to purchase goods at a rate that is not sustainable. If producers do not recognize this fact immediately, they may increase the quantity of goods produced. To the extent that prices rise as factor costs are bid up, the total value of production will be constrained compared to if the price level remained static.\n",
    "\n",
    "The excess supply of goods at price level $P_0$, defined by $y_t - y_0$, necessarily implies an excess demand for money. This occurs either by an increase in the quantity of money supplied to the market or by a relinquishing of money held on reserve by economic actors. The first instance is represented by an increase in the money stock. The latter instance is represented by a fall in portfolio demand for money, which is equivalent to a rise in velocity. As the quantity of money increase from $M_0$ to $M_1$, individuals find themselves holding more money than they desire at given prices. As individuals spend money, price of goods begin to rise on average as signified by an increase in the price level. Since the price of money, $P_M$, is the inverse of the price level, $P$, a rise in the price level indicates a fall in the price of money. Once the price of money falls from $P_{M_0}$ to $P_{M_1}$, the excess supply of money is offset.\n",
    "\n",
    "> Figure 9: Increase in Supply of Money: Excess Supply of Money\n",
    "> Figure 10: Decrease in Portfolio Demand for Money: Excess Supply of Money\n",
    "\n",
    "Nearly the same proces occurs when there is a fall in portfolio demand for money. Since consumers are willing to spend a greater of share of their income, they can increase their consumption of goods to the extent that prices do not rise in response to the new expenditure. At the given price level, $P_0$, consumers desire to hold less money. The difference between $M_0$ and $M_t$ represents the excess balances that consumers plan to spend. As these funds are spent, the price level moves from $P_0$ to $P_1$ and the price of money falls from $P_{M_0}$ to $P_{M_1}$. The fall in the value of money moves the quantity of money demanded back to an equilibrium where the quantity demanded of money matches the quantity supplied.\n",
    "\n",
    "### Case 2: Excess Demand for Money and Excess Supply of Goods\n",
    "\n",
    "> Figure 11: Decrease in AD: Excess Supply of Goods\n",
    "\n",
    "In the short-run, a fall in aggregate demand leads to a scenario where not all goods available in the market are purchased. If producers do not instantly respond to the change in prices, there will be more goods produced than can be purchased given the quantity of money available to be spent at the initial price level, $P_0$. \n",
    "\n",
    "The excess supply of goods is represented by the difference of $y_0$ and $y_t$. The fall in expenditures that drive the shift from $AD_0$ to $AD_1$ must occur either due to a fall in the quantity of money or a fall in the velocity of money which is equivalently an increase in portfolio demand for money. In the case the supply of money falls, agents must adjust their planned expenditures to account for the fall in the quantity of available funds. At $P_{M_0}$ the quantity of money demanded, $M_0$, is greater than the available quantity of money, $M_1$. If their demand to hold money does not change, this must occur by a fall expenditures so long as the price of money does not increase from $P_{M_0}$ to $P_{M_1}$P in response to the fall in supply of money.\n",
    "\n",
    "> Figure 12: Decrease in Supply of Money: Excess Demand for Money\n",
    "> Figure 13: Increase in Portfolio Demand for Money: Excess Demand for Money\n",
    "\n",
    "The same fall in aggregate demand may occur as a result of an increase in demand to hold money on reserve. This increase in portfolio demand leads to an increase in the price of money in the long-run. Before prices respond to the change in demand for money, individuals will demand to hold more money than will allow for the clearing of the goods market. The excess demand for money, $M_t - M_0$, exactly matches the value of goods that remain unsold $y_0 - y_t$.\n",
    "\n",
    "## Aggregate Demand Driven Business Cycles\n",
    "\n",
    "Aggregate Demand Driven Business Cycles\n",
    "Excess demand and excess supplies play a fundamental role in explain macroeconomic fluctuations. Presuming that the economy produces a steady-state level of income and capital, deviations from these levels represent either an inflationary boom or a deflationary recession. Neither of these outcomes are necessary by a change in aggregate demand. Only in cases where prices are slow to adjust to changes in the money market will such macroeconomic disequilibrium occur. \n",
    "\n",
    "> Figure 13: RGNP and Increasing Central Bank Demand for Gold\n",
    "\n",
    "This phenomenon occurred in an extreme manner during the Great Depression as many central banks their gold holdings without also increasing the quantity of central bank notes in circulation. The result was a fall in real income and substantial deflation, both of which occurred at an international scale. While there were many other factors, which include policies that disrupted credit, labor, and goods markets, the disruption of money markets by central banks was a feature of the Great Depression and is commonly a driving force of relatively extreme economic depressions.\n",
    "\n",
    "## Factors Unexplained by Aggregate Analysis\n",
    "\n",
    "Although aggregate analysis provides a powerful description of the macroeconomy, it does not capture many elements that are at play in the economic process. Consider the effects of money creation. There may result an economic boom due to a confusion between real and nominal profits. Producers, especially those who receive the new money first, will invest in expectation of earning increased profits. Some early producers may succeed in this endeavor, but as more producers enter the market, the price of production inputs are bid up. \n",
    "\n",
    "The expected increase in profits by investors often leads to construction of productive factors that  would otherwise not be created. Since we live in a world of scarcity, this means that productive processes that are producing goods that consumers truly value will not be created. The creation of new capital that is the result of this misallocation cannot be cheaply reversed. The process of readjustment of the capital structure may result in depression, or it may  result in the sustained production of relatively lower level of real income due to the misallocation of productive factors that will remain in use even after being repriced once the boom has slowed. \n",
    "\n",
    "Although aggregate analysis fails to capture this, this does not mean that the aggregate factors are not exerting force on the economic system. Macroeconomic forces described here are always at play. There are simply other factors that impact economic activity alongside these macroeconomic factors.\n",
    "\n",
    "# Conclusion\n",
    "\n",
    "Aggregate demand is defined as total expenditures. The value of real income that can be derived from these expenditures changes inversely to the price level. The economy tends to be subject to equillibrating forces such that the price level moves to a level that enables the production and purchase of level of output that is sustainable in the long-run. Deviance from the equilibrium price level represent movements away from the sustainable level of output and can drive macroeconomic fluctuations.\n",
    "\n",
    "## Footnotes \n",
    "\n",
    "[1] In reality, short-run effects can impact the capital structure, thereby influencing the production structure in different markets and leading the lasting equilibrium structure that is relatively inefficient compared to cases where the capital structure is not distorted by $AD$ shocks."
   ]
  }
 ],
 "metadata": {
  "kernelspec": {
   "display_name": "Python 3",
   "language": "python",
   "name": "python3"
  },
  "language_info": {
   "codemirror_mode": {
    "name": "ipython",
    "version": 3
   },
   "file_extension": ".py",
   "mimetype": "text/x-python",
   "name": "python",
   "nbconvert_exporter": "python",
   "pygments_lexer": "ipython3",
   "version": "3.7.6"
  },
  "nteract": {
   "version": "nteract-on-jupyter@2.1.3"
  },
  "widgets": {
   "application/vnd.jupyter.widget-state+json": {
    "state": {
     "01722fde7f1e4726a767fdd9d3a00602": {
      "model_module": "@jupyter-widgets/base",
      "model_module_version": "1.2.0",
      "model_name": "LayoutModel",
      "state": {}
     },
     "02c53153eb5d45688642be50ccb18f34": {
      "model_module": "@jupyter-widgets/controls",
      "model_module_version": "1.5.0",
      "model_name": "FloatSliderModel",
      "state": {
       "description": "V",
       "layout": "IPY_MODEL_24ce228b7aa845b2b417ecf164703bb2",
       "max": 16,
       "min": 0.8,
       "step": 0.1,
       "style": "IPY_MODEL_2b35c4a39df9401b9b1a05aa88eba7ca",
       "value": 12
      }
     },
     "031544f030c449098b36d0928fcc7eca": {
      "model_module": "@jupyter-widgets/controls",
      "model_module_version": "1.5.0",
      "model_name": "SliderStyleModel",
      "state": {
       "description_width": ""
      }
     },
     "03b56f4dee7f406baa11706ca0be8c7c": {
      "model_module": "@jupyter-widgets/base",
      "model_module_version": "1.2.0",
      "model_name": "LayoutModel",
      "state": {}
     },
     "0426472a84cc41ca963a04c7a20d0532": {
      "model_module": "@jupyter-widgets/base",
      "model_module_version": "1.2.0",
      "model_name": "LayoutModel",
      "state": {}
     },
     "0684197412b84bd2951101024aab8d27": {
      "model_module": "@jupyter-widgets/controls",
      "model_module_version": "1.5.0",
      "model_name": "IntSliderModel",
      "state": {
       "description": "y0",
       "layout": "IPY_MODEL_3040f6c3e4224cec8c86c5e4935a74ed",
       "max": 1000,
       "min": 250,
       "step": 5,
       "style": "IPY_MODEL_cf4703dc555c4bed891a8e7989c20195",
       "value": 250
      }
     },
     "06d5959ce78b47b8a028698746abfd81": {
      "model_module": "@jupyter-widgets/base",
      "model_module_version": "1.2.0",
      "model_name": "LayoutModel",
      "state": {}
     },
     "0833cae91c824a499bd1bf37420688fb": {
      "model_module": "@jupyter-widgets/controls",
      "model_module_version": "1.5.0",
      "model_name": "IntSliderModel",
      "state": {
       "description": "y0",
       "layout": "IPY_MODEL_2dbe69c1d3b04801b6b178cd9be47e0e",
       "max": 1000,
       "min": 250,
       "step": 5,
       "style": "IPY_MODEL_f188c2d1121c4a559b25a316605bd558",
       "value": 550
      }
     },
     "08cd0337ff1f49c68055ff1209621d27": {
      "model_module": "@jupyter-widgets/controls",
      "model_module_version": "1.5.0",
      "model_name": "SliderStyleModel",
      "state": {
       "description_width": ""
      }
     },
     "0bbcc7350b6343d5a9bf1534226a2b59": {
      "model_module": "@jupyter-widgets/base",
      "model_module_version": "1.2.0",
      "model_name": "LayoutModel",
      "state": {}
     },
     "0bfaff8aeebd46f4b1934270dc5821f4": {
      "model_module": "@jupyter-widgets/controls",
      "model_module_version": "1.5.0",
      "model_name": "SliderStyleModel",
      "state": {
       "description_width": ""
      }
     },
     "0cd357ed6a744cf4aafb15596e2d95a0": {
      "model_module": "@jupyter-widgets/controls",
      "model_module_version": "1.5.0",
      "model_name": "IntSliderModel",
      "state": {
       "description": "M",
       "layout": "IPY_MODEL_20a81c9c72bb4dd590cf7e7bd304bd96",
       "max": 2000,
       "min": 100,
       "step": 10,
       "style": "IPY_MODEL_6db52190285a4e33bfcc5048fba69e15",
       "value": 1000
      }
     },
     "0f9873ea044c4cd0b84bca0f63392f23": {
      "model_module": "@jupyter-widgets/controls",
      "model_module_version": "1.5.0",
      "model_name": "SliderStyleModel",
      "state": {
       "description_width": ""
      }
     },
     "0fbc15984e384b869dc3e8f4e15e17c7": {
      "model_module": "@jupyter-widgets/base",
      "model_module_version": "1.2.0",
      "model_name": "LayoutModel",
      "state": {}
     },
     "0ff87625c54d4d628aa6be7e90ec3d7b": {
      "model_module": "@jupyter-widgets/controls",
      "model_module_version": "1.5.0",
      "model_name": "SliderStyleModel",
      "state": {
       "description_width": ""
      }
     },
     "103e8cfb466d4caeb1f03d1a76755ec1": {
      "model_module": "@jupyter-widgets/controls",
      "model_module_version": "1.5.0",
      "model_name": "IntSliderModel",
      "state": {
       "description": "M",
       "layout": "IPY_MODEL_dc94f9a67770485593550c2c1f4a5c42",
       "max": 2000,
       "min": 100,
       "step": 10,
       "style": "IPY_MODEL_aebe0385024f49e599f85c6d74f08bd9",
       "value": 1330
      }
     },
     "128841b01a2a436d86a2157757da67fc": {
      "model_module": "@jupyter-widgets/base",
      "model_module_version": "1.2.0",
      "model_name": "LayoutModel",
      "state": {}
     },
     "155032d3a7a34297acdee78f41deb17d": {
      "model_module": "@jupyter-widgets/controls",
      "model_module_version": "1.5.0",
      "model_name": "IntSliderModel",
      "state": {
       "description": "y0",
       "layout": "IPY_MODEL_3517dcbec79a40eb91f2de3eabbaae0a",
       "max": 1000,
       "min": 250,
       "step": 5,
       "style": "IPY_MODEL_aafde4ddd907429e89d4f25f032e0191",
       "value": 250
      }
     },
     "1821cc80c03548e4a10c5d3cd10555ca": {
      "model_module": "@jupyter-widgets/controls",
      "model_module_version": "1.5.0",
      "model_name": "FloatSliderModel",
      "state": {
       "description": "V",
       "layout": "IPY_MODEL_03b56f4dee7f406baa11706ca0be8c7c",
       "max": 16,
       "min": 2,
       "step": 0.1,
       "style": "IPY_MODEL_63d0faf74f944c7b846e8af9b8c69f0a",
       "value": 12
      }
     },
     "189aa44d9e4c4c93b53d41301a090dcb": {
      "model_module": "@jupyter-widgets/base",
      "model_module_version": "1.2.0",
      "model_name": "LayoutModel",
      "state": {}
     },
     "1a911c16ec9c4781984b86658caa7c88": {
      "model_module": "@jupyter-widgets/controls",
      "model_module_version": "1.5.0",
      "model_name": "VBoxModel",
      "state": {
       "_dom_classes": [
        "widget-interact"
       ],
       "children": [
        "IPY_MODEL_d257c31226b0447aa2ae805339056610",
        "IPY_MODEL_64ab2db96e7b4511a26cac6aee684dd1",
        "IPY_MODEL_8e020db6efff4e758915d876c87b5613",
        "IPY_MODEL_c34300f22580441da1cff26ebfd100da"
       ],
       "layout": "IPY_MODEL_3223965bd9104096909906bd6e3488cf"
      }
     },
     "1d835be9021749f3927f75ef2b656149": {
      "model_module": "@jupyter-widgets/base",
      "model_module_version": "1.2.0",
      "model_name": "LayoutModel",
      "state": {}
     },
     "1db02c5639c14fb8b9cd2fac9eaf5bfd": {
      "model_module": "@jupyter-widgets/base",
      "model_module_version": "1.2.0",
      "model_name": "LayoutModel",
      "state": {}
     },
     "20a81c9c72bb4dd590cf7e7bd304bd96": {
      "model_module": "@jupyter-widgets/base",
      "model_module_version": "1.2.0",
      "model_name": "LayoutModel",
      "state": {}
     },
     "2476126508084a04b25656723c8cfe40": {
      "model_module": "@jupyter-widgets/base",
      "model_module_version": "1.2.0",
      "model_name": "LayoutModel",
      "state": {}
     },
     "24ce228b7aa845b2b417ecf164703bb2": {
      "model_module": "@jupyter-widgets/base",
      "model_module_version": "1.2.0",
      "model_name": "LayoutModel",
      "state": {}
     },
     "25c1de1f92bc464aa920bf5bced0e029": {
      "model_module": "@jupyter-widgets/controls",
      "model_module_version": "1.5.0",
      "model_name": "SliderStyleModel",
      "state": {
       "description_width": ""
      }
     },
     "27065ce0e1974bb3a52c430b7bac8ee7": {
      "model_module": "@jupyter-widgets/controls",
      "model_module_version": "1.5.0",
      "model_name": "FloatSliderModel",
      "state": {
       "description": "V",
       "layout": "IPY_MODEL_29f2326241344862b0540d40521ccce0",
       "max": 16,
       "min": 0.8,
       "step": 0.1,
       "style": "IPY_MODEL_a9a0ab712ffc4662a944d1796a69b624",
       "value": 12
      }
     },
     "287cd367abd94c6992bb09daa472b211": {
      "model_module": "@jupyter-widgets/base",
      "model_module_version": "1.2.0",
      "model_name": "LayoutModel",
      "state": {}
     },
     "2903054e93b643d1bf1cc6ff652f200d": {
      "model_module": "@jupyter-widgets/controls",
      "model_module_version": "1.5.0",
      "model_name": "SliderStyleModel",
      "state": {
       "description_width": ""
      }
     },
     "294c934efe674a1fa043b3ea676a34af": {
      "model_module": "@jupyter-widgets/output",
      "model_module_version": "1.0.0",
      "model_name": "OutputModel",
      "state": {
       "layout": "IPY_MODEL_8befc19f6cdf4e79baa11028ec661ad2"
      }
     },
     "297491fb0d1f4bcbaf6bcc533c42b858": {
      "model_module": "@jupyter-widgets/base",
      "model_module_version": "1.2.0",
      "model_name": "LayoutModel",
      "state": {}
     },
     "29f2326241344862b0540d40521ccce0": {
      "model_module": "@jupyter-widgets/base",
      "model_module_version": "1.2.0",
      "model_name": "LayoutModel",
      "state": {}
     },
     "2a8bc1c76c3d44ddbc14726f5f0b2399": {
      "model_module": "@jupyter-widgets/controls",
      "model_module_version": "1.5.0",
      "model_name": "IntSliderModel",
      "state": {
       "description": "y0",
       "layout": "IPY_MODEL_b77b73236d5944548c8a7da5b7f69097",
       "max": 1000,
       "min": 250,
       "step": 5,
       "style": "IPY_MODEL_e1b0573952fd48b0b950b8bda76d667a",
       "value": 250
      }
     },
     "2ab33c1d074541888c555755e2f5395a": {
      "model_module": "@jupyter-widgets/base",
      "model_module_version": "1.2.0",
      "model_name": "LayoutModel",
      "state": {}
     },
     "2b35c4a39df9401b9b1a05aa88eba7ca": {
      "model_module": "@jupyter-widgets/controls",
      "model_module_version": "1.5.0",
      "model_name": "SliderStyleModel",
      "state": {
       "description_width": ""
      }
     },
     "2dbe69c1d3b04801b6b178cd9be47e0e": {
      "model_module": "@jupyter-widgets/base",
      "model_module_version": "1.2.0",
      "model_name": "LayoutModel",
      "state": {}
     },
     "3040f6c3e4224cec8c86c5e4935a74ed": {
      "model_module": "@jupyter-widgets/base",
      "model_module_version": "1.2.0",
      "model_name": "LayoutModel",
      "state": {}
     },
     "31530e0024a6446893712c29c5dc9734": {
      "model_module": "@jupyter-widgets/base",
      "model_module_version": "1.2.0",
      "model_name": "LayoutModel",
      "state": {}
     },
     "3223965bd9104096909906bd6e3488cf": {
      "model_module": "@jupyter-widgets/base",
      "model_module_version": "1.2.0",
      "model_name": "LayoutModel",
      "state": {}
     },
     "34607a382c21449885b50ff5a2ed975f": {
      "model_module": "@jupyter-widgets/base",
      "model_module_version": "1.2.0",
      "model_name": "LayoutModel",
      "state": {}
     },
     "3517dcbec79a40eb91f2de3eabbaae0a": {
      "model_module": "@jupyter-widgets/base",
      "model_module_version": "1.2.0",
      "model_name": "LayoutModel",
      "state": {}
     },
     "3978787f1fe74913aaea2ea9a68a46cf": {
      "model_module": "@jupyter-widgets/base",
      "model_module_version": "1.2.0",
      "model_name": "LayoutModel",
      "state": {}
     },
     "3b605a1e7fa64a3c80e2278d093bfbff": {
      "model_module": "@jupyter-widgets/controls",
      "model_module_version": "1.5.0",
      "model_name": "FloatSliderModel",
      "state": {
       "description": "V",
       "layout": "IPY_MODEL_6c31d49480de431896c5fad51710c7fc",
       "max": 16,
       "min": 2,
       "step": 0.1,
       "style": "IPY_MODEL_bc3af383510349f39c5bf695f47cf52e",
       "value": 8.6
      }
     },
     "3b72653a77f043eb939004aff6944efb": {
      "model_module": "@jupyter-widgets/base",
      "model_module_version": "1.2.0",
      "model_name": "LayoutModel",
      "state": {}
     },
     "3db11db4052746efa4669cca1ba24ca3": {
      "model_module": "@jupyter-widgets/controls",
      "model_module_version": "1.5.0",
      "model_name": "IntSliderModel",
      "state": {
       "description": "M",
       "layout": "IPY_MODEL_eb4e885672e94373a3b8455278e87b26",
       "max": 2000,
       "min": 250,
       "step": 10,
       "style": "IPY_MODEL_4b106964302345a7826953866cfa30f4",
       "value": 1000
      }
     },
     "3fc71e17d8cd4291b0762f12ae0e74f7": {
      "model_module": "@jupyter-widgets/controls",
      "model_module_version": "1.5.0",
      "model_name": "SliderStyleModel",
      "state": {
       "description_width": ""
      }
     },
     "41eb5a321cd345529f854b3378f53ab4": {
      "model_module": "@jupyter-widgets/base",
      "model_module_version": "1.2.0",
      "model_name": "LayoutModel",
      "state": {}
     },
     "42cce5055a144abdade2a98035d2248d": {
      "model_module": "@jupyter-widgets/base",
      "model_module_version": "1.2.0",
      "model_name": "LayoutModel",
      "state": {}
     },
     "45b1c93e7ed94e35b321d0cd0563a0cd": {
      "model_module": "@jupyter-widgets/controls",
      "model_module_version": "1.5.0",
      "model_name": "IntSliderModel",
      "state": {
       "description": "y0",
       "layout": "IPY_MODEL_6276135cb658418f9759412a614cc30c",
       "max": 1000,
       "min": 50,
       "step": 5,
       "style": "IPY_MODEL_031544f030c449098b36d0928fcc7eca",
       "value": 50
      }
     },
     "46c3334759ea41f296f5b83ecdb0f5f4": {
      "model_module": "@jupyter-widgets/base",
      "model_module_version": "1.2.0",
      "model_name": "LayoutModel",
      "state": {}
     },
     "4731307daed142148f87fd037c130a3e": {
      "model_module": "@jupyter-widgets/controls",
      "model_module_version": "1.5.0",
      "model_name": "FloatSliderModel",
      "state": {
       "description": "V",
       "layout": "IPY_MODEL_b748c101385b421bb3fff14238f3d5fc",
       "max": 16,
       "min": 0.8,
       "step": 0.1,
       "style": "IPY_MODEL_9929e3afb149459d8339abcac719b0d9",
       "value": 16
      }
     },
     "47bedbeb64dc4ad098682f400b774134": {
      "model_module": "@jupyter-widgets/controls",
      "model_module_version": "1.5.0",
      "model_name": "SliderStyleModel",
      "state": {
       "description_width": ""
      }
     },
     "493dc50d0d984d2bb1b8cf68135625d7": {
      "model_module": "@jupyter-widgets/controls",
      "model_module_version": "1.5.0",
      "model_name": "VBoxModel",
      "state": {
       "_dom_classes": [
        "widget-interact"
       ],
       "children": [
        "IPY_MODEL_df7c2cee885a4030a71694b9b432d9d9",
        "IPY_MODEL_27065ce0e1974bb3a52c430b7bac8ee7",
        "IPY_MODEL_ca44ad27c46749378897d0ae18503d7a",
        "IPY_MODEL_dd13fd0e2d4746e58715f143e27b85b3"
       ],
       "layout": "IPY_MODEL_e1b4728375364dafab45e1beb81b4065"
      }
     },
     "49bc77407cfe483ba8a9efac15215441": {
      "model_module": "@jupyter-widgets/base",
      "model_module_version": "1.2.0",
      "model_name": "LayoutModel",
      "state": {}
     },
     "4a6746987bb14553a22e117f2bd66ae3": {
      "model_module": "@jupyter-widgets/controls",
      "model_module_version": "1.5.0",
      "model_name": "FloatSliderModel",
      "state": {
       "description": "V",
       "layout": "IPY_MODEL_a0b11c6248324d289a9ad769efc20453",
       "max": 16,
       "min": 0.8,
       "step": 0.1,
       "style": "IPY_MODEL_2903054e93b643d1bf1cc6ff652f200d",
       "value": 12
      }
     },
     "4b106964302345a7826953866cfa30f4": {
      "model_module": "@jupyter-widgets/controls",
      "model_module_version": "1.5.0",
      "model_name": "SliderStyleModel",
      "state": {
       "description_width": ""
      }
     },
     "4cc63c8968b34ccc8e0ff6c1faab3db7": {
      "model_module": "@jupyter-widgets/base",
      "model_module_version": "1.2.0",
      "model_name": "LayoutModel",
      "state": {}
     },
     "4f76d6cba4224bc9bc49c7b319c9054d": {
      "model_module": "@jupyter-widgets/controls",
      "model_module_version": "1.5.0",
      "model_name": "SliderStyleModel",
      "state": {
       "description_width": ""
      }
     },
     "4f8f6e6585104be29afad18aedabcfbd": {
      "model_module": "@jupyter-widgets/controls",
      "model_module_version": "1.5.0",
      "model_name": "VBoxModel",
      "state": {
       "_dom_classes": [
        "widget-interact"
       ],
       "children": [
        "IPY_MODEL_886cf9fe558744338713d7e1fda61b03",
        "IPY_MODEL_3b605a1e7fa64a3c80e2278d093bfbff",
        "IPY_MODEL_0833cae91c824a499bd1bf37420688fb",
        "IPY_MODEL_d58f8107f81b4a1db4f65fb91669c47f"
       ],
       "layout": "IPY_MODEL_49bc77407cfe483ba8a9efac15215441"
      }
     },
     "4faa0e69c3944031af28243a6c2cb838": {
      "model_module": "@jupyter-widgets/controls",
      "model_module_version": "1.5.0",
      "model_name": "IntSliderModel",
      "state": {
       "description": "y0",
       "layout": "IPY_MODEL_4cc63c8968b34ccc8e0ff6c1faab3db7",
       "max": 1000,
       "min": 250,
       "step": 5,
       "style": "IPY_MODEL_beab4cac0f874a0da4d5e81ce23127c0",
       "value": 250
      }
     },
     "52a99af8ac4f4cc88ff6133b32793c0c": {
      "model_module": "@jupyter-widgets/base",
      "model_module_version": "1.2.0",
      "model_name": "LayoutModel",
      "state": {}
     },
     "52c01293ca1546239ba901da85df142f": {
      "model_module": "@jupyter-widgets/output",
      "model_module_version": "1.0.0",
      "model_name": "OutputModel",
      "state": {
       "layout": "IPY_MODEL_dbc7d1bac8344c0aa0affbbfa51938e0"
      }
     },
     "52fba609c70a4513b5f8896980a5dd91": {
      "model_module": "@jupyter-widgets/base",
      "model_module_version": "1.2.0",
      "model_name": "LayoutModel",
      "state": {}
     },
     "53f8ef40c39241f4a22e8eb47ccde0b2": {
      "model_module": "@jupyter-widgets/controls",
      "model_module_version": "1.5.0",
      "model_name": "VBoxModel",
      "state": {
       "_dom_classes": [
        "widget-interact"
       ],
       "children": [
        "IPY_MODEL_b23f96b5c9034a9ba8133869e0ecf009",
        "IPY_MODEL_f98fd46f2bf5490388683a1db8ed0062",
        "IPY_MODEL_4faa0e69c3944031af28243a6c2cb838",
        "IPY_MODEL_cc9bdbc5ac9540b9ba207dc7655b42d7"
       ],
       "layout": "IPY_MODEL_d15bec5610154b83bbb0fcb958be3026"
      }
     },
     "54a4e78e32034147921199336392169c": {
      "model_module": "@jupyter-widgets/controls",
      "model_module_version": "1.5.0",
      "model_name": "SliderStyleModel",
      "state": {
       "description_width": ""
      }
     },
     "55170df18abe4f5f97112a0e4d83d51d": {
      "model_module": "@jupyter-widgets/base",
      "model_module_version": "1.2.0",
      "model_name": "LayoutModel",
      "state": {}
     },
     "5bef57869bf44e4492561d0c61c2be03": {
      "model_module": "@jupyter-widgets/controls",
      "model_module_version": "1.5.0",
      "model_name": "SliderStyleModel",
      "state": {
       "description_width": ""
      }
     },
     "5da8c92ad3754919aeb79454fb23ddfb": {
      "model_module": "@jupyter-widgets/base",
      "model_module_version": "1.2.0",
      "model_name": "LayoutModel",
      "state": {}
     },
     "60f9bd4195f546b8a7210ae7189d4a51": {
      "model_module": "@jupyter-widgets/controls",
      "model_module_version": "1.5.0",
      "model_name": "SliderStyleModel",
      "state": {
       "description_width": ""
      }
     },
     "6276135cb658418f9759412a614cc30c": {
      "model_module": "@jupyter-widgets/base",
      "model_module_version": "1.2.0",
      "model_name": "LayoutModel",
      "state": {}
     },
     "628d1045dde84584bb24be7fec0e9778": {
      "model_module": "@jupyter-widgets/base",
      "model_module_version": "1.2.0",
      "model_name": "LayoutModel",
      "state": {}
     },
     "63d0faf74f944c7b846e8af9b8c69f0a": {
      "model_module": "@jupyter-widgets/controls",
      "model_module_version": "1.5.0",
      "model_name": "SliderStyleModel",
      "state": {
       "description_width": ""
      }
     },
     "63f9d901c7794a858b89f51741352ea6": {
      "model_module": "@jupyter-widgets/base",
      "model_module_version": "1.2.0",
      "model_name": "LayoutModel",
      "state": {}
     },
     "64ab2db96e7b4511a26cac6aee684dd1": {
      "model_module": "@jupyter-widgets/controls",
      "model_module_version": "1.5.0",
      "model_name": "FloatSliderModel",
      "state": {
       "description": "V",
       "layout": "IPY_MODEL_b74fb1b45b0a4f37ad2d62ce14dc9e32",
       "max": 16,
       "min": 2,
       "step": 0.1,
       "style": "IPY_MODEL_a2a0bdb894644e019f8e5dbd9fbbf105",
       "value": 12
      }
     },
     "64d7c9f811a94f2886b3418926abfc62": {
      "model_module": "@jupyter-widgets/controls",
      "model_module_version": "1.5.0",
      "model_name": "FloatSliderModel",
      "state": {
       "description": "V",
       "layout": "IPY_MODEL_297491fb0d1f4bcbaf6bcc533c42b858",
       "max": 16,
       "min": 2,
       "step": 0.1,
       "style": "IPY_MODEL_5bef57869bf44e4492561d0c61c2be03",
       "value": 12
      }
     },
     "6507fe6bb4c846e7946f4edebe3460fc": {
      "model_module": "@jupyter-widgets/base",
      "model_module_version": "1.2.0",
      "model_name": "LayoutModel",
      "state": {}
     },
     "66591c52d1494ce6a8781f5c41bd49e9": {
      "model_module": "@jupyter-widgets/controls",
      "model_module_version": "1.5.0",
      "model_name": "IntSliderModel",
      "state": {
       "description": "M",
       "layout": "IPY_MODEL_41eb5a321cd345529f854b3378f53ab4",
       "max": 2000,
       "min": 250,
       "step": 10,
       "style": "IPY_MODEL_4f76d6cba4224bc9bc49c7b319c9054d",
       "value": 950
      }
     },
     "6857d4bb340d4832ab562b133d3bb9f9": {
      "model_module": "@jupyter-widgets/controls",
      "model_module_version": "1.5.0",
      "model_name": "FloatSliderModel",
      "state": {
       "description": "V",
       "layout": "IPY_MODEL_8adb7e6ac67f4845bd7e12b132ea29c0",
       "max": 16,
       "min": 2,
       "step": 0.1,
       "style": "IPY_MODEL_8a075aa4842d4bd08120e348e2082e65",
       "value": 12
      }
     },
     "6a0efb26fe374dce94765d555c41c2ae": {
      "model_module": "@jupyter-widgets/base",
      "model_module_version": "1.2.0",
      "model_name": "LayoutModel",
      "state": {}
     },
     "6ab42dfa2ae144418c9afb12c542ee27": {
      "model_module": "@jupyter-widgets/controls",
      "model_module_version": "1.5.0",
      "model_name": "VBoxModel",
      "state": {
       "_dom_classes": [
        "widget-interact"
       ],
       "children": [
        "IPY_MODEL_3db11db4052746efa4669cca1ba24ca3",
        "IPY_MODEL_64d7c9f811a94f2886b3418926abfc62",
        "IPY_MODEL_155032d3a7a34297acdee78f41deb17d",
        "IPY_MODEL_f658215027f04cb2ba75123d2eceb6b2"
       ],
       "layout": "IPY_MODEL_2476126508084a04b25656723c8cfe40"
      }
     },
     "6b04253dc2204833b1a08d045fe1f624": {
      "model_module": "@jupyter-widgets/controls",
      "model_module_version": "1.5.0",
      "model_name": "SliderStyleModel",
      "state": {
       "description_width": ""
      }
     },
     "6c31d49480de431896c5fad51710c7fc": {
      "model_module": "@jupyter-widgets/base",
      "model_module_version": "1.2.0",
      "model_name": "LayoutModel",
      "state": {}
     },
     "6db52190285a4e33bfcc5048fba69e15": {
      "model_module": "@jupyter-widgets/controls",
      "model_module_version": "1.5.0",
      "model_name": "SliderStyleModel",
      "state": {
       "description_width": ""
      }
     },
     "6ddee12c9c5444188dff2710a985bbf2": {
      "model_module": "@jupyter-widgets/base",
      "model_module_version": "1.2.0",
      "model_name": "LayoutModel",
      "state": {}
     },
     "7022e275f6a8476c8dfc47337bed3cf4": {
      "model_module": "@jupyter-widgets/output",
      "model_module_version": "1.0.0",
      "model_name": "OutputModel",
      "state": {
       "layout": "IPY_MODEL_3978787f1fe74913aaea2ea9a68a46cf"
      }
     },
     "73987a3146664bdb8d6f39d6088f6410": {
      "model_module": "@jupyter-widgets/base",
      "model_module_version": "1.2.0",
      "model_name": "LayoutModel",
      "state": {}
     },
     "762792f8cad6430ea47ff331eb8cfaaf": {
      "model_module": "@jupyter-widgets/output",
      "model_module_version": "1.0.0",
      "model_name": "OutputModel",
      "state": {
       "layout": "IPY_MODEL_0fbc15984e384b869dc3e8f4e15e17c7"
      }
     },
     "765d6ba078c74bc78ad0cf2f36356b2a": {
      "model_module": "@jupyter-widgets/controls",
      "model_module_version": "1.5.0",
      "model_name": "FloatSliderModel",
      "state": {
       "description": "V",
       "layout": "IPY_MODEL_0426472a84cc41ca963a04c7a20d0532",
       "max": 16,
       "min": 2,
       "step": 0.1,
       "style": "IPY_MODEL_60f9bd4195f546b8a7210ae7189d4a51",
       "value": 12
      }
     },
     "77a664a15f134b948d00629883887c8d": {
      "model_module": "@jupyter-widgets/base",
      "model_module_version": "1.2.0",
      "model_name": "LayoutModel",
      "state": {}
     },
     "7a4500d1ca184e30a9ec2149b9ea627c": {
      "model_module": "@jupyter-widgets/controls",
      "model_module_version": "1.5.0",
      "model_name": "SliderStyleModel",
      "state": {
       "description_width": ""
      }
     },
     "7a48af3b7aef42d087dff18e6bd9c464": {
      "model_module": "@jupyter-widgets/controls",
      "model_module_version": "1.5.0",
      "model_name": "VBoxModel",
      "state": {
       "_dom_classes": [
        "widget-interact"
       ],
       "children": [
        "IPY_MODEL_beeb58fe989a4f06b78180a34690f0e1",
        "IPY_MODEL_6857d4bb340d4832ab562b133d3bb9f9",
        "IPY_MODEL_0684197412b84bd2951101024aab8d27",
        "IPY_MODEL_7f184b32b04b4f07b41260537ea79e54"
       ],
       "layout": "IPY_MODEL_ba6d77c3cb0c4cedbfd63eb3873040ea"
      }
     },
     "7dabf9a317124183b271a8aa0895cd1e": {
      "model_module": "@jupyter-widgets/output",
      "model_module_version": "1.0.0",
      "model_name": "OutputModel",
      "state": {
       "layout": "IPY_MODEL_189aa44d9e4c4c93b53d41301a090dcb"
      }
     },
     "7f184b32b04b4f07b41260537ea79e54": {
      "model_module": "@jupyter-widgets/output",
      "model_module_version": "1.0.0",
      "model_name": "OutputModel",
      "state": {
       "layout": "IPY_MODEL_876575ed45394224a6209776b4d95840"
      }
     },
     "8102e93f0f24435fb5b3d4cf283b5804": {
      "model_module": "@jupyter-widgets/controls",
      "model_module_version": "1.5.0",
      "model_name": "VBoxModel",
      "state": {
       "_dom_classes": [
        "widget-interact"
       ],
       "children": [
        "IPY_MODEL_c1acee4afdc246d294ef898bd16facdc",
        "IPY_MODEL_955fedd2e1654e57b340d468f4fe8498",
        "IPY_MODEL_d50758d2abc14f798bbdc4d33c7ca91e",
        "IPY_MODEL_c87eb3e3100c4c92a4a8d664d3044307"
       ],
       "layout": "IPY_MODEL_6ddee12c9c5444188dff2710a985bbf2"
      }
     },
     "83de49a7bb0d4cbd8e9ab4a4538612f3": {
      "model_module": "@jupyter-widgets/controls",
      "model_module_version": "1.5.0",
      "model_name": "VBoxModel",
      "state": {
       "_dom_classes": [
        "widget-interact"
       ],
       "children": [
        "IPY_MODEL_e7ee727a023c4198a2a4d3d0e393b4d9",
        "IPY_MODEL_765d6ba078c74bc78ad0cf2f36356b2a",
        "IPY_MODEL_e547f03643054f538738dc888489be9d",
        "IPY_MODEL_c455c9d51c7f4bc3912e1295cb3afa7f"
       ],
       "layout": "IPY_MODEL_77a664a15f134b948d00629883887c8d"
      }
     },
     "876575ed45394224a6209776b4d95840": {
      "model_module": "@jupyter-widgets/base",
      "model_module_version": "1.2.0",
      "model_name": "LayoutModel",
      "state": {}
     },
     "87751c76cb4049ef97e6e58f31ea5982": {
      "model_module": "@jupyter-widgets/base",
      "model_module_version": "1.2.0",
      "model_name": "LayoutModel",
      "state": {}
     },
     "886cf9fe558744338713d7e1fda61b03": {
      "model_module": "@jupyter-widgets/controls",
      "model_module_version": "1.5.0",
      "model_name": "IntSliderModel",
      "state": {
       "description": "M",
       "layout": "IPY_MODEL_34607a382c21449885b50ff5a2ed975f",
       "max": 2000,
       "min": 250,
       "step": 10,
       "style": "IPY_MODEL_0ff87625c54d4d628aa6be7e90ec3d7b",
       "value": 1510
      }
     },
     "8a075aa4842d4bd08120e348e2082e65": {
      "model_module": "@jupyter-widgets/controls",
      "model_module_version": "1.5.0",
      "model_name": "SliderStyleModel",
      "state": {
       "description_width": ""
      }
     },
     "8adb7e6ac67f4845bd7e12b132ea29c0": {
      "model_module": "@jupyter-widgets/base",
      "model_module_version": "1.2.0",
      "model_name": "LayoutModel",
      "state": {}
     },
     "8befc19f6cdf4e79baa11028ec661ad2": {
      "model_module": "@jupyter-widgets/base",
      "model_module_version": "1.2.0",
      "model_name": "LayoutModel",
      "state": {}
     },
     "8d7791d412ce40bab330824504a15821": {
      "model_module": "@jupyter-widgets/controls",
      "model_module_version": "1.5.0",
      "model_name": "IntSliderModel",
      "state": {
       "description": "M",
       "layout": "IPY_MODEL_73987a3146664bdb8d6f39d6088f6410",
       "max": 2000,
       "min": 100,
       "step": 10,
       "style": "IPY_MODEL_e090d75bce5a443facb8e65f3edaec56",
       "value": 1000
      }
     },
     "8e020db6efff4e758915d876c87b5613": {
      "model_module": "@jupyter-widgets/controls",
      "model_module_version": "1.5.0",
      "model_name": "IntSliderModel",
      "state": {
       "description": "y0",
       "layout": "IPY_MODEL_63f9d901c7794a858b89f51741352ea6",
       "max": 1000,
       "min": 250,
       "step": 5,
       "style": "IPY_MODEL_c13762c5c5a449ffb1f7e3f1063ed5c9",
       "value": 250
      }
     },
     "93be7e2b0e7f47ab9604136135d79e2b": {
      "model_module": "@jupyter-widgets/controls",
      "model_module_version": "1.5.0",
      "model_name": "SliderStyleModel",
      "state": {
       "description_width": ""
      }
     },
     "955fedd2e1654e57b340d468f4fe8498": {
      "model_module": "@jupyter-widgets/controls",
      "model_module_version": "1.5.0",
      "model_name": "FloatSliderModel",
      "state": {
       "description": "V",
       "layout": "IPY_MODEL_31530e0024a6446893712c29c5dc9734",
       "max": 16,
       "min": 0.8,
       "step": 0.1,
       "style": "IPY_MODEL_a009d05e07524fd39f8340a0a2885907",
       "value": 12
      }
     },
     "9698579ee81d411685da58328f31f9fd": {
      "model_module": "@jupyter-widgets/controls",
      "model_module_version": "1.5.0",
      "model_name": "SliderStyleModel",
      "state": {
       "description_width": ""
      }
     },
     "9841dae8eea6473f91ddf63f054fc138": {
      "model_module": "@jupyter-widgets/controls",
      "model_module_version": "1.5.0",
      "model_name": "VBoxModel",
      "state": {
       "_dom_classes": [
        "widget-interact"
       ],
       "children": [
        "IPY_MODEL_0cd357ed6a744cf4aafb15596e2d95a0",
        "IPY_MODEL_f7945f6317a34acb9fe5a06743183a9d",
        "IPY_MODEL_a0d9708040da414dabd7eabd8a06e9a7",
        "IPY_MODEL_7dabf9a317124183b271a8aa0895cd1e"
       ],
       "layout": "IPY_MODEL_5da8c92ad3754919aeb79454fb23ddfb"
      }
     },
     "9929e3afb149459d8339abcac719b0d9": {
      "model_module": "@jupyter-widgets/controls",
      "model_module_version": "1.5.0",
      "model_name": "SliderStyleModel",
      "state": {
       "description_width": ""
      }
     },
     "9c5b4eeda9c24ac99947cd50f931cf3d": {
      "model_module": "@jupyter-widgets/base",
      "model_module_version": "1.2.0",
      "model_name": "LayoutModel",
      "state": {}
     },
     "9e920d46f319469fb11978be95aed64c": {
      "model_module": "@jupyter-widgets/controls",
      "model_module_version": "1.5.0",
      "model_name": "SliderStyleModel",
      "state": {
       "description_width": ""
      }
     },
     "9f170c583adb4d81bac766ca62254036": {
      "model_module": "@jupyter-widgets/base",
      "model_module_version": "1.2.0",
      "model_name": "LayoutModel",
      "state": {}
     },
     "a009d05e07524fd39f8340a0a2885907": {
      "model_module": "@jupyter-widgets/controls",
      "model_module_version": "1.5.0",
      "model_name": "SliderStyleModel",
      "state": {
       "description_width": ""
      }
     },
     "a0b11c6248324d289a9ad769efc20453": {
      "model_module": "@jupyter-widgets/base",
      "model_module_version": "1.2.0",
      "model_name": "LayoutModel",
      "state": {}
     },
     "a0d9708040da414dabd7eabd8a06e9a7": {
      "model_module": "@jupyter-widgets/controls",
      "model_module_version": "1.5.0",
      "model_name": "IntSliderModel",
      "state": {
       "description": "y0",
       "layout": "IPY_MODEL_c55ae050b6b74f33bb7ca8876b8ae617",
       "max": 1000,
       "min": 50,
       "step": 5,
       "style": "IPY_MODEL_25c1de1f92bc464aa920bf5bced0e029",
       "value": 50
      }
     },
     "a2a0bdb894644e019f8e5dbd9fbbf105": {
      "model_module": "@jupyter-widgets/controls",
      "model_module_version": "1.5.0",
      "model_name": "SliderStyleModel",
      "state": {
       "description_width": ""
      }
     },
     "a40ad48c698943c885ec32755a9d60fe": {
      "model_module": "@jupyter-widgets/controls",
      "model_module_version": "1.5.0",
      "model_name": "IntSliderModel",
      "state": {
       "description": "y0",
       "layout": "IPY_MODEL_01722fde7f1e4726a767fdd9d3a00602",
       "max": 1000,
       "min": 50,
       "step": 5,
       "style": "IPY_MODEL_9e920d46f319469fb11978be95aed64c",
       "value": 485
      }
     },
     "a6900206e75b45e09a2e2ee6a009839c": {
      "model_module": "@jupyter-widgets/controls",
      "model_module_version": "1.5.0",
      "model_name": "SliderStyleModel",
      "state": {
       "description_width": ""
      }
     },
     "a9a0ab712ffc4662a944d1796a69b624": {
      "model_module": "@jupyter-widgets/controls",
      "model_module_version": "1.5.0",
      "model_name": "SliderStyleModel",
      "state": {
       "description_width": ""
      }
     },
     "aafde4ddd907429e89d4f25f032e0191": {
      "model_module": "@jupyter-widgets/controls",
      "model_module_version": "1.5.0",
      "model_name": "SliderStyleModel",
      "state": {
       "description_width": ""
      }
     },
     "ab5e269e99a841369381f17a31577d7c": {
      "model_module": "@jupyter-widgets/base",
      "model_module_version": "1.2.0",
      "model_name": "LayoutModel",
      "state": {}
     },
     "ae4c08f102084384b7c1ab8892491841": {
      "model_module": "@jupyter-widgets/controls",
      "model_module_version": "1.5.0",
      "model_name": "VBoxModel",
      "state": {
       "_dom_classes": [
        "widget-interact"
       ],
       "children": [
        "IPY_MODEL_cba2d9b6bb114371b2f25b7db102f9ef",
        "IPY_MODEL_fae5601dcccf40d8ae246d905799b183",
        "IPY_MODEL_45b1c93e7ed94e35b321d0cd0563a0cd",
        "IPY_MODEL_ed2f12908b0e40d59edf0e7e6efd5c77"
       ],
       "layout": "IPY_MODEL_cfa04a5e4d4040aea94d2ab1c93dc7f5"
      }
     },
     "aebe0385024f49e599f85c6d74f08bd9": {
      "model_module": "@jupyter-widgets/controls",
      "model_module_version": "1.5.0",
      "model_name": "SliderStyleModel",
      "state": {
       "description_width": ""
      }
     },
     "aefd472098004357b486fe94c90dc9c2": {
      "model_module": "@jupyter-widgets/base",
      "model_module_version": "1.2.0",
      "model_name": "LayoutModel",
      "state": {}
     },
     "b181433014d4469badae671dab15a954": {
      "model_module": "@jupyter-widgets/controls",
      "model_module_version": "1.5.0",
      "model_name": "IntSliderModel",
      "state": {
       "description": "y0",
       "layout": "IPY_MODEL_06d5959ce78b47b8a028698746abfd81",
       "max": 1000,
       "min": 50,
       "step": 5,
       "style": "IPY_MODEL_e320293c996949548d99a7eca547bef9",
       "value": 495
      }
     },
     "b23f96b5c9034a9ba8133869e0ecf009": {
      "model_module": "@jupyter-widgets/controls",
      "model_module_version": "1.5.0",
      "model_name": "IntSliderModel",
      "state": {
       "description": "M",
       "layout": "IPY_MODEL_42cce5055a144abdade2a98035d2248d",
       "max": 2000,
       "min": 250,
       "step": 10,
       "style": "IPY_MODEL_54a4e78e32034147921199336392169c",
       "value": 1000
      }
     },
     "b373d8f3f0d5456fb545e7603c0fbc0a": {
      "model_module": "@jupyter-widgets/controls",
      "model_module_version": "1.5.0",
      "model_name": "VBoxModel",
      "state": {
       "_dom_classes": [
        "widget-interact"
       ],
       "children": [
        "IPY_MODEL_fb5b00b9494f4ce8b4fea35fb8e528d5",
        "IPY_MODEL_02c53153eb5d45688642be50ccb18f34",
        "IPY_MODEL_ca30e82190734e6fa1a8af111d8e73c0",
        "IPY_MODEL_52c01293ca1546239ba901da85df142f"
       ],
       "layout": "IPY_MODEL_52a99af8ac4f4cc88ff6133b32793c0c"
      }
     },
     "b748c101385b421bb3fff14238f3d5fc": {
      "model_module": "@jupyter-widgets/base",
      "model_module_version": "1.2.0",
      "model_name": "LayoutModel",
      "state": {}
     },
     "b74fb1b45b0a4f37ad2d62ce14dc9e32": {
      "model_module": "@jupyter-widgets/base",
      "model_module_version": "1.2.0",
      "model_name": "LayoutModel",
      "state": {}
     },
     "b77b73236d5944548c8a7da5b7f69097": {
      "model_module": "@jupyter-widgets/base",
      "model_module_version": "1.2.0",
      "model_name": "LayoutModel",
      "state": {}
     },
     "b7f643eedd304d0fb278793ba59bb0d7": {
      "model_module": "@jupyter-widgets/controls",
      "model_module_version": "1.5.0",
      "model_name": "SliderStyleModel",
      "state": {
       "description_width": ""
      }
     },
     "b81d874ba92345d2b2286d3e8c29df16": {
      "model_module": "@jupyter-widgets/base",
      "model_module_version": "1.2.0",
      "model_name": "LayoutModel",
      "state": {}
     },
     "ba4ccf5a891c45e89ae8c76e84df1377": {
      "model_module": "@jupyter-widgets/base",
      "model_module_version": "1.2.0",
      "model_name": "LayoutModel",
      "state": {}
     },
     "ba6d77c3cb0c4cedbfd63eb3873040ea": {
      "model_module": "@jupyter-widgets/base",
      "model_module_version": "1.2.0",
      "model_name": "LayoutModel",
      "state": {}
     },
     "bc3af383510349f39c5bf695f47cf52e": {
      "model_module": "@jupyter-widgets/controls",
      "model_module_version": "1.5.0",
      "model_name": "SliderStyleModel",
      "state": {
       "description_width": ""
      }
     },
     "beab4cac0f874a0da4d5e81ce23127c0": {
      "model_module": "@jupyter-widgets/controls",
      "model_module_version": "1.5.0",
      "model_name": "SliderStyleModel",
      "state": {
       "description_width": ""
      }
     },
     "beeb58fe989a4f06b78180a34690f0e1": {
      "model_module": "@jupyter-widgets/controls",
      "model_module_version": "1.5.0",
      "model_name": "IntSliderModel",
      "state": {
       "description": "M",
       "layout": "IPY_MODEL_e0e77434780d4c07a8601fe9dbe0ffe0",
       "max": 2000,
       "min": 250,
       "step": 10,
       "style": "IPY_MODEL_0bfaff8aeebd46f4b1934270dc5821f4",
       "value": 1000
      }
     },
     "c0b4af68733b43be904f3d3f85f5cfa7": {
      "model_module": "@jupyter-widgets/controls",
      "model_module_version": "1.5.0",
      "model_name": "SliderStyleModel",
      "state": {
       "description_width": ""
      }
     },
     "c13762c5c5a449ffb1f7e3f1063ed5c9": {
      "model_module": "@jupyter-widgets/controls",
      "model_module_version": "1.5.0",
      "model_name": "SliderStyleModel",
      "state": {
       "description_width": ""
      }
     },
     "c1acee4afdc246d294ef898bd16facdc": {
      "model_module": "@jupyter-widgets/controls",
      "model_module_version": "1.5.0",
      "model_name": "IntSliderModel",
      "state": {
       "description": "M",
       "layout": "IPY_MODEL_287cd367abd94c6992bb09daa472b211",
       "max": 2000,
       "min": 100,
       "step": 10,
       "style": "IPY_MODEL_0f9873ea044c4cd0b84bca0f63392f23",
       "value": 1000
      }
     },
     "c34300f22580441da1cff26ebfd100da": {
      "model_module": "@jupyter-widgets/output",
      "model_module_version": "1.0.0",
      "model_name": "OutputModel",
      "state": {
       "layout": "IPY_MODEL_f71a36c1202049fd895699395ba5ad87"
      }
     },
     "c455c9d51c7f4bc3912e1295cb3afa7f": {
      "model_module": "@jupyter-widgets/output",
      "model_module_version": "1.0.0",
      "model_name": "OutputModel",
      "state": {
       "layout": "IPY_MODEL_fdf7c9ad43a34cb49788a2487f7cafb5"
      }
     },
     "c55ae050b6b74f33bb7ca8876b8ae617": {
      "model_module": "@jupyter-widgets/base",
      "model_module_version": "1.2.0",
      "model_name": "LayoutModel",
      "state": {}
     },
     "c7ce90fb2d74453a86ce76372ced4936": {
      "model_module": "@jupyter-widgets/base",
      "model_module_version": "1.2.0",
      "model_name": "LayoutModel",
      "state": {}
     },
     "c87eb3e3100c4c92a4a8d664d3044307": {
      "model_module": "@jupyter-widgets/output",
      "model_module_version": "1.0.0",
      "model_name": "OutputModel",
      "state": {
       "layout": "IPY_MODEL_628d1045dde84584bb24be7fec0e9778"
      }
     },
     "ca30e82190734e6fa1a8af111d8e73c0": {
      "model_module": "@jupyter-widgets/controls",
      "model_module_version": "1.5.0",
      "model_name": "IntSliderModel",
      "state": {
       "description": "y0",
       "layout": "IPY_MODEL_ab5e269e99a841369381f17a31577d7c",
       "max": 1000,
       "min": 50,
       "step": 5,
       "style": "IPY_MODEL_9698579ee81d411685da58328f31f9fd",
       "value": 50
      }
     },
     "ca44ad27c46749378897d0ae18503d7a": {
      "model_module": "@jupyter-widgets/controls",
      "model_module_version": "1.5.0",
      "model_name": "IntSliderModel",
      "state": {
       "description": "y0",
       "layout": "IPY_MODEL_0bbcc7350b6343d5a9bf1534226a2b59",
       "max": 1000,
       "min": 50,
       "step": 5,
       "style": "IPY_MODEL_08cd0337ff1f49c68055ff1209621d27",
       "value": 580
      }
     },
     "cba2d9b6bb114371b2f25b7db102f9ef": {
      "model_module": "@jupyter-widgets/controls",
      "model_module_version": "1.5.0",
      "model_name": "IntSliderModel",
      "state": {
       "description": "M",
       "layout": "IPY_MODEL_55170df18abe4f5f97112a0e4d83d51d",
       "max": 2000,
       "min": 100,
       "step": 10,
       "style": "IPY_MODEL_6b04253dc2204833b1a08d045fe1f624",
       "value": 1000
      }
     },
     "cc9bdbc5ac9540b9ba207dc7655b42d7": {
      "model_module": "@jupyter-widgets/output",
      "model_module_version": "1.0.0",
      "model_name": "OutputModel",
      "state": {
       "layout": "IPY_MODEL_1db02c5639c14fb8b9cd2fac9eaf5bfd"
      }
     },
     "cf4703dc555c4bed891a8e7989c20195": {
      "model_module": "@jupyter-widgets/controls",
      "model_module_version": "1.5.0",
      "model_name": "SliderStyleModel",
      "state": {
       "description_width": ""
      }
     },
     "cfa04a5e4d4040aea94d2ab1c93dc7f5": {
      "model_module": "@jupyter-widgets/base",
      "model_module_version": "1.2.0",
      "model_name": "LayoutModel",
      "state": {}
     },
     "d15bec5610154b83bbb0fcb958be3026": {
      "model_module": "@jupyter-widgets/base",
      "model_module_version": "1.2.0",
      "model_name": "LayoutModel",
      "state": {}
     },
     "d257c31226b0447aa2ae805339056610": {
      "model_module": "@jupyter-widgets/controls",
      "model_module_version": "1.5.0",
      "model_name": "IntSliderModel",
      "state": {
       "description": "M",
       "layout": "IPY_MODEL_ba4ccf5a891c45e89ae8c76e84df1377",
       "max": 2000,
       "min": 250,
       "step": 10,
       "style": "IPY_MODEL_3fc71e17d8cd4291b0762f12ae0e74f7",
       "value": 1000
      }
     },
     "d50758d2abc14f798bbdc4d33c7ca91e": {
      "model_module": "@jupyter-widgets/controls",
      "model_module_version": "1.5.0",
      "model_name": "IntSliderModel",
      "state": {
       "description": "y0",
       "layout": "IPY_MODEL_6a0efb26fe374dce94765d555c41c2ae",
       "max": 1000,
       "min": 50,
       "step": 5,
       "style": "IPY_MODEL_c0b4af68733b43be904f3d3f85f5cfa7",
       "value": 50
      }
     },
     "d58f8107f81b4a1db4f65fb91669c47f": {
      "model_module": "@jupyter-widgets/output",
      "model_module_version": "1.0.0",
      "model_name": "OutputModel",
      "state": {
       "layout": "IPY_MODEL_3b72653a77f043eb939004aff6944efb"
      }
     },
     "dbc7d1bac8344c0aa0affbbfa51938e0": {
      "model_module": "@jupyter-widgets/base",
      "model_module_version": "1.2.0",
      "model_name": "LayoutModel",
      "state": {}
     },
     "dc94f9a67770485593550c2c1f4a5c42": {
      "model_module": "@jupyter-widgets/base",
      "model_module_version": "1.2.0",
      "model_name": "LayoutModel",
      "state": {}
     },
     "dd13fd0e2d4746e58715f143e27b85b3": {
      "model_module": "@jupyter-widgets/output",
      "model_module_version": "1.0.0",
      "model_name": "OutputModel",
      "state": {
       "layout": "IPY_MODEL_c7ce90fb2d74453a86ce76372ced4936"
      }
     },
     "ddfbd15e22b14699b878d674c8243f27": {
      "model_module": "@jupyter-widgets/base",
      "model_module_version": "1.2.0",
      "model_name": "LayoutModel",
      "state": {}
     },
     "df7c2cee885a4030a71694b9b432d9d9": {
      "model_module": "@jupyter-widgets/controls",
      "model_module_version": "1.5.0",
      "model_name": "IntSliderModel",
      "state": {
       "description": "M",
       "layout": "IPY_MODEL_ddfbd15e22b14699b878d674c8243f27",
       "max": 2000,
       "min": 100,
       "step": 10,
       "style": "IPY_MODEL_7a4500d1ca184e30a9ec2149b9ea627c",
       "value": 2000
      }
     },
     "e090d75bce5a443facb8e65f3edaec56": {
      "model_module": "@jupyter-widgets/controls",
      "model_module_version": "1.5.0",
      "model_name": "SliderStyleModel",
      "state": {
       "description_width": ""
      }
     },
     "e0e77434780d4c07a8601fe9dbe0ffe0": {
      "model_module": "@jupyter-widgets/base",
      "model_module_version": "1.2.0",
      "model_name": "LayoutModel",
      "state": {}
     },
     "e0eeedb6f58742b2bb808d4ff0690b86": {
      "model_module": "@jupyter-widgets/controls",
      "model_module_version": "1.5.0",
      "model_name": "SliderStyleModel",
      "state": {
       "description_width": ""
      }
     },
     "e1b0573952fd48b0b950b8bda76d667a": {
      "model_module": "@jupyter-widgets/controls",
      "model_module_version": "1.5.0",
      "model_name": "SliderStyleModel",
      "state": {
       "description_width": ""
      }
     },
     "e1b4728375364dafab45e1beb81b4065": {
      "model_module": "@jupyter-widgets/base",
      "model_module_version": "1.2.0",
      "model_name": "LayoutModel",
      "state": {}
     },
     "e320293c996949548d99a7eca547bef9": {
      "model_module": "@jupyter-widgets/controls",
      "model_module_version": "1.5.0",
      "model_name": "SliderStyleModel",
      "state": {
       "description_width": ""
      }
     },
     "e547f03643054f538738dc888489be9d": {
      "model_module": "@jupyter-widgets/controls",
      "model_module_version": "1.5.0",
      "model_name": "IntSliderModel",
      "state": {
       "description": "y0",
       "layout": "IPY_MODEL_1d835be9021749f3927f75ef2b656149",
       "max": 1000,
       "min": 250,
       "step": 5,
       "style": "IPY_MODEL_e0eeedb6f58742b2bb808d4ff0690b86",
       "value": 250
      }
     },
     "e6b87574b4a741ebbf97d6f5cdfceccc": {
      "model_module": "@jupyter-widgets/controls",
      "model_module_version": "1.5.0",
      "model_name": "VBoxModel",
      "state": {
       "_dom_classes": [
        "widget-interact"
       ],
       "children": [
        "IPY_MODEL_8d7791d412ce40bab330824504a15821",
        "IPY_MODEL_4a6746987bb14553a22e117f2bd66ae3",
        "IPY_MODEL_b181433014d4469badae671dab15a954",
        "IPY_MODEL_294c934efe674a1fa043b3ea676a34af"
       ],
       "layout": "IPY_MODEL_aefd472098004357b486fe94c90dc9c2"
      }
     },
     "e7ee727a023c4198a2a4d3d0e393b4d9": {
      "model_module": "@jupyter-widgets/controls",
      "model_module_version": "1.5.0",
      "model_name": "IntSliderModel",
      "state": {
       "description": "M",
       "layout": "IPY_MODEL_9f170c583adb4d81bac766ca62254036",
       "max": 2000,
       "min": 250,
       "step": 10,
       "style": "IPY_MODEL_a6900206e75b45e09a2e2ee6a009839c",
       "value": 1000
      }
     },
     "eb4e885672e94373a3b8455278e87b26": {
      "model_module": "@jupyter-widgets/base",
      "model_module_version": "1.2.0",
      "model_name": "LayoutModel",
      "state": {}
     },
     "ebbcd98eb306424492b1910f43a34b22": {
      "model_module": "@jupyter-widgets/controls",
      "model_module_version": "1.5.0",
      "model_name": "SliderStyleModel",
      "state": {
       "description_width": ""
      }
     },
     "ed2f12908b0e40d59edf0e7e6efd5c77": {
      "model_module": "@jupyter-widgets/output",
      "model_module_version": "1.0.0",
      "model_name": "OutputModel",
      "state": {
       "layout": "IPY_MODEL_b81d874ba92345d2b2286d3e8c29df16"
      }
     },
     "ed3ed0bb24844391a7316e80d2cc39b1": {
      "model_module": "@jupyter-widgets/controls",
      "model_module_version": "1.5.0",
      "model_name": "VBoxModel",
      "state": {
       "_dom_classes": [
        "widget-interact"
       ],
       "children": [
        "IPY_MODEL_66591c52d1494ce6a8781f5c41bd49e9",
        "IPY_MODEL_1821cc80c03548e4a10c5d3cd10555ca",
        "IPY_MODEL_2a8bc1c76c3d44ddbc14726f5f0b2399",
        "IPY_MODEL_7022e275f6a8476c8dfc47337bed3cf4"
       ],
       "layout": "IPY_MODEL_128841b01a2a436d86a2157757da67fc"
      }
     },
     "f188c2d1121c4a559b25a316605bd558": {
      "model_module": "@jupyter-widgets/controls",
      "model_module_version": "1.5.0",
      "model_name": "SliderStyleModel",
      "state": {
       "description_width": ""
      }
     },
     "f658215027f04cb2ba75123d2eceb6b2": {
      "model_module": "@jupyter-widgets/output",
      "model_module_version": "1.0.0",
      "model_name": "OutputModel",
      "state": {
       "layout": "IPY_MODEL_87751c76cb4049ef97e6e58f31ea5982"
      }
     },
     "f71a36c1202049fd895699395ba5ad87": {
      "model_module": "@jupyter-widgets/base",
      "model_module_version": "1.2.0",
      "model_name": "LayoutModel",
      "state": {}
     },
     "f7945f6317a34acb9fe5a06743183a9d": {
      "model_module": "@jupyter-widgets/controls",
      "model_module_version": "1.5.0",
      "model_name": "FloatSliderModel",
      "state": {
       "description": "V",
       "layout": "IPY_MODEL_46c3334759ea41f296f5b83ecdb0f5f4",
       "max": 16,
       "min": 0.8,
       "step": 0.1,
       "style": "IPY_MODEL_b7f643eedd304d0fb278793ba59bb0d7",
       "value": 12
      }
     },
     "f98fd46f2bf5490388683a1db8ed0062": {
      "model_module": "@jupyter-widgets/controls",
      "model_module_version": "1.5.0",
      "model_name": "FloatSliderModel",
      "state": {
       "description": "V",
       "layout": "IPY_MODEL_2ab33c1d074541888c555755e2f5395a",
       "max": 16,
       "min": 2,
       "step": 0.1,
       "style": "IPY_MODEL_47bedbeb64dc4ad098682f400b774134",
       "value": 12
      }
     },
     "fae5601dcccf40d8ae246d905799b183": {
      "model_module": "@jupyter-widgets/controls",
      "model_module_version": "1.5.0",
      "model_name": "FloatSliderModel",
      "state": {
       "description": "V",
       "layout": "IPY_MODEL_9c5b4eeda9c24ac99947cd50f931cf3d",
       "max": 16,
       "min": 0.8,
       "step": 0.1,
       "style": "IPY_MODEL_ebbcd98eb306424492b1910f43a34b22",
       "value": 12
      }
     },
     "fb5b00b9494f4ce8b4fea35fb8e528d5": {
      "model_module": "@jupyter-widgets/controls",
      "model_module_version": "1.5.0",
      "model_name": "IntSliderModel",
      "state": {
       "description": "M",
       "layout": "IPY_MODEL_52fba609c70a4513b5f8896980a5dd91",
       "max": 2000,
       "min": 100,
       "step": 10,
       "style": "IPY_MODEL_93be7e2b0e7f47ab9604136135d79e2b",
       "value": 1000
      }
     },
     "fc53b97bbf4246a282a3b0749f98510b": {
      "model_module": "@jupyter-widgets/controls",
      "model_module_version": "1.5.0",
      "model_name": "VBoxModel",
      "state": {
       "_dom_classes": [
        "widget-interact"
       ],
       "children": [
        "IPY_MODEL_103e8cfb466d4caeb1f03d1a76755ec1",
        "IPY_MODEL_4731307daed142148f87fd037c130a3e",
        "IPY_MODEL_a40ad48c698943c885ec32755a9d60fe",
        "IPY_MODEL_762792f8cad6430ea47ff331eb8cfaaf"
       ],
       "layout": "IPY_MODEL_6507fe6bb4c846e7946f4edebe3460fc"
      }
     },
     "fdf7c9ad43a34cb49788a2487f7cafb5": {
      "model_module": "@jupyter-widgets/base",
      "model_module_version": "1.2.0",
      "model_name": "LayoutModel",
      "state": {}
     }
    },
    "version_major": 2,
    "version_minor": 0
   }
  }
 },
 "nbformat": 4,
 "nbformat_minor": 4
}
