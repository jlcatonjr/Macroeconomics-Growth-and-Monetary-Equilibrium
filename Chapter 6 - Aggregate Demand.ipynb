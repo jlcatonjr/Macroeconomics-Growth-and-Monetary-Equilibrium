{
 "cells": [
  {
   "cell_type": "markdown",
   "metadata": {},
   "source": [
    "# Aggregate Demand\n",
    "\n",
    "Macroeconomics is the study of all economic activity. This includes complexities that arise in the course of production and exchange. It also includes analysis using statistics that represent the sum of all economic activity or activity in different sectors and of different kinds.\n",
    "Although data reflecting economic activity cannot be reduced to aggregates without losing information, aggregates themselves contain information that is unavailable at the level of analysis of particular events or of particular firms or sectors. Consideration of aggregate values allows one to consider the details of macroeconomic equilibrium, as well as macroeconomic disequilibrium. \n",
    "\n",
    "## The Money Market and the Goods Market\n",
    "\n",
    "The equation of exchange is a golden key that unlocks the secrets of the macroeconomy. It links changes in the money market to changes in the market for non-money goods, and vice versa, by defining aggregate demand as $MV$. The aggregate demand curve assume a given level of expenditures. This value is defined across different combinations of $P$ and $y$. As the value of $P$ increases, the value of $y$ falls, thereby maintaining the given value of total expenditures.\n",
    "In this chapter, we will use the equation of exchange to understand how changes in the goods market lead to changes in the market for non-money goods.  For simplicity sake, we will assume that there is only one good that acts as money. We will discuss in a later chapter that analysis can include other moneys.\n",
    "\n",
    "> <img src=\"https://github.com/jlcatonjr/Macroeconomics-Growth-and-Monetary-Equilibrium/blob/main/Chapter%206/Figure%201.png?raw=true\" alt=\"Market for Non-money Goods\"/>\n",
    "> <center> <b> Figure 1 \n",
    "\n",
    "In the previous chapter we used the equation of exchange to define changes the supply of money that can result from changes in demand for money. For the sake of simplicity, we start with a market whose supply of money is perfectly inelastic, as compared with a commodity money whose supply is upward sloping. A perfectly inelastic money supply allows us to consider money as a choice variable, much as base money is the result of the policy of a monetary authority. Changes in the price of money will therefore not affect the quantity of money supplied to the market. With a perfectly inelastic quantity of money, $M$, is not a function of demand for money . Changes in demand for money impact the price of money and, therefore, the price level. \n",
    "\n",
    "Aside from exogenous changes in supply, we will focus on the effect of changes in portfolio demand, $k$, for money. Recall that this is the inverse of the average velocity of money:\n",
    "\n",
    ">$k=\\frac{1}{V}$\n",
    "\n",
    "A change in the quantity of money or a change in portfolio demand for money will shift in aggregate demand, thereby shifting the price level in the long-run.\n",
    "\n",
    "Try working witht the plot yourself!"
   ]
  },
  {
   "cell_type": "code",
   "execution_count": 1,
   "metadata": {},
   "outputs": [
    {
     "data": {
      "application/javascript": [
       "/* Put everything inside the global mpl namespace */\n",
       "/* global mpl */\n",
       "window.mpl = {};\n",
       "\n",
       "mpl.get_websocket_type = function () {\n",
       "    if (typeof WebSocket !== 'undefined') {\n",
       "        return WebSocket;\n",
       "    } else if (typeof MozWebSocket !== 'undefined') {\n",
       "        return MozWebSocket;\n",
       "    } else {\n",
       "        alert(\n",
       "            'Your browser does not have WebSocket support. ' +\n",
       "                'Please try Chrome, Safari or Firefox ≥ 6. ' +\n",
       "                'Firefox 4 and 5 are also supported but you ' +\n",
       "                'have to enable WebSockets in about:config.'\n",
       "        );\n",
       "    }\n",
       "};\n",
       "\n",
       "mpl.figure = function (figure_id, websocket, ondownload, parent_element) {\n",
       "    this.id = figure_id;\n",
       "\n",
       "    this.ws = websocket;\n",
       "\n",
       "    this.supports_binary = this.ws.binaryType !== undefined;\n",
       "\n",
       "    if (!this.supports_binary) {\n",
       "        var warnings = document.getElementById('mpl-warnings');\n",
       "        if (warnings) {\n",
       "            warnings.style.display = 'block';\n",
       "            warnings.textContent =\n",
       "                'This browser does not support binary websocket messages. ' +\n",
       "                'Performance may be slow.';\n",
       "        }\n",
       "    }\n",
       "\n",
       "    this.imageObj = new Image();\n",
       "\n",
       "    this.context = undefined;\n",
       "    this.message = undefined;\n",
       "    this.canvas = undefined;\n",
       "    this.rubberband_canvas = undefined;\n",
       "    this.rubberband_context = undefined;\n",
       "    this.format_dropdown = undefined;\n",
       "\n",
       "    this.image_mode = 'full';\n",
       "\n",
       "    this.root = document.createElement('div');\n",
       "    this.root.setAttribute('style', 'display: inline-block');\n",
       "    this._root_extra_style(this.root);\n",
       "\n",
       "    parent_element.appendChild(this.root);\n",
       "\n",
       "    this._init_header(this);\n",
       "    this._init_canvas(this);\n",
       "    this._init_toolbar(this);\n",
       "\n",
       "    var fig = this;\n",
       "\n",
       "    this.waiting = false;\n",
       "\n",
       "    this.ws.onopen = function () {\n",
       "        fig.send_message('supports_binary', { value: fig.supports_binary });\n",
       "        fig.send_message('send_image_mode', {});\n",
       "        if (fig.ratio !== 1) {\n",
       "            fig.send_message('set_dpi_ratio', { dpi_ratio: fig.ratio });\n",
       "        }\n",
       "        fig.send_message('refresh', {});\n",
       "    };\n",
       "\n",
       "    this.imageObj.onload = function () {\n",
       "        if (fig.image_mode === 'full') {\n",
       "            // Full images could contain transparency (where diff images\n",
       "            // almost always do), so we need to clear the canvas so that\n",
       "            // there is no ghosting.\n",
       "            fig.context.clearRect(0, 0, fig.canvas.width, fig.canvas.height);\n",
       "        }\n",
       "        fig.context.drawImage(fig.imageObj, 0, 0);\n",
       "    };\n",
       "\n",
       "    this.imageObj.onunload = function () {\n",
       "        fig.ws.close();\n",
       "    };\n",
       "\n",
       "    this.ws.onmessage = this._make_on_message_function(this);\n",
       "\n",
       "    this.ondownload = ondownload;\n",
       "};\n",
       "\n",
       "mpl.figure.prototype._init_header = function () {\n",
       "    var titlebar = document.createElement('div');\n",
       "    titlebar.classList =\n",
       "        'ui-dialog-titlebar ui-widget-header ui-corner-all ui-helper-clearfix';\n",
       "    var titletext = document.createElement('div');\n",
       "    titletext.classList = 'ui-dialog-title';\n",
       "    titletext.setAttribute(\n",
       "        'style',\n",
       "        'width: 100%; text-align: center; padding: 3px;'\n",
       "    );\n",
       "    titlebar.appendChild(titletext);\n",
       "    this.root.appendChild(titlebar);\n",
       "    this.header = titletext;\n",
       "};\n",
       "\n",
       "mpl.figure.prototype._canvas_extra_style = function (_canvas_div) {};\n",
       "\n",
       "mpl.figure.prototype._root_extra_style = function (_canvas_div) {};\n",
       "\n",
       "mpl.figure.prototype._init_canvas = function () {\n",
       "    var fig = this;\n",
       "\n",
       "    var canvas_div = (this.canvas_div = document.createElement('div'));\n",
       "    canvas_div.setAttribute(\n",
       "        'style',\n",
       "        'border: 1px solid #ddd;' +\n",
       "            'box-sizing: content-box;' +\n",
       "            'clear: both;' +\n",
       "            'min-height: 1px;' +\n",
       "            'min-width: 1px;' +\n",
       "            'outline: 0;' +\n",
       "            'overflow: hidden;' +\n",
       "            'position: relative;' +\n",
       "            'resize: both;'\n",
       "    );\n",
       "\n",
       "    function on_keyboard_event_closure(name) {\n",
       "        return function (event) {\n",
       "            return fig.key_event(event, name);\n",
       "        };\n",
       "    }\n",
       "\n",
       "    canvas_div.addEventListener(\n",
       "        'keydown',\n",
       "        on_keyboard_event_closure('key_press')\n",
       "    );\n",
       "    canvas_div.addEventListener(\n",
       "        'keyup',\n",
       "        on_keyboard_event_closure('key_release')\n",
       "    );\n",
       "\n",
       "    this._canvas_extra_style(canvas_div);\n",
       "    this.root.appendChild(canvas_div);\n",
       "\n",
       "    var canvas = (this.canvas = document.createElement('canvas'));\n",
       "    canvas.classList.add('mpl-canvas');\n",
       "    canvas.setAttribute('style', 'box-sizing: content-box;');\n",
       "\n",
       "    this.context = canvas.getContext('2d');\n",
       "\n",
       "    var backingStore =\n",
       "        this.context.backingStorePixelRatio ||\n",
       "        this.context.webkitBackingStorePixelRatio ||\n",
       "        this.context.mozBackingStorePixelRatio ||\n",
       "        this.context.msBackingStorePixelRatio ||\n",
       "        this.context.oBackingStorePixelRatio ||\n",
       "        this.context.backingStorePixelRatio ||\n",
       "        1;\n",
       "\n",
       "    this.ratio = (window.devicePixelRatio || 1) / backingStore;\n",
       "    if (this.ratio !== 1) {\n",
       "        fig.send_message('set_dpi_ratio', { dpi_ratio: this.ratio });\n",
       "    }\n",
       "\n",
       "    var rubberband_canvas = (this.rubberband_canvas = document.createElement(\n",
       "        'canvas'\n",
       "    ));\n",
       "    rubberband_canvas.setAttribute(\n",
       "        'style',\n",
       "        'box-sizing: content-box; position: absolute; left: 0; top: 0; z-index: 1;'\n",
       "    );\n",
       "\n",
       "    // Apply a ponyfill if ResizeObserver is not implemented by browser.\n",
       "    if (this.ResizeObserver === undefined) {\n",
       "        if (window.ResizeObserver !== undefined) {\n",
       "            this.ResizeObserver = window.ResizeObserver;\n",
       "        } else {\n",
       "            var obs = _JSXTOOLS_RESIZE_OBSERVER({});\n",
       "            this.ResizeObserver = obs.ResizeObserver;\n",
       "        }\n",
       "    }\n",
       "\n",
       "    this.resizeObserverInstance = new this.ResizeObserver(function (entries) {\n",
       "        var nentries = entries.length;\n",
       "        for (var i = 0; i < nentries; i++) {\n",
       "            var entry = entries[i];\n",
       "            var width, height;\n",
       "            if (entry.contentBoxSize) {\n",
       "                if (entry.contentBoxSize instanceof Array) {\n",
       "                    // Chrome 84 implements new version of spec.\n",
       "                    width = entry.contentBoxSize[0].inlineSize;\n",
       "                    height = entry.contentBoxSize[0].blockSize;\n",
       "                } else {\n",
       "                    // Firefox implements old version of spec.\n",
       "                    width = entry.contentBoxSize.inlineSize;\n",
       "                    height = entry.contentBoxSize.blockSize;\n",
       "                }\n",
       "            } else {\n",
       "                // Chrome <84 implements even older version of spec.\n",
       "                width = entry.contentRect.width;\n",
       "                height = entry.contentRect.height;\n",
       "            }\n",
       "\n",
       "            // Keep the size of the canvas and rubber band canvas in sync with\n",
       "            // the canvas container.\n",
       "            if (entry.devicePixelContentBoxSize) {\n",
       "                // Chrome 84 implements new version of spec.\n",
       "                canvas.setAttribute(\n",
       "                    'width',\n",
       "                    entry.devicePixelContentBoxSize[0].inlineSize\n",
       "                );\n",
       "                canvas.setAttribute(\n",
       "                    'height',\n",
       "                    entry.devicePixelContentBoxSize[0].blockSize\n",
       "                );\n",
       "            } else {\n",
       "                canvas.setAttribute('width', width * fig.ratio);\n",
       "                canvas.setAttribute('height', height * fig.ratio);\n",
       "            }\n",
       "            canvas.setAttribute(\n",
       "                'style',\n",
       "                'width: ' + width + 'px; height: ' + height + 'px;'\n",
       "            );\n",
       "\n",
       "            rubberband_canvas.setAttribute('width', width);\n",
       "            rubberband_canvas.setAttribute('height', height);\n",
       "\n",
       "            // And update the size in Python. We ignore the initial 0/0 size\n",
       "            // that occurs as the element is placed into the DOM, which should\n",
       "            // otherwise not happen due to the minimum size styling.\n",
       "            if (width != 0 && height != 0) {\n",
       "                fig.request_resize(width, height);\n",
       "            }\n",
       "        }\n",
       "    });\n",
       "    this.resizeObserverInstance.observe(canvas_div);\n",
       "\n",
       "    function on_mouse_event_closure(name) {\n",
       "        return function (event) {\n",
       "            return fig.mouse_event(event, name);\n",
       "        };\n",
       "    }\n",
       "\n",
       "    rubberband_canvas.addEventListener(\n",
       "        'mousedown',\n",
       "        on_mouse_event_closure('button_press')\n",
       "    );\n",
       "    rubberband_canvas.addEventListener(\n",
       "        'mouseup',\n",
       "        on_mouse_event_closure('button_release')\n",
       "    );\n",
       "    // Throttle sequential mouse events to 1 every 20ms.\n",
       "    rubberband_canvas.addEventListener(\n",
       "        'mousemove',\n",
       "        on_mouse_event_closure('motion_notify')\n",
       "    );\n",
       "\n",
       "    rubberband_canvas.addEventListener(\n",
       "        'mouseenter',\n",
       "        on_mouse_event_closure('figure_enter')\n",
       "    );\n",
       "    rubberband_canvas.addEventListener(\n",
       "        'mouseleave',\n",
       "        on_mouse_event_closure('figure_leave')\n",
       "    );\n",
       "\n",
       "    canvas_div.addEventListener('wheel', function (event) {\n",
       "        if (event.deltaY < 0) {\n",
       "            event.step = 1;\n",
       "        } else {\n",
       "            event.step = -1;\n",
       "        }\n",
       "        on_mouse_event_closure('scroll')(event);\n",
       "    });\n",
       "\n",
       "    canvas_div.appendChild(canvas);\n",
       "    canvas_div.appendChild(rubberband_canvas);\n",
       "\n",
       "    this.rubberband_context = rubberband_canvas.getContext('2d');\n",
       "    this.rubberband_context.strokeStyle = '#000000';\n",
       "\n",
       "    this._resize_canvas = function (width, height, forward) {\n",
       "        if (forward) {\n",
       "            canvas_div.style.width = width + 'px';\n",
       "            canvas_div.style.height = height + 'px';\n",
       "        }\n",
       "    };\n",
       "\n",
       "    // Disable right mouse context menu.\n",
       "    this.rubberband_canvas.addEventListener('contextmenu', function (_e) {\n",
       "        event.preventDefault();\n",
       "        return false;\n",
       "    });\n",
       "\n",
       "    function set_focus() {\n",
       "        canvas.focus();\n",
       "        canvas_div.focus();\n",
       "    }\n",
       "\n",
       "    window.setTimeout(set_focus, 100);\n",
       "};\n",
       "\n",
       "mpl.figure.prototype._init_toolbar = function () {\n",
       "    var fig = this;\n",
       "\n",
       "    var toolbar = document.createElement('div');\n",
       "    toolbar.classList = 'mpl-toolbar';\n",
       "    this.root.appendChild(toolbar);\n",
       "\n",
       "    function on_click_closure(name) {\n",
       "        return function (_event) {\n",
       "            return fig.toolbar_button_onclick(name);\n",
       "        };\n",
       "    }\n",
       "\n",
       "    function on_mouseover_closure(tooltip) {\n",
       "        return function (event) {\n",
       "            if (!event.currentTarget.disabled) {\n",
       "                return fig.toolbar_button_onmouseover(tooltip);\n",
       "            }\n",
       "        };\n",
       "    }\n",
       "\n",
       "    fig.buttons = {};\n",
       "    var buttonGroup = document.createElement('div');\n",
       "    buttonGroup.classList = 'mpl-button-group';\n",
       "    for (var toolbar_ind in mpl.toolbar_items) {\n",
       "        var name = mpl.toolbar_items[toolbar_ind][0];\n",
       "        var tooltip = mpl.toolbar_items[toolbar_ind][1];\n",
       "        var image = mpl.toolbar_items[toolbar_ind][2];\n",
       "        var method_name = mpl.toolbar_items[toolbar_ind][3];\n",
       "\n",
       "        if (!name) {\n",
       "            /* Instead of a spacer, we start a new button group. */\n",
       "            if (buttonGroup.hasChildNodes()) {\n",
       "                toolbar.appendChild(buttonGroup);\n",
       "            }\n",
       "            buttonGroup = document.createElement('div');\n",
       "            buttonGroup.classList = 'mpl-button-group';\n",
       "            continue;\n",
       "        }\n",
       "\n",
       "        var button = (fig.buttons[name] = document.createElement('button'));\n",
       "        button.classList = 'mpl-widget';\n",
       "        button.setAttribute('role', 'button');\n",
       "        button.setAttribute('aria-disabled', 'false');\n",
       "        button.addEventListener('click', on_click_closure(method_name));\n",
       "        button.addEventListener('mouseover', on_mouseover_closure(tooltip));\n",
       "\n",
       "        var icon_img = document.createElement('img');\n",
       "        icon_img.src = '_images/' + image + '.png';\n",
       "        icon_img.srcset = '_images/' + image + '_large.png 2x';\n",
       "        icon_img.alt = tooltip;\n",
       "        button.appendChild(icon_img);\n",
       "\n",
       "        buttonGroup.appendChild(button);\n",
       "    }\n",
       "\n",
       "    if (buttonGroup.hasChildNodes()) {\n",
       "        toolbar.appendChild(buttonGroup);\n",
       "    }\n",
       "\n",
       "    var fmt_picker = document.createElement('select');\n",
       "    fmt_picker.classList = 'mpl-widget';\n",
       "    toolbar.appendChild(fmt_picker);\n",
       "    this.format_dropdown = fmt_picker;\n",
       "\n",
       "    for (var ind in mpl.extensions) {\n",
       "        var fmt = mpl.extensions[ind];\n",
       "        var option = document.createElement('option');\n",
       "        option.selected = fmt === mpl.default_extension;\n",
       "        option.innerHTML = fmt;\n",
       "        fmt_picker.appendChild(option);\n",
       "    }\n",
       "\n",
       "    var status_bar = document.createElement('span');\n",
       "    status_bar.classList = 'mpl-message';\n",
       "    toolbar.appendChild(status_bar);\n",
       "    this.message = status_bar;\n",
       "};\n",
       "\n",
       "mpl.figure.prototype.request_resize = function (x_pixels, y_pixels) {\n",
       "    // Request matplotlib to resize the figure. Matplotlib will then trigger a resize in the client,\n",
       "    // which will in turn request a refresh of the image.\n",
       "    this.send_message('resize', { width: x_pixels, height: y_pixels });\n",
       "};\n",
       "\n",
       "mpl.figure.prototype.send_message = function (type, properties) {\n",
       "    properties['type'] = type;\n",
       "    properties['figure_id'] = this.id;\n",
       "    this.ws.send(JSON.stringify(properties));\n",
       "};\n",
       "\n",
       "mpl.figure.prototype.send_draw_message = function () {\n",
       "    if (!this.waiting) {\n",
       "        this.waiting = true;\n",
       "        this.ws.send(JSON.stringify({ type: 'draw', figure_id: this.id }));\n",
       "    }\n",
       "};\n",
       "\n",
       "mpl.figure.prototype.handle_save = function (fig, _msg) {\n",
       "    var format_dropdown = fig.format_dropdown;\n",
       "    var format = format_dropdown.options[format_dropdown.selectedIndex].value;\n",
       "    fig.ondownload(fig, format);\n",
       "};\n",
       "\n",
       "mpl.figure.prototype.handle_resize = function (fig, msg) {\n",
       "    var size = msg['size'];\n",
       "    if (size[0] !== fig.canvas.width || size[1] !== fig.canvas.height) {\n",
       "        fig._resize_canvas(size[0], size[1], msg['forward']);\n",
       "        fig.send_message('refresh', {});\n",
       "    }\n",
       "};\n",
       "\n",
       "mpl.figure.prototype.handle_rubberband = function (fig, msg) {\n",
       "    var x0 = msg['x0'] / fig.ratio;\n",
       "    var y0 = (fig.canvas.height - msg['y0']) / fig.ratio;\n",
       "    var x1 = msg['x1'] / fig.ratio;\n",
       "    var y1 = (fig.canvas.height - msg['y1']) / fig.ratio;\n",
       "    x0 = Math.floor(x0) + 0.5;\n",
       "    y0 = Math.floor(y0) + 0.5;\n",
       "    x1 = Math.floor(x1) + 0.5;\n",
       "    y1 = Math.floor(y1) + 0.5;\n",
       "    var min_x = Math.min(x0, x1);\n",
       "    var min_y = Math.min(y0, y1);\n",
       "    var width = Math.abs(x1 - x0);\n",
       "    var height = Math.abs(y1 - y0);\n",
       "\n",
       "    fig.rubberband_context.clearRect(\n",
       "        0,\n",
       "        0,\n",
       "        fig.canvas.width / fig.ratio,\n",
       "        fig.canvas.height / fig.ratio\n",
       "    );\n",
       "\n",
       "    fig.rubberband_context.strokeRect(min_x, min_y, width, height);\n",
       "};\n",
       "\n",
       "mpl.figure.prototype.handle_figure_label = function (fig, msg) {\n",
       "    // Updates the figure title.\n",
       "    fig.header.textContent = msg['label'];\n",
       "};\n",
       "\n",
       "mpl.figure.prototype.handle_cursor = function (fig, msg) {\n",
       "    var cursor = msg['cursor'];\n",
       "    switch (cursor) {\n",
       "        case 0:\n",
       "            cursor = 'pointer';\n",
       "            break;\n",
       "        case 1:\n",
       "            cursor = 'default';\n",
       "            break;\n",
       "        case 2:\n",
       "            cursor = 'crosshair';\n",
       "            break;\n",
       "        case 3:\n",
       "            cursor = 'move';\n",
       "            break;\n",
       "    }\n",
       "    fig.rubberband_canvas.style.cursor = cursor;\n",
       "};\n",
       "\n",
       "mpl.figure.prototype.handle_message = function (fig, msg) {\n",
       "    fig.message.textContent = msg['message'];\n",
       "};\n",
       "\n",
       "mpl.figure.prototype.handle_draw = function (fig, _msg) {\n",
       "    // Request the server to send over a new figure.\n",
       "    fig.send_draw_message();\n",
       "};\n",
       "\n",
       "mpl.figure.prototype.handle_image_mode = function (fig, msg) {\n",
       "    fig.image_mode = msg['mode'];\n",
       "};\n",
       "\n",
       "mpl.figure.prototype.handle_history_buttons = function (fig, msg) {\n",
       "    for (var key in msg) {\n",
       "        if (!(key in fig.buttons)) {\n",
       "            continue;\n",
       "        }\n",
       "        fig.buttons[key].disabled = !msg[key];\n",
       "        fig.buttons[key].setAttribute('aria-disabled', !msg[key]);\n",
       "    }\n",
       "};\n",
       "\n",
       "mpl.figure.prototype.handle_navigate_mode = function (fig, msg) {\n",
       "    if (msg['mode'] === 'PAN') {\n",
       "        fig.buttons['Pan'].classList.add('active');\n",
       "        fig.buttons['Zoom'].classList.remove('active');\n",
       "    } else if (msg['mode'] === 'ZOOM') {\n",
       "        fig.buttons['Pan'].classList.remove('active');\n",
       "        fig.buttons['Zoom'].classList.add('active');\n",
       "    } else {\n",
       "        fig.buttons['Pan'].classList.remove('active');\n",
       "        fig.buttons['Zoom'].classList.remove('active');\n",
       "    }\n",
       "};\n",
       "\n",
       "mpl.figure.prototype.updated_canvas_event = function () {\n",
       "    // Called whenever the canvas gets updated.\n",
       "    this.send_message('ack', {});\n",
       "};\n",
       "\n",
       "// A function to construct a web socket function for onmessage handling.\n",
       "// Called in the figure constructor.\n",
       "mpl.figure.prototype._make_on_message_function = function (fig) {\n",
       "    return function socket_on_message(evt) {\n",
       "        if (evt.data instanceof Blob) {\n",
       "            /* FIXME: We get \"Resource interpreted as Image but\n",
       "             * transferred with MIME type text/plain:\" errors on\n",
       "             * Chrome.  But how to set the MIME type?  It doesn't seem\n",
       "             * to be part of the websocket stream */\n",
       "            evt.data.type = 'image/png';\n",
       "\n",
       "            /* Free the memory for the previous frames */\n",
       "            if (fig.imageObj.src) {\n",
       "                (window.URL || window.webkitURL).revokeObjectURL(\n",
       "                    fig.imageObj.src\n",
       "                );\n",
       "            }\n",
       "\n",
       "            fig.imageObj.src = (window.URL || window.webkitURL).createObjectURL(\n",
       "                evt.data\n",
       "            );\n",
       "            fig.updated_canvas_event();\n",
       "            fig.waiting = false;\n",
       "            return;\n",
       "        } else if (\n",
       "            typeof evt.data === 'string' &&\n",
       "            evt.data.slice(0, 21) === 'data:image/png;base64'\n",
       "        ) {\n",
       "            fig.imageObj.src = evt.data;\n",
       "            fig.updated_canvas_event();\n",
       "            fig.waiting = false;\n",
       "            return;\n",
       "        }\n",
       "\n",
       "        var msg = JSON.parse(evt.data);\n",
       "        var msg_type = msg['type'];\n",
       "\n",
       "        // Call the  \"handle_{type}\" callback, which takes\n",
       "        // the figure and JSON message as its only arguments.\n",
       "        try {\n",
       "            var callback = fig['handle_' + msg_type];\n",
       "        } catch (e) {\n",
       "            console.log(\n",
       "                \"No handler for the '\" + msg_type + \"' message type: \",\n",
       "                msg\n",
       "            );\n",
       "            return;\n",
       "        }\n",
       "\n",
       "        if (callback) {\n",
       "            try {\n",
       "                // console.log(\"Handling '\" + msg_type + \"' message: \", msg);\n",
       "                callback(fig, msg);\n",
       "            } catch (e) {\n",
       "                console.log(\n",
       "                    \"Exception inside the 'handler_\" + msg_type + \"' callback:\",\n",
       "                    e,\n",
       "                    e.stack,\n",
       "                    msg\n",
       "                );\n",
       "            }\n",
       "        }\n",
       "    };\n",
       "};\n",
       "\n",
       "// from http://stackoverflow.com/questions/1114465/getting-mouse-location-in-canvas\n",
       "mpl.findpos = function (e) {\n",
       "    //this section is from http://www.quirksmode.org/js/events_properties.html\n",
       "    var targ;\n",
       "    if (!e) {\n",
       "        e = window.event;\n",
       "    }\n",
       "    if (e.target) {\n",
       "        targ = e.target;\n",
       "    } else if (e.srcElement) {\n",
       "        targ = e.srcElement;\n",
       "    }\n",
       "    if (targ.nodeType === 3) {\n",
       "        // defeat Safari bug\n",
       "        targ = targ.parentNode;\n",
       "    }\n",
       "\n",
       "    // pageX,Y are the mouse positions relative to the document\n",
       "    var boundingRect = targ.getBoundingClientRect();\n",
       "    var x = e.pageX - (boundingRect.left + document.body.scrollLeft);\n",
       "    var y = e.pageY - (boundingRect.top + document.body.scrollTop);\n",
       "\n",
       "    return { x: x, y: y };\n",
       "};\n",
       "\n",
       "/*\n",
       " * return a copy of an object with only non-object keys\n",
       " * we need this to avoid circular references\n",
       " * http://stackoverflow.com/a/24161582/3208463\n",
       " */\n",
       "function simpleKeys(original) {\n",
       "    return Object.keys(original).reduce(function (obj, key) {\n",
       "        if (typeof original[key] !== 'object') {\n",
       "            obj[key] = original[key];\n",
       "        }\n",
       "        return obj;\n",
       "    }, {});\n",
       "}\n",
       "\n",
       "mpl.figure.prototype.mouse_event = function (event, name) {\n",
       "    var canvas_pos = mpl.findpos(event);\n",
       "\n",
       "    if (name === 'button_press') {\n",
       "        this.canvas.focus();\n",
       "        this.canvas_div.focus();\n",
       "    }\n",
       "\n",
       "    var x = canvas_pos.x * this.ratio;\n",
       "    var y = canvas_pos.y * this.ratio;\n",
       "\n",
       "    this.send_message(name, {\n",
       "        x: x,\n",
       "        y: y,\n",
       "        button: event.button,\n",
       "        step: event.step,\n",
       "        guiEvent: simpleKeys(event),\n",
       "    });\n",
       "\n",
       "    /* This prevents the web browser from automatically changing to\n",
       "     * the text insertion cursor when the button is pressed.  We want\n",
       "     * to control all of the cursor setting manually through the\n",
       "     * 'cursor' event from matplotlib */\n",
       "    event.preventDefault();\n",
       "    return false;\n",
       "};\n",
       "\n",
       "mpl.figure.prototype._key_event_extra = function (_event, _name) {\n",
       "    // Handle any extra behaviour associated with a key event\n",
       "};\n",
       "\n",
       "mpl.figure.prototype.key_event = function (event, name) {\n",
       "    // Prevent repeat events\n",
       "    if (name === 'key_press') {\n",
       "        if (event.which === this._key) {\n",
       "            return;\n",
       "        } else {\n",
       "            this._key = event.which;\n",
       "        }\n",
       "    }\n",
       "    if (name === 'key_release') {\n",
       "        this._key = null;\n",
       "    }\n",
       "\n",
       "    var value = '';\n",
       "    if (event.ctrlKey && event.which !== 17) {\n",
       "        value += 'ctrl+';\n",
       "    }\n",
       "    if (event.altKey && event.which !== 18) {\n",
       "        value += 'alt+';\n",
       "    }\n",
       "    if (event.shiftKey && event.which !== 16) {\n",
       "        value += 'shift+';\n",
       "    }\n",
       "\n",
       "    value += 'k';\n",
       "    value += event.which.toString();\n",
       "\n",
       "    this._key_event_extra(event, name);\n",
       "\n",
       "    this.send_message(name, { key: value, guiEvent: simpleKeys(event) });\n",
       "    return false;\n",
       "};\n",
       "\n",
       "mpl.figure.prototype.toolbar_button_onclick = function (name) {\n",
       "    if (name === 'download') {\n",
       "        this.handle_save(this, null);\n",
       "    } else {\n",
       "        this.send_message('toolbar_button', { name: name });\n",
       "    }\n",
       "};\n",
       "\n",
       "mpl.figure.prototype.toolbar_button_onmouseover = function (tooltip) {\n",
       "    this.message.textContent = tooltip;\n",
       "};\n",
       "\n",
       "///////////////// REMAINING CONTENT GENERATED BY embed_js.py /////////////////\n",
       "// prettier-ignore\n",
       "var _JSXTOOLS_RESIZE_OBSERVER=function(A){var t,i=new WeakMap,n=new WeakMap,a=new WeakMap,r=new WeakMap,o=new Set;function s(e){if(!(this instanceof s))throw new TypeError(\"Constructor requires 'new' operator\");i.set(this,e)}function h(){throw new TypeError(\"Function is not a constructor\")}function c(e,t,i,n){e=0 in arguments?Number(arguments[0]):0,t=1 in arguments?Number(arguments[1]):0,i=2 in arguments?Number(arguments[2]):0,n=3 in arguments?Number(arguments[3]):0,this.right=(this.x=this.left=e)+(this.width=i),this.bottom=(this.y=this.top=t)+(this.height=n),Object.freeze(this)}function d(){t=requestAnimationFrame(d);var s=new WeakMap,p=new Set;o.forEach((function(t){r.get(t).forEach((function(i){var r=t instanceof window.SVGElement,o=a.get(t),d=r?0:parseFloat(o.paddingTop),f=r?0:parseFloat(o.paddingRight),l=r?0:parseFloat(o.paddingBottom),u=r?0:parseFloat(o.paddingLeft),g=r?0:parseFloat(o.borderTopWidth),m=r?0:parseFloat(o.borderRightWidth),w=r?0:parseFloat(o.borderBottomWidth),b=u+f,F=d+l,v=(r?0:parseFloat(o.borderLeftWidth))+m,W=g+w,y=r?0:t.offsetHeight-W-t.clientHeight,E=r?0:t.offsetWidth-v-t.clientWidth,R=b+v,z=F+W,M=r?t.width:parseFloat(o.width)-R-E,O=r?t.height:parseFloat(o.height)-z-y;if(n.has(t)){var k=n.get(t);if(k[0]===M&&k[1]===O)return}n.set(t,[M,O]);var S=Object.create(h.prototype);S.target=t,S.contentRect=new c(u,d,M,O),s.has(i)||(s.set(i,[]),p.add(i)),s.get(i).push(S)}))})),p.forEach((function(e){i.get(e).call(e,s.get(e),e)}))}return s.prototype.observe=function(i){if(i instanceof window.Element){r.has(i)||(r.set(i,new Set),o.add(i),a.set(i,window.getComputedStyle(i)));var n=r.get(i);n.has(this)||n.add(this),cancelAnimationFrame(t),t=requestAnimationFrame(d)}},s.prototype.unobserve=function(i){if(i instanceof window.Element&&r.has(i)){var n=r.get(i);n.has(this)&&(n.delete(this),n.size||(r.delete(i),o.delete(i))),n.size||r.delete(i),o.size||cancelAnimationFrame(t)}},A.DOMRectReadOnly=c,A.ResizeObserver=s,A.ResizeObserverEntry=h,A}; // eslint-disable-line\n",
       "mpl.toolbar_items = [[\"Home\", \"Reset original view\", \"fa fa-home icon-home\", \"home\"], [\"Back\", \"Back to previous view\", \"fa fa-arrow-left icon-arrow-left\", \"back\"], [\"Forward\", \"Forward to next view\", \"fa fa-arrow-right icon-arrow-right\", \"forward\"], [\"\", \"\", \"\", \"\"], [\"Pan\", \"Left button pans, Right button zooms\\nx/y fixes axis, CTRL fixes aspect\", \"fa fa-arrows icon-move\", \"pan\"], [\"Zoom\", \"Zoom to rectangle\\nx/y fixes axis, CTRL fixes aspect\", \"fa fa-square-o icon-check-empty\", \"zoom\"], [\"\", \"\", \"\", \"\"], [\"Download\", \"Download plot\", \"fa fa-floppy-o icon-save\", \"download\"]];\n",
       "\n",
       "mpl.extensions = [\"eps\", \"jpeg\", \"pdf\", \"png\", \"ps\", \"raw\", \"svg\", \"tif\"];\n",
       "\n",
       "mpl.default_extension = \"png\";/* global mpl */\n",
       "\n",
       "var comm_websocket_adapter = function (comm) {\n",
       "    // Create a \"websocket\"-like object which calls the given IPython comm\n",
       "    // object with the appropriate methods. Currently this is a non binary\n",
       "    // socket, so there is still some room for performance tuning.\n",
       "    var ws = {};\n",
       "\n",
       "    ws.close = function () {\n",
       "        comm.close();\n",
       "    };\n",
       "    ws.send = function (m) {\n",
       "        //console.log('sending', m);\n",
       "        comm.send(m);\n",
       "    };\n",
       "    // Register the callback with on_msg.\n",
       "    comm.on_msg(function (msg) {\n",
       "        //console.log('receiving', msg['content']['data'], msg);\n",
       "        // Pass the mpl event to the overridden (by mpl) onmessage function.\n",
       "        ws.onmessage(msg['content']['data']);\n",
       "    });\n",
       "    return ws;\n",
       "};\n",
       "\n",
       "mpl.mpl_figure_comm = function (comm, msg) {\n",
       "    // This is the function which gets called when the mpl process\n",
       "    // starts-up an IPython Comm through the \"matplotlib\" channel.\n",
       "\n",
       "    var id = msg.content.data.id;\n",
       "    // Get hold of the div created by the display call when the Comm\n",
       "    // socket was opened in Python.\n",
       "    var element = document.getElementById(id);\n",
       "    var ws_proxy = comm_websocket_adapter(comm);\n",
       "\n",
       "    function ondownload(figure, _format) {\n",
       "        window.open(figure.canvas.toDataURL());\n",
       "    }\n",
       "\n",
       "    var fig = new mpl.figure(id, ws_proxy, ondownload, element);\n",
       "\n",
       "    // Call onopen now - mpl needs it, as it is assuming we've passed it a real\n",
       "    // web socket which is closed, not our websocket->open comm proxy.\n",
       "    ws_proxy.onopen();\n",
       "\n",
       "    fig.parent_element = element;\n",
       "    fig.cell_info = mpl.find_output_cell(\"<div id='\" + id + \"'></div>\");\n",
       "    if (!fig.cell_info) {\n",
       "        console.error('Failed to find cell for figure', id, fig);\n",
       "        return;\n",
       "    }\n",
       "    fig.cell_info[0].output_area.element.on(\n",
       "        'cleared',\n",
       "        { fig: fig },\n",
       "        fig._remove_fig_handler\n",
       "    );\n",
       "};\n",
       "\n",
       "mpl.figure.prototype.handle_close = function (fig, msg) {\n",
       "    var width = fig.canvas.width / fig.ratio;\n",
       "    fig.cell_info[0].output_area.element.off(\n",
       "        'cleared',\n",
       "        fig._remove_fig_handler\n",
       "    );\n",
       "    fig.resizeObserverInstance.unobserve(fig.canvas_div);\n",
       "\n",
       "    // Update the output cell to use the data from the current canvas.\n",
       "    fig.push_to_output();\n",
       "    var dataURL = fig.canvas.toDataURL();\n",
       "    // Re-enable the keyboard manager in IPython - without this line, in FF,\n",
       "    // the notebook keyboard shortcuts fail.\n",
       "    IPython.keyboard_manager.enable();\n",
       "    fig.parent_element.innerHTML =\n",
       "        '<img src=\"' + dataURL + '\" width=\"' + width + '\">';\n",
       "    fig.close_ws(fig, msg);\n",
       "};\n",
       "\n",
       "mpl.figure.prototype.close_ws = function (fig, msg) {\n",
       "    fig.send_message('closing', msg);\n",
       "    // fig.ws.close()\n",
       "};\n",
       "\n",
       "mpl.figure.prototype.push_to_output = function (_remove_interactive) {\n",
       "    // Turn the data on the canvas into data in the output cell.\n",
       "    var width = this.canvas.width / this.ratio;\n",
       "    var dataURL = this.canvas.toDataURL();\n",
       "    this.cell_info[1]['text/html'] =\n",
       "        '<img src=\"' + dataURL + '\" width=\"' + width + '\">';\n",
       "};\n",
       "\n",
       "mpl.figure.prototype.updated_canvas_event = function () {\n",
       "    // Tell IPython that the notebook contents must change.\n",
       "    IPython.notebook.set_dirty(true);\n",
       "    this.send_message('ack', {});\n",
       "    var fig = this;\n",
       "    // Wait a second, then push the new image to the DOM so\n",
       "    // that it is saved nicely (might be nice to debounce this).\n",
       "    setTimeout(function () {\n",
       "        fig.push_to_output();\n",
       "    }, 1000);\n",
       "};\n",
       "\n",
       "mpl.figure.prototype._init_toolbar = function () {\n",
       "    var fig = this;\n",
       "\n",
       "    var toolbar = document.createElement('div');\n",
       "    toolbar.classList = 'btn-toolbar';\n",
       "    this.root.appendChild(toolbar);\n",
       "\n",
       "    function on_click_closure(name) {\n",
       "        return function (_event) {\n",
       "            return fig.toolbar_button_onclick(name);\n",
       "        };\n",
       "    }\n",
       "\n",
       "    function on_mouseover_closure(tooltip) {\n",
       "        return function (event) {\n",
       "            if (!event.currentTarget.disabled) {\n",
       "                return fig.toolbar_button_onmouseover(tooltip);\n",
       "            }\n",
       "        };\n",
       "    }\n",
       "\n",
       "    fig.buttons = {};\n",
       "    var buttonGroup = document.createElement('div');\n",
       "    buttonGroup.classList = 'btn-group';\n",
       "    var button;\n",
       "    for (var toolbar_ind in mpl.toolbar_items) {\n",
       "        var name = mpl.toolbar_items[toolbar_ind][0];\n",
       "        var tooltip = mpl.toolbar_items[toolbar_ind][1];\n",
       "        var image = mpl.toolbar_items[toolbar_ind][2];\n",
       "        var method_name = mpl.toolbar_items[toolbar_ind][3];\n",
       "\n",
       "        if (!name) {\n",
       "            /* Instead of a spacer, we start a new button group. */\n",
       "            if (buttonGroup.hasChildNodes()) {\n",
       "                toolbar.appendChild(buttonGroup);\n",
       "            }\n",
       "            buttonGroup = document.createElement('div');\n",
       "            buttonGroup.classList = 'btn-group';\n",
       "            continue;\n",
       "        }\n",
       "\n",
       "        button = fig.buttons[name] = document.createElement('button');\n",
       "        button.classList = 'btn btn-default';\n",
       "        button.href = '#';\n",
       "        button.title = name;\n",
       "        button.innerHTML = '<i class=\"fa ' + image + ' fa-lg\"></i>';\n",
       "        button.addEventListener('click', on_click_closure(method_name));\n",
       "        button.addEventListener('mouseover', on_mouseover_closure(tooltip));\n",
       "        buttonGroup.appendChild(button);\n",
       "    }\n",
       "\n",
       "    if (buttonGroup.hasChildNodes()) {\n",
       "        toolbar.appendChild(buttonGroup);\n",
       "    }\n",
       "\n",
       "    // Add the status bar.\n",
       "    var status_bar = document.createElement('span');\n",
       "    status_bar.classList = 'mpl-message pull-right';\n",
       "    toolbar.appendChild(status_bar);\n",
       "    this.message = status_bar;\n",
       "\n",
       "    // Add the close button to the window.\n",
       "    var buttongrp = document.createElement('div');\n",
       "    buttongrp.classList = 'btn-group inline pull-right';\n",
       "    button = document.createElement('button');\n",
       "    button.classList = 'btn btn-mini btn-primary';\n",
       "    button.href = '#';\n",
       "    button.title = 'Stop Interaction';\n",
       "    button.innerHTML = '<i class=\"fa fa-power-off icon-remove icon-large\"></i>';\n",
       "    button.addEventListener('click', function (_evt) {\n",
       "        fig.handle_close(fig, {});\n",
       "    });\n",
       "    button.addEventListener(\n",
       "        'mouseover',\n",
       "        on_mouseover_closure('Stop Interaction')\n",
       "    );\n",
       "    buttongrp.appendChild(button);\n",
       "    var titlebar = this.root.querySelector('.ui-dialog-titlebar');\n",
       "    titlebar.insertBefore(buttongrp, titlebar.firstChild);\n",
       "};\n",
       "\n",
       "mpl.figure.prototype._remove_fig_handler = function (event) {\n",
       "    var fig = event.data.fig;\n",
       "    if (event.target !== this) {\n",
       "        // Ignore bubbled events from children.\n",
       "        return;\n",
       "    }\n",
       "    fig.close_ws(fig, {});\n",
       "};\n",
       "\n",
       "mpl.figure.prototype._root_extra_style = function (el) {\n",
       "    el.style.boxSizing = 'content-box'; // override notebook setting of border-box.\n",
       "};\n",
       "\n",
       "mpl.figure.prototype._canvas_extra_style = function (el) {\n",
       "    // this is important to make the div 'focusable\n",
       "    el.setAttribute('tabindex', 0);\n",
       "    // reach out to IPython and tell the keyboard manager to turn it's self\n",
       "    // off when our div gets focus\n",
       "\n",
       "    // location in version 3\n",
       "    if (IPython.notebook.keyboard_manager) {\n",
       "        IPython.notebook.keyboard_manager.register_events(el);\n",
       "    } else {\n",
       "        // location in version 2\n",
       "        IPython.keyboard_manager.register_events(el);\n",
       "    }\n",
       "};\n",
       "\n",
       "mpl.figure.prototype._key_event_extra = function (event, _name) {\n",
       "    var manager = IPython.notebook.keyboard_manager;\n",
       "    if (!manager) {\n",
       "        manager = IPython.keyboard_manager;\n",
       "    }\n",
       "\n",
       "    // Check for shift+enter\n",
       "    if (event.shiftKey && event.which === 13) {\n",
       "        this.canvas_div.blur();\n",
       "        // select the cell after this one\n",
       "        var index = IPython.notebook.find_cell_index(this.cell_info[0]);\n",
       "        IPython.notebook.select(index + 1);\n",
       "    }\n",
       "};\n",
       "\n",
       "mpl.figure.prototype.handle_save = function (fig, _msg) {\n",
       "    fig.ondownload(fig, null);\n",
       "};\n",
       "\n",
       "mpl.find_output_cell = function (html_output) {\n",
       "    // Return the cell and output element which can be found *uniquely* in the notebook.\n",
       "    // Note - this is a bit hacky, but it is done because the \"notebook_saving.Notebook\"\n",
       "    // IPython event is triggered only after the cells have been serialised, which for\n",
       "    // our purposes (turning an active figure into a static one), is too late.\n",
       "    var cells = IPython.notebook.get_cells();\n",
       "    var ncells = cells.length;\n",
       "    for (var i = 0; i < ncells; i++) {\n",
       "        var cell = cells[i];\n",
       "        if (cell.cell_type === 'code') {\n",
       "            for (var j = 0; j < cell.output_area.outputs.length; j++) {\n",
       "                var data = cell.output_area.outputs[j];\n",
       "                if (data.data) {\n",
       "                    // IPython >= 3 moved mimebundle to data attribute of output\n",
       "                    data = data.data;\n",
       "                }\n",
       "                if (data['text/html'] === html_output) {\n",
       "                    return [cell, data, j];\n",
       "                }\n",
       "            }\n",
       "        }\n",
       "    }\n",
       "};\n",
       "\n",
       "// Register the function which deals with the matplotlib target/channel.\n",
       "// The kernel may be null if the page has been refreshed.\n",
       "if (IPython.notebook.kernel !== null) {\n",
       "    IPython.notebook.kernel.comm_manager.register_target(\n",
       "        'matplotlib',\n",
       "        mpl.mpl_figure_comm\n",
       "    );\n",
       "}\n"
      ],
      "text/plain": [
       "<IPython.core.display.Javascript object>"
      ]
     },
     "metadata": {},
     "output_type": "display_data"
    },
    {
     "data": {
      "text/html": [
       "<img src=\"data:image/png;base64,iVBORw0KGgoAAAANSUhEUgAABvEAAAU1CAYAAAAqP+hPAAAgAElEQVR4nOzdebwVdf0/8AuCoAaGIpaKuJAoivl1T03SLC3NTHPLLB+ZhVpmLqGZmgvmmopbaiYuuYaooLjhBhio4R4qIuKCsgnIDvfez++PHtwfc85dzjozZ3g+H4/5A+4s73Nmznzm83mdM1MXAAAAAAAAgFSpS7oAAAAAAAAAIEqIBwAAAAAAACkjxAMAAAAAAICUEeIBAAAAAABAygjxAAAAAAAAIGWEeAAAAAAAAJAyQjwAAAAAAABIGSEeAAAAAAAApIwQDwAAAAAAAFJGiAcAAAAAAAApI8QDAAAAAACAlBHiAQAAAAAAQMoI8QAAAAAAACBlhHgAAAAAAACQMkI8AAAAAAAASBkhHgAAAAAAAKSMEA8AAAAAAABSRogHAAAAAAAAKSPEAwAAAAAAgJQR4gEAAAAAAEDKCPEAAAAAAAAgZYR4AAAAAAAAkDJCPAAAAAAAAEgZIR4AAAAAAACkjBAPAAAAAAAAUkaIBwAAAAAAACkjxAMAAAAAAICUEeIBAAAAAABAygjxAAAAAAAAIGWEeAAAAAAAAJAyQjwAAAAAAABIGSEeAAAAAAAApIwQDwAAAAAAAFJGiAcAAAAAAAApI8QDAAAAAACAlBHiAQAAAAAAQMoI8QAAAAAAACBlhHgAAAAAAACQMkI8AAAAAAAASBkhHgAAAAAAAKSMEA8AAAAAAABSRogHAAAAAAAAKSPEAwAAAAAAgJQR4gEAAAAAAEDKCPEAAAAAAAAgZYR4AAAAAAAAkDJCPAAAAAAAAEgZIR4AAAAAAACkjBAPAAAAAAAAUkaIBwAAAAAAACkjxAMAAAAAAICUEeIBAAAAAABAygjxAAAAAAAAIGWEeAAAAAAAAJAyQjwAAAAAAABIGSEeAAAAAAAApIwQDwAAAAAAAFJGiAcAAAAAAAApI8QDAAAAAACAlBHiAQAAAAAAQMoI8QAAAAAAACBlhHgAAAAAAACQMkI8AAAAAAAASBkhHgAAAAAAAKSMEA8AAAAAAABSRogHAAAAAAAAKSPEAwAAAAAAgJQR4gEAAAAAAEDKCPEAAAAAAAAgZYR4AAAAAAAAkDJCPAAAAAAAAEgZIR4AAAAAAACkjBAPAAAAAAAAUkaIBwAAAAAAACkjxAMAAAAAAICUEeIBAAAAAABAygjxAAAAAAAAIGWEeAAAAAAAAJAyQjwAAAAAAABIGSEeAAAAAAAApIwQDwAAAAAAAFJGiAcAAAAAAAApI8QDAAAAAACAlBHiAQAAAAAAQMoI8QAAAAAAACBlhHgAAAAAAACQMkI8AAAAAAAASBkhHgAAAAAAAKSMEA8AAAAAAABSRogHAAAAAAAAKSPEAwAAAAAAgJQR4gEAAAAAAEDKCPEAAAAAAAAgZYR4AAAAAAAAkDJCPAAAAAAAAEgZIR5AgkaNGhXq6upCXV1d6NChQ/jvf/+bdEmrhIceeqjpfe/cuXOYPHlyxdZtn6ZfNfc/AAAAAFSKEA8gIUuXLg1bbrllU5gwYMCApEtqVUNDQ5g0aVJ44oknwi233BIuv/zycMEFF4TLLrss3HzzzeGJJ54Is2bNqvh258+fHx5//PFwzTXXhAsvvDBceuml4c477yw7HNtzzz2b3vv999+/IrXW2j5Ns9mzZ4fnn3++6VgbNGhQuO6668K9994b3n333bLXX439T22p9jHWmi+++CI89dRT4W9/+1v4y1/+EgYNGhQGDx4cHnzwwTBx4sTQ2NhY1e1DXKrVhkO1JNk2hKB9SJLzVfol1R8tRWNjY3jllVfCHXfcEa688spw4YUXhsGDB4dHHnkkfP7550mXB0CNEeJBiu28885Ng8wrTzvttFNZ6z3ggAOaXW+7du3C3LlzI/P+4Q9/iMzzk5/8pKxtr6y+vj7069cv77WtKp3Tiy++uOl1r7nmmuGzzz5rc5lbb7212X1XzDRs2LCCaxw5cmT43e9+F3baaaewxhprFLT+7bffPlxzzTVh0aJF5bw94e233w5HHnlkWH311Vvc1hZbbBFuuOGGUF9fX/T6x40bF1nX8OHDy6o3hNL26coWLFgQxowZE66++upw9NFHh759+4b27dtH6vz5z39edp1tmTx5clhrrbXy3u9qbnvx4sXhwQcfDAMGDAh9+vRp8zjr0aNHOP3008OUKVNK2l419n+tO/fcc8s+v6w89e/fv9XtxX0+i/sYa86IESPCfvvtFzp06NDqtrt27Rp+8IMfhKFDh1Zs2yQv7mO+ENU631e7DS9XS9fYuVPHjh3DeuutF7bbbrvwy1/+MowYMSI0NDTEXm+S4m4bQoj3s5KGtiGEeNuHN954I7LOa6+9Nm8e56v0nK/Srtr9lyT7o6X49NNPwymnnBK6d+/eYn2rrbZa+N73vhfGjBkTe30A1CYhHqTU8uXLQ+fOnZu96FtrrbVKDrpGjhzZ4sVk79698+a/4447IvNsu+225b60Jtdff31k3e3atQvjxo2r2PrT7PPPPw9f/vKXm1777373u4KWi7tDvcMOO5S8nU033TSMGjWqpPfn+uuvb7UjnTt94xvfCNOmTSt6O9/+9reb1rHNNtuUNTBX6j6dMmVKix3e5qZqh3iNjY2RX6nFse1LLrkkdOnSpaTjrHPnzuHyyy8vad9Vcv9nQaUHar/73e+2ur04z2dJHWMrfPDBB2GvvfYqetv77rtvydskfdI2KF6t831cbXipWrvGLmTacsstV5nr1RDibxtCiO+zknTbEEIy7cP555/ftJ527dqFjz76KG8e56t0nK/SKs7+S1L90VLceeedYc011yyqxt/+9rdh+fLlsdUIQG0S4kFKvfrqq61e7L333ntFr3PZsmWtfsP08MMPz1vmtddei8zTqVOnilxkzpkzJ+/bacccc0zZ660VK//CsWPHjs12npuThhCvffv2YeONNw5f//rXw6677hq23nrrFjsrHTt2LPqbwpdffnmz61pnnXXC//3f/4XNNtus2W8pb7HFFmHGjBlFbevpp5+OrOO2224ravmVlbpPn3nmmaL2X7VDvCuvvDL2bR9++OEtbrNbt25hyy23DDvvvHPo3bt3iwMFv/jFL4r+ckMl938WVHqgtrlv9q8szvNZUsdYCCH8+9//Duuuu26z6+zRo0fYZpttws477xz69OkTOnXqFPm7EC9b0jYoXo3zfZxteKnausYuZOrUqVOsA8NJirttCCG+z0qSbUMIybUP22+/fdN6WrrDi/NVOs5XaRVn/yWJ/mgpBg0a1Oz2O3fuHLbaaquw4447ho022qjZeQ455JBV/suEALROiAcpdcstt0Qu7FZbbbWyO0WXXXZZZB3t2rWL/PuSSy7JW2bZsmWhY8eOkfkq8VyAk08+ObLOrl27Fn3rwVr1+eefR24Fc9hhhxW8bG6H+uijjw5PPvlkUVMxnc4ddtghdOvWLRxxxBHh+uuvD6+88kpYvHhx3nwNDQ3hxRdfDMccc0zecbXmmmuGyZMnF7S9Z555Jm+QZNtttw2PP/54ZL7p06eHM844I2/eQr7dnWvrrbduWr5Pnz4lDcSUs09b6wS3b98+77Yx1Qzx3nnnncj2cm9ZFEeI16FDh3DAAQeEW2+9tdkvK8yZMycMHjw4rLfeennv1/nnn1/0tiux/7Ni8uTJRZ9PVkw/+clP8gYs5syZ0+r24jyfJXWMvfrqq6Fr166RdXz1q18NV111VbO3Yquvrw9vvvlmuPLKK8Mee+wR9ttvv6K2R7rF3Ya3phrn+yTa8FLkXmNvttlmzb7Xjz/+eLjrrrvCSSedFLp165Z3PujevXuYN29eLDUnKe62IYT4PitJXn8k1T5MnTo1ss1BgwY1O5/z1f8kfb5Kqzj7L3H3R0sxdOjQvG327Nkz3HHHHXm39Hz33XfDsccem/e+nXvuuVWrD4DaJ8SDlDrhhBMiF3X7779/WZ3FTz/9NNJR3GabbfI6oU899VSzy26zzTaR+e67776yXtvbb7+dFwxeccUVZa2zluR+S+/pp58ueNncDnW1L/Zff/31on95OWzYsLxvrR511FFtLtfY2Bi+/vWvR5bbbbfdwhdffNHiMvfdd19eh+nhhx8uqt7BgweXtXwI5e3TFZ3gDh06hH79+oVjjjkmDB48OIwZMyYsWLAg/PznP69YJ7g19fX1Ydddd23azs477xx++tOfxrLtww8/PHz5y18O5513XsFh/rRp00Lfvn3zBgfff//9orZdif1PCF/72teK/szHeT5L4hhbvHhx3q/fjzzyyLBgwYKC6549e3bB85J+cbfhLanG+T6pNrwUudfYRx55ZJvLTJ8+vdnn6F166aVVr7eWldI2hBDfZyWp648k24err746st233nqr2fmcr6KSOl+lVZz9lzj7o6VYuHBhWH/99SPb6tevX5g+fXqry+V+oaRTp04Vf9YmANkhxIOU2mWXXSIXdf/85z8jz+849NBDi1pf7oX0nXfemTcQ8fnnnze7bO63aM8555yyXtv3v//9yPq23HLLsGzZsrLWWSvq6+vDhhtu2PTaN9lkk6KWT0uHui2nnHJKpM4vfelLYcmSJa0u889//jOyzFprrVXQgMjxxx8fWW7rrbcu6nYkn3/+eSRU3meffQpeNoTy9+mMGTPC+PHjm/1GaQj5n91qBWkXX3xxpBP51ltvxbbtJ554IsydO7fo5aZMmZL3Td8///nPRa2j3P1PCM8991xee/LMM8+0uVyc57MkjrGVb7FbV1cXjjjiCLdKWsWlpQ2vxvk+qTa8FLnX2IUGcR9//HHe+eBb3/pWVWutZaW2DSHE91lJ6vojyfZh5efvbbHFFi3O53yVL4nzVVqlpf/SmlL6o6XIvdVr586dw9tvv13QsgMGDIgsW8iXSgBYNQnxIIXq6+vzOoaTJk0KO+64YyT4KtS4ceMi3xw85JBDwogRIyLr33TTTVtcfuXOU11dXTj44INLfm0jR47M69A/8cQTJa+v1jz66KOR137aaacVtXxaOtRtef311/P287vvvtvqMrkPqz/55JML2tb06dPzHkj/3HPPFVXvvvvu27Rs+/btw4cffljwsuXu07bE0Ql+8803I89aufDCC2Pbdrl+9atfRWrceeedi15HOfufEH72s59F9kHv3r0LWq5WzmelHGPvv/9+5DbY66+/fotflGHVkYZjvlrn+yTb8GI0d43d0p0omvOjH/0osuxXvvKVqtVa60ptG0JIx2elLaVefyTZPsyePTuy7T/84Q8tzpuGfbCqn69qWRr6EKX0R0vxzW9+M7KNY489tuBlP/nkk8iXCVdbbbVV/nmLADRPiAcplHvBufbaa4fGxsbwy1/+MnKB19I331bW2NgYuf1P586dw5QpU8J5550X2caPf/zjFtfxyCOPROZt7VubrVm+fHnYaqutIus66KCDSlpXrTryyCMjr/+FF14oavk0dKgLsWjRorxO09ixY1ucf8aMGXnPmpg4cWLB2zvssMMiy/7ud78rqt6bbropsnxLzwdpTrn7tC3V7gQvX7488sD4//u//2u6ZU0aOuBtufvuuyM19ujRo+h1lLP/V3Xz5s0La665ZuT9+8tf/lLQsrVyPivlGBs4cGBkGbfcI4Tkj/lqne+TbsOL0dygbjG3Jcz9bK+++upVq7WWldM2hJD8Z6UQpV5/JNk+DBkypOBr1qT3gfNVbUtDH6LY/mip28h9TMiIESOKWsfuu+8eWf7GG2+saI0AZIMQD1Iot9PUv3//EEII1157beT/J0yY0Oa6/vGPf0SWOfvss0MIIfzwhz8suGP90UcfReYtNEDMlfsMhlKeX1XLli9fHtZee+2m19+1a9dQX19f1DqS7lAXas6cOXmdppaeuRFC/nHaq1evoraXu3yxt7R8//33I8vvsssuBS1XiX3almp3gs8///ymdXfs2DG8+uqrsW27Eh577LGyB1RL3f+EcMMNN0Teuw4dOoRp06YVtGytnM+KPcaWLVsWevToEWkzC31P0u4b3/hG5L24//77S1rPQw89FFnP7rvvHhobGytcbfokfcxX63yfdBtejNx9UGytubdnW3fddatTaI0rp20IIfnPSiFKuf5Iun046KCDmrb91a9+tdXzbtL7wPmqtqWhD1Fsf7QU7733Xt42Pvnkk6LW8dvf/jay/L777lvRGgHIBiEepNBvfvObyIXcKaecEkIIYezYsZH/v+2221pdz7x58yIPWe7Zs2dYuHBhCCGEjTbaKLKutm5p2a1bt8j8hQSIK5s1a1beOlYEiquK3GeDHHDAAUWvI+kOdaFyb5vapUuXVsOt3GO+2AePT5o0Ka8DVeytiTbZZJOmZdu3b1/QrUwqsU/bUs1O8Kuvvhr59mju8y7T0AFvy9///vdIjRtuuGFJ6yll/xMit3muq6sLBx54YMHL1sr5rNhjbPTo0ZH5+/XrF1Ol1Xf66adHXtupp55a9DoWLlwYevXqFRnEfu2116pQbfokecxX83yfhja81FqLvSNE7nOi+/btW5U6a105bUMItdE+lHL9kWT7sHDhwsitZH/961+3Or/zVfPiPF/VsjT0IYrtj5Zi3LhxecfD0qVLi1rHn//858jy3bt3r2iNAGSDEA9SKPeb7nfeeWcIIYT58+dHbv/R1rO3cr8tfM8994QQ/ncbkdyLzVmzZrW6rtxnB9x+++1FvaYTTzwxsvzGG2/cFCiuKnJvYXreeecVvY7mOtSNjY1hypQpYfz48eH5558Pb7zxRvj000+r8AoKs3z58rDbbrtF6jzhhBNaXWbvvfeOzF/MLZdC+N9tYzt37hxZx5gxY4pax6GHHhpZfujQoW0uU4l92pZqdYKXLl0att1228hAUm6nMw0d8Lb89Kc/jdS49957l7SeUvb/qu61117La0sefvjhgpevhfNZCMUfY5dffnlk/qOPPrrpb59//nm4/vrrw9577x169eoVVl999bDuuuuGrbbaKvz85z8Pd911V9GDP3HK/QXdbrvtVvQ6cm8lV+iziLIgqWO+2uf7NLThhcq9xi623d54443LCgBWBeW2DSHURvtQyvVHku3DsGHDItseOXJkq/M7XzUvzvNVLUu6D1FKf7QUL774Yt75rtgxjj/96U956/jss88qXisAtU2IBylTX1+f9wyJ//73v01//9rXvtb0/63dauHtt9+OfINxzz33bPpb7rfSCrmNSO63Flt7EHquN998M/IQ9bq6unDfffcVvHxW/OAHP4i8B8OGDSt6Hbkd6k022SR0794978K/ru5/t8k59NBDw0MPPRTbbco+++yzvNe5wQYbhJkzZ7a63AYbbBBZ5q677ip62yt/Nurq6sLNN99c1PKDBg2KLD9w4MA2l6nEPm1LtTrBZ511VtM6V1tttfDSSy/Ftu1KmT17duRb5XV1deHKK68saV2l7P9V3UknnZT3WS/mG85pP5+FUNoxlhsIrwgJhgwZErn9bktTr169wt133x3HyyvarFmzQrt27Zpq7dSpU1GDym+99Vbk2uSrX/1qmDdvXhUrTpekjvlqn+/T0IYXorlr7OHDhxe8fO71c11dXWo/q0kqt20IIf3tQ6nXH0m2Dyt/xrt27drmudv5qmVxnK9qXZJ9iFL7o6WYPHly3ueh2MeFHHfccXnrGDVqVMVrBaC2CfEgZd54443IBdxaa60VGhoamv6+cudvgw02aHE9++23X9N87du3jzxHIHew+uCDD26zrptuuimyzPe///2CX9N3vvOdyLJ77bVXwcu2JrdzWc1pxXMJy5H77e233347tte8xRZbhOeee67s1zBjxozw5JNPNk1PPPFEGDZsWLj66qvD4Ycfnjc41qtXr0gI3ZIOHTpElhs9enTRte21116RdVx44YVFLf/AAw9Eli/keQSV2KdtqUYn+MUXX4wE62eccUZs266kAQMGROpbY401wvTp00taVyn7vy21do4qxpIlS8I666wTqeGPf/xjUetI+nxWiFKOse222y6yzJVXXhl+//vfF/06TzvttFQ+J26rrbaK1Dlu3LiCl+3fv39k2VIGT1eoxc9XEsd8HOf7NLThhci9xq6rqwsff/xxQcvOmTMn9OnTJ7LshhtuWPJdJWrx+C1EJdqGENLfPpR6/ZFU+1BfXx/ZL0cccUSbyzhftazS56ssng+q2YeoVn+0FEuWLAmdOnWKbG/F3Y8K9fWvfz1vP5VzfQRANgnxIGVuu+22yAXc7rvvHvn7RRddFPn77Nmz89aRe7urAQMGRP5+8MEHF93x+Pe//x1ZZuONNy7o9Tz88MOR5Tp06BDeeOONgpZtSy11eJYtWxa5FWpdXV1YsGBBrK95tdVWC5deemlZryP3VjwtTV/+8pfDGWecUdAvLBYvXpy3fLHPXAwh/1dxLXX8W5J7O5Qtttii1fkrtU/bUulO8OLFiyOD8FtuuWVYsmRJLNuupBEjRkR+EVRXl//MlGIUu/8LUUvnqGLdfffdke23a9cuvPfee0WtI+nzWVtKPcZWft5bXV1d3rOhNt988/CnP/0p3HvvvWHEiBHhpptuCoceemjewGJdXV0YNGhQVV9jKX71q19Faiz016+51zflfqGnFj9fcR/zcZzv09KGFyL3GOzRo0dBy33wwQdhp512ynudd9xxR8m11OLxW4hKtA0hpLt9KOf6I6n24emnn44sW0jI4HzVskqfr7J4PqhmH6Ia/dFyfOtb34pst5hnpDf35ZK6urpw0003VbFiAGqREA9SJvcWNL/97W8jf3/00Ucjf3/22Wcjf1+yZEnYfPPNm/7erVu3vFtHbLLJJpF1tPVMhBBCWLBgQV6H9Ysvvmh1mWXLluXdbiT39ZSjljo877//fmR9Xbt2Les1b7311uH0008PDz30UJg0aVKYN29eWL58eZg1a1aYMGFCuPrqqyPPk1h5uvHGG0t+HYV0mrp37x4uvfTSgn8RNXPmzLx1TJw4sejaDjvssMg6fvOb3xS1/McffxxZvlOnTq3OX6l92pZKd4JPO+20pnW1b98+vPDCC7Ftu1Lefffd0K1bt0ht/fr1a3GwpxDF7v9C1NI5qlj77LNPZPulBDJJn89aU84x1tot0f74xz+GZcuWNbvcG2+8ETbbbLPI/Kuttlp48cUXK/3yynL77bdHajzssMPaXGbOnDmhR48eTct07Nix7G/F1+LnK+5jPo7zfVra8ELkXmO39IvrxYsXh48//jgMHz48HHfccXnPv6qrK/96thaP30JUom0IIb3tQ7nXH0m1Dysf+506dWqzDxeC81VrKn2+yuL5IOkQr9j+aDmuueaayLbbtWtX0O0wGxsbw7777tts/VdccUXV6wagtgjxIGV23333yAXckCFDIn+fNm1a5O/XXHNN5O+5v9QbPHhw5O+zZ8/Ou0icMWNGQbWtHA7W1dW12rkKIf/h7eutt16YM2dOQdsqxLRp0yK30qjm9PLLL5dV64QJEyLvRWu3Qm3Na6+9FsaPH1/w/P/4xz/CWmutFdl2hw4dwjvvvFPS9gv95uOKQYLTTz+9zYGNDz/8MG/ZyZMnF13b0UcfHVnHscceW9Ty8+bNy6ujtdortU/bUslO8NixYyO/Hvz9738f27YrZcaMGaF3796Rur70pS+VHQgUu/8LUUvnqGJMmTIl70sd//znP4teT9Lns5aUe4zlPgN2xXT66ae3ueyHH36YN0B84IEHlvuSKir3Cww9e/Zsc5ncW89V4pmTtfj5ivOYj+t8n5Y2vBC519ilTO3atQunnnpq2be6rcXjty2VahtCSGf7UInrj6Tah5Vv//69732voGWcr1pW6fNVFs8HSYd4K6ZC+6PlWLRoUeSLSnV1/xv3aO55jis0NDSEE044ocW6L7jggqrVC0BtEuJBijQ0NOR1fl5//fW8+Va+SPzVr37V9P+ffPJJ+NKXvtT0t2222SbvQfJPPvlk0YNvKxx00EGRZVu7zcOMGTPyvm26Kt8WYsyYMZH3YvPNN49t26NGjQqrr756ZPuHHHJIRdZdX18fZs+eHV5++eVw1VVXNXtP/z322KPVb/zOmDEjb5kkvhW7fPnyvDqau13tCnHt00p1ghcuXBj5ZWzv3r3DokWLYtl2pcydOzdsv/32eQNEw4cPL3vdxe7/Vdk555wTeZ+6desWFi9eHMu2q3k+C6Eyx1huO76irS10AOmGG27ICw0++uijUl9SVWy44YaRGlt7rtj48eMjg7M9e/asyq2Hs6qUYz7O831a2vC2NHeNXey07bbb5t0Bg/8vybYhhOq2D5W6/kiiffjPf/4TWaZav2APwfmK/y/OPkQl+qPlGjZsWN6XGDp27BhOOOGEMGbMmDBnzpywdOnSMHXq1DBkyJDIr1c7deoU1lhjjciyV111VdVqBaA2CfEgRd56663IxVvnzp3D8uXL8+Zb+bYL3/jGN5r+/yc/+Ulk+eZu43DxxRdH5vnhD39YcH25nfOTTjqpxXmPO+64yLw77LBDaGhoKHhbWZNkiBdCCGeccUbewMPcuXMrvp3GxsZw/fXX5z274/DDD29xmUWLFuV1tJJ4PsWyZcvy6shSiLfyrZTatWsXnnvuudi2XQkLFizI+xVF+/btw913312R9Re7/1dVDQ0NoWfPnpH3qZK3SS5Etc5nlTrGvvKVr+QdS+eee27Byy9cuDDyhZy6uvKevVUNuQOY999/f7Pz1dfX5w18Dx06NOZqa1+xx3yc5/u0tOFtyb3GLmTq0KFD2G677cLxxx8fxo4dW9F6siYNbUMI1WkfKnn9kUT7cPbZZ0fq/uyzz4quuxjOV4SQbB+ilP5oJeSOsxQytWvXLtx3331h3XXXjfz/bbfdVtVaAag9QjxIkdznzOyyyy7Nzjdw4MCmebp06RIaGxvzAoWDDz642WVzB97OP//8guv717/+FZA5AogAACAASURBVFl27733bna+V155JfKt+3bt2rV5682se+WVVyLvXbVuvdiSWbNmRfZJa4OulTBkyJC8TkprnfLc2wuNHj266G3utddekXVceOGFRS0/d+7cvJpb+2Z0XPu0Ep3gZ555JvLt0BNPPDG2bVfCokWL8h4a365du3DrrbdWbBvF7v9V1ciRI/Pep1dffTXWGqpxPqvkMZZ7u7W2zn/N+fa3v534YHhrcp//cuqppzY73+DBgyPz7bfffjFXmg3FHPNJnO/T0Ia3Jfcae6ONNmr2VnPPPPNMmDBhQpg8eXKsvyKrdWloG0KofPtQ6euPJNqHbbbZpmne3XbbraS6i+F8RQjp6EMU2x+thPvvvz8vkGtpWnfddZs+G7m/YH3ooYeqWicAtUeIByly8sknRy7ejj/++Gbnu/vuuyPzTZ48OfJN986dO4cpU6Y0u2zuc+0eeeSRgut75513Isv26NGj2fn69+8fme9nP/tZwdvIqilTpkTeky5dusRew4477hipodr32t9tt90i2zv66KNbnPerX/1qZN5Svt288q146urqws0331zU8h999FFk+c6dO7c6f1z7tBKd4O22265p+U022STMnz8/tm2Xa9GiRWGfffbJG0D729/+VtHtFLv/V1U//vGPI+/TjjvumEgdlTyfVfoY22OPPfIGaor95cOJJ54YWb7a3x4vVu6XGJobGJ42bVro2rVr5DM1adKkBKrNhkKP+STO92low9uSe439ox/9qKLrX9WlpW0IoXLtQzWuP+JuH957773IvJdeemnJtRfD+Yo09CFCKK4/Winz588Pl156adhll12afQ5mr169whlnnBE+/fTTEELzz+Uu91nfAGSPEA9S5Jvf/GZBHYKJEydG5su9pcfZZ5/d7HJz587Nu1f7iovHQjQ0NIQ111wzsvzMmTMj8+T+Wq9Lly5FbaMYtfQQ8GXLluVdxBfaUa2UH/3oR5HtV/uXHVdeeWVke5tttlmL8+69996ReS+++OKittXY2Bg6d+4cWceYMWOKWsf48eMjy2+xxRatzh/XPq1EJ7hXr155ncNKTS19YaASFi9eHL773e/mbfPaa6+t+LaK3f+FqKVzVCFmzpyZ903hSoepharU+awax9ivf/3rvPUV+4ueP/7xj5Hlv/Od75RcTzU0NDREArpOnTqFpUuXRuY54ogjIq+hmFvGFSJrn6+2FHrMJ3G+T0Mb3pbca+xqf5GpLVk6ftPUNoRQmfahWtcfcbcPl19+eWTeuL5I4XxVnCydD1ZIS4hXTH+0GubPnx8mTpwYxowZE1566aUwbdq00NjYGJln7NixkRrXXnvtvHkAQIgHKdHQ0JD3jIOW7tHf0NDQ7IPR6+r+93D0hQsXNrvc008/HZm3lNv/7bTTTpF1PP30001/W7JkSdh0000jf6/mNz5vvfXWqnX8cqf+/fuXXW9uR7WUB6mXI/dWqi390rNShg8fHtlea79s+s1vfhOZ96ijjipqW5MmTcrbZ59//nlR6xg6dGhk+UJu+xbHPl1VQ7wlS5aE/fbbL297V155ZVW2V8r+b0utnaPa8te//jWyzTXXXDPMmzev6tttTiXOZ9U6xnJvIVlXVxfmzJlT1DpOOeWUyPLFPL82Lis/n7euri6MGzeu6W9PPfVU5G+bbbZZxW9NmLXPV1sKPeaTON+noQ1vTXPX2CNGjKjY+kuRpeM3TW1DCOW3D9W8/oi7fVj5WX5bb711ueUXzPmqOFk6H6yQlhCvmP5oUq6//vpIjfvss0/SJQGQQkI8SIncX9etvvrqYdmyZS3Ov+uuuzZ7YX7PPfe0uEzutzF/8IMfFF3nL37xi8g6Bg8e3PS3iy66KPK3Pn36tPoaylVrHZ6DDjooss6hQ4eW/yYUYc8994xs/5xzzqnq9nI7Ta3dbvIf//hHZN5evXoVta3c5TfZZJOi673gggsi6zjzzDPbXCaOfboqhnhLly4N3//+9/O2ddlll1V8WyuUsv/bUmvnqLZsvfXWZR+LlVLu+ayax9gLL7yQt9633367qHUcddRRkeWPPfbYsuuqtNzPzIoB7qVLl4Ytttgi8rdibt1dqKx9vtpS6DGfxPk+DW14a3Kvsevq6sK0adMquo1iZen4TVPbEEJ57UO1rz/ibB+mT58eeTbdWWedVYmXUBDnq+Jk6XywQlpDvCQeadGW3C9FXXXVVUmXBEAKCfEgJe68887Ixdv222/f6vwDBgzIuyj/5je/2eoyRx55ZGT+P//5z0XXedVVV0XW8atf/SqE8L/bgOR+y3nkyJFFr78YtdbhGTRoUGSdlb61WGsWLVoU1lhjjcj2//73v1d1m7nfNv7a177W4ry5Aw11dcX9qi33G78nnXRS0fXmPs/lgQceaHOZOPZpJTrBY8aMKemWO7m3kvrud7+bN0+lf12zdOnScMABB+R9Bou93VGxStn/bam1c1Rr/v3vf+dtc/To0VXdZkvKPZ9V+xhraGjIe+bOHXfcUdQ6cp+3U80Au1TPPPNMpMbDDjsshBDC+eefH/n/gw46qCrbz9Lnqy3FHPNJnO/T0Ia3Jvcae/3116/o+kuRleM3TW1DCOW1D3Fcf8TZPtx8882R+eK6jaLzVfGycj5YWVpCvGL6o0n49NNPQ4cOHZrqW2ONNYr+dS4AqwYhHqTE73//+8gF5nHHHdfq/H/7298i87dv3z688sorrS7Tp0+fyDIPP/xw0XXm3pJzt912CyGEcMwxx0T+/8ADDyx63Vk3ZsyYyHv0/e9/P7Zt5x4vdXV1YerUqVXdZu4zJw499NBW5899Xs3JJ59c0HamT5+e9yyWZ599tuh6N95448jnacaMGW0uE8c+TbITHPe2ly1bFn74wx/mHauDBg2q6nZDKG3/r0p++ctfRvbJlltumVgt5ZzP4jrGTjjhhMj6DzjggIKXnTBhQl59Ld1eO0mLFi0KHTt2bKqxZ8+eYfLkyZHB2zXXXDN88MEHSZda8+Jow8s93yfdhrcm9xr7e9/7XkXXvypLU9sQQumflTivP+JqH1b+RWHPnj0rVX6bnK8IIT0hXrH90bjljqH84he/SLokAFJKiAcp0b9//8gF3A033NDq/PX19WH+/PlNU0vPwVth/vz5oV27dpFtfPLJJ0XXOXPmzMg61l577fDSSy9F1t2pU6cwefLkoteddfX19WGdddZpep+6dOkSli9fXvXtfvDBB6FHjx6R/bbjjjtWdZu5ty6pq6sLd911V6vL5H5T/ktf+lJBt2o8/vjjI8v17ds3NDQ0FFXve++9F1nHLrvsUtBycezTVSXEW758eTjkkEPyjpvzzz+/attcodT9v6pYsGBB6NKlS+Q9SuqXYeWcz+I8xl5//fXIN/3bt28feWZca/bff/+8QfHGxsaK11gJubf23mWXXSL/vuiii5IusebF1YaXe75Psg1vS+41dpy3FcyyNLUNIZT+WYn7+iOO9mH+/PmhU6dOTfP95je/qfTLaJbzFSukIcQrpT8apwcffDAyhvLlL3+5pPEZAFYNQjxIgcbGxtC1a9fIBeb48eMruo3nn38+sv6vfOUrJa8r9zYwW221lcGRAh199NGR92rs2LEFL3vFFVcU/W3PN954I/Tu3TuvA/PEE0+0uexZZ50VRo0aVdT2Qvhfh2mttdaKbG+LLbYIS5YsaXW5hoaG0K9fv8hyu+22W/jiiy9aXOa+++7LC6cffPDBomu+8cYbI+so5pvX5ezTQtRyiNfc7YGaGySpr68Phx9+eN68cd1ytpz9vyq45ZZbIu9Px44dw/Tp08taZ9znsySOsdxnyG666aZt/hoh91aUdXXF32otTqeddlpevSumPn36hKVLlyZdYmrEfcwXq9zzfZJteGuau8b+17/+VdFtrKqq0TaEEO9nJanrj2q3D/fdd19kvmKv552v8sVxvsqSSvVf4u6PhlB4/2Vls2bNKur8d9ddd+X9qvOWW24peHkAVj1CPEiBd955J3IB16FDh4o/Z+rKK6+MbKOc2/7lPnx55WmjjTZq81eBq7Innngi8n6deuqpBS+74jY//fr1C+edd14YN25cs+91Q0NDmDBhQjjxxBND586d8/ZRobfpWPHN9b59+4Zzzz03jB07NsyfP7/ZeefOnRuGDRuW9w3hFcfzM888U9A2n3rqqbwO8rbbbps3ADB9+vRw5pln5j3T4tvf/nZB28m18rM12rVrV9Rtf8rZpyu89dZbZT33Y8VU6V/AxhXiHXvssXnz7b333iU9J6WU5/SVs/9XBbvttltk3xx88MFlrzPu81kSx9i0adNC9+7dI9tcf/31wy233BIWLFgQmfett97Ke85OXV1d2H///VP7K7wQ/vct8pauB5566qmky0uVuI/5YlViwDWpNrw1udfYdXV14f3336/4dlZF1WgbQoj3s5LU9Ue124eVn4O+zjrrFH2XCOer/y/O81WtiaP/kkR/tJQQb/To0WH11VcPhx12WLjnnnuaDfQWL14chg8fnvfe1NXVhaOPPrqg2gBYdQnxIAXuuuuuvA5EpeX+Wujss88ueV2tffP+nnvuqWDV2dPQ0BB59lavXr0KXra5Z3W0b98+9OzZM/Tr1y/suuuuoW/fvnnfOF95+tGPflRwRz739lMrAo4NN9wwbLPNNmHXXXcNX//618NGG23U4vY6duwYhg0bVtR7dMkllzS7rnXWWSdsv/32YfPNN488AHzF1Lt375K+Af75559HnutUbKe8nH26Qu5gRKlTpb85HleI16tXr4q8/kI72isrd/9n3cSJE/Pe30cffbTs9cZ9PkvqGHv++efDmmuumbd8586dQ9++fcOOO+4YNthgg2a3se2224Y5c+aU8S5XX+4ttldMhx9+eNKlpU7cx3yxKvWribjb8LbkXmN369at4ttYFVWrbQgh3s9Kktcf1Wofli1bFtZee+2meUsJB5yvkjlf1Zo4+i9J9EdLDfFyl1l//fXDtttuG3beeeew6aabRm5xu/J01FFHhWXLlhVcHwCrJiEepMCpp54auZA75phjKr6Nvn37RrZRzu0/br/99mYvQPv371+5gjMst8NY6C1CmutQFzqtscYa4aqrrirqFx3NdZqKmXbZZZfwyiuvlPQeXXPNNZFgpZBtlfoMgcGDB0fW9dBDDxW9jlL36QpCvOQG0Sqx/7Ms90sbPXv2rMjzX+I+nyV5jI0bNy707NmzqPUfdNBBLX7TPG1yb6ndpUsXz3RpRtzHfLEqeevmONvwtuReY++1115V2c6qplptQwjxflaSbBtCqE778Pjjj0fmf+CBB4qqKQTnq6TOV7UmqRCvmKmU/milQry2prXWWitcffXVqb7jAgDpIcSDFPjWt74VuaAbPHhwRde/cOHCsNpqq0W28eGHH5a8vldffTXvInS11VYLr732WgWrzq65c+eGLl26NL13hx56aEHLPf/88+F3v/td2H777fPuod/StOWWW4aLLroozJgxo+g633vvvXD11VeHAw44IKy33noFba9r167hiCOOCCNHjiy7QzJx4sRw+OGHt9qx7t27d7juuutCfX19ydvZeuutm9bXp0+fkuoudZ+uIMRLbhCtEvs/q5YtWxZ69OgReW/POeeciqw77vNZ0gO18+fPD+edd17eM2Vz29H+/fuHxx9/vOjXl6Ttttsu8jquuOKKpEtKpbiP+WJV+vmrcbXhbcm9xi7lltdEVbNtCCHez0rSbUMIlW8fBgwY0LTcGmusUdJjDpyvkjlf1Zo4+i9J9EdLCfGmT58eTj755NCnT58269tggw3CwIEDw2effVZ0bQCsuoR4AAk488wzmy7kO3bsWHSoumzZsvDGG2+E4cOHhxtuuCFccskl4fzzzw9XXHFFuOWWW8Jjjz0WZs+eXdGap06dGp566qlwyy23hMsvvzxccMEF4bLLLgs33nhjGDp0aHj33XerEoB88cUXYeTIkWHw4MHhggsuCBdffHG4/fbbw5tvvln2up9++ulIp2rIkCElr6vcfUr8Krn/KV0S57OkNDY2hgkTJoQhQ4aEiy++OAwaNCjceOONYcSIEam/dWZz7rvvvshnqF+/flW7fVqWrErHfDXbcLJvVfqsVKJ9aGxsjNyC88ADDyy7rlVpHzhfpV9S/dFizJo1K4waNSr8/e9/b/q8XH755eHuu+92LAFQMiEeQALmzJkTunXr1tTJPumkk5IuaZW0zz77NO2Dvn37lnUrKPu09lRy/8OqZunSpaF3795Nn6F27dqF0aNHJ10WwCpr3LhxkS9W3HrrrUmXBABABQjxABJy6aWXNnWy11xzTbfUiNn48eMjAx0PP/xw2eu0T2tHNfY/rEouvPDCyGeoGs/zBaBwAwcOjNyCc9asWUmXBABABQjxABKydOnSsOWWWzZ1tgcMGJB0SauUlR+Uvv/++1dknfZp7ajG/odVxYQJEyLPSerRo0dmbqcGUKtWfh5X//79ky4HAIAKEeIBJGjUqFFNne0OHTqEiRMnJl3SKuHhhx9uet87d+4cJk+eXLF126fpV839D1n3zjvvhJ49e0Z+hXf//fcnXRYAAABkkhAPAADIM3Xq1PDkk0+GJ598Mtxxxx1hwIABoVOnTpEA77jjjku6TAAAAMgsIR4AAJDnxBNPjAR2udMee+wRlixZknSZAAAAkFlCPAAAIM+uu+7aYoD3ne98J8yZMyfpEgEAACDThHgAAEBEfX19WGONNZpCu9VXXz307NkzHHLIIeGBBx4IjY2NSZcIAAAAmSfEAwAAAAAAgJQR4gEAAAAAAEDKCPEAAAAAAAAgZYR4AAAAAAAAkDJCPAAAAAAAAEgZIR4AAAAAAACkjBAPAAAAAAAAUkaIBwAAAAAAACkjxAMAAAAAAICUEeIBAAAAAABAygjxAAAAAAAAIGWEeAAAAAAAAJAyQjwAAAAAAABIGSEeAAAAAAAApIwQDwAAAAAAAFJGiAcAAAAAAAApI8QDAAAAAACAlBHiAQAAAAAAQMoI8QAAAAAAACBlhHgAAAAAAACQMkI8iNHUqVPDddddF6677rowcuTIMHr0aJPJZDKZTCaTyWQymUwmk8lkMlVwGjlyZNM47NSpU5MeFoaSCfEgRtddd12oq6szmUwmk8lkMplMJpPJZDKZTCZTDNN1112X9LAwlEyIBzES4plMJpPJZDKZTCaTyWQymUwmU3yTEI9aJsSDGI0cOTLSeCT9s/JamoYMHRnWP+qSyHT6NfckXpfJZDKZTCaTqXannX97TeT6cuffXpN4TSaTyWQymUym8qeVf0wxcuTIpIeFoWRCPIjR6NGjmxqP0aNHJ11OTfl4zqLQa+CIyPSXRycmXRYAADVs3yufi1xf7nvlc0mXBABABRiHJSuEeBAjjUfpFi2tzwvx/nD/a0mXBQBADRPiAQBkk3FYskKIBzHSeJRnyz+NjAyyHDvkpaRLAgCghgnxAACyyTgsWSHEgxhpPMqz219GRQZZfnTdmKRLAgCghgnxAACyyTgsWSHEgxhpPMpzwODRkUGWb132TNIlAQBQw4R4AADZZByWrBDiQYw0HuX52S3jI4Ms/c59LOmSAACoYUI8AIBsMg5LVgjxIEYaj/L8/p5XIoMsvQaOCMvqG5IuCwCAGiXEAwDIJuOwZIUQD2Kk8SjP+cPfygvxpn+xOOmyAACoUUI8AIBsMg5LVgjxIEYaj/Jc+/SkvBBv4qfzki4LAIAaJcQDAMgm47BkhRAPYqTxKM/d46fmhXhj35uZdFkAANQoIR4AQDYZhyUrhHgQI41HeR5789O8EG/4a58kXRYAADVKiAcAkE3GYckKIR7ESONRnpemzM4L8W57YUrSZQEAUKOEeAAA2WQclqwQ4kGMNB7lmTxjfl6Id+WT7yRdFgAANUqIBwCQTcZhyQohHsRI41GeOQuX5oV4Zz/4RtJlAQBQo4R4AADZZByWrBDiQYw0HuVpaGgMm535SGSg5YR//ifpsgAAqFFCPACAbDIOS1YI8SBGGo/y7XDBE5GBliNv+nfSJQEAUKOEeAAA2WQclqwQ4kGMNB7l+85fnzXQAgBARQjxAACyyTgsWSHEgxhpPMp3+I0vRAZadrzwyaRLAgCgRgnxAACyyTgsWSHEgxhpPMp3/J0vRwZaNj/zkdDY2Jh0WQAA1CAhHgBANhmHJSuEeBAjjUf5zhr2emSgpdfAEWHuomVJlwUAQA0S4gEAZJNxWLJCiAcx0niU74on3skL8d6fuSDpsgAAqEFCPACAbDIOS1YI8SBGGo/y3Trm/bwQ7+UPPk+6LAAAapAQDwAgm4zDkhVCPIiRxqN8D736SV6I98RbnyVdFgAANUiIBwCQTcZhyQohHsRI41G+MZNm5oV497w4NemyAACoQUI8AIBsMg5LVgjxIEYaj/K99cm8vBDv+mfeS7osAABqkBAPACCbjMOSFUI8iJHGo3yfzVucF+JdOOKtpMsCAKAGCfEAALLJOCxZIcSDGGk8yrd0eUNeiHfKva8mXRYAADVIiAcAkE3GYckKIR7ESONRGduc81hksOWYf4xPuiQAAGqQEA8AIJuMw5IVQjyIkcajMva89OnIYMuB13gvAQAonhAPACCbjMOSFUI8iJHGozIOum5MZLBlj0tGJV0SAAA1SIgHAJBNxmHJCiEexEjjURm/uPXFyGBL37NHJl0SAAA1SIgHAJBNxmHJCiEexEjjURmn3fdqZLCl18ARYfGy+qTLAgCgxgjxAACyyTgsWSHEgxhpPCrjokf/mxfiTZu7KOmyAACoMUI8AIBsMg5LVgjxIEYaj8r427Pv5YV4b3w8N+myAACoMUI8AIBsMg5LVgjxIEYaj8q4/+WP8kK8Z9+ZkXRZAADUGCEeAEA2GYclK4R4ECONR2U8/fb0vBBv6H8+SrosAABqjBAPACCbjMOSFUI8iJHGozJe/2huXoh303OTky4LAIAaI8QDAMgm47BkhRAPYqTxqIxP5izKC/EuevS/SZcFAECNEeIBAGSTcViyQogHMdJ4VMbiZfV5Id6p972adFkAANQYIR4AQDYZhyUrhHgQI41H5Wxz7mORAZdj/jE+6ZIAAKgxQjwAgGwyDktWCPEgRhqPyvnWZc9EBlx+cI33EwCA4gjxAACyyTgsWSHEgxhpPCrnkOvHRgZcdvvLqKRLAgCgxgjxAACyyTgsWSHEgxhpPCrnV7e/FBlw2eKsR0NjY2PSZQEAUEOEeAAA2WQclqwQ4kGMNB6Vc+YDr0cGXHoNHBHmL1medFkAANQQIR4AQDYZhyUrhHgQI41H5Vzx+Nt5Id4HsxYkXRYAADVEiAcAkE3GYckKIR7ESONROUPGTskL8V7+YHbSZQEAUEOEeAAA2WQclqwQ4kGMNB6VM/y1T/JCvMfe/DTpsgAAqCFCPACAbDIOS1YI8SBGGo/KeeG9WXkh3j/HTU26LAAAaogQDwAgm4zDkhVCPIiRxqNy3v3si7wQb/BT7yZdFgAANUSIBwCQTcZhyQohHsRI41E5sxcszQvxzn3ozaTLAgCghgjxAACyyTgsWSHEgxhpPCqnoaExbHbmI5FBlxP/+Z+kywIAoIYI8QAAssk4LFkhxIMYaTwqa8cLn4wMuhxx47+TLgkAgBoixAMAyCbjsGSFEA9ipPGorNxBl+/89dmkSwIAoIYI8QAAssk4LFkhxIMYaTwq66ibx0UGXbY//4mkSwIAoIYI8QAAssk4LFkhxIMYaTwq66S7J0QGXTY5Y0Sob2hMuiwAAGqEEA8AIJuMw5IVQjyIkcajss57+K3IoEuvgSPCzPlLki4LAIAaIcQDAMgm47BkhRAPYqTxqKxrn56UF+K9/ekXSZcFAECNEOIBAGSTcViyQogHMdJ4VNY9L07NC/HGTpqZdFkAANQIIR4AQDYZhyUrhHgQI41HZT351md5Id5Dr36SdFkAANQIIR4AQDYZhyUrhHgQI41HZU2Y+nleiHfL6PeTLgsAgBohxAMAyCbjsGSFEA9ipPGorA9nL8wL8S59bGLSZQEAUCOEeAAA2WQclqwQ4kGMNB6VtXDp8rwQb+C/Xku6LAAAaoQQDwAgm4zDkhVCPIiRxqPytjp7ZGTg5dghLyVdEgAANUKIBwCQTcZhyQohHsRI41F5e1wyKjLwctB1Y5IuCQCAGiHEAwDIJuOwZIUQD2Kk8ai8H147JjLw8s1Lnk66JAAAaoQQDwAgm4zDkhVCPIiRxqPyjh3yYmTgZauzRyZdEgAANUKIBwCQTcZhyQohHsRI41F5A//1WmTgpdfAEWHh0uVJlwUAQA0Q4gEAZJNxWLJCiAcx0nhU3mWPvZ0X4k2dtTDpsgAAqAFCPACAbDIOS1YI8SBGGo/KGzJ2Sl6I9/IHs5MuCwCAGiDEAwDIJuOwZIUQD2Kk8ai8Ea9NywvxRr7xadJlAQBQA4R4AADZZByWrBDiQYw0HpU3/v3ZeSHe7f/+IOmyAACoAUI8AIBsMg5LVgjxIEYaj8qbPGN+Xoj31yfeSbosAABqgBAPACCbjMOSFUI8iJHGo/K+WLwsL8Q784HXky4LAIAaIMQDAMgm47BkhRAPYqTxqLzGxsawxVmPRgZffnnbS0mXBQBADRDiAQBkk3FYskKIBzHSeFTH7hePigy+HHTdmKRLAgCgBgjxAACyyTgsWSHEgxhpPKrjh9eOiQy+7H7xqKRLAgCgBgjxAACyyTgsWSHEgxhpPKrjl7e9FBl86fOnR0NjY2PSZQEAkHJCPACAbDIOS1YI8SBGGo/qOGPo65HBl14DR4QvFi9LuiwAAFJOiAcAkE3GYckKIR7ESONRHVc88U5eiPf+zAVJlwUAQMoJ8QAAssk4LFkhxIMYaTyq4/YXpuSFeOPfn510WQAApJwQDwAgm4zDkhVCPIiRxqM6Rr4xLS/Ee+T17T5cGQAAIABJREFUaUmXBQBAygnxAACyyTgsWSHEgxhpPKrjpSmz80K8IWOnJF0WAAApJ8QDAMgm47BkhRAPYqTxqI4PZi3IC/Euf/ztpMsCACDlhHgAANlkHJasEOJBjDQe1bFgyfK8EG/gv15LuiwAAFJOiAcAkE3GYckKIR7ESONRPVudPTIyAPOLW19MuiQAAFJOiAcAkE3GYckKIR7ESONRPXte+nRkAObAa7y/AAC0TogHAJBNxmHJCiEexEjjUT0HXz82MgDzjYueSrokAABSTogHAJBNxmHJCiEexEjjUT2/vv3lyADM1/74aGhsbEy6LAAAUkyIBwCQTcZhyQohHsRI41E9Zw17PTIA02vgiDB34bKkywIAIMWEeAAA2WQclqwQ4kGMNB7Vc9WT7+aFeJOmz0+6LAAAUkyIBwCQTcZhyQohHsRI41E9d477IC/Ee+G9WUmXBQBAignxAACyyTgsWSHEgxhpPKrn8Tc/zQvxHn71k6TLAgAgxYR4AADZZByWrBDiQYw0HtXzn6mf54V4t4x+P+myAABIMSEeAEA2GYclK4R4ECONR/V8OHthXoh3yciJSZcFAECKCfEAALLJOCxZIcSDGGk8qmfxsvq8EO+0+15NuiwAAFJMiAcAkE3GYckKIR7ESONRXduc81hkEObn/xifdEkAAKSYEA8AIJuMw5IVQjyIkcajuva67JnIIMz3rno+6ZIAAEgxIR4AQDYZhyUrhHgQI41HdR32txcigzA7XPBk0iUBAJBiQjwAgGwyDktWCPEgRhqP6vrNXRMigzCbnDEiLK9vSLosAABSSogHAJBNxmHJCiEexEjjUV3nD38rMgjTa+CI8Nm8xUmXBQBASgnxAACyyTgsWSHEgxhpPKrrb8++lxfivf7R3KTLAgAgpYR4AADZZByWrBDiQYw0HtX1wISP8kK8p/77WdJlAQCQUkI8AIBsMg5LVgjxIEYaj+oaM2lmXoh31/ipSZcFAEBKCfEAALLJOCxZIcSDGGk8qmvS9C/yQryrnnw36bIAAEgpIR4AQDYZhyUrhHgQI41Hdc1dtCwvxPvjA68nXRYAACklxAMAyCbjsGSFEA9ipPGorsbGxrDFWY9GBmJ+edtLSZcFAEBKCfEAALLJOCxZIcSDGGk8qm+PS0ZFBmIOvMb7DABA84R4AADZZByWrBDiQYw0HtV38PVjIwMxu170VNIlAQCQUkI8AIBsMg5LVgjxIEYaj+obcMfLkYGYzc98JDQ0NCZdFgAAKSTEAwDIJuOwZIUQD2Kk8ai+cx58IzIQ02vgiDBr/pKkywIAIIWEeAAA2WQclqwQ4kGMNB7Vd+3Tk/JCvP9Om5d0WQAApFAthHj33ntvOPfcc/OmF154IenSMuOUU05p6qflTvvss08iNc2dOzcMGzYsnHnmmWH//fcP/fr1C927dw9rrLFGaN++fVhrrbVCjx49wmabbRb23HPPcMwxx4Tzzz8/PPzww2HGjBmJ1AwAaWIclqwQ4kGMNB7Vd+9LH+aFeM++oxMLAEC+Wgjxtt1222bDpQcffDDWOg477LAWg67Wpo4dO4bu3buH3r17h7333jsMHDgwPPDAA2Hx4sWx1t+Sd999N3Ts2LHF+nv06BFbLfX19eHee+8N++67b1httdVKer9XTL179w6//vWvw2OPPRaWLl0a22sAgLQwDktWCPEgRhqP6nvm7el5Id59L32YdFkAAKRQ2kO8JUuWhA4dOjQb0kydOjXWWnr37l1WqJQ7rbPOOuHkk08OM2fOjPV15PrBD37QZq2ffvpp1eu45557wuabb17R93jFtPbaa4cpU6ZU/TUAQJoYhyUrhHgQI41H9b31yby8EO/apyclXRYAACmU9hDv5ZdfbjEAi9O8efNCu3btqhIwrbfeemHo0KGxvp4VnnzyyYJqfOyxx6pWw/Tp08N+++1Xlfd2xdS5c+ewfPnyqr0GAEgj47BkhRAPYqTxqL6Z85fkhXjnPvRm0mUBAJBCaQ/xbr755mZDmb333jvWOp599tmqhkzt2rULt99+e6yvqb6+PmyzzTYF1XfJJZdUpYYJEyaEDTbYoKAaunTpEjbddNOw3XbbhZ122ilsttlmYe211y5o2V122aUq9QNAmhmHJSuEeBAjjUf1NTQ0hs3PfCQyGHP8nS8nXRYAACmU9hDvhBNOaDaUOeWUU2Kt469//WuzdWy44YZh9913b3Haeeedw9e+9rVWnzm3YurQoUOsfaTrr7++4JDxJz/5ScW3P27cuNC1a9cWt7n66quHQw45JNxzzz1h0qRJobGxsdn1zJw5MwwfPjycddZZYccdd2x2XSeccELF6weAtDMOS1YI8SBGGo947DLoqchgzCHXj026JAAAUijtId43vvGNZkOZO+64I9Y6fvrTnzZbxzXXXFPQ8osWLQqPPvpo2GeffVoNy3bYYYcWw6pKmjNnTujevXve9rt169ZsXVtvvXVFt//++++H9dZbr9lttW/fPvz6178u+VmBkyZNChdccEHo1atX0zpvueWWitYPALXAOCxZIcSDGGk84vH/2LvTaDvr+mz8YdQ6QAVt0YoglhkRsICKWpGWFqTYCpZWnkctoPWPZWqrQiAEkElmIQkFkUFkEEoYYmYygCQhhBAyQBISICEEEkLm+Qz7/r+oPmVz7wPJOfv8fnt/z+ez1nnlOfe+krjWd3ldnr2PveF3VWXMl342OnckAAAaUCOPeO3t7cX73//+mkPP9OnTk2bZZ599aubozP+mue66695xyBsyZEg3/AmqnXXWWTVfe8CAAcVOO+1U87cEN2zYUJfXbmtr63Cc3X777YuxY8fW5XVaW1uL22+/vdh7772LqVOn1uWZANBM9LBEYcSDhByPNE6+fVJVGbPneUOS/D96AQBoLo084s2cObPm0PPe9763aG1tTZZj7dq1xVZbbVXKscUWWxQrV67s1DN//OMfdzjidfdbP86ePbvm23vutddeRWtra4e/LTh58uS6vP5NN91U8/nve9/7iilTptTlNd6qUqn430IA9Eh6WKIw4kFCjkca5wycVlXG7PKT3xYr17fkjgUAQINp5BHvrrvuqjn2/MVf/EXSHOPHj6+ZY7fdduv0M1etWtXhW1fuvffedUxfdswxx9R83UGDBhVFURRnnnlmzf/81ltv7fJrt7W1FR//+MdrPv/666/v8vMBgP+lhyUKIx4k5Hikce3I2aURb87i1bljAQDQYBp5xPvP//zPmmPP9773vaQ5+vXrVzPHN77xjS4994QTTujwLSW7y4gRI2q+5le/+tX/9z233HJLze8544wzuvz6jzzySM1n77TTTkVbW1uXnw8A/C89LFEY8SAhxyONu56cXxrxxs3t3AfDAwAQVyOPeEcccUTNwad///5Jc5x00kk1c1x00UVdeu4VV1zR4Vtqbty4sU7p/1dbW1ux7777ll5ryy23rHobywkTJtTM9JWvfKXLGU455ZSazz7ttNO6/GwAoJoeliiMeJCQ45HGyOcWlUa8B595NXcsAAAaTCOPeDvssEPNwWf8+PFJcxxwwAE1czzyyCNdeu4vf/nLDke87vjMv/79+9d8re985ztV37dq1apiiy22KH3fhz70oS5n2GuvvWpmuPHGG7v8bACgmh6WKIx4kJDjkcbUBctLI95Nj83NHQsAgAbTqCPe/Pnza449W265ZbFmzZpkOTZu3Fhss802NbO88sorXXr29ddfn+ztNJcvX158+MMfLr3W+973vuLVV8v/Z79ddtml7n/m1tbWDv8uBw4c2JU/HgBQgx6WKIx4kJDjkcailetLI95Fg57LHQsAgAbTqCPeQw89VHPs2XPPPZPmePrpp2vm2GGHHbr87N69e9d89oEHHliH5NXOPPPMmq/Vp0+fmt//ta99reb3Dxo0qNMZ3njjjQ5/8/D222/v9HMBgNr0sERhxIOEHI802torxSfPrh7xTr1rcu5YAAA0mEYd8fr27Vtz7DnhhBOS5rj55ptr5jj88MO7/Owvf/nLNZ991lln1SH5/5o9e3bN34DbaaeditWrV9f8mZ/85Cc1s1188cWdzrFgwYIOR7yTTz65088FAGrTwxKFEQ8ScjzSOeSSkVWFzPE3jssdCQCABtOoI96xxx5bc+y5/PLLk+b4wQ9+0C1D2+LFi4utt9665rNHjRpVp/T/45hjjqn5OjfffHOHP3PnnXfW/JlvfvObnc6xevXqDke89773vcWMGTM6/WwAoEwPSxRGPEjI8Ujn2Bt+V1XIfPFn9S0DAABofo064u288841x55hw4YlzXHIIYfUzHHHHXd06bmnnnpqzed+5jOfqVPy/zFixIiar7PffvsVbW1tHf7clClTav7cHnvs0aU8O+ywQ4dD3o477ljcfvvtRWtra5deAwD4H3pYojDiQUKORzrfu2NSVSGz+7lDikqlkjsWAAANpBFHvDfffLPDoWfx4sXJcrS1tRV/9Ed/VDPH1KlTO/3cUaNGdfhbeF35zLla+ffdd99OjaEbNmwottpqq9LPbbnllsXatWs7nen444/v8N/2D1+f+MQnij59+hTPP/98p18HANDDEocRDxJyPNI578HpVYXMLj/5bbFszcbcsQAAaCCNOOKNHDmy5rjz0Y9+NGmOadOm1czxnve8p2hpaenUMydOnFhst912NZ970kkn1TV/v379ar7OkUceuUk/v+eee9b8+YkTJ3Y6U0f/th19fepTnypOO+204sEHHyyWLl3a6dcFgJ5ID0sURjxIyPFIp9/oOaUR7/nXVuaOBQBAA2nEEe+KK66oOegcffTRSXPcfvvtNXMceOCBm/2s1tbW4tprry223Xbbms/80pe+VKxZs6Zu2ZcvX17suOOONX+Tbtq0aZv0jOOOO65m1nf6LL1N8fd///ebNeT94WuLLbYo9t9//+Lf//3fizFjxnjbTQB4F3pYojDiQUKORzr3TXqlNOKNmZXu7YcAAGh8jTji/fM//3PNEad3795Jc5x++uk1c3z3u9/dpJ+vVCrF9OnTi6uuuqrYZZddOhynDj/88GL16tV1zX7mmWfWfK1TTjllk5/Rt2/fms/44Q9/2KVsa9asKb785S93ash769eHPvSh4nvf+14xefLkLuUBgKj0sERhxIOEHI90Hn/hjdKId+9T83PHAgCggTTiiLfXXnvVHG3uv//+pDm++MUv1syx8847F4cddliHX4ceemix++67d/i2mX/42nbbbYtLLrmkaG9vr2vuWbNmFdtss03p9T7wgQ8Ur7/++iY/5/7776+Z+4tf/GKXM7a2thbnn39+h585uLlfX/jCF4px48Z1ORcARKKHJQojHiTkeKTzwqJVpRHvupEv5I4FAEADabQRb82aNcWWW25Zc6iZM2dOshyVSqX44Ac/WJeB6e1ff/Inf1L86Ec/KhYuXNgt2b/2ta/VfN0LL7xws54zc+bMms/ZbrvtikqlUpesr732WnHmmWcWO+ywQ13+bk8++eRiw4YNdckGAM1OD0sURjxIyPFIZ8W6ltKId87ATfv8CwAAeoZGG/HGjx9fc5z54Ac/WLfhaFPMnj277uPd1ltvXZx99tnd+lluw4cPr/naH/vYx4q1a9du1rPa2tqK97znPTWf99JLL9U194YNG4p77723OO644971Nxjf7evzn//8Zv9ZASAiPSxRGPEgIccjnUqlUux13tCqUuak257KHQsAgAbSaCNe//79aw4z9XgLx81xzz33dMtv4fXq1as49NBDi0WLFtU9c1tbW7HvvvvWfM3bbrutU8/cf//9az7vwQcfrG/4t2hpaSlGjRpVnH322cXBBx9cbLXVVpv9d3ziiSd2Wz4AaBZ6WKIw4kFCjkdaX7lyTFUpc/TPH88dCQCABtJoI94pp5xSc5Q57bTTkub40Y9+1G0jXq9evYqDDjqo2LhxY10z9+vXr+ZrHXDAAZ3+3L1vfetbNZ95wQUX1DX7O1m+fHkxcODA4pRTTik++tGPbvLf8YQJE5JlBIBGpIclCiMeJOR4pPWP/zW+qpT57E9H5o4EAEADabQR76CDDqo5yNx6661JcxxxxBE1c9xyyy0d/kxra2uxdOnSYtKkScUNN9xQfPazn33HkenSSy+tW95ly5YVO+64Y83XefTRRzv93EsvvbTmM//hH/6hbtk3R1tbWzF06NDib/7mb951xDvhhBOyZASARqGHJQojHiTkeKR1+j3PVJUyu57926KlrXP/L1wAAOJppBGvpaWl2HbbbWsOMs8880zSLDvssENdcgwYMKDYcsstaz5rhx12KNasWVOXvGeccUbN1/ja177Wpec+8sgjNZ+722671SV3VwwaNKjYfvvtOxzxPvzhDyf9HEUAaDR6WKIw4kFCjkdalw5+vqqU2eUnvy0WLl+XOxYAAA2ikUa8Z599tuYYs80229T9rSffycsvv1wzx7bbblu0tLRs9vOuvPLKDoemfv36dTnvrFmzim222abm8/fYY4/isMMO6/TXAQccUPO5W2yxRbFq1aouZ++qhx9++B1/G++ll17KHREAstHDEoURDxJyPNK65XcvlUa8yfOX5Y4FAECDaKQR77bbbqs5xHzmM59JmuOBBx6omeOggw7q1PPa29s7fGvNAw88sMt5jz766Hd9a8nu+HriiSe6nL0eOhoae/XqVUycODF3PADIRg9LFEY8SMjxSOu3U18rjXhDpr2WOxYAAA2ikUa8008/veYQ893vfjdpjnPPPbdmjlNOOaXTz3zwwQc7HJqmTZvW6ecOHz48y4DXq1evon///p3OXU//8R//0WHGrnweIAA0Oz0sURjxICHHI62n5y0tjXi3PeEtZQAA+B+NNOJ96UtfqjnEXHfddUlzHHXUUTVzDBgwoNPPbG9vLz75yU/WfO65557bqWe2trYW++yzT7YR7/vf/36n/z7q6dprr+0w4/jx43PHA4Bs9LBEYcSDhByPtF5ZurY04l02ZGbuWAAANIhGGfEqlUqx3Xbb1RxiHnssbaaddtqpZo4nn3yyS88955xzaj53jz326NTzbrjhhmwDXq9evYpDDz20S38f9XL55Zd3mPHFF1/MHQ8AstHDEoURDxJyPNLa0NpWGvHOvHdK7lgAADSIRhnx5syZU3OE2WKLLYoVK1Yky7Fw4cKaObbaaqti3bp1XXr21KlTOxybZsyYsVnPWrZsWbHjjjsm+e2zWbNm1Xyd973vfUV7e3tdX6szTjvttJr53vve9zZEPgDIRQ9LFEY8SMjxSO/Ai0ZUFTP/fPOE3JEAAGgQjTLi3XfffTWHmN122y1pjkGDBtXMsd9++9Xl+bvuumvN51988cWb9ZyOPj/w+OOPr0vOt2ptbS222Wabmq83e/bsur/e5vr0pz9dM9tf/dVf5Y4GAFnpYYnCiAcJOR7p/e11j1cVM4dfNSZ3JAAAGkSjjHgdvdXkN77xjaQ5Lrzwwpo5vv3tb9fl+R391tjBBx+8yc+YNWtWsfXWW5eesc022xRz586tS8636+iz9+67775ueb1NNXny5A5/u7Ffv35ZswFAbnpYojDiQUKOR3rfvXViVTGzT5+huSMBANAgGmXE+9u//duaQ8xPf/rTpDm+/vWv18xx7bXX1uX5I0eO7PBtQ1999dVNesbRRx9d8xlnnHFGXTLWcvzxx9d8zfPOO6/bXvPdtLW1FYccckjNXO9///uTvg0rADQiPSxRGPEgIccjvZ/899TS5+Kt3tCaOxYAAA2gUUa8P/3TP605xgwaNChpjp133rlmjsceq8/fS0tLS7H99tvXfI3+/fu/688PGzas5s/+8R//cbF06dK6ZKylT58+NV/37/7u7zr8mUsvvbS46KKLivXr19c9T6VSKf7t3/6tw9/Cu+CCC+r+mgDQbPSwRGHEg4Qcj/SuGTG7NOLNWbw6dywAABpAI4x4r732WodjzKb+dlo9LFmypMPfklu1alXdXueEE06o+TpHHnnkO/5ca2trh29recUVV9QtXy133313zdf9xCc+0eHPHHXUUUWvXr2KnXfeubjpppuKjRs31iXLmjVrihNPPLHD/87ss88+xbp16+ryWgDQzPSwRGHEg4Qcj/Tunji/NOL97oUluWMBANAAGmHEGzx4cM0x5iMf+UjSHMOHD6+ZY/fdd6/r69x11101X2fbbbctVq5c2eHP3XDDDTV/bpdddik2bNhQ14xv9+yzz3Y4mi1fvrzmz+y0005V3/fRj360uPDCC4t58+Z1KkNbW1tx7733Fh//+Mc7zLL99tsX06dP78ofFQDC0MMShREPEnI80hs9a3FpxLv/6QW5YwEA0AAaYcS7+OKLO/xcs8MOO6zuX5dffnnNHJdddlnNHCeccEJd/7zLly8vtt5665qvdffdd9f8mWXLlhU77LBDzZ+566676pqvlvXr1xdbbrllzdcfO3Zs6fsXLlzY4dC2xRZbFJ/73OeKCy64oBg1alSxbNmyDl93yZIlxfDhw4sf//jHxcc+9rEOn9mrV6/iAx/4QM0sANBT6WGJwogHCTke6c18fWVpxLth1Au5YwEA0AAaYcQ77rjj3nGcqffXDTfcUDPHN7/5zZrf/7Of/azuf+bDDz98swbD008/veb3H3zwwUWlUql7vlo+9alP1czw85//vPS9jzzyyGb9m3zoQx8q9t133+KQQw4pDj744GL33XcvPvKRj2zyz3/sYx8rJk2alOTvAQCahR6WKIx4kJDjkd6KdS2lEe+cgdNyxwIAoAE0woi32267JR3xnnzyyZo5OhqpRo4cWfc/87XXXlvztbbbbrvSZ8fNnDmzw9/ce+yxdP9exxxzTM0MJ510Uul7L7jggmT/nl//+teLJUt8XAAAvJ0eliiMeJCQ45FepVIp9u4ztKqc+ZfbnsodCwCABpB7xFuxYkWxxRZbJBt8ttlmm5qfH/dOOZYuXVr3P/eLL77YYcahQ4dWfe9RRx1V8/uOPfbYuud6Jz/60Y9q5vjsZz9b+t6JEycWJ510UodvAVqPr8985jPF4MGDk/4dAEAz0cMShREPEnI88jj8qjFV5czfXvd47kgAADSA3CPe2LFjkw14vXr1Kg488MDNyrHLLrt02599v/32q/ma//qv//r/vmfZsmXFBRdcUPTt27f0NXfu3G7LVstTTz1VM8dll13W4c+0tLQUQ4cOLU4//fTiwAMP7PBz9Tb16wMf+EDxrW99qxgxYkTCPzkANCc9LFEY8SAhxyOPb/1iQlU5c8CFw3NHAgCgAeQe8ehZVq5cWQwfPry49tpri1NPPbU48sgji7333rv4sz/7s2L77bcvtt5662LrrbcuPvjBDxaf+MQnis997nPFiSeeWFx++eXF448/XrS0tOT+IwBA09DDEoURDxJyPPL4j/ueLX0u3rqNbbljAQCQmREPACAmPSxRGPEgIccjj6uGzyqNeC8tWZM7FgAAmRnxAABi0sMShREPEnI88vj1k/NKI964uUtyxwIAIDMjHgBATHpYojDiQUKORx6jZi4qjXgPTF6QOxYAAJkZ8QAAYtLDEoURDxJyPPJ4/rWVpRGv3+g5uWMBAJCZEQ8AICY9LFEY8SAhxyOP5Ws3lka8cx+cljsWAACZGfEAAGLSwxKFEQ8ScjzyqFQqxZ7nDakqaE6+/ancsQAAyMyIBwAQkx6WKIx4kJDjkc9XrhxTVdAc/fPHc0cCACAzIx4AQEx6WKIw4kFCjkc+/3zzhKqC5sCLRuSOBABAZkY8AICY9LBEYcSDhByPfM76zZTS5+Ktb2nLHQsAgIyMeAAAMelhicKIBwk5HvlcMWxmacSb9+aa3LEAAMjIiAcAEJMeliiMeJCQ45HPrybMK414E158M3csAAAyMuIBAMSkhyUKIx4k5Hjk8+jzi0oj3sBnFuSOBQBARkY8AICY9LBEYcSDhByPfGYsXFEa8fqPmZM7FgAAGRnxAABi0sMShREPEnI88lm6ZmNpxOvz0PTcsQAAyMiIBwAQkx6WKIx4kJDjkU+lUin2OHdIVUlzyh2TcscCACAjIx4AQEx6WKIw4kFCjkdef3nF6KqS5mvXP547EgAAGRnxAABi0sMShREPEnI88jrhpvFVJc1BF43IHQkAgIyMeAAAMelhicKIBwk5Hnmdee+U0ufirW9pyx0LAIBMjHgAADHpYYnCiAcJOR55XTFsZmnEe3nJmtyxAADIxIgHABCTHpYojHiQkOOR16+fnFca8cbNWZI7FgAAmRjxAABi0sMShREPEnI88ho9a3FpxLtv0iu5YwEAkIkRDwAgJj0sURjxICHHI6/Zi1aVRrzrRr6QOxYAAJkY8QAAYtLDEoURDxJyPPJatb6lNOL9+P6puWMBAJCJEQ8AICY9LFEY8SAhxyO/T/cdVlXU/J9bnswdCQCATIx4AAAx6WGJwogHCTke+b29qPnqVWNyRwIAIBMjHgBATHpYojDiQUKOR34n3fZUVVGz13lDi0qlkjsWAAAZGPEAAGLSwxKFEQ8ScjzyO/fBaaXPxVu2ZmPuWAAAZGDEAwCISQ9LFEY8SMjxyK//mDmlEW/6qytyxwIAIAMjHgBATHpYojDiQUKOR34PTXm1NOINn/F67lgAAGRgxAMAiEkPSxRGPEjI8cjvqZeXlka82554KXcsAAAyMOIBAMSkhyUKIx4k5Hjk9+rydaUR75LBz+eOBQBABkY8AICY9LBEYcSDhByP/Frb2otPnl094p161+TcsQAAyMCIBwAQkx6WKIx4kJDj0Rg+f+mjVWXN3/d/InckAAAyMOIBAMSkhyUKIx4k5Hg0huMGjKsqaw65ZGTuSAAAZGDEAwCISQ9LFEY8SMjxaAyn3f1MVVmz69m/LVra2nPHAgAgMSMeAEBMeliiMOJBQo5HY7hsyMyqsmaXn/x36MdZAAAgAElEQVS2eGXp2tyxAABIzIgHABCTHpYojHiQkOPRGH41/uXSiPfki2/mjgUAQGJGPACAmPSwRGHEg4Qcj8Yw8rlFpRFv4DMLcscCACAxIx4AQEx6WKIw4kFCjkdjeG7hytKI12/0nNyxAABIzIgHABCTHpYojHiQkOPRGFasbSmNeOcMnJY7FgAAiRnxAABi0sMShREPEnI8GkOlUin26TO0qrD59i8n5o4FAEBiRjwAgJj0sERhxIOEHI/G8dfXjK0qbI64emzuSAAAJGbEAwCISQ9LFEY8SMjxaBz/cttTVYXNnucNKSqVSu5YAAAkZMQDAIhJD0sURjxIyPFoHH0eml76XLwlqzfkjgUAQEJGPACAmPSwRGHEg4Qcj8Zx02NzSyPelFeW544FAEBCRjwAgJj0sERhxIOEHI/GMXjaa6URb9DUhbljAQCQkBEPACAmPSxRGPEgIcejcUxdsLw04t04dm7uWAAAJGTEAwCISQ9LFEY8SMjxaBxL12wsjXjnPjgtdywAABIy4gEAxKSHJQojHiTkeDSOSqVS7N1naFVp851bJ+aOBQBAQkY8AICY9LBEYcSDhByPxvLX14ytKm2OuHps7kgAACRkxAMAiEkPSxRGPEjI8Wgs/3LbU1WlzZ7nDSkqlUruWAAAJGLEAwCISQ9LFEY8SMjxaCx9Hppe+ly8Jas35I4FAEAiRjwAgJj0sERhxIOEHI/GcvNjL5ZGvGfmL8sdCwCARIx4AAAx6WGJwogHCTkejWXItNdKI94jzy7MHQsAgESMeAAAMelhicKIBwk5Ho1l2oIVpRFvwJi5uWMBAJCIEQ8AICY9LFEY8SAhx6OxLFuzsTTi9R44LXcsAAASMeIBAMSkhyUKIx4k5Hg0lkqlUuzTZ2hVcfPtX07MHQsAgESMeAAAMelhicKIBwk5Ho3nyGuqi5uvXjUmdyQAABIx4gEAxKSHJQojHiTkeDSek257qqq42ePcIUWlUskdCwCABIx4AAAx6WGJwogHCTkejef8h6aXPhfvjVUbcscCACABIx4AQEx6WKIw4kFCjkfjufmxF0sj3jPzl+WOBQBAAkY8AICY9LBEYcSDhByPxjNk2mulEe+RZxfmjgUAQAJGPACAmPSwRGHEg4Qcj8YzbcGK0og3YMzc3LEAAEjAiAcAEJMeliiMeJCQ49F4lq3ZWBrxeg+cljsWAAAJGPEAAGLSwxKFEQ8ScjwaT6VSKfbpM7SqvPn2LyfmjgUAQAJGPACAmPSwRGHEg4Qcj8Z05DXV5c1XrxqTOxIAAAkY8QAAYtLDEoURDxJyPBrTSbc9VVXe7HHukKJSqeSOBQBANzPiAQDEpIclCiMeJOR4NKbzH5pe+ly8xavW544FAEA3M+IBAMSkhyUKIx4k5Hg0ppsfe7E04k2evyx3LAAAupkRDwAgJj0sURjxICHHozENmfZaacR7+NmFuWMBANDNjHgAADHpYYnCiAcJOR6NadqCFaURr/+YObljAQDQzYx4AAAx6WGJwogHCTkejWnZmo2lEe+cgdNyxwIAoJsZ8QAAYtLDEoURDxJyPBpTpVIp9j1/WFWB839/OTF3LAAAupkRDwAgJj0sURjxICHHo3G9vcA5/MoxuSMBANDNjHgAADHpYYnCiAcJOR6N6+Tbn6oqcHbvPaRoa6/kjgUAQDcy4gEAxKSHJQojHiTkeDSuCx95rvS5eAuXr8sdCwCAbmTEAwCISQ9LFEY8SMjxaFy3j3u5NOKNn/tm7lgAAHQjIx4AQEx6WKIw4kFCjkfjGj1zcWnEu/ep+bljAQDQjYx4AAAx6WGJwogHCTkejWvuG6tLI97Phs7MHQsAgG5kxAMAiEkPSxRGPEjI8WhcG1rbil3Prh7xfnjX5NyxAADoRkY8AICY9LBEYcSDhByPxvaFy0ZVlTh/d4N/IwCAyIx4AAAx6WGJwogHCTkeje2Em8ZXlTj7XzA8dyQAALqREQ8AICY9LFEY8SAhx6Ox/fj+qaXPxVuxtiV3LAAAuokRDwAgJj0sURjxICHHo7H1Gz2nNOJNW7AidywAALqJEQ8AICY9LFEY8SAhx6OxPfLswtKIN2jqwtyxAADoJkY8AICY9LBEYcSDhByPxjZ1wfLSiNdv9JzcsQAA6CZGPACAmPSwRGHEg4Qcj8a2Ym1LacT7yX9PzR0LAIBuYsQDAIhJD0sURjxIyPFofPtfMLyqyPmnmybkjgQAQDcx4gEAxKSHJQojHiTkeDS+Y67/XVWR84XLRuWOBABANzHiAQDEpIclCiMeJOR4NL5T75pcVeTsevZvi42t7bljAQDQDYx4AAAx6WGJwogHCTkeje9nQ2eWPhfvxTdW544FAEA3MOIBAMSkhyUKIx4k5Hg0vnsmzi+NeKNnLc4dCwCAbmDEAwCISQ9LFEY8SMjxaHzj5i4pjXh3jH85dywAALqBEQ8AICY9LFEY8SAhx6Pxvbp8XWnEu2jQc7ljAQDQDYx4AAAx6WGJwogHCTkeja+tvVLs3ntIVZlz8u2TcscCAKAbGPEAAGLSwxKFEQ8Scjyaw+FXjqkqc/76mrG5IwEA0A2MeAAAMelhicKIBwk5Hs3hO7dOrCpz9jxvSFGpVHLHAgCgzox4AAAx6WGJwogHCTkezeH8h6aXPhdv8cr1uWMBAFBnRjwAgJj0sERhxIOEHI/m8IvHXyyNeE+9vDR3LAAA6syIBwAQkx6WKIx4kJDj0RxGPLeoNOL999MLcscCAKDOjHgAADHpYYnCiAcJOR7NYfaiVaUR7+oRs3PHAgCgzox4AAAx6WGJwogHCTkezWHdxrbSiHfGPc/kjgUAQJ0Z8QAAYtLDEoURDxJyPJrHwRePrCp0/r7/E7kjAQBQZ0Y8AICY9LBEYcSDhByP5nH8jeOqCp3P/nRE7kgAANSZEQ8AICY9LFEY8SAhx6N5/Ptvni29peaq9S25YwEAUEdGPACAmPSwRGHEg4Qcj+Zxw6gXSiPetAUrcscCAKCOjHgAADHpYYnCiAcJOR7NY9DUhaUR7+FnF+aOBQBAHRnxAABi0sMShREPEnI8mseMhStKI951I1/IHQsAgDoy4gEAxKSHJQojHiTkeDSPNRtaSyPemfdOyR0LAIA6MuIBAMSkhyUKIx4k5Hg0l0MuGVlV6hzb74nckQAAqCMjHgBATHpYojDiQUKOR3P5x/8aX1XqfLrvsKJSqeSOBQBAnRjxAABi0sMShREPEnI8msvZD0wtvaXm0jUbc8cCAKBOjHgAADHpYYnCiAcJOR7N5b/Gzi2NeE/PW5Y7FgAAdWLEAwCISQ9LFEY8SMjxaC7DZ7xeGvHuf3pB7lgAANSJEQ8AICY9LFEY8SAhx6O5vLBoVWnEu3LYrNyxAACoEyMeAEBMeliiMOJBQo5Hc9nQ2lbsenb1iHfqryfnjgUAQJ0Y8QAAYtLDEoURDxJyPJrPYZePqip2jrru8dyRAACoEyMeAEBMeliiMOJBQo5H8/k/tzxZVezs3WdoUalUcscCAKAOjHgAADHpYYnCiAcJOR7Np89D00ufi7do5frcsQAAqAMjHgBATHpYojDiQUKOR/O59YmXSiPehBffzB0LAIA6MOIBAMSkhyUKIx4k5Hg0n9GzFpdGvLsnzs8dCwCAOjDiAQDEpIclCiMeJOR4NJ95b64pjXiXDn4+dywAAOrAiAcAEJMeliiMeJCQ49F8Wtvai0+dM7iq3Dnljkm5YwEAUAdGPACAmPSwRGHEg4Qcj+Z0+FVjqsqdv7p6bO5IAADUgREPACAmPSxRGPEgIcejOZ1021NV5c7uvYcUbe2V3LEAAOgiIx4AQEx6WKIw4kFCjkdz+umg50qfi/fK0rW5YwEA0EVGPACAmPSwRGHEg4Qcj+Z054R5pRHvsdlv5I4FAEAXGfEAAGLSwxKFEQ8Scjya07g5S0oj3h3jX84dCwCALjLiAQDEpIclCiMeJOR4NKeFy9eVRry+D8/IHQsAgC4y4gEAxKSHJQojHiTkeDSn9vZKsed5Q6oKnu/cOjF3LAAAusiIBwAQkx6WKIx4kJDj0bzeXvB8+YrRuSMBANBFRjwAgJj0sERhxIOEHI/m9YM7n64qeHY7Z3CxsbU9dywAALrAiAcAEJMeliiMeJCQ49G8Lh86s/S5eHMWr84dCwCALjDiAQDEpIclCiMeJOR4NK/7Jr1SGvGGzXg9dywAALrAiAcAEJMeliiMeJCQ49G8npm/rDTi9R8zJ3csAAC6wIgHABCTHpYojHiQkOPRvFaubymNeGf9ZkruWAAAdIERDwAgJj0sURjxICHHo7kdfPHIqpLn2H5P5I4EAEAXGPEAAGLSwxKFEQ8Scjya2z/dNKGq5Nnv/GFFpVLJHQsAgE4y4gEAxKSHJQojHiTkeDS3cx+cVnpLzUUr1+eOBQBAJxnxAABi0sMShREPEnI8mtttT7xUGvHGzVmSOxYAAJ1kxAMAiEkPSxRGPEjI8Whuj7/wRmnEu2P8y7ljAQDQSUY8AICY9LBEYcSDhByP5rZw+brSiHf+Q9NzxwIAoJOMeAAAMelhicKIBwk5Hs2tUqkUe/cZWlX0nPiLJ3PHAgCgk4x4AAAx6WGJwogHCTkeze+Y639XVfQcesmjuSMBANBJRjwAgJj0sERhxIOEHI/md+a9U0pvqbl6Q2vuWAAAdIIRDwAgJj0sURjxICHHo/ndMOqF0og3dcHy3LEAAOgEIx4AQEx6WKIw4kFCjkfzGzLttdKI98DkBbljAQDQCUY8AICY9LBEYcSDhByP5vfColWlEe+KYTNzxwIAoBOMeAAAMelhicKIBwk5Hs1vQ2tbsds5g6vKnu//alLuWAAAdIIRDwAgJj0sURjxICHHI4avXDmmquw54uqxuSMBANAJRjwAgJj0sERhxIOEHI8YTr59UlXZ8+e9Bxctbe25YwEAsJmMeAAAMelhicKIBwk5HjFcOuT50ufizX1jde5YAABsJiMeAEBMeliiMOJBQo5HDPdNeqU04g2f8XruWAAAbCYjHgBATHpYojDiQUKORwyT5y8rjXgDxszNHQsAgM1kxAMAiEkPSxRGPEjI8YhhxbqW0oj37795NncsAAA2kxEPACAmPSxRGPEgIccjjr+4eGRV4fP1fk/kjgQAwGYy4gEAxKSHJQojHiTkeMRxwk3jqwqf/c4fVlQqldyxAADYDEY8AICY9LBEYcSDhByPOHoPnFZ6S83FK9fnjgUAwGYw4gEAxKSHJQojHiTkeMRx6xMvlUa8cXOW5I4FAMBmMOIBAMSkhyUKIx4k5HjE8fgLb5RGvNueeCl3LAAANoMRDwAgJj0sURjxICHHI45FK9eXRrxzBk7LHQsAgM1gxAMAiEkPSxRGPEjI8YijUqkU+18wvKr0OW7AuNyxAADYDEY8AICY9LBEYcSDhByPWI6/cVxV6fPpvsOKSqWSOxYAAJvIiAcAEJMeliiMeJCQ4xFL74HTSm+p+fqK9bljAQCwiYx4AAAx6WGJwogHCTkesdw+7uXSiPfY7DdyxwIAYBMZ8QAAYtLDEoURDxJyPGIZN3dJacT7xeMv5o4FAMAmMuIBAMSkhyUKIx4k5HjE8ubqDaUR70f3P5s7FgAAm8iIBwAQkx6WKIx4kJDjEc9BF42oKn6+3u+J3JEAANhERjwAgJj0sERhxIOEHI94TrhpfFXxs0+foUWlUskdCwCATWDEAwCISQ9LFEY8SMjxiOf8h6aX3lJzwbK1uWMBALAJjHgAADHpYYnCiAcJOR7x3DlhXmnEGz1zce5YAABsAiMeAEBMeliiMOJBQo5HPBNfWloa8W4cOzd3LAAANoERDwAgJj0sURjxICHHI57lazeWRryzfjMldywAADaBEQ8AICY9LFEY8SAhxyOmgy8eWVX+HHO9f1sAgGZgxAMAiEkPSxRGPEjI8YjpxF88WVX+7HnekKK9vZI7FgAA78KIBwAQkx6WKIx4kJDjEdOFjzxXekvNeW+uyR0LAIB3YcQDAIhJD0sURjxIyPGI6Z6J80sj3ojnFuWOBQDAuzDiAQDEpIclCiMeJOR4xDR5/rLSiNdv9JzcsQAAeBdGPACAmPSwRGHEg4Qcj5hWrW8pjXin3/NM7lgAALwLIx4AQEx6WKIw4kFCjkdcn7/0UQUQAECTMeIBAMSkhyUKIx4k5HjE9Z1bJ1YVQLv3HlK0trXnjgUAwDsw4gEAxKSHJQojHiTkeMR1yeDnS2+pOfeN1bljAQDwDox4AAAx6WGJwogHCTkecd036ZXSiDdk2mu5YwEA8A6MeAAAMelhicKIBwk5HnFNXbC8NOJdM2J27lgAALwDIx4AQEx6WKIw4kFCjkdc6za2FZ88u3rE+94dk3LHAgDgHRjxAABi0sMShREPEnI8Yjv8qjFVJdCXfjY6dyQAAN6BEQ8AICY9LFEY8SAhxyO2U++aXHpLzVXrW3LHAgCgA0Y8AICY9LBEYcSDhByP2G4Y9UJpxHt63tLcsQAA6IARDwAgJj0sURjxICHHI7ZHn19UGvF+NWFe7lgAAHTAiAcAEJMeliiMeJCQ4xHbq8vXlUa83gOn5Y4FAEAHjHgAADHpYYnCiAcJOR6xVSqV4tN9h1UVQf/Q/4ncsQAA6IARDwAgJj0sURjxICHHI75v/tf4qiJonz5Di/b2Su5YAADUYMQDAIhJD0sURjxIyPGIr+/DM0pvqTn/zbW5YwEAUIMRDwAgJj0sURjxICHHI757Js4vjXhDp7+eOxYAADUY8QAAYtLDEoURDxJyPOKb8sry0oh37cjZuWMBAFCDEQ8AICY9LFEY8SAhxyO+dRvbil3Prh7xvv+rSbljAQBQgxEPACAmPSxRGPEgIcejZzj8yjFVZdCXrxidOxIAADUY8QAAYtLDEoURDxJyPHqGU389ufSWmqs3tOaOBQDA2xjxAABi0sMShREPEnI8eobrH32hNOI9PW9Z7lgAALyNEQ8AICY9LFEY8SAhx6NnGPncotKId+eEebljAQDwNkY8AICY9LBEYcSDhByPnmHBsrWlEe/cB6fljgUAwNsY8QAAYtLDEoURDxJyPHqGSqVS7Nd3WFUh9I0B43LHAgDgbYx4AAAx6WGJwogHCTkePcc3bxxfVQjte/6wor29kjsWAABvYcQDAIhJD0sURjxIyPHoOfo8NL30lprz31ybOxYAAG9hxAMAiEkPSxRGPEjI8eg57p44vzTiDZvxeu5YAAC8hREPACAmPSxRGPEgIcej53hm/rLSiHftyNm5YwEA8BZGPACAmPSwRGHEg4Qcj55j7cbWYtezq0e8U+6YlDsWAABvYcQDAIhJD0sURjxIyPHoWY64emxVKfT5Sx/NHQkAgLcw4gEAxKSHJQojHiTkePQsZ9zzTOktNZeu2Zg7FgAAv2fEAwCISQ9LFEY8SMjx6FlufuzF0oj3+Atv5I4FAMDvGfEAAGLSwxKFEQ8Scjx6lnFzl5RGvAFj5uaOBQDA7xnxAABi0sMShREPEnI8epYV61pKI96pd03OHQsAgN8z4gEAxKSHJQojHiTkePQ8X/zZqKpi6CtXjskdCQCA3zPiAQDEpIclCiMeJOR49Dw/uPPp0m/jrVrfkjsWAACFEQ8AICo9LFEY8SAhx6Pn6Td6TmnEe/LFN3PHAgCgMOIBAESlhyUKIx4k5Hj0PGNmLS6NeL/83Uu5YwEAUBjxAACi0sMShREPEnI8ep43Vm0ojXhn/WZK7lgAABRGPACAqPSwRGHEg4Qcj57pkEtGVpVDR16jHAIAaARGPACAmPSwRGHEg4Qcj57ppNueqiqHdjtncLG+pS13LACAHs+IBwAQkx6WKIx4kJDj0TNdPXxW6S01p7yyPHcsAIAez4gHABCTHpYojHiQkOPRMw2b8XppxLtzwrzcsQAAejwjHgBATHpYojDiQUKOR8/06vJ1pRHv7Aem5Y4FANDjGfEAAGLSwxKFEQ8Scjx6pkqlUnzmwuFVBdHf3eDfHwAgNyMeAEBMeliiMOJBQo5Hz3XiL56sKoh27z2kaGlrzx0LAKBHM+IBAMSkhyUKIx4k5Hj0XJcOeb70lprPv7YydywAgB7NiAcAEJMeliiMeJCQ49FzPfzswtKId9+kV3LHAgDo0Yx4AAAx6WGJwogHCTkePdeLb6wujXh9H56ROxYAQI9mxAMAiEkPSxRGPEjI8ei52tsrxb7nD6sqif6h/xO5YwEA9GhGPACAmPSwRGHEg4Qcj57tH/9rfFVJtMe5Q4qWtvbcsQAAeiwjHgBATHpYojDiQUKOR892yeDnS2+pOWPhityxAAB6LCMeAEBMeliiMOJBQo5HzzZo6sLSiHf3xPm5YwEA9FhGPACAmPSwRGHEg4Qcj57tlaVrSyPe2Q9MzR0LAKDHMuIBAMSkhyUKIx4k5Hj0bJVKpTjgwuFVRdFR1z2eOxYAQI9lxAMAiEkPSxRGPEjI8eDbv5xYVRTtds7gYn1LW+5YAAA9khEPACAmPSxRGPEgIceDq4fPKr2l5tPzluWOBQDQIxnxAABi0sMShREPEnI8GPncotKId+sTL+WOBQDQIxnxAABi0sMShREPEnI8WLxqfWnEO/PeKbljAQD0SEY8AICY9LBEYcSDhBwPiqIoPnfpo1Vl0eFXjckdCQCgRzLiAQDEpIclCiMeJOR4UBRF8f1fTSr9Nt7K9S25YwEA9DhGPACAmPSwRGHEg4QcD4qiKPqNnlMa8cbNWZI7FgBAj2PEAwCISQ9LFEY8SMjxoCiK4ncvLCmNeAPGzM0dCwCgxzHiAQDEpIclCiMeJOR4UBRFsWJdS2nE+8GdT+eOBQDQ4xjxAABi0sMShREPEnI8+IOvXDmmqjD6wmWjckcCAOhxjHgAADHpYYnCiAcJOR78wen3PFP6bbwlqzfkjgUA0KMY8QAAYtLDEoURDxJyPPiDW373UmnEGzVzUe5YAAA9ihEPACAmPSxRGPEgIceDP5j08tLSiHfNiNm5YwEA9ChGPACAmPSwRGHEg4QcD/5g3ca2YrdzBleVRt+9dWLuWAAAPYoRDwAgJj0sURjxICHHg7d6e2l0wIXDi0qlkjsWAECPYcQDAIhJD0sURjxIyPHgrc5+YFrpLTVfWrImdywAgB7DiAcAEJMeliiMeJCQ48Fb/WbSK6UR74HJC3LHAgDoMYx4AAAx6WGJwogHCTkevNWcxatLI965D07LHQsAoMcw4gEAxKSHJQojHiTkePBW7e2V4tN9h1UVR0f//PHcsQAAegwjHgBATHpYojDiQUKOB2/3f385sao42u2cwcXaja25YwEA9AhGPACAmPSwRGHEg4QcD97u2pGzS2+pOeHFN3PHAgDoEYx4AAAx6WGJwogHCTkevN3Y2W+URrwBY+bmjgUA0CMY8QAAYtLDEoURDxJyPHi7FWtbSiPe9+6YlDsWAECPYMQDAIhJD0sURjxIyPGgliOuHltVHn32pyOLSqWSOxYAQHhGPACAmPSwRGHEg4QcD2r5z/ueLf023itL1+aOBQAQnhEPACAmPSxRGPEgIceDWu6eOL804j005dXcsQAAwjPiAQDEpIclCiMeJOR4UMvM11eWRry+D8/IHQsAIDwjHgBATHpYojDiQUKOB7W0tVeKfc8fVlUgHdvvidyxAADCM+IBAMSkhyUKIx4k5HjQkW/9YkJVgfTnvQcX61vacscCAAjNiAcAEJMeliiMeJCQ40FHrhw2q/SWmk/PW5o7FgBAaEY8AICY9LBEYcSDhBwPOvLo84tKI94vHn8xdywAgNCMeAAAMelhicKIBwk5HnRk6ZqNpRHv//v107ljAQCEZsQDAIhJD0sURjxIyPHgnfzlFaOrSqRDL3m0qFQquWMBAIRlxAMAiEkPSxRGPEjI8eCdnHXvlNJv4y1YtjZ3LACAsIx4AAAx6WGJwogHCTkevJO7npxfGvEefObV3LEAAMIy4gEAxKSHJQojHiTkePBOZi9aVRrxeg+cljsWAEBYRjwAgJj0sERhxIOEHA/eSXt7pdj/guFVRdKR1yiSAAC6ixEPACAmPSxRGPEgIceDd3PSbU+VfhtvxdqW3LEAAEIy4gEAxKSHJQojHiTkePBuBoyZWxrxRs1clDsWAEBIRjwAgJj0sERhxIOEHA/ezaSXl5ZGvMuHzswdCwAgJCMeAEBMeliiMOJBQo4H72ZDa1ux+7lDqsqk428clzsWAEBIRjwAgJj0sERhxIOEHA82xfE3jqsqk3bvPaRY39KWOxYAQDhGPACAmPSwRGHEg4QcDzbF5UNnlt5Sc9LLS3PHAgAIx4gHABCTHpYojHiQkOPBphg1c1FpxBswZm7uWAAA4RjxAABi0sMShREPEnI82BQr1raURryTbnsqdywAgHCMeAAAMelhicKIBwk5HmyqI6+pLpT2v2B40d5eyR0LACAUIx4AQEx6WKIw4kFCjgebqvfAaaXfxpu9aFXuWAAAoRjxAABi0sMShREPEnI82FQPPvNqacT79ZPzcscCAAjFiAcAEJMeliiMeJCQ48GmWrBsbWnEO/PeKbljAQCEYsQDAIhJD0sURjxIyPFgU1UqleJzlz5aVSoddvmo3LEAAEIx4gEAxKSHJQojHiTkeLA5fnjX5NJv4y1cvi53LACAMIx4AAAx6WGJwogHCTkebI47xr9cGvEGPrMgdywAgDCMeAAAMelhicKIBwk5HmyO2YtWlUa8n/z31NyxAADCMOIBAMSkhyUKIx4k5HiwOSqVSnHgRSOqiqW/vGJ07lgAAGEY8QAAYtLDEoURDxJyPNhcP7jz6dJv472+Yn3uWAAAIRjxAABi0sMShREPEnI82Fy3jyt/Lt5DU17NHQsAIAQjHgBATHpYojDiQUKOB5tr5usrSyPe2Q9Myx0LACAEIx4AQEx6WKIw4kFCjgebq729Uhxw4fCqcunwK8fkjgPtqfwAACAASURBVAUAEIIRDwAgJj0sURjxICHHg874/q8mlX4bb/FKn4sHANBVRjwAgJj0sERhxIOEHA8649YnXiqNeA8/uzB3LACApmfEAwCISQ9LFEY8SMjxoDOeW1j+XLxzBvpcPACArjLiAQDEpIclCiMeJOR40Bnt7ZVi/wuqPxfvq1eNyR0LAKDpGfEAAGLSwxKFEQ8ScjzorFPuqPG5eKt8Lh4AQFcY8QAAYtLDEoURDxJyPOisW35X/ly8QVN9Lh4AQFcY8QAAYtLDEoURDxJyPOisGQtXlEa8cx/0uXgAAF1hxAMAiEkPSxRGPEjI8aCz2torxaf7Dqsqmf7q6rG5YwEANDUjHgBATHpYojDiQUKOB11x8u3lz8VbsnpD7lgAAE3LiAcAEJMeliiMeJCQ40FX/OLxF0sj3iPP+lw8AIDOMuIBAMSkhyUKIx4k5HjQFbU+F+8n/z01dywAgKZlxAMAiEkPSxRGPEjI8aAr2tsrxYEXjagqmr74s1G5YwEANC0jHgBATHpYojDiQUKOB1116l2TS7+NN//NtbljAQA0JSMeAEBMeliiMOJBQo4HXXXXk/NLI97dE+fnjgUA0JSMeAAAMelhicKIBwk5HnTV/DfXlka8H941OXcsAICmZMQDAIhJD0sURjxIyPGgHg67fFRV2XTQRSOK9vZK7lgAAE3HiAcAEJMeliiMeJCQ40E9/Pj+qaXfxntu4crcsQAAmo4RDwAgJj0sURjxICHHg3p4+NmFpRHvF4+/mDsWAEDTMeIBAMSkhyUKIx4k5HhQD0tWbyiNeN+9dWLuWAAATceIBwAQkx6WKIx4kJDjQb28vXDau8/QoqWtPXcsAICmYsQDAIhJD0sURjxIyPGgXi4a9Fzpt/Geenlp7lgAAE3FiAcAEJMeliiMeJCQ40G9jJq5qDTiXTtydu5YAABNxYgHABCTHpYojHiQkONBvaze0Fp86pzBVaXTN28cnzsWAEBTMeIBAMSkhyUKIx4k5HhQT8cNGFdVOn3qnMHFmg2tuWMBADQNIx4AQEx6WKIw4kFCjgf1dPWI2aW31Bw9c3HuWAAATcOIBwAQkx6WKIx4kJDjQT1NfGlpacTr+/CM3LEAAJqGEQ8AICY9LFEY8SAhx4N6amlrL/Y9f1hV8XT4VWNyxwIAaBpGPACAmPSwRGHEg4QcD+rtlDsmlX4bb8GytbljAQA0BSMeAEBMeliiMOJBQo4H9farCfNKI95dT87PHQsAoCkY8QAAYtLDEoURDxJyPKi3+W+uLY14//qrp3PHAgBoCkY8AICY9LBEYcSDhBwPusNfXjG6qnzar++worWtPXcsAICGZ8QDAIhJD0sURjxIyPGgO5z/0PTSb+NNenlp7lgAAA3PiAcAEJMeliiMeJCQ40F3ePT5RaUR76rhs3LHAgBoeEY8AICY9LBEYcSDhBwPusOaDa3Fn/ceXFVAHXuD/34BALwbIx4AQEx6WKIw4kFCjgfd5Z9umlBVQO169m+LpWs25o4FANDQjHgAADHpYYnCiAcJOR50lwFj5pbeUvPhZxfmjgUA0NCMeAAAMelhicKIBwk5HnSXGQtXlEa8/7jv2dyxAAAamhEPACAmPSxRGPEgIceD7tLeXik++9ORVSXUIZeMLCqVyv/P3n1+2XmWh/7/U9xNswlg4IBTTQIhjUDaSQ6s1JVm8guB/IIl2bJwBzeMK8EONo6NW2xsrBn1YlmS1Xvv3ep9NHU/93mRkzJ5RtJInrnvva/9+fwF1351rXV91/3s0qMBADQtEQ8AICZ3WKIQ8SAjy4PR9PUXl9de461/90TpsQAAmpaIBwAQkzssUYh4kJHlwWj6ybI9tYj3xOwtpccCAGhaIh4AQEzusEQh4kFGlgej6fCpnnTpmMER7/e/P7/0WAAATUvEAwCIyR2WKEQ8yMjyYLT99qNzBx2iLh/bkY539ZUeCwCgKYl4AAAxucMShYgHGVkejLbvTd9U+6TmT1fsLT0WAEBTEvEAAGJyhyUKEQ8ysjwYbav3HK9FvK+/uLz0WAAATUnEAwCIyR2WKEQ8yMjyYLRVVZU+cee0Qceoj94+NQ00qtKjAQA0HREPACAmd1iiEPEgI8uDHL75ysraa7ylO4+WHgsAoOmIeAAAMbnDEoWIBxlZHuQwafW7tYh3/5QNpccCAGg6Ih4AQEzusEQh4kFGlgc5nOrpT1eO6xh0kPr1780pPRYAQNMR8QAAYnKHJQoRDzKyPMjly08uqL3G23+iu/RYAABNRcQDAIjJHZYoRDzIyPIgl395e1st4r2wcGfpsQAAmoqIBwAQkzssUYh4kJHlQS7bD52uRby//NHi0mMBADQVEQ8AICZ3WKIQ8SAjy4Ocbrhv1qCj1AfGT0o9/QOlxwIAaBoiHgBATO6wRCHiQUaWBznd/uba2mu8OZsOlh4LAKBpiHgAADG5wxKFiAcZWR7kNHfzoVrEm/DGmtJjAQA0DREPACAmd1iiEPEgI8uDnHr7G+lDt04edJi6/p4Zqaqq0qMBADQFEQ8AICZ3WKIQ8SAjy4Pcbnx+ae013tq9J0qPBQDQFEQ8AICY3GGJQsSDjCwPcnt9+Z5axPvutI2lxwIAaAoiHgBATO6wRCHiQUaWB7kdP9OXrhjbMeg49evfm1N6LACApiDiAQDE5A5LFCIeZGR5UML/efKd2mu8PcfOlB4LAKA4EQ8AICZ3WKIQ8SAjy4MSnp67rRbxnpm3vfRYAADFiXgAADG5wxKFiAcZWR6UsPtoVy3iffnJBaXHAgAoTsQDAIjJHZYoRDzIyPKglF97aM6gA9UVYzvS8TN9pccCAChKxAMAiMkdlihEPMjI8qCUB6durL3Ge335ntJjAQAUJeIBAMTkDksUIh5kZHlQypq9x2sR78bnl5YeCwCgKBEPACAmd1iiEPEgI8uDUqqqStffM2PQkepDt05OPf0DpUcDAChGxAMAiMkdlihEPMjI8qCkCW+sqb3Gm73xYOmxAACKEfEAAGJyhyUKEQ8ysjwoae7mQ7WIN+61VaXHAgAoRsQDAIjJHZYoRDzIyPKgpL6BRrp2wuRBh6qP3zktNRpV6dEAAIoQ8QAAYnKHJQoRDzKyPCjtH15cXnuNt2j7kdJjAQAUIeIBAMTkDksUIh5kZHlQ2pQ179Yi3rd+uqb0WAAARYh4AAAxucMShYgHGVkelNbdN5A+MH7SoGPVp++enqrKJzUBgPYj4gEAxOQOSxQiHmRkedAMbnx+ae013vJdx0qPBQCQnYgHABCTOyxRiHiQkeVBM3hz5d5axLu7c13psQAAshPxAABicoclChEPMrI8aAane/rT1Td3DjpY/fx3ZvqkJgDQdkQ8AICY3GGJQsSDjCwPmsVf/mhx7TXemr3HS48FAJCViAcAEJM7LFGIeJCR5UGzeG3Z7lrEu3/KhtJjAQBkJeIBAMTkDksUIh5kZHnQLE5096Urx3UMOlp95v5ZpccCAMhKxAMAiMkdlihEPMjI8qCZ/OkPF9Ze423af7L0WAAA2Yh4AAAxucMShYgHGVkeNJOXFu2qRbzvTd9UeiwAgGxEPACAmNxhiULEg4wsD5rJ0dO96fKxHQ5XAEDbEvEAAGJyhyUKEQ8ysjxoNl9+ckHtNd7mAz6pCQC0BxEPACAmd1iiEPEgI8uDZvPCwp21iPfg1I2lxwIAyELEAwCIyR2WKEQ8yMjyoNkc6+pNV/yPT2recP+sVFVV6dEAAEadiAcAEJM7LFGIeJCR5UEz+tMfLqy9xluz93jpsQAARp2IBwAQkzssUYh4kJHlQTP6tyW7axHv25PWlx4LAGDUiXgAADG5wxKFiAcZWR40oxPdfemqmzsHHbB+9tszfFITAAhPxAMAiMkdlihEPMjI8qBZ/dWzi2uv8ZbtPFp6LACAUSXiAQDE5A5LFCIeZGR50Kx+umJvLeLd/uba0mMBAIwqEQ8AICZ3WKIQ8SAjy4Nm1dXbn95/y6RBR6xP3jUtNRo+qQkAxCXiAQDE5A5LFCIeZGR50My++vzS2mu8BVsPlx4LAGDUiHgAADG5wxKFiAcZWR40s8lr3q1FvFt+srr0WAAAo0bEAwCIyR2WKEQ8yMjyoJl19w2ka26dPOiQ9bHbp6a+gUbp0QAARoWIBwAQkzssUYh4kJHlQbP7+kvLa6/xZm44UHosAIBRIeIBAMTkDksUIh5kZHnQ7N7aeLAW8f7+hWWlxwIAGBUiHgBATO6wRCHiQUaWB82uf6CRPn7ntEHHrPfd0plO9fSXHg0AYMSJeAAAMbnDEoWIBxlZHrSC2366tvYa79Wlu0uPBQAw4kQ8AICY3GGJQsSDjCwPWsGq3cdrEe8rTy0oPRYAwIgT8QAAYnKHJQoRDzKyPGgFVVWlz9w/a9BB67IxE9OBE92lRwMAGFEiHgBATO6wRCHiQUaWB63ikRmbaq/xnpyztfRYAAAjSsQDAIjJHZYoRDzIyPKgVew60lWLeL/x8JzSYwEAjCgRDwAgJndYohDxICPLg1bye0/Mq4W8TftPlh4LAGDEiHgAADG5wxKFiAcZWR60kucW7KhFvHsnry89FgDAiBHxAABicoclChEPMrI8aCXHunrTleM6Bh22rr9nRmo0qtKjAQCMCBEPACAmd1iiEPEgI8uDVvOXP1pce403f8vh0mMBAIwIEQ8AICZ3WKIQ8SAjy4NWM2n1vlrE+/pLy0uPBQAwIkQ8AICY3GGJQsSDjCwPWk1vfyN95LYpg45b779lUjrV0196NACA90zEAwCIyR2WKEQ8yMjyoBVNeGNN7TXeS4t2lR4LAOA9E/EAAGJyhyUKEQ8ysjxoRav3HK9FvN9/Yn7psQAA3jMRDwAgJndYohDxICPLg1ZUVVXtwHXJTRPT9kOnS48GAPCeiHgAADG5wxKFiAcZWR60qqfe3laLePdP2VB6LACA90TEAwCIyR2WKEQ8yMjyoFUdPtWTrhjbMejI9em7p6eBRlV6NACAiybiAQDE5A5LFCIeZGR50Mr+8keLa6/x3t50qPRYAAAXTcQDAIjJHZYoRDzIyPKglU1Z824t4v39C8tKjwUAcNFEPACAmNxhiULEg4wsD1pZ30Ajfez2qYMOXVff3JmOn+krPRoAwEUR8QAAYnKHJQoRDzKyPGh1t7+5tvYa79l3dpQeCwDgooh4AAAxucMShYgHGVketLoN756sRbxf/96c0mMBAFwUEQ8AICZ3WKIQ8SAjy4MIfvvRubWQt2r38dJjAQBcMBEPACAmd1iiEPEgI8uDCF5ctLMW8ca+tqr0WAAAF0zEAwCIyR2WKEQ8yMjyIILTPf3pg+MnDTp4fejWyel0T3/p0QAALoiIBwAQkzssUYh4kJHlQRRjXl1Ve4330qJdpccCALggIh4AQEzusEQh4kFGlgdRrNx9rBbxvvjY3NJjAQBcEBEPACAmd1iiEPEgI8uDKKqqSr/20JxayNvw7snSowEADJuIBwAQkzssUYh4kJHlQSTPzt9ei3gT3lhTeiwAgGET8QAAYnKHJQoRDzKyPIjkRHdfet8tnYMOXx/+1pTU3TdQejQAgGER8QAAYnKHJQoRDzKyPIjmGy+tqL3Ge3Xp7tJjAQAMi4gHABCTOyxRiHiQkeVBNIu3H6lFvC89Nrf0WAAAwyLiAQDE5A5LFCIeZGR5EE1VVelzD75VC3lr9h4vPRoAwHmJeAAAMbnDEoWIBxlZHkT07Ds7ahFvzKurSo8FAHBeIh4AQEzusEQh4kFGlgcRnerpTx8cP2nQAez9t0xKJ7r7So8GAHBOIh4AQEzusEQh4kFGlgdR3fyTVbXXeE/P3VZ6LACAcxLxAABicoclChEPMrI8iGr9uydqEe+XH5idqqoqPRoAwFmJeAAAMbnDEoWIBxlZHkT2+0/Mr4W8+VsOlx4LAOCsRDwAgJjcYYlCxIOMLA8ie2PF3lrEu/G5paXHAgA4KxEPACAmd1iiEPEgI8uDyHr7G+m6O6YOOoRdMbYjHTjRXXo0AIAhiXgAADG5wxKFiAcZWR5Ed+/k9bXXeA9O3Vh6LACAIYl4AAAxucMShYgHGVkeRLfn2Jl02ZjBEe+6O6amnv6B0qMBANSIeAAAMbnDEoWIBxlZHrSDv/zR4tprvH9bsrv0WAAANSIeAEBM7rBEIeJBRpYH7eCdrYdrEe/XvzcnVVVVejQAgEFEPACAmNxhiULEg4wsD9pBVVXp8w/NqYW8hduOlB4NAGAQEQ8AICZ3WKIQ8SAjy4N28fLiXbWI9zf/uqT0WAAAg4h4AAAxucMShYgHGVketIvuvoH0sdunDjqKXTZmYtp1pKv0aAAA/0nEAwCIyR2WKEQ8yMjyoJ08MGVD7TXeXR3rSo8FAPCfRDwAgJjcYYlCxIOMLA/ayYET3enKcR2DDmPXTJicTvf0lx4NACClJOIBAETlDksUIh5kZHnQbv7hxeW113jPzt9eeiwAgJSSiAcAEJU7LFGIeJCR5UG7WbX7eC3i3XDfrNRoVKVHAwAQ8QAAgnKHJQoRDzKyPGhHv/v4vFrIm7nhQOmxAABEPACAoNxhiULEg4wsD9rRxJX7ahHvK08tKD0WAICIBwAQlDssUYh4kJHlQTvqH2ikT989vRby1u07UXo0AKDNiXgAADG5wxKFiAcZWR60q+/P3lKLeF9/cXnpsQCANifiAQDE5A5LFCIeZGR50K6On+lLH7p18qAj2RVjO9KeY2dKjwYAtDERDwAgJndYohDxICPLg3Z2V8e62mu8299cW3osAKCNiXgAADG5wxKFiAcZWR60s33Hz6Qrx3UMOpR9YPykdLyrr/RoAECbEvEAAGJyhyUKEQ8ysjxod//48oraa7xHZ24uPRYA0KZEPACAmNxhiULEg4wsD9rdxv0naxHvujumpu6+gdKjAQBtSMQDAIjJHZYoRDzIyPKAlP786UW1kPf8gp2lxwIA2pCIBwAQkzssUYh4kJHlASkt3HakFvF+6b5ZaaBRlR4NAGgzIh4AQEzusEQh4kFGlgekVFVV+uJjc2shb9LqfaVHAwDajIgHABCTOyxRiHiQkeUB/27S6ndrEe8Lj85NVeU1HgCQj4gHABCTOyxRiHiQkeUB/26gUaUb7ptVC3nvbD1cejQAoI2IeAAAMbnDEoWIBxlZHvBfnl+wsxbxvvLUgtJjAQBtRMQDAIjJHZYoRDzIyPKA/9LdN5Cuu2NaLeQt33Ws9GgAQJsQ8QAAYnKHJQoRDzKyPGCw78/eUot4f/70otJjAQBtQsQDAIjJHZYoRDzIyPKAwU739KeP3DalFvJW7zleejQAoA2IeAAAMbnDEoWIBxlZHlD3yIxNtYj3N/+6pPRYAEAbEPEAAGJyhyUKEQ8ysjyg7kR3X7p2wuRayNu4/2Tp0QCA4EQ8AICY3GGJQsSDjCwPGNoDUzfWIt7/9+NlpccCAIIT8QAAYnKHJQoRDzKyPGBox7p60wfHTxp0RLtszMS09eCp0qMBAIGJeAAAMbnDEoWIBxlZHnB293Sur73G+8eXV5QeCwAITMQDAIjJHZYoRDzIyPKAszt0qie975bOQYe0y8d2pF1HukqPBgAEJeIBAMTkDksUIh5kZHnAud3+5traa7wxr64qPRYAEJSIBwAQkzssUYh4kJHlAee2/0R3uurmwa/xrhzXkXYf9RoPABh5Ih4AQEzusEQh4kFGlgec3y0/WV17jffNV1aWHgsACEjEAwCIyR2WKEQ8yMjygPPbd/xM7TXe5WM70rZDp0uPBgAEI+IBAMTkDksUIh5kZHnA8Ex4Y03tNd7XXlhWeiwAIBgRDwAgJndYohDxICPLA4bnwMnu9L5bBr/Gu3TMxLRp/8nSowEAgYh4AAAxucMShYgHGVkeMHx3d66rvcb72+eWlB4LAAhExAMAiMkdlihEPMjI8oDhO3K6N31w/KRayFu953jp0QCAIEQ8AICY3GGJQsSDjCwPuDAPTNlQi3h//vSi0mMBAEGIeAAAMbnDEoWIBxlZHnBhjp/pS9dOmFwLect2Hi09GgAQgIgHABCTOyxRiHiQkeUBF+6RGZtqEe8rTy0oPRYAEICIBwAQkzssUYh4kJHlARfuVE9/+ujtU2sh752th0uPBgC0OBEPACAmd1iiEPEgI8sDLs4P3tpai3hffGxuqqqq9GgAQAsT8QAAYnKHJQoRDzKyPODinOkdSJ+4c1ot5HWu2ld6NACghYl4AAAxucMShYgHGVkecPGeW7CjFvF+6b5ZqW+gUXo0AKBFiXgAADG5wxKFiAcZWR5w8foHGumG+2bVQt6z7+woPRoA0KJEPACAmNxhiULEg4wsD3hvJq3eV4t4190xLZ3u6S89GgDQgkQ8AICY3GGJQsSDjCwPeG+qqkpfemxuLeR9d9rG0qMBAC1IxAMAiMkdlihEPMjI8oD3btH2I7WI98Hxk9LBkz2lRwMAWoyIBwAQkzssUYh4kJHlASPjL55ZXAt5419fXXosAKDFiHgAADG5wxKFiAcZWR4wMjbtP5kuGzM44l0xtiNtO3S69GgAQAsR8QAAYnKHJQoRDzKyPGDk3PRvK2uv8f72uSWlxwIAWoiIBwAQkzssUYh4kJHlASNn/4nu9L5bOmshb/H2I6VHAwBahIgHABCTOyxRiHiQkeUBI+veyetrEe83H347NRpV6dEAgBYg4gEAxOQOSxQiHmRkecDIOtndl667Y2ot5L2yZHfp0QCAFiDiAQDE5A5LFCIeZGR5wMh7YeHOWsT7xJ3T0ume/tKjAQBNTsQDAIjJHZYoRDzIyPKAkTfQqNLnH5pTC3n3T9lQejQAoMmJeAAAMbnDEoWIBxlZHjA65m85XIt4V9/cmXYf7So9GgDQxEQ8AICY3GGJQsSDjCwPGD1//eySWsj76vNLS48FADQxEQ8AICZ3WKIQ8SAjywNGz47Dp9NV4zprIW/x9iOlRwMAmpSIBwAQkzssUYh4kJHlAaPr7s51tYj3W4+8nRqNqvRoAEATEvEAAGJyhyUKEQ8ysjxgdJ3s7kvX3TG1FvJeXryr9GgAQBMS8QAAYnKHJQoRDzKyPGD0vbBwZy3ifez2qen4mb7SowEATUbEAwCIyR2WKEQ8yMjygNE30KjSrz00pxbybn19denRAIAmI+IBAMTkDksUIh5kZHlAHou3H6lFvMvGTEyr9xwvPRoA0EREPACAmNxhiULEg4wsD8jnGy+tqIW8Lz02NzUaVenRAIAmIeIBAMTkDksUIh5kZHlAPgdP9qRrJkyuhbyXF+8qPRoA0CREPACAmNxhiULEg4wsD8jrmXnbaxHvY7dPTce7+kqPBgA0AREPACAmd1iiEPEgI8sD8uofaKTPPzSnFvLGv7669GgAQBMQ8QAAYnKHJQoRDzKyPCC/xduP1CLeZWMmptV7jpceDQAoTMQDAIjJHZYoRDzIyPKAMv7x5RW1kPfbj85NjUZVejQAoCARDwAgJndYohDxICPLA8o4dKonXTNhci3kPfvOjtKjAQAFiXgAADG5wxKFiAcZWR5QzjPzttci3jW3Tk7vHu8uPRoAUIiIBwAQkzssUYh4kJHlAeUMNKr0W4+8XQt5f/3sktKjAQCFiHgAADG5wxKFiAcZWR5Q1pq9x9PlYztqIW/KmndLjwYAFCDiAQDE5A5LFCIeZGR5QHl3d6yrRbxP3T09nerpLz0aAJCZiAcAEJM7LFGIeJCR5QHldfX2p5/7zoxayJvwxprSowEAmYl4AAAxucMShYgHGVke0BxmbzxYi3iXjpmYlu86Vno0ACAjEQ8AICZ3WKIQ8SAjywOax9+/sKwW8j7/0JzUN9AoPRoAkImIBwAQkzssUYh4kJHlAc3j0Kme9OFvTamFvEdnbi49GgCQiYgHABCTOyxRiHiQkeUBzeWlRbtqEe+qcZ1p0/6TpUcDADIQ8QAAYnKHJQoRDzKyPKC5VFWV/vc/z6+FvC88Ojf1+6wmAIQn4gEAxOQOSxQiHmRkeUDz2XH4dHrfLZ21kPf92VtKjwYAjDIRDwAgJndYohDxICPLA5rTv7y9rf5ZzZs70+YDp0qPBgCMIhEPACAmd1iiEPEgI8sDmlOjUaXfe2JeLeR96bG5aaBRlR4PABglIh4AQEzusEQh4kFGlgc0r22HTqerb65/VvPJOVtLjwYAjBIRDwAgJndYohDxICPLA5rbD97aWot4V9/cmbYdOl16NABgFIh4AAAxucMShYgHGVke0NwGGlX64mNzayHvdx+f57OaABCQiAcAEJM7LFGIeJCR5QHNb/OBU+mqIT6r+fisLaVHAwBGmIgHABCTOyxRiHiQkeUBreGJ2VtqEe/KcR1p7d4TpUcDAEaQiAcAEJM7LFGIeJCR5QGtoX+gkb40xGc1P/fgW6m7b6D0eADACBHxAABicoclChEPMrI8oHVsP3Q6fWD8pFrIu6tjXenRAIARIuIBAMTkDksUIh5kZHlAa3l+wc5axLt0zMQ0f8vh0qMBACNAxAMAiMkdlihEPMjI8oDWUlVV+rOnF9VC3vX3zEgnuvtKjwcAvEciHgBATO6wRCHiQUaWB7SeAye700dum1ILed94aUXp0QCA90jEAwCIyR2WKEQ8yMjygNY0afW+WsS75KaJqWPVvtKjAQDvgYgHABCTOyxRiHiQkeUBresbL62oRbxrJ0xOu492lR4NALhIIh4AQEzusEQh4kFGlge0rhPdfen6e2bUQt7vPj4v9Q80So8HAFwEEQ8AICZ3WKIQ8SAjywNa28JtR9JlY+qf1Xxw6sbSowEAF0HEAwCIyR2WKEQ8yMjygNb33WkbaxHvsjET04Kth0uPBgBcIBEPACAmd1iiEPEgI8sDWl//QCP9/hPzayHvU3dPT8e6ekuPBwBcABEPACAmd1iiEPEgI8sDYthz7Ez68Lem1ELeXz27OFVVVXo8AGCYP0+F+gAAIABJREFURDwAgJjcYYlCxIOMLA+IY9LqfbWId8lNE9Oz7+woPRoAMEwiHgBATO6wRCHiQUaWB8Qy9rVVtYh31c2dac3e46VHAwCGQcQDAIjJHZYoRDzIyPKAWM70DqRfeWB2LeT94r0z04nuvtLjAQDnIeIBAMTkDksUIh5kZHlAPOvfPZGuvrmzFvL+5l+X+H88AGhyIh4AQEzusEQh4kFGlgfE9OKinUP+P94P524rPRoAcA4iHgBATO6wRCHiQUaWB8RUVVX6xksrahHvynEdadnOo6XHAwDOQsQDAIjJHZYoRDzIyPKAuLp6+9NnH6z/P97198xIR0/3lh4PABiCiAcAEJM7LFGIeJCR5QGxbT5wMn1g/KRayPvTHy5MjYb/xwOAZiPiAQDE5A5LFCIeZGR5QHyvL98z5P/jPTJjU+nRAID/QcQDAIjJHZYoRDzIyPKA9jDutVW1iHfpmIlp5oYDpUcDAP4bEQ8AICZ3WKIQ8SAjywPaQ3ffQPqNh+fUQt61EyanHYdPlx4PAPh/RDwAgJjcYYlCxIOMLA9oH7uOdKWfuW1KLeT96nffSl29/aXHAwCSiAcAEJU7LFGIeJCR5QHtZc6mg+myMfX/x/u7Hy9LVVWVHg8A2p6IBwAQkzssUYh4kJHlAe3n8VlbahHvkpsmpifnbC09GgC0PREPACAmd1iiEPEgI8sD2k9VVelvn1tSi3iXj+1I87YcKj0eALQ1EQ8AICZ3WKIQ8SAjywPa06me/vQrD8yuhbyP3DYl7TrSVXo8AGhbIh4AQEzusEQh4kFGlge0r60HT6Vrbp1cC3mffXB2OtndV3o8AGhLIh4AQEzusEQh4kFGlge0t+nr9g/5/3h//vSiNNCoSo8HAG1HxAMAiMkdlihEPMjI8gAembFpyJB3T+f60qMBQNsR8QAAYnKHJQoRDzKyPICqqtLf/XjZkCHv1aW7S48HAG1FxAMAiMkdlihEPMjI8gBSSqm7byB94ZG3axHvqnGdaenOo6XHA4C2IeIBAMTkDksUIh5kZHkA/2H/ie70ybum1ULedXdMS3uOnSk9HgC0BREPACAmd1iiEPEgI8sD+O9W7j6Wrr65sxbyPvfgW+lEd1/p8QAgPBEPACAmd1iiEPEgI8sD+J9+umLvkP+P9+UnF6S+gUbp8QAgNBEPACAmd1iiEPEgI8sDGMoDUzYMGfL+6ZUVqaqq0uMBQFgiHgBATO6wRCHiQUaWBzCUqqrS37+wbMiQ98iMTaXHA4CwRDwAgJjcYYlCxIOMLA/gbHr6B9Lvf3/+kCHvJ8v2lB4PAEIS8QAAYnKHJQoRDzKyPIBzOdbVm264f1Yt4l05riO9s/Vw6fEAIBwRDwAgJndYohDxICPLAzifnYe70sdun1oLeddOmJw2HzhZejwACEXEAwCIyR2WKEQ8yMjyAIZj2c6j6eqbO2sh72e/PSMdONldejwACEPEAwCIyR2WKEQ8yMjyAIZr0up96dIx9f/H+7WH5qQT3X2lxwOAEEQ8AICY3GGJQsSDjCwP4EI8OWdrLeJdctPE9Affn5+6+wZKjwcALU/EAwCIyR2WKEQ8yMjyAC5EVVVpwhtrhgx5f/Xs4jTQqEqPCAAtTcQDAIjJHZYoRDzIyPIALtRAo0o3Pr90yJA35tWVqaqEPAC4WCIeAEBM7rBEIeJBRpYHcDF6+gfSl59cMGTIu2/yhtLjAUDLEvEAAGJyhyUKEQ8ysjyAi3Wqpz/91iNvDxnyfjh3W+nxAKAliXgAADG5wxKFiAcZWR7Ae3H4VE+64b5ZQ4a815fvKT0eALQcEQ8AICZ3WKIQ8SAjywN4r3Yd6UqfvGtaLeJdMbYjTVu7v/R4ANBSRDwAgJjcYYlCxIOMLA9gJGx492S6dsLkWsi7alxnmrPpYOnxAKBliHgAADG5wxKFiAcZWR7ASFm8/Ui6+ubOWsh73y2dacHWw6XHA4CWIOIBAMTkDksUIh5kZHkAI2nm+gPpynEdtZD3wfGT0rKdR0uPBwBNT8QDAIjJHZYoRDzIyPIARlrnqn3p8rH1kHfthMlpzd7jpccDgKYm4gEAxOQOSxQiHmRkeQCj4SfL9qRLx0yshbyP3j41bdp/svR4ANC0RDwAgJjcYYlCxIOMLA9gtLy4aGct4l1y08T0iTunpe2HTpceDwCakogHABCTOyxRiHiQkeUBjKan524bMuR9+u7pacdhIQ8A/icRDwAgJndYohDxICPLAxhtj8/aMmTI+5SQBwA1Ih4AQEzusEQh4kFGlgeQwwNTNw4Z8v7XXdN9WhMA/hsRDwAgJndYohDxICPLA8ihqqp0d+e6s4a8bUIeAKSURDwAgKjcYYlCxIOMLA8gl6qq0j2d64cMeZ+8a1raevBU6REBoDgRDwAgJndYohDxICPLA8ipqqr07UlDh7xP3DktbRHyAGhzIh4AQEzusEQh4kFGlgeQW1VV6d7JQ4e8j985LW0+IOQB0L5EPACAmNxhiULEg4wsD6CEqqrS/VM2DBnyrrtjalq370TpEQGgCBEPACAmd1iiEPEgI8sDKKWqqvTA1I1DhrxrJ0xOy3YeLT0iAGQn4gEAxOQOSxQiHmRkeQClfXfa0CHvA+MnpXlbDpUeDwCyEvEAAGJyhyUKEQ8ysjyAZvDozM1Dhryrbu5MM9bvLz0eAGQj4gEAxOQOSxQiHmRkeQDN4odztw0Z8q4Y25F+umJv6fEAIAsRDwAgJndYohDxICPLA2gmLy3alS4bUw95l46ZmF5ctLP0eAAw6kQ8AICY3GGJQsSDjCwPoNm8uXJvumJsx5Cv8p6cs7X0eAAwqkQ8AICY3GGJQsSDjCwPoBnNXH8gXX1z55Ah7+7OdamqqtIjAsCoEPEAAGJyhyUKEQ8ysjyAZjV/y+H0wfGThgx5X39peeobaJQeEQBGnIgHABCTOyxRiHiQkeUBNLPlu46lD39rypAh709+uDB19faXHhEARpSIBwAQkzssUYh4kJHlATS7jftPpk/dPX3IkPfbj85NR073lh4RAEaMiAcAEJM7LFGIeJCR5QG0gr3HzqRfeWD2kCHvhvtnpd1Hu0qPCAAjQsQDAIjJHZYoRDzIyPIAWsWxrt70O4/PGzLkffKuaWndvhOlRwSA90zEAwCIyR2WKEQ8yMjyAFrJmd6B9BfPLBoy5H3o1slp9saDpUcEgPdExAMAiMkdlihEPMjI8gBaTf9AI33zlZVDhrzLx3ak5xfsLD0iAFw0EQ8AICZ3WKIQ8SAjywNoRVVVpfunbBgy5F1y08R0T+f61GhUpccEgAsm4gEAxOQOSxQiHmRkeQCt7LkFO9LlYzuGDHk3Prc0dfcNlB4RAC6IiAcAEJM7LFGIeJCR5QG0upkbDqQPjp80ZMj70mNz0+FTPaVHBIBhE/EAAGJyhyUKEQ8ysjyACNbuPZH+113Thwx5v3DvzLT5wKnSIwLAsIh4AAAxucMShYgHGVkeQBT7jp9Jn39ozpAh75oJk9PsjQdLjwgA5yXiAQDE5A5LFCIeZGR5AJGc6ulPf/LDhUOGvMvGTExPvb0tVVVVekwAOCsRDwAgJndYohDxICPLA4imf6CRxr22asiQd8lNE9M3X1mZevsbpccEgCGJeAAAMbnDEoWIBxlZHkBEVVWlp97eli4bM3TI+70n5qVDp3pKjwkANSIeAEBM7rBEIeJBRpYHENnsjQfTNRMmDxnyrr9nRlq370TpEQFgEBEPACAmd1iiEPEgI8sDiG7LwVPpl+6bNWTI+8D4SWniyn2lRwSA/yTiAQDE5A5LFCIeZGR5AO3geFdf+vKTC876P3l3d6xL/QP+Jw+A8kQ8AICY3GGJQsSDjCwPoF30DzTShDfWnDXk/dEP3kmH/U8eAIWJeAAAMbnDEoWIBxlZHkC7+fHCnemKsR1DhrxP3z09rdh1rPSIALQxEQ8AICZ3WKIQ8SAjywNoR0t2HEmfuHPakCHvqnGd6cVFO0uPCECbEvEAAGJyhyUKEQ8ysjyAdnXgZHf6vSfmnfXzmmNeXZV6+gdKjwlAmxHxAABicoclChEPMrI8gHbWd57/yfvCo3PTnmNnSo8JQBsR8QAAYnKHJQoRDzKyPABSem3Z7vS+WzqHDHk/c9uUNH3d/tIjAtAmRDwAgJjcYYlCxIOMLA+Af7d274n0c9+ZcdZXeXd3rEt9A43SYwIQnIgHABCTOyxRiHiQkeUB8F+OdfWmP/6XhWcNeV96zOc1ARhdIh4AQEzusEQh4kFGlgfAYAONKj04dWO6dMzQIc/nNQEYTSIeAEBM7rBEIeJBRpYHwNDmbj6Urrtj2llf5d3l85oAjAIRDwAgJndYohDxICPLA+DsDpzsTn/0g3fOGvK++NjctPtoV+kxAQhExAMAiMkdlihEPMjI8gA4t4FGlb477eyf17x2wuT05sq9pccEIAgRDwAgJndYohDxICPLA2B45p3n85rfeGlFOtXTX3pMAFqciAcAEJM7LFGIeJCR5QEwfOf7vObPf2dmWrbzaOkxAWhhIh4AQEzusEQh4kFGlgfAhRloVOmhaZvSZWf5vOblYzvSw9M3pYFGVXpUAFqQiAcAEJM7LFGIeJCR5QFwcZbsOJJ+9tszzvoq7/eemJd2HekqPSYALUbEAwCIyR2WKEQ8yMjyALh4J7r70j+8uPysIe+aWyen15fvSVXlVR4AwyPiAQDE5A5LFCIeZGR5ALx3ry/fk665dfJZY96Nzy1NR073lh4TgBYg4gEAxOQOSxQiHmRkeQCMjF1HutLvPj7vrCHvujumpqlr95ceE4AmJ+IBAMTkDksUIh5kZHkAjJz+gUZ6aNqmdPnYjrPGvG+8tCIdP9NXelQAmpSIBwAQkzssUYh4kJHlATDyluw4mn7h3plnDXmfunt6emvjwdJjAtCERDwAgJjcYYlCxIOMLA+A0dHV25/Gv776rCHvkpsmpnGvrUqne/pLjwpAExHxAABicoclChEPMrI8AEbX3M2H0qfvnn7WkPfz35mZ5m05VHpMAJqEiAcAEJM7LFGIeJCR5QEw+k5096V/emXFOV/ljXl1pf/KA0DEAwAIyh2WKEQ8yMjyAMhn+rr96eN3TjtryPvkXdPS1LX7S48JQEEiHgBATO6wRCHiQUaWB0BeR0/3pr/78bJzvsr76vNL06FTPaVHBaAAEQ8AICZ3WKIQ8SAjywOgjM5V+9J1d5z9Vd7P3DYlvbp0d6qqqvSoAGQk4gEAxOQOSxQiHmRkeQCUc6yrN/3jy+f+r7w//peFaffRrtKjApCJiAcAEJM7LFGIeJCR5QFQ3lsbD6br75lx1pD3/lsmpe/P3pL6BhqlRwVglIl4AAAxucMShYgHGVkeAM3hdE9/mvDGmnTpmLO/yvvV776Vluw4UnpUAEaRiAcAEJM7LFGIeJCR5QHQXJbsOJI+c/+sc35ic8yrK9Oxrt7SowIwCkQ8AICY3GGJQsSDjCwPgObT0z+QHpiyIV05ruOsIe9jt09Nry7dnaqqKj0uACNIxAMAiMkdlihEPMjI8gBoXpsPnEx/8P3553yV94f//E7afOBU6VEBGCEiHgBATO6wRCHiQUaWB0Bzq6oqvbJkd/ro7VPPGvKuHNeR7u5Yl0719JceF4D3SMQDAIjJHZYoRDzIyPIAaA1HT/emm/5t5Tlf5X3izmnptWU+sQnQykQ8AICY3GGJQsSDjCwPgNayaPuR9NkHZ58z5v3O4/PS6j3HS48KwEUQ8QAAYnKHJQoRDzKyPABaT29/Iz02a3N6/y2TzhryLh0zMY19bVU6erq39LgAXAARDwAgJndYohDxICPLA6B17T12Jn31+aXnfJX34W9NSc/O354GGj6xCdAKRDwAgJjcYYlCxIOMLA+A1jd/y+H0uQffOmfM+/xDc9K8LYdKjwrAeYh4AAAxucMShYgHGVkeADH0DzTS03O3pWsnTD5nzPuLZxanLQdPlR4XgLMQ8QAAYnKHJQoRDzKyPABiOXyqJ930byvTpWPOHvKuGNuRJryxJh3xf3kATUfEAwCIyR2WKEQ8yMjyAIhpxa5j6QuPzj3nq7xrJkxO//zWltTTP1B6XAD+HxEPACAmd1iiEPEgI8sDIK5Go0ovL96VPnHntHPGvJ/7zow0ceW+VFVV6ZEB2p6IBwAQkzssUYh4kJHlARBfV29/enDqxvT+WyadM+b9zuPz0tKdR0uPC9DWRDwAgJjcYYlCxIOMLA+A9vHu8e70/7+84pz/l3fJTRPTXz27OG0+cLL0uABtScQDAIjJHZYoRDzIyPIAaD9r9h5Pf/SDd84Z8i4bMzF985WVae+xM6XHBWgrIh4AQEzusEQh4kFGlgdAe6qqKk1buz/dcP+sc8a8q27uTHd1rEtHT/eWHhmgLYh4AAAxucMShYgHGVkeAO2tb6CRfjR/e/ro7VPPGfOuuXVyenTm5tTV2196ZIDQRDwAgJjcYYlCxIOMLA8AUkrpZHdfemDqxvSB8ZPOGfM+fue09Ow7O1LfQKP0yAAhiXgAADG5wxKFiAcZWR4A/HcHT/akCW+sSVeO6zhnzPu578xILy3elfrFPIARJeIBAMTkDksUIh5kZHkAMJSdh7vS115Yli4dc/aQd8lNE9Mv3jszvbp0t5gHMEJEPACAmNxhiULEg4wsDwDOZe3eE+nPnl50zpB3yU0T0w33z0qvL9+TBhpV6ZEBWpqIBwAQkzssUYh4kJHlAcBwLNx2JP3O4/POG/N+5YHZaeLKfakh5gFcFBEPACAmd1iiEPEgI8sDgOGqqirNXH8g/ebDb5835v3qd99Kk1aLeQAXSsQDAIjJHZYoRDzIyPIA4EJVVZWmrt2fPv/QnPPGvM8+ONtnNgEugIgHABCTOyxRiHiQkeUBwMVqNKo0afW+9LkH3zpvzPul+2allxbvSn0DjdJjAzQ1EQ8AICZ3WKIQ8SAjywOA96rRqNKbK/emX35g9nlj3vX3zEjPvrMjdfcNlB4boCmJeAAAMbnDEoWIBxlZHgCMlIFGlV5fvifdcN+s88a8T9w5LT05Z2vq6u0vPTZAUxHxAABicoclChEPMrI8ABhp/xHzPvvg+V/mffT2qemRGZvS8a6+0mMDNAURDwAgJndYohDxICPLA4DR8u//mfdu+o2H55w35n1g/KR0+5tr055jZ0qPDVCUiAcAEJM7LFGIeJCR5QHAaKuqKs3ccCD9zuPzzhvzrhjbkb7+4vK0/t0TpccGKELEAwCIyR2WKEQ8yMjyACCXqqrS/C2H0/958p3zxrxLbpqY/uSHC9P8LYdTVVWlRwfIRsQDAIjJHZYoRDzIyPIAoIQlO46mP3960bBi3hceeTt1rNqXBhpiHhCfiAcAEJM7LFGIeJCR5QFASRv3n0z/+PKKdOW4jvPGvF+4d2b60fzt6XRPf+mxAUaNiAcAEJM7LFGIeJCR5QFAM9h3/Ey6q2Nd+tCtk88b866dMDnd3bEu7Tl2pvTYACNOxAMAiMkdlihEPMjI8gCgmZzo7kuPz9qSPn7ntPPGvMvHdqQbn1ualuw44n/zgDBEPACAmNxhiULEg4wsDwCaUU//QHpx0c70mftnDft/815fvif19jdKjw7wnoh4AAAxucMShYgHGVkeADSzRqNKU9fuT7/7+LxhxbxP3jUtPTpzczpyurf06AAXRcQDAIjJHZYoRDzIyPIAoFWs2HUsfe2FZemKsR3njXlX39yZvvnKyrR6z/HSYwNcEBEPACAmd1iiEPEgI8sDgFaz/0R3um/yhvSR26YM63XeFx+bm15btjv19A+UHh3gvEQ8AICY3GGJQsSDjCwPAFpVd99AemHhzvTZB2cPK+Z99Pap6duT1qfdR7tKjw5wViIeAEBM7rBEIeJBRpYHAK2uqqr09qZD6c+eXjSsmHfZmInpL55ZlGZvPJgajar0+ACDiHgAADG5wxKFiAcZWR4ARLL14Kk0/vXV6UO3Th5W0PvFe2emJ+dsTce6ekuPDpBSEvEAAKJyhyUKEQ8ysjwAiOhUT3969p0dw/7U5lU3d6avvbAsvbP1cKoqr/OAckQ8AICY3GGJQsSDjCwPACKrqiot2Ho43fj80nTF2I5hBb0b7puVvj97Szp0qqf0+EAbEvEAAGJyhyUKEQ8ysjwAaBcHTnSnh6ZtSp+8a9qwYt6V4zrSjc8tTXM2+e88IB8RDwAgJndYohDxICPLA4B20zfQSJ2r9qU//Od3hhXzLrlpYvq578xIj8zYlPaf6C49PhCciAcAEJM7LFGIeJCR5QFAO9t84GS648216SO3TRlWzLt8bEf6i2cWp+nr9qf+gUbp8YGARDwAgJjcYYlCxIOMLA8ASKmnfyC9sWJv+qMfDP913sfvnJbu6liXNrx7svT4QCAiHgBATO6wRCHiQUaWBwAMtv3Q6fTtSevTdXcM77/zLrlpYvqtR95Oz8zbno6e7i09PtDiRDwAgJjcYYlCxIOMLA8AGFrfQCNNWv1u+uN/WZguHTO8mHfluI70N/+6JE1ftz/1+dwmcBFEPACAmNxhiULEg4wsDwA4v91Hu9IDUzemT909fdiv8667Y1q6c+LatP7dE6XHB1qIiAcAEJM7LFGIeJCR5QEAwzfQqNKsDQfSV59fmq66uXPYQe83Hp6Tnnp7Wzpwsrv0TwCanIgHABCTOyxRiHiQkeUBABfneFdfem7BjvTFx+YOO+ZdNmZi+spTC9IrS3ank919pX8C0IREPACAmNxhiULEg4wsDwB47zYfOJW+PWl9+uRd04Yd9K6+uTPd+PzSNHXt/tTb7//zgH8n4gEAxOQOSxQiHmRkeQDAyBloVGn2xoPp7368LF19AZ/b/JnbpqSxr61KC7cdSY1GVfpnAAWJeAAAMbnDEoWIBxlZHgAwOo6f6UvPL9iZvnQBn9u85KaJ6fp7ZqRvT1qf1r97IlWVoAftRsQDAIjJHZYoRDzIyPIAgNG383BXenj6pvSZ+2ddUND75Qdmp+9O25g2HzhZ+icAmYh4AAAxucMShYgHGVkeAJBPVVVp9Z7j6c6Jay/o//MuuWli+tyDb6WHp29KWw+eKv0zgFEk4gEAxOQOSxQiHmRkeQBAGQONKs3bfCj90ysr0jUTJl9Q0Pv8Q3PSozM3px2HT5f+GcAIE/EAAGJyhyUKEQ8ysjwAoLzuvoE0afW+9NfPLklXjeu8oKD3mw+/nZ6YvSXtOtJV+mcAI0DEAwCIyR2WKEQ8yMjyAIDmcvxMX3p58a70Jz9cmK4Y23FBQe83Hp6THpmxyX/oQQsT8QAAYnKHJQoRDzKyPACgeR093ZteXLQzfeWpBenyCwx6n7l/Vrp38vq0avfxVFVV6Z8CDJOIBwAQkzssUYh4kJHlAQCt4fCpnvT8gp3pj37wTrpszPBj3iU3TUzX3zMj3fbTtWnhtiNpoCHoQTMT8QAAYnKHJQoRDzKyPACg9Rw82ZOenb89/cH356dLLzDoXXfH1DTm1VVp9saDqbe/UfqnAP+DiAcAEJM7LFGIeJCR5QEArW3/ie70zLzt6Q//+cJf6F0zYXL62gvL0psr96aT3X2lfwqQRDwAgKjcYYlCxIOMLA8AiOPI6d700qJd6c+eXpSuGtd5QUHvynEd6StPLUjPzNuedh/tKv1ToG2JeAAAMbnDEoWIBxlZHgAQ08nuvvTGir3pxueWpg+Mn3RBQe8/wsH9UzakFbuOpYb/0YNsRDwAgJjcYYlCxIOMLA8AiK+7byBNXbs/feOlFenD35pywUHv43dOS2NeXZmmr9ufuvsGSv8cCE3EAwD+L3v3HV9lef9/HBAcqG1dtdVfRbGAAqYKbqpfaal1DxQnTtyb2sreGEBAkC3IHjKUmQkJIQFCQgIEEshkJSGDbJKQdXLevz8CFss5WefkPjc3r+fj8fnnW8/num/6ffRqP2/u64I1MYeFVRDiAQZi8wAA4PxSaavW1qQcDVqzT3eN3tTgQK/DYD/1WRClZZFHlVF40tOvA1gOIR4AAIA1MYeFVRDiAQZi8wAA4PxVXW3X3rQCTQxM0KOTwxoc6J0OGMb4xSviYK4qbdWefiXgnEeIBwAAYE3MYWEVhHiAgdg8AADAaekFJ7Uw/LB6/xChPw/0bXCg13logD5cEq0VO1OVXVTm6dcBzkmEeAAAANbEHBZWQYgHGIjNAwAAOHKirFK++zLUd/ke/WVEw+/Ra9PPR499F6ZvAuIVdThPVXylB9QLIR4AAIA1MYeFVRDiAQZi8wAAAHWpslUr8lCevvY9oO7jQxoV6HkND9THS3fpp+g0HT9R7ulXAkyLEA8AAMCamMPCKgjxAAOxeQAAgIY6nFOi+dsO6fW5kWo/yK9Rod4jk8Pk7XtAYUnHVVZp8/QrAaZBiAcAAGBNzGFhFYR4gIHYPAAAgCtOVti0OT5bQ9fG6oFxmxsV6LUf5KfeP0To+9AU7T9WJLvd7unXAjyGEA8AAMCamMPCKgjxAAOxeQAAAHex2+1KOV6sH7YeUu8fItRuYOO+0us6apO+WL5HP0WnKbuozNOvBRiKEA8AAMCamMPCKgjxAAOxeQAAgKZSWlGloANZGrRmn+4fE9yoQK9NPx89/G2oRm3Yr5CEbJ2s4OhNWBshHgAAgDUxh4VVEOIBBmLzAAAARrDb7UrOPqE5YQf1+txIdRjcuK/02g30U69Z4Zq0KVGRh/JUUVXt6VcD3IoQDwAAwJqYw8IqCPEAA7F5AAAATyivsml7co7G+sfr8Slhjf5K75bB/ur9Q4RmhKQoJrVAVTZCPZzbCPEAAACsiTksrIIQDzAQmwcAADCD3OJyrYs5pn+vjNG93kGNDvU6DwtQnwU79cPWQzqQUaTqarunXw1oEEI8AAAAa2IOC6sgxAMMxOYBAADM5vTRm3O3HtJb83fq1iH+jQ717hi5UR8t2aXFO44o5Xj8g2YbAAAgAElEQVSx7HZCPZgbIR4AAIA1MYeFVRDiAQZi8wAAAGZXUVWtHQdzNT4gQc9O36a2A3wbHep1HbVJHy3ZpYXhhxWfyZd6MB9CPAAAAGtiDgurIMQDDMTmAQAAzjXF5VXanJCtr30P6PEpYbqxf+MCvTb9fPSXEYF6Z2GU5oQd1N407tSD5xHiAQAAWBNzWFgFIR5gIDYPAABwrisorZB/bKaGro1Vj4lbGh3otenno05DA/T63EhN25ys6CN5qqgi1IOxCPEAAACsiTksrIIQDzAQmwcAALCa7BNlWhdzTP1/3qsHv9nsUqjXYbCfXp69Q5M2JWp7So5OVtg8/XqwOEI8AAAAa2IOC6sgxAMMxOYBAACsLi2/VCujUvXvlTEuh3o3D/DVU9O2acT6/fLdl6HsojJPvx4shhAPAADAmpjDwioI8QADsXkAAIDzTUbhSa3dk66Bq/fp7y4ev9mmn4/+Oi5YXyzfo8U7jig+s0jV1XZPvyLOYYR4AAAA1sQcFlZBiAcYiM0DAACc73KKy+Ufm6Hh6+P06OQw3djftVCv87Cae/WmBCVpe3KOSiuqPP2KOIcQ4gEAAFgTc1hYBSEeTOWFF1745T9cG1LNmzfXb3/7W7Vp00Z33323PvzwQy1YsEC5ubmefqVfYfMAAAD4tcKTlQqOz5K37wE9PW2b2g7wdSnUazvAV09M2aph6+K0Ye8xpReclN3O13pwjBAPAADAmpjDwioI8WAq7dq1a1SI56wuvvhivf7660pOTvb0q0li8wAAAKhLSXmVwpKOa+LGRL0yZ4duHeLv8hGcd43epPcWRWlGSIp2HMzlaz38ghAPAADAmpjDwioI8WAaJ06cUPPmzd0a4p2uSy+9VLNnz/b0K7J5AAAANFCVrVqx6YWav+2QPl66S/d6B7kc6t3U30ePTA7TgNX7tDIqVcnZJ7hb7zxFiAcAAGBNzGFhFYR4MI2wsLAmCfDOrEmTJnn0Hdk8AAAAXJdecFJr96RryNpYPTo5TDe5eK/e6bv1ev8QoYmBCdocn638kgpPvyYMQIgHAABgTcxhYRWEeDCNyZMnOwzerr/+enXr1s1p3Xfffbr11lt16aWX1hnitWjRQgEBAR57RzYPAAAA9ztRVqmwpOP6dmOiev8QoY5uOIKzTT8f/d83m/XF8j1asP2wdh/NV1mlzdOvCjcjxAMAALAm5rCwCkI8mMYbb7zhMHibOnVqvX5fVVWlbdu26bnnnqs1yOvcubOqq6ub+G0cY/MAAABoerZqu+KOFWrxjiP614oY/W1CiFtCvZsH+Oqx78LU/+e9WhZ5VLHphaq0eea/V8I9CPEAAACsiTksrIIQD6bh5eXlMHRrzH/ILl68WBdccIHTIG/16tVN8AZ1Y/MAAADwjMLSSm1JPK7Jm5L0xrxI/WVEoFuCvXaD/PT0tG0aujZWq6LTlJR1Qjbu1ztnEOIBAABYE3NYWAUhHkyhvLxcLVu2PCtsa968uYqKihrVc8yYMU5DvHfeecfNb1A/bB4AAADmYLfbdSinRD/vStOQtbF6YspW3TzA1y3B3q1D/NVrZrhGbdivtXvSdTinRHY7wZ4ZEeIBAABYE3NYWAUhHkwhKirKYdjWtm3bRvcsLy/X9ddf7/a+rmDzAAAAMK+ySpuiDudpduhBfbRkl+7zDnJLqNemn49uGxagV+bs0Fj/ePnszdDhnBJV88WexxHiAQAAWBNzWFgFIR5M4fvvv3cYtvXs2dOlvu+//77Dvi1btnTTkzcMmwcAAMC5JauoTBv3Z2lCYIJenxup2910DGebfj7qPDRAvWaFa/j6OP0Unab4zCJVcceeoQjxAAAArIk5LKyCEA+m8MEHHzgM20aOHOlS31mzZjk9UrOgoMBNT19/bB4AAADnNrvdrtS8UvnszZC33wG9PHuHOg8NcFuw126Qn56aulX9f96nJRFHtCe1QGWVNk+/tmUR4gEAAFgTc1hYBSEeTOGee+5xGLStX7/epb4rV650GuKlp6e76enrj80DAADAeqqr7Tp4vFhrdqdrxPr9em7Gdt0y2N9twV7bAb56+NtQ9V2+R3PCDmrHwVwVlVV6+rUtgRAPAADAmpjDwioI8eBxNptNl1xyicOgLTU11aXe8+fPdxri5efnu+kN6o/NAwAA4PxQZatWQuYJrYhK1eA1sXpq6la1G+jntmCvTT8fPTBus95fFK3Jm5IUEJep1LxS2e3cs9cQhHgAAADWxBwWVkGIB4+Li4tzGLJdeeWVLveeMGGCw96tWrWSzWb8sURsHgAAAOeviqpqxaYXasXOVA1dG6ueM7br1iHu+2KvTT8fdRoaoOdmbNegNTXHcUYfyVdJeZWnX920CPEAAACsiTksrIIQDx63aNEih0Fb9+7dXe793nvvOez95z//2Q1P3nBsHgAAADiTrdqu5Oxird2Trq99D+iVOTv0lxGBbg322vTz0YPf1Hy1N2lTovxjM3U0t1TV1Xy1R4gHAABgTcxhYRWEePC4vn37Ogza+vbt63LvDh06OOz94osvuuHJG47NAwAAAHWx2+1Kyy9VQFymJm5M1Nvzd+qer4PcHux1GhqgnjO2a+DqfVq844iij+Sp+Dz7ao8QDwAAwJqYw8IqCPHgcQ899JDDoG3hwoUu9Y2NjXV6H96sWbPc9PQNw+YBAACAxsopLteWxOOaHpKsj5bs0kPjQ3Rjf/cGe236+ajb2GC9NX+nxvjFa/XuNMUdK1RZpfFH0RuBEA8AAMCamMPCKgjx4HG/+93vHAZte/fudanvyy+/7LBvy5Ytdfz4cTc9fcOweQAAAMCdSiuqtPtovpZFHtWQtbHqNTNcnYcFuD3Yu6m/j7qPD9H7i6I1cWOiNuw9pqSsE6q0VXv6j8AlhHgAAADWxBwWVkGIB486ePCgw6DtoosuUmVlZaP7rl+/Xs2bN3fYu3fv3m58g4Zh8wAAAEBTO30c58b9WZoSlKSPluxS9yb6au/PA331z0mh+mTZbk0NTlJgXKaO5JacM/ftEeIBAIC6/Otf/3J62lePHj2abN1Ro0apW7duDaq//vWv+vvf/67HHntML730kj7//HONGzdOa9euVVJSUpM9qxkxh4VVEOLBo1atWuVwA7zjjjsa3TMyMlK/+c1vnIaDntyw2DwAAADgKScrbNqTWqAfI49q6NpY9ZrVNF/ttennow6D/fTElK3614oYzdqSoqADWTqSWyKbycI9QjwAAFCbpKQktWrVymmI9/vf/77J1r7jjjucrtvYuuaaa9SzZ08tXrxYRUVFTfbsZsAcFlZBiAePGjhwoMMN5a233mpwr6qqKk2bNk0XXXSR043K29u7Cd6i/tg8AAAAYCZ2u13pBScVdCBLU4OT9Mmy3Xr421DdPMC3ScK99oP8fvlyb/KmJPnszVBC5gmVV3nmzj1CPAAAUJsnn3yyzmAsMzPT7etWVlbqwgsvdHuId2a1bt1aH374oQ4ePOj25zcD5rCwCkI8eNSjjz7qcBOZPHlyvX5vs9m0a9cujRs3Tm3atKl1Y3r22Wdlt3v2b/6yeQAAAOBcUFFVrcSsE9qw95gmBibovUVRemh8iG5qgiM52/TzUdsBvuo+PkTvLIzSWP94/RSdppjUAhWXVzXpexLiAQAAZzZt2lSvMCwgIMDta+/Zs6dJA7z/PblswIABKi8vd/t7eBJzWFgFIR486g9/+IPDzeOWW26p9XznLl266KabblLr1q3rtRk9+eSTptiI2DwAAABwLiurtCk2vVA/70qTt98BvTV/p+4fE9wkwd7pus87SL1/iNDw9XFaEnFEEQdzlVdS4Zb3IcQDAACO2Gw2de7cuV5zx3Hjxrl9/blz5xoW4p2uO+64w1Jf5TGHhVUQ4sFjMjIymnzzadGihQYMGCCbzTPH8/wvNg8AAABY0YmySu06mq/lO49qxPr9enVOhO4cvalJw73bRwSq54zt+vfKGE0PSZZ/bKaSshp2NCchHgAAcGTGjBn1nj++8sorbl//k08+cbjWmDFjav1ddXW1Tp48qezsbMXGxmrdunUaM2aMnnrqKV1++eV1vssf//hH7d+/3+3v4wnMYWEVhHjwGB8fnyYN8O69915FRkZ6+jV/hc0DAAAA55P8kgrtPJynZZFHNXLDfr0+N7LJv9y7qb+PHhi3WW/Mi9Tw9XFatOOItifnKKPw5FnH6xPiAQCA/1VQUKCrr776rFnjFVdc4XAG2alTJ7c/Q7du3Ryu5e/v3+ieZWVlWr58ue66665aZ6p/+tOflJWV5ca38QzmsLAKQjx4zKhRo9we3LVu3VovvfSSgoODPf16DrF5AAAAAFJJeZX2pRVq9e40fRMQr/cWRan7hBC1HeDbpAHfrUP89dh3Yfp46S5N3Jio+8YEEeIBAIBf6du3r8O544wZMxxeDdSyZUu3XuNjt9t12WWXOXyGzMxMt/SfP3++0zWaNWumv/3tb254E89iDgurIMSDx/Ts2bNRQd0FF1yg1q1b67rrrlPXrl31wgsvaOTIkQoKClJZWZmnX6tWZ24eN998s7y8vBpdgwYNqnWtu+66y6X+Xl5eSk5Odtp/2bJlLvf/5JNPan2HHj16uLxGdHS00/6+vr4u9+/du3et7/D888+7vEZQUJDT/tu3b3e5/5NPPlnrO/Tp08flNX7++Wen/ePi4lzu/8ADD9T6Dl9++aXLa8ydO9dp//T0dJf7e3l51foOI0eOdLn/pEmTnPYvLi52yzsUFBQ4XWPKlCku9x82bFitf05dunRxeY3Dhw877b9w4UKX+3/xxRe1vkP37t1dXiMmJsZp/3Xr1rnc/80336z1HZ599lmX19iyZYvT/lu2bHG5/7PPPlvrO7z55psur7Fu3Tqn/WNiYlzu371791rf4YsvvnB5jYULFzrtf/jwYZf7d+nSpdZ3GDZsmMtrTJkyxWn/goICl/t7eXmpuLjY6RqTJk1yuf/IkSNr/XNyxzukp6c77T937lyX+3/55Ze1vsMDDzwgLy8v3Xablzp07Kyb2nfUdW076Kob2uny627WRb+/Sa2uubHW+uPb052Gd9c8M7DO37e65kZd9PubdE2b9vp/N9+itu076paOnXXbbTXv0KdPn1rf4cknn3T5z2n79u1O+wcFBbnc//nnn6/1HXr37u3yGr6+vk77R0dHu9y/R48etb7DJ5984vIay5Ytc9o/OTnZ5f533XVXre8waNAgl9eYMWOG0/45OTku9/fy8qr1f3+PHz/e5f7e3t5O+1dWVrrlHWr70mT27Nku9+/Xr1+t/17fd999Lq+RkJDgtP/KlStd7v/+++/X+g6PPPKIy2vUdopSYGCgy/1feumlWt/hpZdecnmNwMBAp/0jIyNd7v/II4/U+g7vv/++y2usXLnSaf+EhASX+9933321vkO/fv1cXmP27NlO+2dlZdWrR4cOHdS8efOz5pEXXXSRbrvtNv397393OK/ctWuXvL29XX6H8ePHKzEx0eEa1157rcv9vby8lJOTI0navXt3rUds/ulPf2pUf7PMLG+++WZCPFgCIR485sYbb3S4QURERHj60ZrMmSGeq/X666/XutbFF1/s8hpxcXFO+0+ZMsXl/o8//nit73D99de7vEZoqPO/Tb106VKX+9977721voOXl5fLa6xevdpp/4CAAJf7t2vXrtZ36N69u8trzJkzx2n/qKgol/tfeeWVtb7D888/7/IaY8eOddr/0KFDLvdv1qz2Lfn99993uf9XX33ltH9RUZFb3iE3N9fpGgMHDnS5f10D1JYtW7q8RmJiotP+EydOdLn/M888U+s7XHvttS6vER4e7rT/ggULXO5fV3DesWNHl9fYsGGD0/4bNmxwuX/Hjh1rfYcHHnjA5TUWLFjgtH94eLjL/a+99tpa3+GZZ55xeY2JEyc67e9suNCQatmyZa3v0KdPH5fXGDhwoNP+ubm5Lvdv1qyZioqKnK7x1Vdfudy/rgGqO97h0KFDTvuPHTvW5f51hUdXXnmly2v84fVJTkO8Kx/51OX+13boqgGr9+n70BQFxmUqMeuEyir/e/9eu3btXF4jICDA6Z/R6tWrXe7v5VX7Xxq69957XV5j6dKlTvuHhoa63P/666+v9R0ef/xxl9eoLfyPi4tzuf/FF19c6zu8/vrrLq9R2198yszMdLl/s2bNdPLkSadrOPuKpSFV21/6rKysdMs7pKWlOV1j9OjRLvd/+eWXa/33uj73U9VVtf3lrZkzZ7rc/+GHH671HZzNdhpStZ2mtHLlSpf7d+3atdZ36Nq1q8tr1BaABQcHu9z/xhtvrPUdHn74YZfXmDlzptP+MTExLve//PLLa32Hl19+2eU1Ro8e7bR/Wlqay/2bNWumzz77zOH/fd68eU7vsWtI9e3bV8uXL3f4r/Xo0cMt73Dm13wbN25Uq1at3NL3dJlxZkmIh3MZIR48Ij8/3+F/AF9wwQW1/g+Bcx0h3q+LEK9+RYhXdxHi1a8I8epXhHh1FyFe/YoQr+4ixKtfEeLVr8Yu8tE3AfH6cEm0/jkpVO0H+bk1xLvoBi+HAeG93kF68ftwXfHHG1xegxCv7iLEq18R4tWvCPHqLkK8+hUhXt1llRDv+++/d/h///zzz90W4vXr18/hv/bll1+65R3+90jOjz76yC19T5cZZ5aEeDiXEeLBI5z9F5i6BmrnOkK8XxchXv2KEK/uIsSrXxHi1a8I8eouQrz6FSFe3UWIV78ixKtfRUVF/apndbVdafmlCk08rjf7jXG5v7MQ73S1vOI6l9cgxKu7CPHqV4R49StCvLqLEK9+RYhXd1klxHM223vooYfcFuI5+/dz4cKFbnmH/w3x0tPTddFFF7mld7Nm5pxZEuLhXEaIB4+YMGGCw/8AfvXVVz39aE2KO/F+XdyJV7/iTry6izvx6lfciVe/4k68uos78epX3IlXd3EnXv3qfLoTz5WqbZjz888//+qfPX33Xus/tP3VnXgX1nJf3mVeD9ca4l3y57vrde/e6brk2rb6zfU36+ob2umPN3VQm3a3avZKP2UUnlR1tf2sd+BOvJriTrz6FXfi1a+4E6/u4k68+hV34tVdZr8T77rrHP9lnCuuuOJX/1xeXp7DO/OuuOIKt92Jd8011zh8Fnf8bwgvr//eiXemF1980eGaF1xwgW677bYG9TfLzJI78WAVhHjwiFdeecXhxjBhwgRPP1qTOjPEY/MAAAAAPOufk0J/FcT9c1KocorLtfNwnlZFp2l8QII+XrpLT0zZqs5DA2oN8dxZ7Qb5qfuEEL0xL1JD1sZqTthBBcRl6kBGkYrLqzz9xwYAgKUUFBTo6quvPmtO2bp1a4d/0alNmzYO55qpqakuP4uzLwZbt26t6upql/s74+yY0GbNmunAgQNNtm5TYg4LqyDEg0fceuutDjeF2o5QsAI2DwAAAMA8HIV4ztjtduUWlyv6SL5+3pWmiRsT9emy3Xpq6lbdNsy4gK9NPx91GblRT0/bpk+X7db4gAQt33lU21NylJZfKpuDr/gAAIBzX3zxhcM55ZAhQxz+886Obq7tSoD6Wr9+vcPe99xzj8u9a5OUlOQ0xFu1alWTrt1UmMPCKgjxYLjS0lK1aNHC4aaQl5fn6cdrUmweAAAAgHk0JMSrS0FphXYfzdea3ematClRn/+4W09P26bbRwQaGvD9eaCv/u+bzer9Q4QGrt6nWVtS5LM3QzGpBcotLpfdTsgHAMBpiYmJatWq1Vkzyj/84Q9Oj0zv16+fw7lmbXfy1deIESMc9q7raFtX2Ww2h8eEnssnpzGHhVUQ4sFw4eHhDjeEG264wdOP1uTYPAAAAADzcGeIV5vC0krFpBZo7Z50fReUpL7L9+i5Gdt11+hNhgZ8bfr5qMNgP/194ha9MS9SA1fv04yQFK2POabdR/OVfaKMkA8AcF554oknHM4pa7tfb/HixQ5/06tXL5ef55lnnnHYe+bMmS73rstvf/tbh2v379+/ydduCsxhYRWEeDDc9OnTHW4ITz/9tKcfrcmxeQAAAADmYVSIV5uTFTYlZZ1Q0IEszdt2SMPXx6nPgig9/G2obhnsb3jI1/7UfXyvzY1U/5/3adrmZK3dk67oI/nKKipTNcd1AgAsYuPGjQ5nlJ07d5bNZnP6uz179jj8Xfv27V1+Jmf37YWHh7vcuy5t27Z1uPZnn33W5Gs3BeawsApCPBiuT58+DjeE4cOHe/rRmhybBwAAAGAeZgjxamO323X8RM09fGt213zF9+XKGPWaFa57vYN0Y39jA742/XzUbqCfHhofot4/RKjfT3s1NThJa3anK+pwnjIKT3InHwDgnGCz2dSpUyeHM8qAgIBaf1teXq4LLrjgrN+1aNFCpaWljX6m/Px8h8/TokULlZSUNLpvfbVv397h+p9++mmTr90UmMPCKgjxYLguXbo43BDWrVvn6UdrcmweAAAAgHmYPcSrS1mlTSnHi7U5IVsLww9r1Ib9endhlB6ZHKaOQ4z/iq9NPx/dPMBX3cYGq9escH3+426N84/X4h1HFByfpfjMIhWVVXr6jw0AAE2bNs3hfPLhhx+u1+87dOjg8PeRkZGNfqbg4OAm+8KvPm644QaO0wRMiBAPhqqsrNSFF17ocENITU319OM1OTYPAAAAwDzO9RCvNna7XXklFdqTWiCfvRmatSVFQ9bG6q35O/WPb7foVg+FfG36+ajT0AD949stev3UkZ1Tg5P0U3SawlNydTS3VOVVzo8wAwDAVQUFBbrqqqscfvG2b9++evV47rnnGnyXXl3Gjx/vsOcLL7zQ6J4Ncc011zhcf9SoUYas727MYWEVhHgwlLMzo6+66ipPP5oh2DwAAAAA87ByiFcXu92u/JIK7UsrlN++DM0OPahh6+LUZ8FO/XNSqDoNDfBYyNemn4/uHL1JT03dqg8WR2vkhv2aE3ZQfvsyFJNaoOwT3M0HAGi8L774wuF88p133ql3j2HDhjns8fHHHzf6uV555RWHPb29vRvds75sNptatGjh9mDSk5jDwioI8WCoefPmOdwMevTo4elHMwSbBwAAAGAe53OIVxe73a7C0krFphfKPzZTc8IOavj6OL1z6rjO24Z5NuRrN9BPD36zWS9+H66+y/donH+8FoYfVmBcpvamEfQBABxLSEhQq1atzppNXnbZZcrMzKx3n1WrVjmccf71r39t9LPdeuutDnv6+fk1umd9paenO1y7WbNmCgoKavL1mwJzWFgFIR4M9cknnzjcDP797397+tEMweYBAAAAmAchnmsKT1Zq/7EiBcZlat62Qxq5Yb8+WBytp6Zu1Z2jN3k05GvTr+Z+vvvHBKvnjO36aOmuX77o27D3mKIO5yktv1QVVdWe/mMEABjo8ccfdzibHDFiRIP6xMfHO+zzm9/8RnZ7w/8SSWlpqdMv4TIyMhrcr6HOnFn+bx0+fLjJ128KzGFhFYR4MFS3bt0cbgZLly719KMZgs0DAAAAMA9CvKZVXmXTkdwShafk6qfoNE0NTlL/n/fp9bmR+se3W9TRg/fynVldR23SE1O2qs+CKA1eE6tpm5P1U3SatifnKOV4sUorqjz9RwkAcIPAwECHc8nrrrtOpaWlDepls9l00UUXOex36NChBj/bjh07HPb6/e9/3+BejTFt2jSnVyA1JpQ0A+awsApCPBjGbrfrsssuc7ghHDhwwNOPZwg2DwAAAMA8CPE8y263q/BkpeIzixQcn6VFO45onH+8Pv9xt3rNCle3scG6eYCvx0O+Nv18dNuwAP3j2y16bW6kvlq1VxM3JmppxFEFHchSbHqhsk+UycbxnQBgWjabTZ06dXI4l5w/f36jenp5eTnst2bNmgb3mjFjhsNeDz/8cKOeraH69OnjcP0nnnjCkPWbAnNYWAUhHgyTkJDgcDNo3bq1qqvPjyNM2DwAAAAA8yDEMz9btV1ZRWXadTRfG/Ye0+zQgxq2Lk7vLYrSE1O2qsvIjR4P+E5X2wG+uufrID05tearvoGr9+m7oCQt33lUm+OzFXesUDnF5dzVBwAe4OxLs9tvv73Rc8lXXnnFYc/hw4c3uNe7777rsNdXX33VqGdrqJtuusnh+mPHjjVk/abAHBZWQYgHwyQmJmrYsGFn1fTp0z39aIZh8wAAAADMgxDPGsqrbErNK1XkoTytizmm70NTNHx9nD5cEq1npm/Tvd5BamuSL/ra9Ku5q+8+7yA9NW2b3l1Yc4Tn1OAkrYhKVUhCtg5kFCmvpOKcPb4MAMwmPz9fV111lcOQKigoqNF9vb29HfZ89tlnG9zrzjvvdNhr2bJljX6++kpKSnJ6H158fHyTr99UmMPCKgjxAAOxeQAAAADmQYh3/jj9Rd+e1AL5x2Zq/rZD8vY7oM9/3K0XZoXrwW82q/0gP48HfGdWu4F+un9MsJ6Zvk3vL4rW0LU19/WtjEpVaOJxxWcWKZcv+wCgTp9//rnDgOrxxx93qe/69esd9m3btm2D+lRVVeniiy922Gv//v0uPWN9DB8+3OHaHTt2bPK1mxJzWFgFIR5gIDYPAAAAwDwI8XAmu92u/JIK7T9WpM3x2VoacVQTAxP0n1Ux6v1DhHpM3KLOwwI8Hu45+rLvnq+D9MSUrXpr/k59tWqvxgckaMH2w/Ldl6Gdh/N0OKdEJeVVnv4jBgDDJSQkqFWrVg5Dqvbt26tbt26Nrttvv91h3+bNm+vEiRP1fsa9e/c67HPJJZfIZrM14Z9Ozd7n7CjNkSNHNunaTY05LKyCEA8wEJsHAAAAYB6EeGiM4vIqJWcXa3tyjlbvTtPMLTXHd360dJeen7ldD4wz31d9p+vWIf568JvNem7Gdn2wOFpD1sZqSlCSfow8quD4LO1LK1RmYZkqbefHvfUArO+xxx5zelRkU9a2bfafpXIAACAASURBVNvq/YwLFixw2OOuu+5qwj+ZGitXrnS49oUXXqisrKwmX78pMYeFVRDiAQZi8wAAAADMgxAPTcVut6uwtFKJWSe0NSlHP0WnaXpIsoati9MHi6PVc8Z2dRsbrHYDzRn2tennoztGbtTD34bq1TkR+mL5Hn3te0CzQw9qze50bUvOUWLWCeWVVHCcJwDTCgwM9EiA16xZM02fPr3ez+nsuM933323Cf90pOrqanXu3Nnh2q+++mqTrm0E5rCwCkI8wEBsHgAAAIB5EOLB004f4RmfWaTQxONaGZWqaZuTNWRtrN5bFKVnpm/T/WOC9eeBvh4P9ZxV2wG+unP0Jv1zUqh6/xChz3/crVEb9mtGSIpWRKVqc3y29qYVKL3gpMoqm/ZYOAA4raqqSh07dvRYiPfee+/V+1kffPBBl4PAxvj2228drnvBBRcYchdfU2MOC6sgxAMMxOYBAAAAmAchHs4V1dV25RaXa/+xIoUkZGv5zqOatrnmy76PluxSr5nhemh8iDoNNd+dff9bnYcG6P9OHen53qIoDVy9TxM3JmpheM0dfhEHc5WcXazC0krZ7XzlB6Bxpk6d6rEAr1mzZrrnnnvq9Zx2u12/+c1vHPbYvn17k/35JCUl6dJLL3W4bp8+fZpsXSMxh4VVEOIBBmLzAAAAAMyDEA9WVFpRpaO5pYo+kie/fRlaGH5YEwIT1O+nvXp7/k49OXWr7vUO0s0DzPt13+n680Bf3f31Jj32XZhemxupvitqjvWctSVFP0WnKSQhW7HphcooPKnyKr7yA1AjPz9fV111lcOAKjw83K1rJSQkOFyndevWqq6u+37RlJQUh79v0aKFiouL3fqspxUWFuqWW25xuO7vfvc7HTt2rEnWNRpzWFgFIR5gIDYPAAAAwDwI8XA+q66uOcozMeuEtiXnaM3udM0OPaivfQ/oi+V79OqcCD38bajuGLnR42FefavT0AA9MG6znp62TW/P36kvV8bI+1TotzIqVcHxWdqTWqCjuaUqLq/iSz/Aoj777DOHAdXzzz/v9rWqqqrUqlUrh+slJibW+ftVq1Y5/G27du3c/qySVFxcrIceesjpF4SLFy9uknU9gTksrIIQDzAQmwcAAABgHoR4QP1U2qqVWVimfWmFCo7P0vKdRzUlKEnD1sXp46W79OL34eoxcYtuHxHo8SCvIdVukJ/u9Q7SY9+FqfcPEfrsx90avj5OU4OTtDTiqPxjMxR5KE/J2cXKL6lQdTWhH2B2CQkJatmy5VnhVKtWrZSSktIkazq7e2/lypV1/nbgwIEOf9urVy+3P2dOTo7uv/9+pwHeiy++6PY1PYk5LKyCEA8wEJsHAAAAYB6EeID7VdmqlX2iTPuPFSks6bjW7E7XnLCDGuMXry9XxujNeZF6cupW3ecdpHYD/Twe5DWk2g7wVddRG9Vj4ha9MCtcHy6J1qA1NXf6zd92SOtijmlbco4OZBQpu6hMFVV1H6UHwL0ee+wxhwHV559/3mRrPv/88w7XHDx4cJ2/feSRRxz+9uuvv3brM27btk3/7//9P6cB3t13362TJ0+6dU1PYw4LqyDEAwzE5gEAAACYByEe4Fl2u10nyip1KKdEUYfz5B+bocU7jmjypiQNXhOrD5dEq9escHWfECKv4efWV36nq9PQAHUbG6wnpmzVa3Mj9dmPuzVsXZwmb0rSwvDDWh9zTFuTchSbXqhjBSd1soK7/YDGCggIcHrPW15eXpOtO2TIEIfrPvnkk3X+9tprr3X4W19fX7c8W3Z2tvr06aPmzZs7DfA6dOigrKwst6xnJsxhYRWEeICB2DwAAAAA8yDEA84tFVU1x3rGphcqJCFbP0Wn6fvQFH3te0BfrozRW/N36qlp2/TXccHqOMTf4wFeY6v9qWM+H5kcppdn79BHS3dp0Jp9mhCYoLlbD2n17jRtTshWzKn7/YrKKrnfD+e9qqoqp8dafvPNN0269rJlyxyue8MNN9T6u4yMDKfBWnp6ukvPtGfPHr3//vu65JJLnK7RrFkzdenSRcePH3dpLbNiDgurIMQDDMTmAQAAAJgHIR5gbWWVNmUUnlRseqFCE2uO9vxh6yGND0hQ/5/36b1FUXp+5nZ1nxCi20cE6sb+ng/wGls3D/BV11Gb1GPiFvWaFa73FkWp3097NdY/Xt+HpmhFVKo27c9S9JE8pRwvVm5xuapsHPcJ65g6darDkKpNmzYqLy9v0rVjYmKchmQFBQVOf+fr6+vwN9dcc02D1q+oqFBSUpJ+/PFHff7557r55ptrDe5O1wsvvKCioiJXX9+0mMPCKgjxAAOxeQAAAADmQYgH4ExVtmrlFJcrMeuEwlNy5bM3Q4tOHe85dG2sPl66Sy/P3qF/TgrVXaM36eYBvh4P71ytzqeO+3x8SphenROhj5bu0sDV+/RNQLxmhx7UiqhUBcZlKvJQnhKzTiirqExllRz5CXPJz8/XlVde6TCoWrp0aZOvX1ZWphYtWjhcf8uWLU5/N3r0aIe/ufTSS9WtW7da684771SnTp103XXXOV3bWf32t7/V/Pnzm/zPxdOYw8IqCPEAA7F5AAAAAOZBiAfAFXa7XYUna+70iz6Sp8C4TC3feVTTQ5I1asN+/WtFjN6ev1PPTN+mh8aH6C/n+Nd+Z1aHwX665+sg/XNSqF449eXfV6v2ytv3gKaHJGtpxFH57svQ9uQcxR0rVFp+qYrLqzj2E03is88+cxhW3XXXXYb9/5yzr9++++47p7957rnnGhS+uVoXXnihvvjiC+Xm5hryZ+JpzGFhFYR4gIHYPAAAAADzIMQDYDRbtV15JRVKOV6sqMN52rg/SyuiUjVrS4rG+MWr30979e7CKPWaGa4eE7eo66iNamuBL/5OV82xnxv1twkh6jlju96ev1N9V+zRiPX79V1QkhaGH9baPekKScjW7qP5Oni8WDnF5ark6E84ER8fr5YtWzoMrUJDjdvXn3jiCYfP8Pbbbzv9Tdu2bQ0J7/70pz9p+PDhLt+zd65hDgurIMQDDMTmAQAAAJgHIR6Ac4HdbldRWaWO5JZoT2qBNidk6+ddafph6yFNCEzQwNX79NGS/x71ec/XQWo3yM/jgZ2765bB/rrn6yA9/G2onp+5XX0W7FTf5Xs0bF2cvt2YqB+2HtKq6DQFxmUq4mCuDmQU6VjBSZXwBaClPfroow6Dq6eeesrQ5/jPf/7j8Dm6du3q8J8vLCxU8+bNmyS0a968uby8vPTVV18pJCRENtv5eQQuc1hYBSEeYCA2DwAAAMA8CPEAWJXdbldpRZXSC04qNr1QYUnHtS7mmBZsP6zJm5I0Yv1+9V2xR2/P36meM7brbxNC1HXURkvc8+fsC8A7Rm7U/32zWU9N3areP9Tc/zdg9T6N8YvXjJAULY04qg17jyks6bhiUgt0OKdEeSUVquIrQNPKz8/X8OHDNWzYsLMqJSXF0GfZuXOnw+cYM2aMw39+y5YtjQroWrZsqcsuu0xXX3212rRpo3vuuUc9e/bUp59+qmnTpmnr1q0qKioy9N3NijksrIIQDzAQmwcAAABgHoR4APBrdrtdxeVVSssvVWx6obYl58hnb4aWRBzRtM3J8vY9oK9W7dV7i6L0wqzwX7786zDYel/+nVmdhgboPu+aOwB7zQrXOwuj9OXKGI1Yv1+TNyVp3rZD+unUV4DhKbmKO1ao1LxSFZRWyFbNV4CAJzCHhVUQ4gEGYvMAAAAAzIMQDwDcp6zSpqyiMiVknlDEwVwFxGVqRVSqZoce1DcB8TXHfi7dpVfnROjxKWHqNjZYnYcGeDygM6I6Dqk5CvQf325Rzxnb9ca8SH26bLcGnvoScHpIshbtOKK1e9K1OT5bUYfzlJB5QhmFJ1XMcaBAozCHhVUQ4gEGYvMAAAAAzIMQDwA8r9JWrdzicqUcL9auo/naHF9z59/8bYc0eVOSRm7Yry9Xxujdhf/9+u/+McHqdJ4EgG36+eim/j7yGh6obmOD9cjkML0wK1x9FkT9cifghMAEfR+aoh8jj8pnb4ZCE49rT2qBUo4XK/tEmcoqz8870XB+Yw4LqyDEAwzE5gEAAACYByEeAJzbqmzVyi+p0OGcEu1NK1BY0nH57M3Q0oijmrklRWP94zVg9T59vHSXev8QoaembdND40N0x0jr3v/nrNoN9FOXkRv10PgQPTl1q16Zs0MfLI7Wf1bVHAv67cZEzQk7qB8ja+4GDEnIVvSRmi8C0wtOqqiskqNBcU5hDgurIMQDDMTmAQAAAJgHIR4AnL/sdrtKyquUUXhS8ZlFijiYq437s7QqOk1ztx7StxsTNWxdnPqu2KM+C3aq18xwPfxtzR2Atw7x93go56nqOMRfd3+9SX+bEKKnpm3Tq3Mi9MHiaP17ZYyGr4/TxFNfBS6NOKp1Mce0OaHmeND4zCKl5ZeqsLRSVbZqT//bj/MAc1hYBSEeYCA2DwAAAMA8CPEAAI1VUVVzDOjB48XafTRfoYk1XwH+GHlU34emaEJgQk0IuHyP+iyoOQr0kck1dwF6DQ/UTf09H8h5sm4Z7K87R29S9wkheurUl4HvLYrSv1bEaNi6OI0PSNCsLSlaElFzV2BwfJYiD+Vp/7EipeaVqqC0QpWEgagFc1hYBSEeYCA2DwAAAMA8CPEAAJ5it9tVfOpLwITME4o6nKfN8dlauyddi3Yc0fSQZI3xi9fA1fv06bLdemNepHrO2K5/fLtF93wdpI7n8deAZ1aHwX7qOmqT/u+bzXrsuzD1mhWut+bv1CfLdqv/z3s1akPNUaGzQw/+8nVgcHyWIg7mKja9UIdzSnT8RLlOVthkt3NcqJUwh4VVEOIBBmLzAAAAAMyDEA8AcC6rslWroLRCqXmlijtWqPCUXAXGZeqn6DTN23ZI3wUlabTPfvX7aa8+XBL9y72A3ceHqOuoTWo/yM/jIZyZ6qb+Puo8LED3egfp7xO36Klp2/TKnB16d2GU+i7fo8FrYjXGL15Tg5M0b9shrYhKle++DG1JPK7oIzVHhqbmlSq/pEIVVXwl6GnMYWEVhHiAgdg8AAAAAPMgxAMAnO/Kq2zKK6nQ0dxSxaYXasfBXG3an6U1u2u+CJwRkqJvAuI1dG2s+i7fo3cWRuml73foiSlb9dCpMLDDYMJAR9VuoJ9uHxGobmOD9c9Joeo5Y7temxupD5dE6z+rau4QnBCYoJlbUrRoxxGt3p2mwLhMbU/OUUxqgZKzT+hYwUkVllZydGgjMIeFVRDiAQZi8wAAAADMgxAPAAD3qKiqVn5JzVeB+48VKfJQnoLjs7R2T7qWRBzRzC0pGh9Qc0/gv1bE6L1FUXplzg49NXWruk8I0Z2jN+mWwRwRWlco+JcRgbp/TLB6nPpS8OXZO9RnQZQ++3G3+v+8T6M27NfEjYmadSoY/HlXmvxjMxWWdFzRR/J/+Vowt7hcZZXWPkKUOSysghAPMBCbBwAAAGAehHgAAJhLla1ahaWVSssvVXxm0S93Ba6LOaalEUf1fWiKJgYmaPj6OP17ZYw+WBytV+dE6Olp29Rj4hbd5x2k24YF6Kb+ng/dzoW6qb+POg8N0N1fb1L38SE19wrODNcb8yL10ZJd+vfKGA1bF6dx/vGatjm55hjRnanasPeYNsdn/3K34MHjxcoqKtOJskrZqs0RDDKHhVUQ4gEGYvMAAAAAzIMQDwAAa7Lb7TpZYdPxE+U6nFOi2PRCRRzMVXB8ltbFHNOyyKOaE3ZQkzYlarTPfvX/eZ8+XbZbb8/fqRdmhevxKWF6aHzNF4K3DuELwYZWh8F+6jJyo/46ruYo0Wenb1PvHyL03qKa+wUHrt6n0T5nfDUYflirotPkty9DIQnZijyU90s4mFlYpsKTDT9SlDksrIIQDzAQmwcAAABgHoR4AACgPmzVdp0oq1RmYZmSs4sVk1qg7ck5CozL1OrdaVq0o+bI0AmnvhL8z6oYfbRkl16fG6nnZmzXPyeF6q/jgnXHyI1qN4g7BBtb7Qb6yWt4oO7zDtLfJoToiSlb1WtWuN489eXglytjNHRtrMb4xeuzScuYw8ISCPEAAxHiAQAAAOZBiAcAADzhzDsE4zOLFH0kT1sSj8t3X4ZWRKVq3rZDmrY5Wd8ExGvYulOh4NJdenNepHqd+lKw+/gQ3f31JnUeyvGhjuraV8cxh4UlEOIBBiLEAwAAAMyDEA8AAFiB3W5XWaVNucXlZwSD+QpLOi7/2Ez9vKvma8FZW1I0cWOiRm2oOUL0sx93q8+CKL08e4eeOnWv4P1jgvWXEYFqN/Dc/mKQEA9WQYgHGIgQDwAAADAPQjwAAADnKqqqVVhaqWMFJ5WcfaLmGNGUHG3an6W1e9J/uVvwu6Akefsd0OA1sfrXihh9sDhar506SvSRyWF68JvN6jrK2PsFCfFgFYR4gIEI8QAAAADzIMQDAAAwVnW1XSXlVTp+olxHckt0IKPmq8GtSTkKiMvUmt3pWhrx33BwjF+8hq6N1Zcra+4ZfHNepF6YFa4npmzV3yaE6D7vIHkNP/vLQUI8WAUhHmAgQjwAAADAPAjxAAAArKPKVq2iskplFpZpxfpA5rCwBEI8wECEeAAAAIB5EOIBAABYE3NYWAUhHmAgNg8AAADAPAjxAAAArIk5LKyCEA8wEJsHAAAAYB6EeAAAANbEHBZWQYgHGIjNAwAAADAPQjwAAABrYg4LqyDEAwzE5gEAAACYByEeAACANTGHhVUQ4gEGYvMAAAAAzIMQDwAAwJqYw8IqCPEAA7F5AAAAAOZBiAcAAGBNzGFhFYR4gIHYPAAAAADzIMQDAACwJuawsApCPMBAbB4AAACAeRDiAQAAWBNzWFgFIR5gIDYPAAAAwDwI8QAAAKyJOSysghAPMBCbBwAAAGAehHgAAADWxBwWVkGIBxiIzQMAAAAwD0I8AAAAa2IOC6sgxAMMxOYBAAAAmAchHgAAgDUxh4VVEOIBBmLzAAAAAMyDEA8AAMCamMPCKgjxAAOxeQAAAADmQYgHAABgTcxhYRWEeICB2DwAAAAA8yDEAwAAsCbmsLAKQjzAQGweAAAAgHkQ4gEAAFgTc1hYBSEeYCA2DwAAAMA8CPEAAACsiTksrIIQDzAQmwcAAABgHoR4AAAA1sQcFlZBiAcYiM0DAAAAMA9CPAAAAGtiDgurIMQDDMTmAQAAAJgHIR4AAIA1MYeFVRDiAQZi8wAAAADMgxAPAADAmpjDwioI8QADsXkAAAAA5kGIBwAAYE3MYWEVhHiAgdg8AAAAAPMgxAMAALAm5rCwCkI8wEBsHgAAAIB5EOIBAABYE3NYWAUhHmAgNg8AAADAPAjxAAAArIk5LKyCEA8wEJsHAAAAYB6EeAAAANbEHBZWQYgHGIjNAwAAADAPQjwAAABrYg4LqyDEAwzE5gEAAACYByEeAACANTGHhVUQ4gEGYvMAAAAAzIMQDwAAwJqYw8IqCPEAA7F5AAAAAOZBiAcAAGBNzGFhFYR4gIHYPAAAAADzIMQDAACwJuawsApCPMBAbB4AAACAeRDiAQAAWBNzWFgFIR5gIDYPAAAAwDwI8QAAAKyJOSysghAPMBCbBwAAAGAehHgAAADWxBwWVkGIBxiIzQMAAAAwD0I8AAAAa2IOC6sgxAMMxOYBAAAAmAchHgAAgDUxh4VVEOIBBmLzAAAAAMyDEA8AAMCamMPCKgjxAAOxeQAAAADmQYgHAABgTcxhYRWEeICB2DwAAAAA8yDEAwAAsCbmsLAKQjzAQGweAAAAgHkQ4gEAAFgTc1hYBSEeYCA2DwAAAMA8CPEAAACsiTksrIIQDzAQmwcAAABgHoR4AAAA1sQcFlZBiAcYiM0DAAAAMA9CPAAAAGtiDgurIMQDDMTmAQAAAJgHIR4AAIA1MYeFVRDiAQZi8wAAAADMgxAPAADAmpjDwioI8QADsXkAAAAA5kGIBwAAYE3MYWEVhHiAgdg8AAAAAPMgxAMAALAm5rCwCkI8wEBsHgAAAIB5EOIBAABYE3NYWAUhHmAgNg8AAADAPAjxAAAArIk5LKyCEA8wEJsHAAAAYB6EeAAAANbEHBZWQYgHGIjNAwAAADAPQjwAAABrYg4LqyDEAwzE5gEAAACYByEeAACANTGHhVUQ4gEGYvMAAAAAzIMQDwAAwJqYw8IqCPEAA/n7+/+yeUyfPl1bt26lKIqiKIqiKMpDdfenU3Xtq+N+qbs/nerxZ6IoiqIoiqJcr+nTp/8yh/X39/f0WBhoNEI8wEBnbh4URVEURVEURVEURVEURVFU09b06dM9PRYGGo0QDzAQIR5FURRFURRFURRFURRFUZRxRYiHcxkhHmCgo0ePavr06Zo+fbr8/f09/lk5RVEURVEURVEURVEURVGU1crf3/+XOezRo0c9PRYGGo0QDwAAAAAAAAAAADAZQjwAAAAAAAAAAADAZAjxAAAAAAAAAAAAAJMhxAMAAAAAAAAAAABMhhAPAAAAAAAAAAAAMBlCPAAAAAAAAAAAAMBkCPEAAAAAAAAAAAAAkyHEAwAAAAAAAAAAAEyGEA8AAAAAAAAAAAAwGUI8AAAAAAAAAAAAwGQI8QAAAAAAAAAAAACTIcQDAAAAAAAAAAAATIYQDwAAAAAAAAAAADAZQjwAAAAAAAAAAADAZAjxAAAAAAAAAAAAAJMhxAMAAAAAAAAAAABMhhAPAAAAAAAAAAAAMBlCPAAAAAAAAAAAAMBkCPEAAAAAAAAAAAAAkyHEAwAAAAAAAAAAAEyGEA8AAAAAAAAAAAAwGUI8AAAAAAAAAAAAwGQI8QAAAAAAAAAAAACTIcQDAAAAAAAAAAAATIYQDwAAAAAAAAAAADAZQjwAAAAAAAAAAADAZAjxAAAAAAAAAAAAAJMhxAMAAAAAAAAAAABMhhAPAAAAAAAAAAAAMBlCPAAAAAAAAAAAAMBkCPEAAAAAAAAAAAAAkyHEAwAAAAAAAAAAAEyGEA8AAAAAAAAAAAAwGUI8AAAAAAAAAAAAwGQI8QAAAAAAAAAAAACTIcQDAAAAAAAAAAAATIYQDwAAAAAAAAAAADAZQjwAAAAAAAAAAADAZAjxAAAAAAAAAAAAAJMhxAMAAAAAAAAAAABMhhAPAAAAAAAAAAAAMBlCPAAAAAAAAAAAAMBkCPEAAAAAAAAAAAAAkyHEAwAAAABYwoQJE9SsWbOzatq0aW5dp6KiQu3btz9rneuvv14lJSVuXQsAAADA+YsQDwAAAABgCeHh4Q5DvNdee82t63h7eztcZ9myZW5dBwAAAMD5jRAPAAAAAGAJFRUVuvjii88K19q3b++2NdLS0nTppZeetcaDDz7otjUAAAAAQCLEAwAAAABYSLdu3c4K2Jo3b678/Hy39O/Vq9dZ/S+44ALt3bvXLf0BAAAA4DRCPAAAAACAZXz11VcOj7oMCAhwuXdwcLDD3h9//LEbnhwAAAAAfo0QDwAAAABgGWvXrnUYtI0YMcKlvlVVVerYseNZfa+++mq3feUHAAAAAGcixAMAAAAAWMbx48cdhniPPvqoS30nTJjgsO+sWbPc9OQAAAAA8GuEeAAAAAAAS2nXrt1ZYdtVV13V6H4ZGRm6/PLLz+p5xx13qLq62o1PDgAAAAD/RYgHAAAAALCUN954w+FXc8nJyY3q9+qrr57Vq3nz5tq+fbubnxwAAAAA/osQDwAAAABgKbNnz3YY4i1ZsqTBvcLCwhz2eu2115rgyQEAAADgvwjxAAAAAACWEhcX5zB4+/TTTxvUx2azycvL66w+l19+uTIyMpro6QEAAACgBiEeAAAAAMBS7Ha7fve7350Vvt19990N6jNlyhSHYeD48eOb6MkBAAAA4L8I8QAAAAAAlvPoo4+eFb5deOGFKi8vr9fvs7OzHQaBHTp0UGVlZRM/PQAAAAAQ4gEAAAAALGjUqFEOv6LbsWNHvX7/1ltvOfx9QEBAEz85AAAAANQgxAMAAAAAWM7mzZsdhnCTJ0+u87c7duxQ8+bNz/rt008/bcCTAwAAAEANQjwAAAAAgOWUlJSoZcuWZwVxL7/8cq2/q66uVteuXc/63cUXX6xDhw4Z9PQAAAAAQIgHAAAAALCoLl26nBXGtW3bttbfzJo1y+EXfEOGDDHoqQEAAACgBiEeAPz/du7fJas/jONwT4lUEFaEYIgQSsMztRSRBCHU2CQ4C0ItIo79IvoLqqlJaitoaIjGiMaoJSpqcClxCCOkqAjBuy3oe05m36HP7cfrgmd5zj289xfnAABQpenp6dYgt7S01Hr/4cOH2Lt3b+N+aGgovnz58o/XAwAAm52IBwAAQJVu377dGvHu37/fen/mzJnW+7t37/7j5QAAACIeAAAAlXr37l1rlLt48WLj9tmzZ7F169bG7djYWIHlAAAAIh4AAAAVGxwcbIS5kydP/nKzuroaR48ebdz19PTEy5cvCy0HAAA2OxEPAACAak1MTDTi3O7du2N1dfXnzdzcXOsbezMzMwWXAwAAm52IBwAAQLWuX7/eGuhev34dERHLy8vR39/feN7f3x/Ly8uF1wMAAJuZiAcAAEC1nj592hrxbt26FRER09PTrc/n5uYKLwcAADY7EQ8AAIBqraysxM6dOxuR7uzZs/H8+fPYtm1b49mRI0d++dwmAABACSIeAAAAVTtx4kQj1B06dCiOHz/e+L/T6cSTJ09KTwYAABDxAAAAqNuFCxdaP5nZ9pucnCw9FwAAICJEPAAAACr34MGDdQW8vr6+eP/+fem5AAAAESHiAQAAULmPHz9Gp9P5Y8S7evVq6akAAAA/iXgAAABUr9vtrhnwut1urKyslJ4JAADwk4gHAABA9aamptaMeA8fPiw9EQAA4BciHgAAANW7efPmbwPe+Ph46XkAAAANIh4AAADVe/HiRWvA27FjR7x9m43hEQAAA61JREFU+7b0PAAAgAYRDwAAgOpdvny5NeJduXKl9DQAAIBWIh4AAABVW1pail27djUC3oEDB+Lbt2+l5wEAALQS8QAAAKja7Oxs61t49+7dKz0NAADgt0Q8AAAAqjU/Px+9vb2NgHfq1KnS0wAAANYk4gEAAFCt06dPNwJeb29vvHnzpvQ0AACANYl4AAAAVOnOnTutn9E8d+5c6WkAAAB/JOIBAABQnfn5+dizZ08j4A0PD8fXr19LzwMAAPgjEQ8AAICqLCwsxMGDBxsBr9PpxKNHj0rPAwAAWBcRDwAAgCp8/vw5bty4Efv27Wv9jObs7GzpiQAAAOsm4gEAALDhnD9/PkZHR2N0dDSOHTsW3W43enp6WuPdli1b4vDhw/H9+/fSswEAANZNxAMAAGDDGRkZ+W2w++9v//79sbCwUHoyAADAXxHxAAAA2FA+ffoUnU5nXQFvYGAgXr16VXoyAADAXxPxAAAA2FAeP368roA3Pj4ei4uLpecCAAD8LyIeAAAAG8q1a9cawW779u0xMDAQY2NjcenSJW/fAQAAG56IBwAAAAAAAMmIeAAAAAAAAJCMiAcAAAAAAADJiHgAAAAAAACQjIgHAAAAAAAAyYh4AAAAAAAAkIyIBwAAAAAAAMmIeAAAAAAAAJCMiAcAAAAAAADJiHgAAAAAAACQjIgHAAAAAAAAyYh4AAAAAAAAkIyIBwAAAAAAAMmIeAAAAAAAAJCMiAcAAAAAAADJiHgAAAAAAACQjIgHAAAAAAAAyYh4AAAAAAAAkIyIBwAAAAAAAMmIeAAAAAAAAJCMiAcAAAAAAADJiHgAAAAAAACQjIgHAAAAAAAAyYh4AAAAAAAAkIyIBwAAAAAAAMmIeAAAAAAAAJCMiAcAAAAAAADJiHgAAAAAAACQjIgHAAAAAAAAyYh4AAAAAAAAkIyIBwAAAAAAAMmIeAAAAAAAAJCMiAcAAAAAAADJiHgAAAAAAACQjIgHAAAAAAAAyYh4AAAAAAAAkIyIBwAAAAAAAMmIeAAAAAAAAJCMiAcAAAAAAADJiHgAAAAAAACQjIgHAAAAAAAAyYh4AAAAAAAAkIyIBwAAAAAAAMmIeAAAAAAAAJCMiAcAAAAAAADJiHgAAAAAAACQjIgHAAAAAAAAyYh4AAAAAAAAkIyIBwAAAAAAAMmIeAAAAAAAAJCMiAcAAAAAAADJiHgAAAAAAACQjIgHAAAAAAAAyYh4AAAAAAAAkIyIBwAAAAAAAMn8AMdAq0amn1JbAAAAAElFTkSuQmCC\" width=\"799.65\">"
      ],
      "text/plain": [
       "<IPython.core.display.HTML object>"
      ]
     },
     "metadata": {},
     "output_type": "display_data"
    },
    {
     "data": {
      "application/vnd.jupyter.widget-view+json": {
       "model_id": "2c316a3ab95746c2808c87242cd5dede",
       "version_major": 2,
       "version_minor": 0
      },
      "text/plain": [
       "interactive(children=(IntSlider(value=1000, description='M', max=2000, min=100, step=10), FloatSlider(value=12…"
      ]
     },
     "metadata": {},
     "output_type": "display_data"
    }
   ],
   "source": [
    "%matplotlib notebook\n",
    "import ipywidgets as ipw\n",
    "import numpy as np\n",
    "import matplotlib.pyplot as plt\n",
    "from livePlot import *\n",
    "\n",
    "plot = livePlot()"
   ]
  },
  {
   "cell_type": "markdown",
   "metadata": {},
   "source": [
    "\n",
    "## Long-run Dynamics\n",
    "\n",
    "The distinction between long-run and short-run is critical for understanding dynamics that develop between the money market and the non-money goods market. In the long-run, the price level fully reflects changes in $AD$, whether the shift in $AD$ is a result of a change in $M$ or a change in $V$. In the short-run, changes in real income absorb changes in $AD$. While long-run changes are essentially inevitable, short-run changes do not ever need to occur. If they are observed, they occur only in the short-run.[1] After investigating long-run dynamics, we will consider short-run dynamics.\n",
    "\n",
    "### Case 1: Aggregate Demand Increases\n",
    "> <img src=\"https://github.com/jlcatonjr/Macroeconomics-Growth-and-Monetary-Equilibrium/blob/main/Chapter%206/Figure%202.png?raw=true\" alt=\"Aggregate Demand Increases\"/>\n",
    "> <center> <b> Figure 2\n",
    "\n",
    "\n",
    "\n",
    "An increase in $AD$ represents an increase in the value of total expenditures across the economy (Figure 2). By definition, this value of total expenditures matches the value of nominal income. In the long-run, an increase in $AD$ will lift the price level from $P_0$ to $P_1$. Notice that this results in an increase in nominal income from a value of $P_0y_0$ to $P_1y_0$. This increase in nominal income does not entail an increase in real income in the long-run. This would only happen if the long-run aggregate supply shifted to the right and would be represented by a $y_1$ whose value is greater than $y_0$.\n",
    "\n",
    "> <img src=\"https://github.com/jlcatonjr/Macroeconomics-Growth-and-Monetary-Equilibrium/blob/main/Chapter%206/Figure%203.png?raw=true\" alt=\"Decrease in Supply of Money\"/>\n",
    "> <center> <b> Figure 3\n",
    "\n",
    "The increase in $AD$ can come from one of two sources: either an increase in the quantity of money, $M$, or an increase in portfolio demand, $k$. We will consider the more intuitive case of an increase in $M$ first. If the increase in the quantity of money occurs when the economy is already in equilibrium, the shift will most obviously change the price of money, $P_m$. Since $P_m=\\frac{1}{P}$, the a change in the average price of money is simply the corollary to amovement of the price level in the opposite direction.\n",
    "\n",
    "The increase in the quantity of money represents a movement along the demand curve. This demand curve includes both portfolio demand, $k$, and transactions demand, $Py$. For now, we assume that these sources of demand remain constant. Thus, the increase from $M_0$ to $M_1$ translates directly to a fall in $P_m$ from $P_{m_0}$ to $P_{m_1}$.\n",
    "\n",
    "> <img src=\"https://github.com/jlcatonjr/Macroeconomics-Growth-and-Monetary-Equilibrium/blob/main/Chapter%206/Figure%204.png?raw=true\" alt=\"Decrease in Portfolio Demand for Money\"/>\n",
    "> <center> <b>Figure 4: \n",
    "\n",
    "Only a shift in $k$ represents an inverse change in portfolio demand as $k$ represents the portion of the money stock that individuals choose to hold throughout the period under consideration. Since $k$ is the inverse of $V$, so long as $V$ is greater than 1, then $k$ is a fraction less than 1. As with the increase in $M$, a fall in $k$ leads to a fall in the $P_m$ from $P_{m_0}$ to $P_{m_1}$. This coincides with an increase in $P$ from $P_0$ to $P_1$. Thus, a fall in the value of money is tantamount to a rise in the price level. This fall in the price level means that the new value of nominal income, $P_1y_0$ is less than the old value, $P_0y_0$.\n",
    "\n",
    "# Case 2: Aggregate Demand Falls\n",
    "\n",
    "> <img src=\"https://github.com/jlcatonjr/Macroeconomics-Growth-and-Monetary-Equilibrium/blob/main/Chapter%206/Figure%205.png?raw=true\" alt=\"Increase in AD\"/>\n",
    "> <center> <b>Figure 5 \n",
    "\n",
    "A fall in $AD$ represents an decrease in the value of total expenditures across the economy (Figure 6). This results in a fall in nominal income. In the long-run, an fall in $AD$ will depress the price level from $P_0$ to $P_1$. Notice that this results in a decrease in nominal income from a value of $P_0y_0$ to $P_1y_0$. The long-run level of real income, $y_0$, remains unaffected. Just as a rise in $M$ increases $AD$, a fall in $AD$ may occur due to a shrinking of the money stock. With less money in the economy, the previous equilibrium level of prices could only be sustained if individuals tended to decrease their cash holdings in response. For clarity, we consider cases where only one of the variables comprising aggregate demand changes.\n",
    "\n",
    "    \n",
    "> <img src=\"https://github.com/jlcatonjr/Macroeconomics-Growth-and-Monetary-Equilibrium/blob/main/Chapter%206/Figure%206.png?raw=true\" alt=\"Increase in Supply of Money\"/>\n",
    "> <center> <b>Figure 6 \n",
    "\n",
    "> <img src=\"https://github.com/jlcatonjr/Macroeconomics-Growth-and-Monetary-Equilibrium/blob/main/Chapter%206/Figure%207.png?raw=true\" alt=\"Increase in Portfolio Demand for Money\"/>\n",
    "> <center> <b>Figure 7 \n",
    "\n",
    "$AD$ may also fall due to an increase in demand to hold money. This increase in portfolio demand for money, $k$, is the same as a fall in the average velocity of money, $V$. An increase in demand to hold money leaves less money available for expenditure. This exerts a negative influence on prices and, necessarily, a positive influence on the price of money. Just as with a fall in the money supply, the equilibrium price of money rises from $P_{M_0}$ to $P_{M_1}$.\n",
    "\n",
    "## Short-run Dynamics: Excess Supply and Excess Demand\n",
    "\n",
    "The short-run is defined by any period of time that real income responds to changes in aggregate demand. The short-run is defined by a short-run aggregate supply ($SRAS$) is perfectly elastic. This means that it is horizontal, set at the value of the initial price level.  We assume that in the short-run, quantities adjust before the price level. In the long-run, any value of $y$ that is less than $y_0$ is less than the full potential that can be produced in the long-run. Any value of yy that is greater than $y_0$ cannot be sustained as it would demand that producers sustain real losses as input prices are bid upward. An scess demand for goods imply an excess supply of money and excess supply of goods implies an excess demand for money.\n",
    "\n",
    "It is not necessary that the short-run outcome actually occur. If forward looking agents expect that there will be a change in total expenditures and that this change will affect the price of particular goods, they may adjust these prices downward in expectation of the price change. However, there are cases where investors may be less willing to realize a loss by the sale of a home, such as might occur in the real estate market during a recession. Homeowners that have purchased their home with a mortgage will likely avoid such a sale if the value of the home falls below what is owed on the mortgage. In situations like this, assets that would otherwise be sold may remain unsold, leading to a fall in real income. This will be discussed in greater detail in the discussion of business cycles in a later chapter.\n",
    "\n",
    "### Case 1: Excess Supply of Money and Excess Demand for Goods\n",
    "\n",
    "> <img src=\"https://github.com/jlcatonjr/Macroeconomics-Growth-and-Monetary-Equilibrium/blob/main/Chapter%206/Figure%208.png?raw=true\" alt=\"Increase in AD: Excess Demand for Goods\"/>\n",
    "> <center> <b>Figure 8 \n",
    "\n",
    "If aggregate demand increases, the immediate effect will be for consumers to purchase goods at a rate that is not sustainable. If producers do not recognize this fact immediately, they may increase the quantity of goods produced. To the extent that prices rise as factor costs are bid up, the total value of production will be constrained compared to if the price level remained static.\n",
    "\n",
    "The excess supply of goods at price level $P_0$, defined by $y_t - y_0$, necessarily implies an excess demand for money. This occurs either by an increase in the quantity of money supplied to the market or by a relinquishing of money held on reserve by economic actors. The first instance is represented by an increase in the money stock. The latter instance is represented by a fall in portfolio demand for money, which is equivalent to a rise in velocity. As the quantity of money increase from $M_0$ to $M_1$, individuals find themselves holding more money than they desire at given prices. As individuals spend money, price of goods begin to rise on average as signified by an increase in the price level. Since the price of money, $P_M$, is the inverse of the price level, $P$, a rise in the price level indicates a fall in the price of money. Once the price of money falls from $P_{M_0}$ to $P_{M_1}$, the excess supply of money is offset.\n",
    "\n",
    "    \n",
    "> <img src=\"https://github.com/jlcatonjr/Macroeconomics-Growth-and-Monetary-Equilibrium/blob/main/Chapter%206/Figure%209.png?raw=true\" alt=\"Increase in Supply of Money: Excess Supply of Money\"/>\n",
    "> <center> <b> Figure 9 \n",
    "\n",
    "> <img src=\"https://github.com/jlcatonjr/Macroeconomics-Growth-and-Monetary-Equilibrium/blob/main/Chapter%206/Figure%2010.png?raw=true\" alt=\"Decrease in Portfolio Demand for Money: Excess Supply of Money\"/>\n",
    "> <center> <b>Figure 10 \n",
    "\n",
    "Nearly the same proces occurs when there is a fall in portfolio demand for money. Since consumers are willing to spend a greater of share of their income, they can increase their consumption of goods to the extent that prices do not rise in response to the new expenditure. At the given price level, $P_0$, consumers desire to hold less money. The difference between $M_0$ and $M_t$ represents the excess balances that consumers plan to spend. As these funds are spent, the price level moves from $P_0$ to $P_1$ and the price of money falls from $P_{M_0}$ to $P_{M_1}$. The fall in the value of money moves the quantity of money demanded back to an equilibrium where the quantity demanded of money matches the quantity supplied.\n",
    "\n",
    "### Case 2: Excess Demand for Money and Excess Supply of Goods\n",
    "\n",
    "> <img src=\"https://github.com/jlcatonjr/Macroeconomics-Growth-and-Monetary-Equilibrium/blob/main/Chapter%206/Figure%2011.png?raw=true\" alt=\"Decrease in AD: Excess Supply of Goods\"/>\n",
    "> <center> <b>Figure 11\n",
    "\n",
    "In the short-run, a fall in aggregate demand leads to a scenario where not all goods available in the market are purchased. If producers do not instantly respond to the change in prices, there will be more goods produced than can be purchased given the quantity of money available to be spent at the initial price level, $P_0$. \n",
    "\n",
    "The excess supply of goods is represented by the difference of $y_0$ and $y_t$. The fall in expenditures that drive the shift from $AD_0$ to $AD_1$ must occur either due to a fall in the quantity of money or a fall in the velocity of money which is equivalently an increase in portfolio demand for money. In the case the supply of money falls, agents must adjust their planned expenditures to account for the fall in the quantity of available funds. At $P_{M_0}$ the quantity of money demanded, $M_0$, is greater than the available quantity of money, $M_1$. If their demand to hold money does not change, this must occur by a fall expenditures so long as the price of money does not increase from $P_{M_0}$ to $P_{M_1}$P in response to the fall in supply of money.\n",
    "\n",
    "> <img src=\"https://github.com/jlcatonjr/Macroeconomics-Growth-and-Monetary-Equilibrium/blob/main/Chapter%206/Figure%2012.png?raw=true\" alt=\"Decrease in Supply of Money: Excess Demand for Money\"/>\n",
    "> <center> <b>Figure 12 \n",
    "    \n",
    "> <img src=\"https://github.com/jlcatonjr/Macroeconomics-Growth-and-Monetary-Equilibrium/blob/main/Chapter%206/Figure%2013.png?raw=true\" alt=\"Increase in Portfolio Demand for Money: Excess Demand for Money\"/>\n",
    "> <center> <b>Figure 13 \n",
    "\n",
    "The same fall in aggregate demand may occur as a result of an increase in demand to hold money on reserve. This increase in portfolio demand leads to an increase in the price of money in the long-run. Before prices respond to the change in demand for money, individuals will demand to hold more money than will allow for the clearing of the goods market. The excess demand for money, $M_t - M_0$, exactly matches the value of goods that remain unsold $y_0 - y_t$.\n",
    "\n",
    "## Aggregate Demand Driven Business Cycles\n",
    "\n",
    "Aggregate Demand Driven Business Cycles\n",
    "Excess demand and excess supplies play a fundamental role in explain macroeconomic fluctuations. Presuming that the economy produces a steady-state level of income and capital, deviations from these levels represent either an inflationary boom or a deflationary recession. Neither of these outcomes are necessary by a change in aggregate demand. Only in cases where prices are slow to adjust to changes in the money market will such macroeconomic disequilibrium occur. \n",
    "\n",
    "> <img src=\"https://github.com/jlcatonjr/Macroeconomics-Growth-and-Monetary-Equilibrium/blob/main/Chapter%206/Figure%2014.png?raw=true\" alt=\"RGNP and Increasing Central Bank Demand for Gold\"/>\n",
    "> <center> <b>Figure 14 \n",
    "\n",
    "This phenomenon occurred in an extreme manner during the Great Depression as many central banks their gold holdings without also increasing the quantity of central bank notes in circulation. The result was a fall in real income and substantial deflation, both of which occurred at an international scale. While there were many other factors, which include policies that disrupted credit, labor, and goods markets, the disruption of money markets by central banks was a feature of the Great Depression and is commonly a driving force of relatively extreme economic depressions.\n",
    "\n",
    "## Factors Unexplained by Aggregate Analysis\n",
    "\n",
    "Although aggregate analysis provides a powerful description of the macroeconomy, it does not capture many elements that are at play in the economic process. Consider the effects of money creation. There may result an economic boom due to a confusion between real and nominal profits. Producers, especially those who receive the new money first, will invest in expectation of earning increased profits. Some early producers may succeed in this endeavor, but as more producers enter the market, the price of production inputs are bid up. \n",
    "\n",
    "The expected increase in profits by investors often leads to construction of productive factors that  would otherwise not be created. Since we live in a world of scarcity, this means that productive processes that are producing goods that consumers truly value will not be created. The creation of new capital that is the result of this misallocation cannot be cheaply reversed. The process of readjustment of the capital structure may result in depression, or it may  result in the sustained production of relatively lower level of real income due to the misallocation of productive factors that will remain in use even after being repriced once the boom has slowed. \n",
    "\n",
    "Although aggregate analysis fails to capture this, this does not mean that the aggregate factors are not exerting force on the economic system. Macroeconomic forces described here are always at play. There are simply other factors that impact economic activity alongside these macroeconomic factors.\n",
    "\n",
    "# Conclusion\n",
    "\n",
    "Aggregate demand is defined as total expenditures. The value of real income that can be derived from these expenditures changes inversely to the price level. The economy tends to be subject to equillibrating forces such that the price level moves to a level that enables the production and purchase of level of output that is sustainable in the long-run. Deviance from the equilibrium price level represent movements away from the sustainable level of output and can drive macroeconomic fluctuations.\n",
    "\n",
    "## Footnotes \n",
    "\n",
    "[1] In reality, short-run effects can impact the capital structure, thereby influencing the production structure in different markets and leading the lasting equilibrium structure that is relatively inefficient compared to cases where the capital structure is not distorted by $AD$ shocks.\n",
    "    \n",
    "    \n",
    "# Review\n",
    "    \n",
    "1. **Suppose that the money stock increases from 100 to 150 dollars and that the velocity of money is 10 throughout this time.**\n",
    "    \n",
    ">a. Plot the change in money in a money supply and graph. Indicate the change in the price of money using $P_{M_0}$ to market the initial price of money and $P_{M_1}$ to mark the new price of money. Indicate the numeric value of money at the initial equilibrium and at the new equililbrium. Be sure to label your axes. \n",
    ">\n",
    ">b. What is the initial value of aggregate demand. What is the new value of aggregate demand after the supply of money has increased?\n",
    ">\n",
    "> c. Suppose that the value of real income is 20 dollars using the price level from the initial period to calculate. (Hint: $P_0$ = 1.00) What is the new price level, $P_1$, in period 1?\n",
    ">\n",
    ">d. In a graph of aggregate demand and aggregate supply, show the change in aggregate demand indicating the new equilibrium price level.\n",
    "\n",
    "\n",
    "2. **Write the equation defining portfolio demand in terms of**:\n",
    "    \n",
    ">a. the velocity of money.\n",
    ">\n",
    ">b. $M$, $P$, and $y$.\n",
    "\n",
    "\n",
    "3. __Suppose the velocity of money is 10, the quantity of money is 1000, and the price level is 1.00.__\n",
    "\n",
    ">a. What is the value of portfolio demand for money.\n",
    ">\n",
    ">b. What is the equilibrium value of nominal income and real income?\n",
    ">\n",
    "> __Suppose that real income increases to a value of 12000.__ \n",
    ">\n",
    ">c. What is the new equilibrium price level?\n",
    ">\n",
    ">d. What is the new equilibrium value of real income and nominal income.\n",
    "\n",
    "4. An excess demand for money implies that:\n",
    "    \n",
    ">a. prices need to fall on average for the economy to arrive at the new equilibrium combination of the price level and real income.\n",
    ">\n",
    ">b. there is an excess supply of non-money goods\n",
    ">\n",
    ">c. more money is demanded than can be satisfied at the current price level\n",
    ">\n",
    ">d. all of the above\n",
    "    \n",
    "5. Indicate the excess demand for money that exists after the supply of money has changed but before the price of money has increased.\n",
    "    \n",
    "> <img src=\"https://github.com/jlcatonjr/Macroeconomics-Growth-and-Monetary-Equilibrium/blob/main/Chapter%206/Figure%2012.png?raw=true\" alt=\"Decrease in Supply of Money: Excess Demand for Money\"/>\n",
    "    \n",
    "    "
   ]
  }
 ],
 "metadata": {
  "kernelspec": {
   "display_name": "Python 3",
   "language": "python",
   "name": "python3"
  },
  "language_info": {
   "codemirror_mode": {
    "name": "ipython",
    "version": 3
   },
   "file_extension": ".py",
   "mimetype": "text/x-python",
   "name": "python",
   "nbconvert_exporter": "python",
   "pygments_lexer": "ipython3",
   "version": "3.8.8"
  },
  "nteract": {
   "version": "nteract-on-jupyter@2.1.3"
  },
  "widgets": {
   "application/vnd.jupyter.widget-state+json": {
    "state": {
     "01722fde7f1e4726a767fdd9d3a00602": {
      "model_module": "@jupyter-widgets/base",
      "model_module_version": "1.2.0",
      "model_name": "LayoutModel",
      "state": {}
     },
     "02c53153eb5d45688642be50ccb18f34": {
      "model_module": "@jupyter-widgets/controls",
      "model_module_version": "1.5.0",
      "model_name": "FloatSliderModel",
      "state": {
       "description": "V",
       "layout": "IPY_MODEL_24ce228b7aa845b2b417ecf164703bb2",
       "max": 16,
       "min": 0.8,
       "step": 0.1,
       "style": "IPY_MODEL_2b35c4a39df9401b9b1a05aa88eba7ca",
       "value": 12
      }
     },
     "031544f030c449098b36d0928fcc7eca": {
      "model_module": "@jupyter-widgets/controls",
      "model_module_version": "1.5.0",
      "model_name": "SliderStyleModel",
      "state": {
       "description_width": ""
      }
     },
     "03b56f4dee7f406baa11706ca0be8c7c": {
      "model_module": "@jupyter-widgets/base",
      "model_module_version": "1.2.0",
      "model_name": "LayoutModel",
      "state": {}
     },
     "0426472a84cc41ca963a04c7a20d0532": {
      "model_module": "@jupyter-widgets/base",
      "model_module_version": "1.2.0",
      "model_name": "LayoutModel",
      "state": {}
     },
     "0684197412b84bd2951101024aab8d27": {
      "model_module": "@jupyter-widgets/controls",
      "model_module_version": "1.5.0",
      "model_name": "IntSliderModel",
      "state": {
       "description": "y0",
       "layout": "IPY_MODEL_3040f6c3e4224cec8c86c5e4935a74ed",
       "max": 1000,
       "min": 250,
       "step": 5,
       "style": "IPY_MODEL_cf4703dc555c4bed891a8e7989c20195",
       "value": 250
      }
     },
     "06d5959ce78b47b8a028698746abfd81": {
      "model_module": "@jupyter-widgets/base",
      "model_module_version": "1.2.0",
      "model_name": "LayoutModel",
      "state": {}
     },
     "0833cae91c824a499bd1bf37420688fb": {
      "model_module": "@jupyter-widgets/controls",
      "model_module_version": "1.5.0",
      "model_name": "IntSliderModel",
      "state": {
       "description": "y0",
       "layout": "IPY_MODEL_2dbe69c1d3b04801b6b178cd9be47e0e",
       "max": 1000,
       "min": 250,
       "step": 5,
       "style": "IPY_MODEL_f188c2d1121c4a559b25a316605bd558",
       "value": 550
      }
     },
     "08cd0337ff1f49c68055ff1209621d27": {
      "model_module": "@jupyter-widgets/controls",
      "model_module_version": "1.5.0",
      "model_name": "SliderStyleModel",
      "state": {
       "description_width": ""
      }
     },
     "0bbcc7350b6343d5a9bf1534226a2b59": {
      "model_module": "@jupyter-widgets/base",
      "model_module_version": "1.2.0",
      "model_name": "LayoutModel",
      "state": {}
     },
     "0bfaff8aeebd46f4b1934270dc5821f4": {
      "model_module": "@jupyter-widgets/controls",
      "model_module_version": "1.5.0",
      "model_name": "SliderStyleModel",
      "state": {
       "description_width": ""
      }
     },
     "0cd357ed6a744cf4aafb15596e2d95a0": {
      "model_module": "@jupyter-widgets/controls",
      "model_module_version": "1.5.0",
      "model_name": "IntSliderModel",
      "state": {
       "description": "M",
       "layout": "IPY_MODEL_20a81c9c72bb4dd590cf7e7bd304bd96",
       "max": 2000,
       "min": 100,
       "step": 10,
       "style": "IPY_MODEL_6db52190285a4e33bfcc5048fba69e15",
       "value": 1000
      }
     },
     "0f9873ea044c4cd0b84bca0f63392f23": {
      "model_module": "@jupyter-widgets/controls",
      "model_module_version": "1.5.0",
      "model_name": "SliderStyleModel",
      "state": {
       "description_width": ""
      }
     },
     "0fbc15984e384b869dc3e8f4e15e17c7": {
      "model_module": "@jupyter-widgets/base",
      "model_module_version": "1.2.0",
      "model_name": "LayoutModel",
      "state": {}
     },
     "0ff87625c54d4d628aa6be7e90ec3d7b": {
      "model_module": "@jupyter-widgets/controls",
      "model_module_version": "1.5.0",
      "model_name": "SliderStyleModel",
      "state": {
       "description_width": ""
      }
     },
     "103e8cfb466d4caeb1f03d1a76755ec1": {
      "model_module": "@jupyter-widgets/controls",
      "model_module_version": "1.5.0",
      "model_name": "IntSliderModel",
      "state": {
       "description": "M",
       "layout": "IPY_MODEL_dc94f9a67770485593550c2c1f4a5c42",
       "max": 2000,
       "min": 100,
       "step": 10,
       "style": "IPY_MODEL_aebe0385024f49e599f85c6d74f08bd9",
       "value": 1330
      }
     },
     "128841b01a2a436d86a2157757da67fc": {
      "model_module": "@jupyter-widgets/base",
      "model_module_version": "1.2.0",
      "model_name": "LayoutModel",
      "state": {}
     },
     "155032d3a7a34297acdee78f41deb17d": {
      "model_module": "@jupyter-widgets/controls",
      "model_module_version": "1.5.0",
      "model_name": "IntSliderModel",
      "state": {
       "description": "y0",
       "layout": "IPY_MODEL_3517dcbec79a40eb91f2de3eabbaae0a",
       "max": 1000,
       "min": 250,
       "step": 5,
       "style": "IPY_MODEL_aafde4ddd907429e89d4f25f032e0191",
       "value": 250
      }
     },
     "1821cc80c03548e4a10c5d3cd10555ca": {
      "model_module": "@jupyter-widgets/controls",
      "model_module_version": "1.5.0",
      "model_name": "FloatSliderModel",
      "state": {
       "description": "V",
       "layout": "IPY_MODEL_03b56f4dee7f406baa11706ca0be8c7c",
       "max": 16,
       "min": 2,
       "step": 0.1,
       "style": "IPY_MODEL_63d0faf74f944c7b846e8af9b8c69f0a",
       "value": 12
      }
     },
     "189aa44d9e4c4c93b53d41301a090dcb": {
      "model_module": "@jupyter-widgets/base",
      "model_module_version": "1.2.0",
      "model_name": "LayoutModel",
      "state": {}
     },
     "1a911c16ec9c4781984b86658caa7c88": {
      "model_module": "@jupyter-widgets/controls",
      "model_module_version": "1.5.0",
      "model_name": "VBoxModel",
      "state": {
       "_dom_classes": [
        "widget-interact"
       ],
       "children": [
        "IPY_MODEL_d257c31226b0447aa2ae805339056610",
        "IPY_MODEL_64ab2db96e7b4511a26cac6aee684dd1",
        "IPY_MODEL_8e020db6efff4e758915d876c87b5613",
        "IPY_MODEL_c34300f22580441da1cff26ebfd100da"
       ],
       "layout": "IPY_MODEL_3223965bd9104096909906bd6e3488cf"
      }
     },
     "1d835be9021749f3927f75ef2b656149": {
      "model_module": "@jupyter-widgets/base",
      "model_module_version": "1.2.0",
      "model_name": "LayoutModel",
      "state": {}
     },
     "1db02c5639c14fb8b9cd2fac9eaf5bfd": {
      "model_module": "@jupyter-widgets/base",
      "model_module_version": "1.2.0",
      "model_name": "LayoutModel",
      "state": {}
     },
     "20a81c9c72bb4dd590cf7e7bd304bd96": {
      "model_module": "@jupyter-widgets/base",
      "model_module_version": "1.2.0",
      "model_name": "LayoutModel",
      "state": {}
     },
     "2476126508084a04b25656723c8cfe40": {
      "model_module": "@jupyter-widgets/base",
      "model_module_version": "1.2.0",
      "model_name": "LayoutModel",
      "state": {}
     },
     "24ce228b7aa845b2b417ecf164703bb2": {
      "model_module": "@jupyter-widgets/base",
      "model_module_version": "1.2.0",
      "model_name": "LayoutModel",
      "state": {}
     },
     "25c1de1f92bc464aa920bf5bced0e029": {
      "model_module": "@jupyter-widgets/controls",
      "model_module_version": "1.5.0",
      "model_name": "SliderStyleModel",
      "state": {
       "description_width": ""
      }
     },
     "27065ce0e1974bb3a52c430b7bac8ee7": {
      "model_module": "@jupyter-widgets/controls",
      "model_module_version": "1.5.0",
      "model_name": "FloatSliderModel",
      "state": {
       "description": "V",
       "layout": "IPY_MODEL_29f2326241344862b0540d40521ccce0",
       "max": 16,
       "min": 0.8,
       "step": 0.1,
       "style": "IPY_MODEL_a9a0ab712ffc4662a944d1796a69b624",
       "value": 12
      }
     },
     "287cd367abd94c6992bb09daa472b211": {
      "model_module": "@jupyter-widgets/base",
      "model_module_version": "1.2.0",
      "model_name": "LayoutModel",
      "state": {}
     },
     "2903054e93b643d1bf1cc6ff652f200d": {
      "model_module": "@jupyter-widgets/controls",
      "model_module_version": "1.5.0",
      "model_name": "SliderStyleModel",
      "state": {
       "description_width": ""
      }
     },
     "294c934efe674a1fa043b3ea676a34af": {
      "model_module": "@jupyter-widgets/output",
      "model_module_version": "1.0.0",
      "model_name": "OutputModel",
      "state": {
       "layout": "IPY_MODEL_8befc19f6cdf4e79baa11028ec661ad2"
      }
     },
     "297491fb0d1f4bcbaf6bcc533c42b858": {
      "model_module": "@jupyter-widgets/base",
      "model_module_version": "1.2.0",
      "model_name": "LayoutModel",
      "state": {}
     },
     "29f2326241344862b0540d40521ccce0": {
      "model_module": "@jupyter-widgets/base",
      "model_module_version": "1.2.0",
      "model_name": "LayoutModel",
      "state": {}
     },
     "2a8bc1c76c3d44ddbc14726f5f0b2399": {
      "model_module": "@jupyter-widgets/controls",
      "model_module_version": "1.5.0",
      "model_name": "IntSliderModel",
      "state": {
       "description": "y0",
       "layout": "IPY_MODEL_b77b73236d5944548c8a7da5b7f69097",
       "max": 1000,
       "min": 250,
       "step": 5,
       "style": "IPY_MODEL_e1b0573952fd48b0b950b8bda76d667a",
       "value": 250
      }
     },
     "2ab33c1d074541888c555755e2f5395a": {
      "model_module": "@jupyter-widgets/base",
      "model_module_version": "1.2.0",
      "model_name": "LayoutModel",
      "state": {}
     },
     "2b35c4a39df9401b9b1a05aa88eba7ca": {
      "model_module": "@jupyter-widgets/controls",
      "model_module_version": "1.5.0",
      "model_name": "SliderStyleModel",
      "state": {
       "description_width": ""
      }
     },
     "2dbe69c1d3b04801b6b178cd9be47e0e": {
      "model_module": "@jupyter-widgets/base",
      "model_module_version": "1.2.0",
      "model_name": "LayoutModel",
      "state": {}
     },
     "3040f6c3e4224cec8c86c5e4935a74ed": {
      "model_module": "@jupyter-widgets/base",
      "model_module_version": "1.2.0",
      "model_name": "LayoutModel",
      "state": {}
     },
     "31530e0024a6446893712c29c5dc9734": {
      "model_module": "@jupyter-widgets/base",
      "model_module_version": "1.2.0",
      "model_name": "LayoutModel",
      "state": {}
     },
     "3223965bd9104096909906bd6e3488cf": {
      "model_module": "@jupyter-widgets/base",
      "model_module_version": "1.2.0",
      "model_name": "LayoutModel",
      "state": {}
     },
     "34607a382c21449885b50ff5a2ed975f": {
      "model_module": "@jupyter-widgets/base",
      "model_module_version": "1.2.0",
      "model_name": "LayoutModel",
      "state": {}
     },
     "3517dcbec79a40eb91f2de3eabbaae0a": {
      "model_module": "@jupyter-widgets/base",
      "model_module_version": "1.2.0",
      "model_name": "LayoutModel",
      "state": {}
     },
     "3978787f1fe74913aaea2ea9a68a46cf": {
      "model_module": "@jupyter-widgets/base",
      "model_module_version": "1.2.0",
      "model_name": "LayoutModel",
      "state": {}
     },
     "3b605a1e7fa64a3c80e2278d093bfbff": {
      "model_module": "@jupyter-widgets/controls",
      "model_module_version": "1.5.0",
      "model_name": "FloatSliderModel",
      "state": {
       "description": "V",
       "layout": "IPY_MODEL_6c31d49480de431896c5fad51710c7fc",
       "max": 16,
       "min": 2,
       "step": 0.1,
       "style": "IPY_MODEL_bc3af383510349f39c5bf695f47cf52e",
       "value": 8.6
      }
     },
     "3b72653a77f043eb939004aff6944efb": {
      "model_module": "@jupyter-widgets/base",
      "model_module_version": "1.2.0",
      "model_name": "LayoutModel",
      "state": {}
     },
     "3db11db4052746efa4669cca1ba24ca3": {
      "model_module": "@jupyter-widgets/controls",
      "model_module_version": "1.5.0",
      "model_name": "IntSliderModel",
      "state": {
       "description": "M",
       "layout": "IPY_MODEL_eb4e885672e94373a3b8455278e87b26",
       "max": 2000,
       "min": 250,
       "step": 10,
       "style": "IPY_MODEL_4b106964302345a7826953866cfa30f4",
       "value": 1000
      }
     },
     "3fc71e17d8cd4291b0762f12ae0e74f7": {
      "model_module": "@jupyter-widgets/controls",
      "model_module_version": "1.5.0",
      "model_name": "SliderStyleModel",
      "state": {
       "description_width": ""
      }
     },
     "41eb5a321cd345529f854b3378f53ab4": {
      "model_module": "@jupyter-widgets/base",
      "model_module_version": "1.2.0",
      "model_name": "LayoutModel",
      "state": {}
     },
     "42cce5055a144abdade2a98035d2248d": {
      "model_module": "@jupyter-widgets/base",
      "model_module_version": "1.2.0",
      "model_name": "LayoutModel",
      "state": {}
     },
     "45b1c93e7ed94e35b321d0cd0563a0cd": {
      "model_module": "@jupyter-widgets/controls",
      "model_module_version": "1.5.0",
      "model_name": "IntSliderModel",
      "state": {
       "description": "y0",
       "layout": "IPY_MODEL_6276135cb658418f9759412a614cc30c",
       "max": 1000,
       "min": 50,
       "step": 5,
       "style": "IPY_MODEL_031544f030c449098b36d0928fcc7eca",
       "value": 50
      }
     },
     "46c3334759ea41f296f5b83ecdb0f5f4": {
      "model_module": "@jupyter-widgets/base",
      "model_module_version": "1.2.0",
      "model_name": "LayoutModel",
      "state": {}
     },
     "4731307daed142148f87fd037c130a3e": {
      "model_module": "@jupyter-widgets/controls",
      "model_module_version": "1.5.0",
      "model_name": "FloatSliderModel",
      "state": {
       "description": "V",
       "layout": "IPY_MODEL_b748c101385b421bb3fff14238f3d5fc",
       "max": 16,
       "min": 0.8,
       "step": 0.1,
       "style": "IPY_MODEL_9929e3afb149459d8339abcac719b0d9",
       "value": 16
      }
     },
     "47bedbeb64dc4ad098682f400b774134": {
      "model_module": "@jupyter-widgets/controls",
      "model_module_version": "1.5.0",
      "model_name": "SliderStyleModel",
      "state": {
       "description_width": ""
      }
     },
     "493dc50d0d984d2bb1b8cf68135625d7": {
      "model_module": "@jupyter-widgets/controls",
      "model_module_version": "1.5.0",
      "model_name": "VBoxModel",
      "state": {
       "_dom_classes": [
        "widget-interact"
       ],
       "children": [
        "IPY_MODEL_df7c2cee885a4030a71694b9b432d9d9",
        "IPY_MODEL_27065ce0e1974bb3a52c430b7bac8ee7",
        "IPY_MODEL_ca44ad27c46749378897d0ae18503d7a",
        "IPY_MODEL_dd13fd0e2d4746e58715f143e27b85b3"
       ],
       "layout": "IPY_MODEL_e1b4728375364dafab45e1beb81b4065"
      }
     },
     "49bc77407cfe483ba8a9efac15215441": {
      "model_module": "@jupyter-widgets/base",
      "model_module_version": "1.2.0",
      "model_name": "LayoutModel",
      "state": {}
     },
     "4a6746987bb14553a22e117f2bd66ae3": {
      "model_module": "@jupyter-widgets/controls",
      "model_module_version": "1.5.0",
      "model_name": "FloatSliderModel",
      "state": {
       "description": "V",
       "layout": "IPY_MODEL_a0b11c6248324d289a9ad769efc20453",
       "max": 16,
       "min": 0.8,
       "step": 0.1,
       "style": "IPY_MODEL_2903054e93b643d1bf1cc6ff652f200d",
       "value": 12
      }
     },
     "4b106964302345a7826953866cfa30f4": {
      "model_module": "@jupyter-widgets/controls",
      "model_module_version": "1.5.0",
      "model_name": "SliderStyleModel",
      "state": {
       "description_width": ""
      }
     },
     "4cc63c8968b34ccc8e0ff6c1faab3db7": {
      "model_module": "@jupyter-widgets/base",
      "model_module_version": "1.2.0",
      "model_name": "LayoutModel",
      "state": {}
     },
     "4f76d6cba4224bc9bc49c7b319c9054d": {
      "model_module": "@jupyter-widgets/controls",
      "model_module_version": "1.5.0",
      "model_name": "SliderStyleModel",
      "state": {
       "description_width": ""
      }
     },
     "4f8f6e6585104be29afad18aedabcfbd": {
      "model_module": "@jupyter-widgets/controls",
      "model_module_version": "1.5.0",
      "model_name": "VBoxModel",
      "state": {
       "_dom_classes": [
        "widget-interact"
       ],
       "children": [
        "IPY_MODEL_886cf9fe558744338713d7e1fda61b03",
        "IPY_MODEL_3b605a1e7fa64a3c80e2278d093bfbff",
        "IPY_MODEL_0833cae91c824a499bd1bf37420688fb",
        "IPY_MODEL_d58f8107f81b4a1db4f65fb91669c47f"
       ],
       "layout": "IPY_MODEL_49bc77407cfe483ba8a9efac15215441"
      }
     },
     "4faa0e69c3944031af28243a6c2cb838": {
      "model_module": "@jupyter-widgets/controls",
      "model_module_version": "1.5.0",
      "model_name": "IntSliderModel",
      "state": {
       "description": "y0",
       "layout": "IPY_MODEL_4cc63c8968b34ccc8e0ff6c1faab3db7",
       "max": 1000,
       "min": 250,
       "step": 5,
       "style": "IPY_MODEL_beab4cac0f874a0da4d5e81ce23127c0",
       "value": 250
      }
     },
     "52a99af8ac4f4cc88ff6133b32793c0c": {
      "model_module": "@jupyter-widgets/base",
      "model_module_version": "1.2.0",
      "model_name": "LayoutModel",
      "state": {}
     },
     "52c01293ca1546239ba901da85df142f": {
      "model_module": "@jupyter-widgets/output",
      "model_module_version": "1.0.0",
      "model_name": "OutputModel",
      "state": {
       "layout": "IPY_MODEL_dbc7d1bac8344c0aa0affbbfa51938e0"
      }
     },
     "52fba609c70a4513b5f8896980a5dd91": {
      "model_module": "@jupyter-widgets/base",
      "model_module_version": "1.2.0",
      "model_name": "LayoutModel",
      "state": {}
     },
     "53f8ef40c39241f4a22e8eb47ccde0b2": {
      "model_module": "@jupyter-widgets/controls",
      "model_module_version": "1.5.0",
      "model_name": "VBoxModel",
      "state": {
       "_dom_classes": [
        "widget-interact"
       ],
       "children": [
        "IPY_MODEL_b23f96b5c9034a9ba8133869e0ecf009",
        "IPY_MODEL_f98fd46f2bf5490388683a1db8ed0062",
        "IPY_MODEL_4faa0e69c3944031af28243a6c2cb838",
        "IPY_MODEL_cc9bdbc5ac9540b9ba207dc7655b42d7"
       ],
       "layout": "IPY_MODEL_d15bec5610154b83bbb0fcb958be3026"
      }
     },
     "54a4e78e32034147921199336392169c": {
      "model_module": "@jupyter-widgets/controls",
      "model_module_version": "1.5.0",
      "model_name": "SliderStyleModel",
      "state": {
       "description_width": ""
      }
     },
     "55170df18abe4f5f97112a0e4d83d51d": {
      "model_module": "@jupyter-widgets/base",
      "model_module_version": "1.2.0",
      "model_name": "LayoutModel",
      "state": {}
     },
     "5bef57869bf44e4492561d0c61c2be03": {
      "model_module": "@jupyter-widgets/controls",
      "model_module_version": "1.5.0",
      "model_name": "SliderStyleModel",
      "state": {
       "description_width": ""
      }
     },
     "5da8c92ad3754919aeb79454fb23ddfb": {
      "model_module": "@jupyter-widgets/base",
      "model_module_version": "1.2.0",
      "model_name": "LayoutModel",
      "state": {}
     },
     "60f9bd4195f546b8a7210ae7189d4a51": {
      "model_module": "@jupyter-widgets/controls",
      "model_module_version": "1.5.0",
      "model_name": "SliderStyleModel",
      "state": {
       "description_width": ""
      }
     },
     "6276135cb658418f9759412a614cc30c": {
      "model_module": "@jupyter-widgets/base",
      "model_module_version": "1.2.0",
      "model_name": "LayoutModel",
      "state": {}
     },
     "628d1045dde84584bb24be7fec0e9778": {
      "model_module": "@jupyter-widgets/base",
      "model_module_version": "1.2.0",
      "model_name": "LayoutModel",
      "state": {}
     },
     "63d0faf74f944c7b846e8af9b8c69f0a": {
      "model_module": "@jupyter-widgets/controls",
      "model_module_version": "1.5.0",
      "model_name": "SliderStyleModel",
      "state": {
       "description_width": ""
      }
     },
     "63f9d901c7794a858b89f51741352ea6": {
      "model_module": "@jupyter-widgets/base",
      "model_module_version": "1.2.0",
      "model_name": "LayoutModel",
      "state": {}
     },
     "64ab2db96e7b4511a26cac6aee684dd1": {
      "model_module": "@jupyter-widgets/controls",
      "model_module_version": "1.5.0",
      "model_name": "FloatSliderModel",
      "state": {
       "description": "V",
       "layout": "IPY_MODEL_b74fb1b45b0a4f37ad2d62ce14dc9e32",
       "max": 16,
       "min": 2,
       "step": 0.1,
       "style": "IPY_MODEL_a2a0bdb894644e019f8e5dbd9fbbf105",
       "value": 12
      }
     },
     "64d7c9f811a94f2886b3418926abfc62": {
      "model_module": "@jupyter-widgets/controls",
      "model_module_version": "1.5.0",
      "model_name": "FloatSliderModel",
      "state": {
       "description": "V",
       "layout": "IPY_MODEL_297491fb0d1f4bcbaf6bcc533c42b858",
       "max": 16,
       "min": 2,
       "step": 0.1,
       "style": "IPY_MODEL_5bef57869bf44e4492561d0c61c2be03",
       "value": 12
      }
     },
     "6507fe6bb4c846e7946f4edebe3460fc": {
      "model_module": "@jupyter-widgets/base",
      "model_module_version": "1.2.0",
      "model_name": "LayoutModel",
      "state": {}
     },
     "66591c52d1494ce6a8781f5c41bd49e9": {
      "model_module": "@jupyter-widgets/controls",
      "model_module_version": "1.5.0",
      "model_name": "IntSliderModel",
      "state": {
       "description": "M",
       "layout": "IPY_MODEL_41eb5a321cd345529f854b3378f53ab4",
       "max": 2000,
       "min": 250,
       "step": 10,
       "style": "IPY_MODEL_4f76d6cba4224bc9bc49c7b319c9054d",
       "value": 950
      }
     },
     "6857d4bb340d4832ab562b133d3bb9f9": {
      "model_module": "@jupyter-widgets/controls",
      "model_module_version": "1.5.0",
      "model_name": "FloatSliderModel",
      "state": {
       "description": "V",
       "layout": "IPY_MODEL_8adb7e6ac67f4845bd7e12b132ea29c0",
       "max": 16,
       "min": 2,
       "step": 0.1,
       "style": "IPY_MODEL_8a075aa4842d4bd08120e348e2082e65",
       "value": 12
      }
     },
     "6a0efb26fe374dce94765d555c41c2ae": {
      "model_module": "@jupyter-widgets/base",
      "model_module_version": "1.2.0",
      "model_name": "LayoutModel",
      "state": {}
     },
     "6ab42dfa2ae144418c9afb12c542ee27": {
      "model_module": "@jupyter-widgets/controls",
      "model_module_version": "1.5.0",
      "model_name": "VBoxModel",
      "state": {
       "_dom_classes": [
        "widget-interact"
       ],
       "children": [
        "IPY_MODEL_3db11db4052746efa4669cca1ba24ca3",
        "IPY_MODEL_64d7c9f811a94f2886b3418926abfc62",
        "IPY_MODEL_155032d3a7a34297acdee78f41deb17d",
        "IPY_MODEL_f658215027f04cb2ba75123d2eceb6b2"
       ],
       "layout": "IPY_MODEL_2476126508084a04b25656723c8cfe40"
      }
     },
     "6b04253dc2204833b1a08d045fe1f624": {
      "model_module": "@jupyter-widgets/controls",
      "model_module_version": "1.5.0",
      "model_name": "SliderStyleModel",
      "state": {
       "description_width": ""
      }
     },
     "6c31d49480de431896c5fad51710c7fc": {
      "model_module": "@jupyter-widgets/base",
      "model_module_version": "1.2.0",
      "model_name": "LayoutModel",
      "state": {}
     },
     "6db52190285a4e33bfcc5048fba69e15": {
      "model_module": "@jupyter-widgets/controls",
      "model_module_version": "1.5.0",
      "model_name": "SliderStyleModel",
      "state": {
       "description_width": ""
      }
     },
     "6ddee12c9c5444188dff2710a985bbf2": {
      "model_module": "@jupyter-widgets/base",
      "model_module_version": "1.2.0",
      "model_name": "LayoutModel",
      "state": {}
     },
     "7022e275f6a8476c8dfc47337bed3cf4": {
      "model_module": "@jupyter-widgets/output",
      "model_module_version": "1.0.0",
      "model_name": "OutputModel",
      "state": {
       "layout": "IPY_MODEL_3978787f1fe74913aaea2ea9a68a46cf"
      }
     },
     "73987a3146664bdb8d6f39d6088f6410": {
      "model_module": "@jupyter-widgets/base",
      "model_module_version": "1.2.0",
      "model_name": "LayoutModel",
      "state": {}
     },
     "762792f8cad6430ea47ff331eb8cfaaf": {
      "model_module": "@jupyter-widgets/output",
      "model_module_version": "1.0.0",
      "model_name": "OutputModel",
      "state": {
       "layout": "IPY_MODEL_0fbc15984e384b869dc3e8f4e15e17c7"
      }
     },
     "765d6ba078c74bc78ad0cf2f36356b2a": {
      "model_module": "@jupyter-widgets/controls",
      "model_module_version": "1.5.0",
      "model_name": "FloatSliderModel",
      "state": {
       "description": "V",
       "layout": "IPY_MODEL_0426472a84cc41ca963a04c7a20d0532",
       "max": 16,
       "min": 2,
       "step": 0.1,
       "style": "IPY_MODEL_60f9bd4195f546b8a7210ae7189d4a51",
       "value": 12
      }
     },
     "77a664a15f134b948d00629883887c8d": {
      "model_module": "@jupyter-widgets/base",
      "model_module_version": "1.2.0",
      "model_name": "LayoutModel",
      "state": {}
     },
     "7a4500d1ca184e30a9ec2149b9ea627c": {
      "model_module": "@jupyter-widgets/controls",
      "model_module_version": "1.5.0",
      "model_name": "SliderStyleModel",
      "state": {
       "description_width": ""
      }
     },
     "7a48af3b7aef42d087dff18e6bd9c464": {
      "model_module": "@jupyter-widgets/controls",
      "model_module_version": "1.5.0",
      "model_name": "VBoxModel",
      "state": {
       "_dom_classes": [
        "widget-interact"
       ],
       "children": [
        "IPY_MODEL_beeb58fe989a4f06b78180a34690f0e1",
        "IPY_MODEL_6857d4bb340d4832ab562b133d3bb9f9",
        "IPY_MODEL_0684197412b84bd2951101024aab8d27",
        "IPY_MODEL_7f184b32b04b4f07b41260537ea79e54"
       ],
       "layout": "IPY_MODEL_ba6d77c3cb0c4cedbfd63eb3873040ea"
      }
     },
     "7dabf9a317124183b271a8aa0895cd1e": {
      "model_module": "@jupyter-widgets/output",
      "model_module_version": "1.0.0",
      "model_name": "OutputModel",
      "state": {
       "layout": "IPY_MODEL_189aa44d9e4c4c93b53d41301a090dcb"
      }
     },
     "7f184b32b04b4f07b41260537ea79e54": {
      "model_module": "@jupyter-widgets/output",
      "model_module_version": "1.0.0",
      "model_name": "OutputModel",
      "state": {
       "layout": "IPY_MODEL_876575ed45394224a6209776b4d95840"
      }
     },
     "8102e93f0f24435fb5b3d4cf283b5804": {
      "model_module": "@jupyter-widgets/controls",
      "model_module_version": "1.5.0",
      "model_name": "VBoxModel",
      "state": {
       "_dom_classes": [
        "widget-interact"
       ],
       "children": [
        "IPY_MODEL_c1acee4afdc246d294ef898bd16facdc",
        "IPY_MODEL_955fedd2e1654e57b340d468f4fe8498",
        "IPY_MODEL_d50758d2abc14f798bbdc4d33c7ca91e",
        "IPY_MODEL_c87eb3e3100c4c92a4a8d664d3044307"
       ],
       "layout": "IPY_MODEL_6ddee12c9c5444188dff2710a985bbf2"
      }
     },
     "83de49a7bb0d4cbd8e9ab4a4538612f3": {
      "model_module": "@jupyter-widgets/controls",
      "model_module_version": "1.5.0",
      "model_name": "VBoxModel",
      "state": {
       "_dom_classes": [
        "widget-interact"
       ],
       "children": [
        "IPY_MODEL_e7ee727a023c4198a2a4d3d0e393b4d9",
        "IPY_MODEL_765d6ba078c74bc78ad0cf2f36356b2a",
        "IPY_MODEL_e547f03643054f538738dc888489be9d",
        "IPY_MODEL_c455c9d51c7f4bc3912e1295cb3afa7f"
       ],
       "layout": "IPY_MODEL_77a664a15f134b948d00629883887c8d"
      }
     },
     "876575ed45394224a6209776b4d95840": {
      "model_module": "@jupyter-widgets/base",
      "model_module_version": "1.2.0",
      "model_name": "LayoutModel",
      "state": {}
     },
     "87751c76cb4049ef97e6e58f31ea5982": {
      "model_module": "@jupyter-widgets/base",
      "model_module_version": "1.2.0",
      "model_name": "LayoutModel",
      "state": {}
     },
     "886cf9fe558744338713d7e1fda61b03": {
      "model_module": "@jupyter-widgets/controls",
      "model_module_version": "1.5.0",
      "model_name": "IntSliderModel",
      "state": {
       "description": "M",
       "layout": "IPY_MODEL_34607a382c21449885b50ff5a2ed975f",
       "max": 2000,
       "min": 250,
       "step": 10,
       "style": "IPY_MODEL_0ff87625c54d4d628aa6be7e90ec3d7b",
       "value": 1510
      }
     },
     "8a075aa4842d4bd08120e348e2082e65": {
      "model_module": "@jupyter-widgets/controls",
      "model_module_version": "1.5.0",
      "model_name": "SliderStyleModel",
      "state": {
       "description_width": ""
      }
     },
     "8adb7e6ac67f4845bd7e12b132ea29c0": {
      "model_module": "@jupyter-widgets/base",
      "model_module_version": "1.2.0",
      "model_name": "LayoutModel",
      "state": {}
     },
     "8befc19f6cdf4e79baa11028ec661ad2": {
      "model_module": "@jupyter-widgets/base",
      "model_module_version": "1.2.0",
      "model_name": "LayoutModel",
      "state": {}
     },
     "8d7791d412ce40bab330824504a15821": {
      "model_module": "@jupyter-widgets/controls",
      "model_module_version": "1.5.0",
      "model_name": "IntSliderModel",
      "state": {
       "description": "M",
       "layout": "IPY_MODEL_73987a3146664bdb8d6f39d6088f6410",
       "max": 2000,
       "min": 100,
       "step": 10,
       "style": "IPY_MODEL_e090d75bce5a443facb8e65f3edaec56",
       "value": 1000
      }
     },
     "8e020db6efff4e758915d876c87b5613": {
      "model_module": "@jupyter-widgets/controls",
      "model_module_version": "1.5.0",
      "model_name": "IntSliderModel",
      "state": {
       "description": "y0",
       "layout": "IPY_MODEL_63f9d901c7794a858b89f51741352ea6",
       "max": 1000,
       "min": 250,
       "step": 5,
       "style": "IPY_MODEL_c13762c5c5a449ffb1f7e3f1063ed5c9",
       "value": 250
      }
     },
     "93be7e2b0e7f47ab9604136135d79e2b": {
      "model_module": "@jupyter-widgets/controls",
      "model_module_version": "1.5.0",
      "model_name": "SliderStyleModel",
      "state": {
       "description_width": ""
      }
     },
     "955fedd2e1654e57b340d468f4fe8498": {
      "model_module": "@jupyter-widgets/controls",
      "model_module_version": "1.5.0",
      "model_name": "FloatSliderModel",
      "state": {
       "description": "V",
       "layout": "IPY_MODEL_31530e0024a6446893712c29c5dc9734",
       "max": 16,
       "min": 0.8,
       "step": 0.1,
       "style": "IPY_MODEL_a009d05e07524fd39f8340a0a2885907",
       "value": 12
      }
     },
     "9698579ee81d411685da58328f31f9fd": {
      "model_module": "@jupyter-widgets/controls",
      "model_module_version": "1.5.0",
      "model_name": "SliderStyleModel",
      "state": {
       "description_width": ""
      }
     },
     "9841dae8eea6473f91ddf63f054fc138": {
      "model_module": "@jupyter-widgets/controls",
      "model_module_version": "1.5.0",
      "model_name": "VBoxModel",
      "state": {
       "_dom_classes": [
        "widget-interact"
       ],
       "children": [
        "IPY_MODEL_0cd357ed6a744cf4aafb15596e2d95a0",
        "IPY_MODEL_f7945f6317a34acb9fe5a06743183a9d",
        "IPY_MODEL_a0d9708040da414dabd7eabd8a06e9a7",
        "IPY_MODEL_7dabf9a317124183b271a8aa0895cd1e"
       ],
       "layout": "IPY_MODEL_5da8c92ad3754919aeb79454fb23ddfb"
      }
     },
     "9929e3afb149459d8339abcac719b0d9": {
      "model_module": "@jupyter-widgets/controls",
      "model_module_version": "1.5.0",
      "model_name": "SliderStyleModel",
      "state": {
       "description_width": ""
      }
     },
     "9c5b4eeda9c24ac99947cd50f931cf3d": {
      "model_module": "@jupyter-widgets/base",
      "model_module_version": "1.2.0",
      "model_name": "LayoutModel",
      "state": {}
     },
     "9e920d46f319469fb11978be95aed64c": {
      "model_module": "@jupyter-widgets/controls",
      "model_module_version": "1.5.0",
      "model_name": "SliderStyleModel",
      "state": {
       "description_width": ""
      }
     },
     "9f170c583adb4d81bac766ca62254036": {
      "model_module": "@jupyter-widgets/base",
      "model_module_version": "1.2.0",
      "model_name": "LayoutModel",
      "state": {}
     },
     "a009d05e07524fd39f8340a0a2885907": {
      "model_module": "@jupyter-widgets/controls",
      "model_module_version": "1.5.0",
      "model_name": "SliderStyleModel",
      "state": {
       "description_width": ""
      }
     },
     "a0b11c6248324d289a9ad769efc20453": {
      "model_module": "@jupyter-widgets/base",
      "model_module_version": "1.2.0",
      "model_name": "LayoutModel",
      "state": {}
     },
     "a0d9708040da414dabd7eabd8a06e9a7": {
      "model_module": "@jupyter-widgets/controls",
      "model_module_version": "1.5.0",
      "model_name": "IntSliderModel",
      "state": {
       "description": "y0",
       "layout": "IPY_MODEL_c55ae050b6b74f33bb7ca8876b8ae617",
       "max": 1000,
       "min": 50,
       "step": 5,
       "style": "IPY_MODEL_25c1de1f92bc464aa920bf5bced0e029",
       "value": 50
      }
     },
     "a2a0bdb894644e019f8e5dbd9fbbf105": {
      "model_module": "@jupyter-widgets/controls",
      "model_module_version": "1.5.0",
      "model_name": "SliderStyleModel",
      "state": {
       "description_width": ""
      }
     },
     "a40ad48c698943c885ec32755a9d60fe": {
      "model_module": "@jupyter-widgets/controls",
      "model_module_version": "1.5.0",
      "model_name": "IntSliderModel",
      "state": {
       "description": "y0",
       "layout": "IPY_MODEL_01722fde7f1e4726a767fdd9d3a00602",
       "max": 1000,
       "min": 50,
       "step": 5,
       "style": "IPY_MODEL_9e920d46f319469fb11978be95aed64c",
       "value": 485
      }
     },
     "a6900206e75b45e09a2e2ee6a009839c": {
      "model_module": "@jupyter-widgets/controls",
      "model_module_version": "1.5.0",
      "model_name": "SliderStyleModel",
      "state": {
       "description_width": ""
      }
     },
     "a9a0ab712ffc4662a944d1796a69b624": {
      "model_module": "@jupyter-widgets/controls",
      "model_module_version": "1.5.0",
      "model_name": "SliderStyleModel",
      "state": {
       "description_width": ""
      }
     },
     "aafde4ddd907429e89d4f25f032e0191": {
      "model_module": "@jupyter-widgets/controls",
      "model_module_version": "1.5.0",
      "model_name": "SliderStyleModel",
      "state": {
       "description_width": ""
      }
     },
     "ab5e269e99a841369381f17a31577d7c": {
      "model_module": "@jupyter-widgets/base",
      "model_module_version": "1.2.0",
      "model_name": "LayoutModel",
      "state": {}
     },
     "ae4c08f102084384b7c1ab8892491841": {
      "model_module": "@jupyter-widgets/controls",
      "model_module_version": "1.5.0",
      "model_name": "VBoxModel",
      "state": {
       "_dom_classes": [
        "widget-interact"
       ],
       "children": [
        "IPY_MODEL_cba2d9b6bb114371b2f25b7db102f9ef",
        "IPY_MODEL_fae5601dcccf40d8ae246d905799b183",
        "IPY_MODEL_45b1c93e7ed94e35b321d0cd0563a0cd",
        "IPY_MODEL_ed2f12908b0e40d59edf0e7e6efd5c77"
       ],
       "layout": "IPY_MODEL_cfa04a5e4d4040aea94d2ab1c93dc7f5"
      }
     },
     "aebe0385024f49e599f85c6d74f08bd9": {
      "model_module": "@jupyter-widgets/controls",
      "model_module_version": "1.5.0",
      "model_name": "SliderStyleModel",
      "state": {
       "description_width": ""
      }
     },
     "aefd472098004357b486fe94c90dc9c2": {
      "model_module": "@jupyter-widgets/base",
      "model_module_version": "1.2.0",
      "model_name": "LayoutModel",
      "state": {}
     },
     "b181433014d4469badae671dab15a954": {
      "model_module": "@jupyter-widgets/controls",
      "model_module_version": "1.5.0",
      "model_name": "IntSliderModel",
      "state": {
       "description": "y0",
       "layout": "IPY_MODEL_06d5959ce78b47b8a028698746abfd81",
       "max": 1000,
       "min": 50,
       "step": 5,
       "style": "IPY_MODEL_e320293c996949548d99a7eca547bef9",
       "value": 495
      }
     },
     "b23f96b5c9034a9ba8133869e0ecf009": {
      "model_module": "@jupyter-widgets/controls",
      "model_module_version": "1.5.0",
      "model_name": "IntSliderModel",
      "state": {
       "description": "M",
       "layout": "IPY_MODEL_42cce5055a144abdade2a98035d2248d",
       "max": 2000,
       "min": 250,
       "step": 10,
       "style": "IPY_MODEL_54a4e78e32034147921199336392169c",
       "value": 1000
      }
     },
     "b373d8f3f0d5456fb545e7603c0fbc0a": {
      "model_module": "@jupyter-widgets/controls",
      "model_module_version": "1.5.0",
      "model_name": "VBoxModel",
      "state": {
       "_dom_classes": [
        "widget-interact"
       ],
       "children": [
        "IPY_MODEL_fb5b00b9494f4ce8b4fea35fb8e528d5",
        "IPY_MODEL_02c53153eb5d45688642be50ccb18f34",
        "IPY_MODEL_ca30e82190734e6fa1a8af111d8e73c0",
        "IPY_MODEL_52c01293ca1546239ba901da85df142f"
       ],
       "layout": "IPY_MODEL_52a99af8ac4f4cc88ff6133b32793c0c"
      }
     },
     "b748c101385b421bb3fff14238f3d5fc": {
      "model_module": "@jupyter-widgets/base",
      "model_module_version": "1.2.0",
      "model_name": "LayoutModel",
      "state": {}
     },
     "b74fb1b45b0a4f37ad2d62ce14dc9e32": {
      "model_module": "@jupyter-widgets/base",
      "model_module_version": "1.2.0",
      "model_name": "LayoutModel",
      "state": {}
     },
     "b77b73236d5944548c8a7da5b7f69097": {
      "model_module": "@jupyter-widgets/base",
      "model_module_version": "1.2.0",
      "model_name": "LayoutModel",
      "state": {}
     },
     "b7f643eedd304d0fb278793ba59bb0d7": {
      "model_module": "@jupyter-widgets/controls",
      "model_module_version": "1.5.0",
      "model_name": "SliderStyleModel",
      "state": {
       "description_width": ""
      }
     },
     "b81d874ba92345d2b2286d3e8c29df16": {
      "model_module": "@jupyter-widgets/base",
      "model_module_version": "1.2.0",
      "model_name": "LayoutModel",
      "state": {}
     },
     "ba4ccf5a891c45e89ae8c76e84df1377": {
      "model_module": "@jupyter-widgets/base",
      "model_module_version": "1.2.0",
      "model_name": "LayoutModel",
      "state": {}
     },
     "ba6d77c3cb0c4cedbfd63eb3873040ea": {
      "model_module": "@jupyter-widgets/base",
      "model_module_version": "1.2.0",
      "model_name": "LayoutModel",
      "state": {}
     },
     "bc3af383510349f39c5bf695f47cf52e": {
      "model_module": "@jupyter-widgets/controls",
      "model_module_version": "1.5.0",
      "model_name": "SliderStyleModel",
      "state": {
       "description_width": ""
      }
     },
     "beab4cac0f874a0da4d5e81ce23127c0": {
      "model_module": "@jupyter-widgets/controls",
      "model_module_version": "1.5.0",
      "model_name": "SliderStyleModel",
      "state": {
       "description_width": ""
      }
     },
     "beeb58fe989a4f06b78180a34690f0e1": {
      "model_module": "@jupyter-widgets/controls",
      "model_module_version": "1.5.0",
      "model_name": "IntSliderModel",
      "state": {
       "description": "M",
       "layout": "IPY_MODEL_e0e77434780d4c07a8601fe9dbe0ffe0",
       "max": 2000,
       "min": 250,
       "step": 10,
       "style": "IPY_MODEL_0bfaff8aeebd46f4b1934270dc5821f4",
       "value": 1000
      }
     },
     "c0b4af68733b43be904f3d3f85f5cfa7": {
      "model_module": "@jupyter-widgets/controls",
      "model_module_version": "1.5.0",
      "model_name": "SliderStyleModel",
      "state": {
       "description_width": ""
      }
     },
     "c13762c5c5a449ffb1f7e3f1063ed5c9": {
      "model_module": "@jupyter-widgets/controls",
      "model_module_version": "1.5.0",
      "model_name": "SliderStyleModel",
      "state": {
       "description_width": ""
      }
     },
     "c1acee4afdc246d294ef898bd16facdc": {
      "model_module": "@jupyter-widgets/controls",
      "model_module_version": "1.5.0",
      "model_name": "IntSliderModel",
      "state": {
       "description": "M",
       "layout": "IPY_MODEL_287cd367abd94c6992bb09daa472b211",
       "max": 2000,
       "min": 100,
       "step": 10,
       "style": "IPY_MODEL_0f9873ea044c4cd0b84bca0f63392f23",
       "value": 1000
      }
     },
     "c34300f22580441da1cff26ebfd100da": {
      "model_module": "@jupyter-widgets/output",
      "model_module_version": "1.0.0",
      "model_name": "OutputModel",
      "state": {
       "layout": "IPY_MODEL_f71a36c1202049fd895699395ba5ad87"
      }
     },
     "c455c9d51c7f4bc3912e1295cb3afa7f": {
      "model_module": "@jupyter-widgets/output",
      "model_module_version": "1.0.0",
      "model_name": "OutputModel",
      "state": {
       "layout": "IPY_MODEL_fdf7c9ad43a34cb49788a2487f7cafb5"
      }
     },
     "c55ae050b6b74f33bb7ca8876b8ae617": {
      "model_module": "@jupyter-widgets/base",
      "model_module_version": "1.2.0",
      "model_name": "LayoutModel",
      "state": {}
     },
     "c7ce90fb2d74453a86ce76372ced4936": {
      "model_module": "@jupyter-widgets/base",
      "model_module_version": "1.2.0",
      "model_name": "LayoutModel",
      "state": {}
     },
     "c87eb3e3100c4c92a4a8d664d3044307": {
      "model_module": "@jupyter-widgets/output",
      "model_module_version": "1.0.0",
      "model_name": "OutputModel",
      "state": {
       "layout": "IPY_MODEL_628d1045dde84584bb24be7fec0e9778"
      }
     },
     "ca30e82190734e6fa1a8af111d8e73c0": {
      "model_module": "@jupyter-widgets/controls",
      "model_module_version": "1.5.0",
      "model_name": "IntSliderModel",
      "state": {
       "description": "y0",
       "layout": "IPY_MODEL_ab5e269e99a841369381f17a31577d7c",
       "max": 1000,
       "min": 50,
       "step": 5,
       "style": "IPY_MODEL_9698579ee81d411685da58328f31f9fd",
       "value": 50
      }
     },
     "ca44ad27c46749378897d0ae18503d7a": {
      "model_module": "@jupyter-widgets/controls",
      "model_module_version": "1.5.0",
      "model_name": "IntSliderModel",
      "state": {
       "description": "y0",
       "layout": "IPY_MODEL_0bbcc7350b6343d5a9bf1534226a2b59",
       "max": 1000,
       "min": 50,
       "step": 5,
       "style": "IPY_MODEL_08cd0337ff1f49c68055ff1209621d27",
       "value": 580
      }
     },
     "cba2d9b6bb114371b2f25b7db102f9ef": {
      "model_module": "@jupyter-widgets/controls",
      "model_module_version": "1.5.0",
      "model_name": "IntSliderModel",
      "state": {
       "description": "M",
       "layout": "IPY_MODEL_55170df18abe4f5f97112a0e4d83d51d",
       "max": 2000,
       "min": 100,
       "step": 10,
       "style": "IPY_MODEL_6b04253dc2204833b1a08d045fe1f624",
       "value": 1000
      }
     },
     "cc9bdbc5ac9540b9ba207dc7655b42d7": {
      "model_module": "@jupyter-widgets/output",
      "model_module_version": "1.0.0",
      "model_name": "OutputModel",
      "state": {
       "layout": "IPY_MODEL_1db02c5639c14fb8b9cd2fac9eaf5bfd"
      }
     },
     "cf4703dc555c4bed891a8e7989c20195": {
      "model_module": "@jupyter-widgets/controls",
      "model_module_version": "1.5.0",
      "model_name": "SliderStyleModel",
      "state": {
       "description_width": ""
      }
     },
     "cfa04a5e4d4040aea94d2ab1c93dc7f5": {
      "model_module": "@jupyter-widgets/base",
      "model_module_version": "1.2.0",
      "model_name": "LayoutModel",
      "state": {}
     },
     "d15bec5610154b83bbb0fcb958be3026": {
      "model_module": "@jupyter-widgets/base",
      "model_module_version": "1.2.0",
      "model_name": "LayoutModel",
      "state": {}
     },
     "d257c31226b0447aa2ae805339056610": {
      "model_module": "@jupyter-widgets/controls",
      "model_module_version": "1.5.0",
      "model_name": "IntSliderModel",
      "state": {
       "description": "M",
       "layout": "IPY_MODEL_ba4ccf5a891c45e89ae8c76e84df1377",
       "max": 2000,
       "min": 250,
       "step": 10,
       "style": "IPY_MODEL_3fc71e17d8cd4291b0762f12ae0e74f7",
       "value": 1000
      }
     },
     "d50758d2abc14f798bbdc4d33c7ca91e": {
      "model_module": "@jupyter-widgets/controls",
      "model_module_version": "1.5.0",
      "model_name": "IntSliderModel",
      "state": {
       "description": "y0",
       "layout": "IPY_MODEL_6a0efb26fe374dce94765d555c41c2ae",
       "max": 1000,
       "min": 50,
       "step": 5,
       "style": "IPY_MODEL_c0b4af68733b43be904f3d3f85f5cfa7",
       "value": 50
      }
     },
     "d58f8107f81b4a1db4f65fb91669c47f": {
      "model_module": "@jupyter-widgets/output",
      "model_module_version": "1.0.0",
      "model_name": "OutputModel",
      "state": {
       "layout": "IPY_MODEL_3b72653a77f043eb939004aff6944efb"
      }
     },
     "dbc7d1bac8344c0aa0affbbfa51938e0": {
      "model_module": "@jupyter-widgets/base",
      "model_module_version": "1.2.0",
      "model_name": "LayoutModel",
      "state": {}
     },
     "dc94f9a67770485593550c2c1f4a5c42": {
      "model_module": "@jupyter-widgets/base",
      "model_module_version": "1.2.0",
      "model_name": "LayoutModel",
      "state": {}
     },
     "dd13fd0e2d4746e58715f143e27b85b3": {
      "model_module": "@jupyter-widgets/output",
      "model_module_version": "1.0.0",
      "model_name": "OutputModel",
      "state": {
       "layout": "IPY_MODEL_c7ce90fb2d74453a86ce76372ced4936"
      }
     },
     "ddfbd15e22b14699b878d674c8243f27": {
      "model_module": "@jupyter-widgets/base",
      "model_module_version": "1.2.0",
      "model_name": "LayoutModel",
      "state": {}
     },
     "df7c2cee885a4030a71694b9b432d9d9": {
      "model_module": "@jupyter-widgets/controls",
      "model_module_version": "1.5.0",
      "model_name": "IntSliderModel",
      "state": {
       "description": "M",
       "layout": "IPY_MODEL_ddfbd15e22b14699b878d674c8243f27",
       "max": 2000,
       "min": 100,
       "step": 10,
       "style": "IPY_MODEL_7a4500d1ca184e30a9ec2149b9ea627c",
       "value": 2000
      }
     },
     "e090d75bce5a443facb8e65f3edaec56": {
      "model_module": "@jupyter-widgets/controls",
      "model_module_version": "1.5.0",
      "model_name": "SliderStyleModel",
      "state": {
       "description_width": ""
      }
     },
     "e0e77434780d4c07a8601fe9dbe0ffe0": {
      "model_module": "@jupyter-widgets/base",
      "model_module_version": "1.2.0",
      "model_name": "LayoutModel",
      "state": {}
     },
     "e0eeedb6f58742b2bb808d4ff0690b86": {
      "model_module": "@jupyter-widgets/controls",
      "model_module_version": "1.5.0",
      "model_name": "SliderStyleModel",
      "state": {
       "description_width": ""
      }
     },
     "e1b0573952fd48b0b950b8bda76d667a": {
      "model_module": "@jupyter-widgets/controls",
      "model_module_version": "1.5.0",
      "model_name": "SliderStyleModel",
      "state": {
       "description_width": ""
      }
     },
     "e1b4728375364dafab45e1beb81b4065": {
      "model_module": "@jupyter-widgets/base",
      "model_module_version": "1.2.0",
      "model_name": "LayoutModel",
      "state": {}
     },
     "e320293c996949548d99a7eca547bef9": {
      "model_module": "@jupyter-widgets/controls",
      "model_module_version": "1.5.0",
      "model_name": "SliderStyleModel",
      "state": {
       "description_width": ""
      }
     },
     "e547f03643054f538738dc888489be9d": {
      "model_module": "@jupyter-widgets/controls",
      "model_module_version": "1.5.0",
      "model_name": "IntSliderModel",
      "state": {
       "description": "y0",
       "layout": "IPY_MODEL_1d835be9021749f3927f75ef2b656149",
       "max": 1000,
       "min": 250,
       "step": 5,
       "style": "IPY_MODEL_e0eeedb6f58742b2bb808d4ff0690b86",
       "value": 250
      }
     },
     "e6b87574b4a741ebbf97d6f5cdfceccc": {
      "model_module": "@jupyter-widgets/controls",
      "model_module_version": "1.5.0",
      "model_name": "VBoxModel",
      "state": {
       "_dom_classes": [
        "widget-interact"
       ],
       "children": [
        "IPY_MODEL_8d7791d412ce40bab330824504a15821",
        "IPY_MODEL_4a6746987bb14553a22e117f2bd66ae3",
        "IPY_MODEL_b181433014d4469badae671dab15a954",
        "IPY_MODEL_294c934efe674a1fa043b3ea676a34af"
       ],
       "layout": "IPY_MODEL_aefd472098004357b486fe94c90dc9c2"
      }
     },
     "e7ee727a023c4198a2a4d3d0e393b4d9": {
      "model_module": "@jupyter-widgets/controls",
      "model_module_version": "1.5.0",
      "model_name": "IntSliderModel",
      "state": {
       "description": "M",
       "layout": "IPY_MODEL_9f170c583adb4d81bac766ca62254036",
       "max": 2000,
       "min": 250,
       "step": 10,
       "style": "IPY_MODEL_a6900206e75b45e09a2e2ee6a009839c",
       "value": 1000
      }
     },
     "eb4e885672e94373a3b8455278e87b26": {
      "model_module": "@jupyter-widgets/base",
      "model_module_version": "1.2.0",
      "model_name": "LayoutModel",
      "state": {}
     },
     "ebbcd98eb306424492b1910f43a34b22": {
      "model_module": "@jupyter-widgets/controls",
      "model_module_version": "1.5.0",
      "model_name": "SliderStyleModel",
      "state": {
       "description_width": ""
      }
     },
     "ed2f12908b0e40d59edf0e7e6efd5c77": {
      "model_module": "@jupyter-widgets/output",
      "model_module_version": "1.0.0",
      "model_name": "OutputModel",
      "state": {
       "layout": "IPY_MODEL_b81d874ba92345d2b2286d3e8c29df16"
      }
     },
     "ed3ed0bb24844391a7316e80d2cc39b1": {
      "model_module": "@jupyter-widgets/controls",
      "model_module_version": "1.5.0",
      "model_name": "VBoxModel",
      "state": {
       "_dom_classes": [
        "widget-interact"
       ],
       "children": [
        "IPY_MODEL_66591c52d1494ce6a8781f5c41bd49e9",
        "IPY_MODEL_1821cc80c03548e4a10c5d3cd10555ca",
        "IPY_MODEL_2a8bc1c76c3d44ddbc14726f5f0b2399",
        "IPY_MODEL_7022e275f6a8476c8dfc47337bed3cf4"
       ],
       "layout": "IPY_MODEL_128841b01a2a436d86a2157757da67fc"
      }
     },
     "f188c2d1121c4a559b25a316605bd558": {
      "model_module": "@jupyter-widgets/controls",
      "model_module_version": "1.5.0",
      "model_name": "SliderStyleModel",
      "state": {
       "description_width": ""
      }
     },
     "f658215027f04cb2ba75123d2eceb6b2": {
      "model_module": "@jupyter-widgets/output",
      "model_module_version": "1.0.0",
      "model_name": "OutputModel",
      "state": {
       "layout": "IPY_MODEL_87751c76cb4049ef97e6e58f31ea5982"
      }
     },
     "f71a36c1202049fd895699395ba5ad87": {
      "model_module": "@jupyter-widgets/base",
      "model_module_version": "1.2.0",
      "model_name": "LayoutModel",
      "state": {}
     },
     "f7945f6317a34acb9fe5a06743183a9d": {
      "model_module": "@jupyter-widgets/controls",
      "model_module_version": "1.5.0",
      "model_name": "FloatSliderModel",
      "state": {
       "description": "V",
       "layout": "IPY_MODEL_46c3334759ea41f296f5b83ecdb0f5f4",
       "max": 16,
       "min": 0.8,
       "step": 0.1,
       "style": "IPY_MODEL_b7f643eedd304d0fb278793ba59bb0d7",
       "value": 12
      }
     },
     "f98fd46f2bf5490388683a1db8ed0062": {
      "model_module": "@jupyter-widgets/controls",
      "model_module_version": "1.5.0",
      "model_name": "FloatSliderModel",
      "state": {
       "description": "V",
       "layout": "IPY_MODEL_2ab33c1d074541888c555755e2f5395a",
       "max": 16,
       "min": 2,
       "step": 0.1,
       "style": "IPY_MODEL_47bedbeb64dc4ad098682f400b774134",
       "value": 12
      }
     },
     "fae5601dcccf40d8ae246d905799b183": {
      "model_module": "@jupyter-widgets/controls",
      "model_module_version": "1.5.0",
      "model_name": "FloatSliderModel",
      "state": {
       "description": "V",
       "layout": "IPY_MODEL_9c5b4eeda9c24ac99947cd50f931cf3d",
       "max": 16,
       "min": 0.8,
       "step": 0.1,
       "style": "IPY_MODEL_ebbcd98eb306424492b1910f43a34b22",
       "value": 12
      }
     },
     "fb5b00b9494f4ce8b4fea35fb8e528d5": {
      "model_module": "@jupyter-widgets/controls",
      "model_module_version": "1.5.0",
      "model_name": "IntSliderModel",
      "state": {
       "description": "M",
       "layout": "IPY_MODEL_52fba609c70a4513b5f8896980a5dd91",
       "max": 2000,
       "min": 100,
       "step": 10,
       "style": "IPY_MODEL_93be7e2b0e7f47ab9604136135d79e2b",
       "value": 1000
      }
     },
     "fc53b97bbf4246a282a3b0749f98510b": {
      "model_module": "@jupyter-widgets/controls",
      "model_module_version": "1.5.0",
      "model_name": "VBoxModel",
      "state": {
       "_dom_classes": [
        "widget-interact"
       ],
       "children": [
        "IPY_MODEL_103e8cfb466d4caeb1f03d1a76755ec1",
        "IPY_MODEL_4731307daed142148f87fd037c130a3e",
        "IPY_MODEL_a40ad48c698943c885ec32755a9d60fe",
        "IPY_MODEL_762792f8cad6430ea47ff331eb8cfaaf"
       ],
       "layout": "IPY_MODEL_6507fe6bb4c846e7946f4edebe3460fc"
      }
     },
     "fdf7c9ad43a34cb49788a2487f7cafb5": {
      "model_module": "@jupyter-widgets/base",
      "model_module_version": "1.2.0",
      "model_name": "LayoutModel",
      "state": {}
     }
    },
    "version_major": 2,
    "version_minor": 0
   }
  }
 },
 "nbformat": 4,
 "nbformat_minor": 4
}
