{
 "cells": [
  {
   "cell_type": "markdown",
   "metadata": {},
   "source": [
    "# Aggregate Demand\n",
    "\n",
    "Macroeconomics is the study of all economic activity. This includes complexities that arise in the course of production and exchange. It also includes analysis using statistics that represent the sum of all economic activity or activity in different sectors and of different kinds.\n",
    "Although data reflecting economic activity cannot be reduced to aggregates without losing information, aggregates themselves contain information that is unavailable at the level of analysis of particular events or of particular firms or sectors. Consideration of aggregate values allows one to consider the details of macroeconomic equilibrium, as well as macroeconomic disequilibrium. \n",
    "\n",
    "## The Money Market and the Goods Market\n",
    "\n",
    "The equation of exchange is a golden key that unlocks the secrets of the macroeconomy. It links changes in the money market to changes in the market for non-money goods, and vice versa, by defining aggregate demand as $MV$. The aggregate demand curve assume a given level of expenditures. This value is defined across different combinations of $P$ and $y$. As the value of $P$ increases, the value of $y$ falls, thereby maintaining the given value of total expenditures.\n",
    "In this chapter, we will use the equation of exchange to understand how changes in the goods market lead to changes in the market for non-money goods.  For simplicity sake, we will assume that there is only one good that acts as money. We will discuss in a later chapter that analysis can include other moneys.\n",
    "\n",
    "> <img src=\"https://github.com/jlcatonjr/Macroeconomics-Growth-and-Monetary-Equilibrium/blob/main/Chapter%206/Figure%201.png?raw=true\" alt=\"Market for Non-money Goods\"/>\n",
    "> <center> <b> Figure 1 \n",
    "\n",
    "In the previous chapter we used the equation of exchange to define changes the supply of money that can result from changes in demand for money. For the sake of simplicity, we start with a market whose supply of money is perfectly inelastic, as compared with a commodity money whose supply is upward sloping. A perfectly inelastic money supply allows us to consider money as a choice variable, much as base money is the result of the policy of a monetary authority. Changes in the price of money will therefore not affect the quantity of money supplied to the market. With a perfectly inelastic quantity of money, $M$, is not a function of demand for money . Changes in demand for money impact the price of money and, therefore, the price level. \n",
    "\n",
    "Aside from exogenous changes in supply, we will focus on the effect of changes in portfolio demand, $k$, for money. Recall that this is the inverse of the average velocity of money:\n",
    "\n",
    ">$k=\\frac{1}{V}$\n",
    "\n",
    "A change in the quantity of money or a change in portfolio demand for money will shift in aggregate demand, thereby shifting the price level in the long-run.\n",
    "\n",
    "Try working witht the plot yourself!"
   ]
  },
  {
   "cell_type": "code",
   "execution_count": 1,
   "metadata": {},
   "outputs": [
    {
     "data": {
      "application/javascript": [
       "/* Put everything inside the global mpl namespace */\n",
       "/* global mpl */\n",
       "window.mpl = {};\n",
       "\n",
       "mpl.get_websocket_type = function () {\n",
       "    if (typeof WebSocket !== 'undefined') {\n",
       "        return WebSocket;\n",
       "    } else if (typeof MozWebSocket !== 'undefined') {\n",
       "        return MozWebSocket;\n",
       "    } else {\n",
       "        alert(\n",
       "            'Your browser does not have WebSocket support. ' +\n",
       "                'Please try Chrome, Safari or Firefox ≥ 6. ' +\n",
       "                'Firefox 4 and 5 are also supported but you ' +\n",
       "                'have to enable WebSockets in about:config.'\n",
       "        );\n",
       "    }\n",
       "};\n",
       "\n",
       "mpl.figure = function (figure_id, websocket, ondownload, parent_element) {\n",
       "    this.id = figure_id;\n",
       "\n",
       "    this.ws = websocket;\n",
       "\n",
       "    this.supports_binary = this.ws.binaryType !== undefined;\n",
       "\n",
       "    if (!this.supports_binary) {\n",
       "        var warnings = document.getElementById('mpl-warnings');\n",
       "        if (warnings) {\n",
       "            warnings.style.display = 'block';\n",
       "            warnings.textContent =\n",
       "                'This browser does not support binary websocket messages. ' +\n",
       "                'Performance may be slow.';\n",
       "        }\n",
       "    }\n",
       "\n",
       "    this.imageObj = new Image();\n",
       "\n",
       "    this.context = undefined;\n",
       "    this.message = undefined;\n",
       "    this.canvas = undefined;\n",
       "    this.rubberband_canvas = undefined;\n",
       "    this.rubberband_context = undefined;\n",
       "    this.format_dropdown = undefined;\n",
       "\n",
       "    this.image_mode = 'full';\n",
       "\n",
       "    this.root = document.createElement('div');\n",
       "    this.root.setAttribute('style', 'display: inline-block');\n",
       "    this._root_extra_style(this.root);\n",
       "\n",
       "    parent_element.appendChild(this.root);\n",
       "\n",
       "    this._init_header(this);\n",
       "    this._init_canvas(this);\n",
       "    this._init_toolbar(this);\n",
       "\n",
       "    var fig = this;\n",
       "\n",
       "    this.waiting = false;\n",
       "\n",
       "    this.ws.onopen = function () {\n",
       "        fig.send_message('supports_binary', { value: fig.supports_binary });\n",
       "        fig.send_message('send_image_mode', {});\n",
       "        if (fig.ratio !== 1) {\n",
       "            fig.send_message('set_dpi_ratio', { dpi_ratio: fig.ratio });\n",
       "        }\n",
       "        fig.send_message('refresh', {});\n",
       "    };\n",
       "\n",
       "    this.imageObj.onload = function () {\n",
       "        if (fig.image_mode === 'full') {\n",
       "            // Full images could contain transparency (where diff images\n",
       "            // almost always do), so we need to clear the canvas so that\n",
       "            // there is no ghosting.\n",
       "            fig.context.clearRect(0, 0, fig.canvas.width, fig.canvas.height);\n",
       "        }\n",
       "        fig.context.drawImage(fig.imageObj, 0, 0);\n",
       "    };\n",
       "\n",
       "    this.imageObj.onunload = function () {\n",
       "        fig.ws.close();\n",
       "    };\n",
       "\n",
       "    this.ws.onmessage = this._make_on_message_function(this);\n",
       "\n",
       "    this.ondownload = ondownload;\n",
       "};\n",
       "\n",
       "mpl.figure.prototype._init_header = function () {\n",
       "    var titlebar = document.createElement('div');\n",
       "    titlebar.classList =\n",
       "        'ui-dialog-titlebar ui-widget-header ui-corner-all ui-helper-clearfix';\n",
       "    var titletext = document.createElement('div');\n",
       "    titletext.classList = 'ui-dialog-title';\n",
       "    titletext.setAttribute(\n",
       "        'style',\n",
       "        'width: 100%; text-align: center; padding: 3px;'\n",
       "    );\n",
       "    titlebar.appendChild(titletext);\n",
       "    this.root.appendChild(titlebar);\n",
       "    this.header = titletext;\n",
       "};\n",
       "\n",
       "mpl.figure.prototype._canvas_extra_style = function (_canvas_div) {};\n",
       "\n",
       "mpl.figure.prototype._root_extra_style = function (_canvas_div) {};\n",
       "\n",
       "mpl.figure.prototype._init_canvas = function () {\n",
       "    var fig = this;\n",
       "\n",
       "    var canvas_div = (this.canvas_div = document.createElement('div'));\n",
       "    canvas_div.setAttribute(\n",
       "        'style',\n",
       "        'border: 1px solid #ddd;' +\n",
       "            'box-sizing: content-box;' +\n",
       "            'clear: both;' +\n",
       "            'min-height: 1px;' +\n",
       "            'min-width: 1px;' +\n",
       "            'outline: 0;' +\n",
       "            'overflow: hidden;' +\n",
       "            'position: relative;' +\n",
       "            'resize: both;'\n",
       "    );\n",
       "\n",
       "    function on_keyboard_event_closure(name) {\n",
       "        return function (event) {\n",
       "            return fig.key_event(event, name);\n",
       "        };\n",
       "    }\n",
       "\n",
       "    canvas_div.addEventListener(\n",
       "        'keydown',\n",
       "        on_keyboard_event_closure('key_press')\n",
       "    );\n",
       "    canvas_div.addEventListener(\n",
       "        'keyup',\n",
       "        on_keyboard_event_closure('key_release')\n",
       "    );\n",
       "\n",
       "    this._canvas_extra_style(canvas_div);\n",
       "    this.root.appendChild(canvas_div);\n",
       "\n",
       "    var canvas = (this.canvas = document.createElement('canvas'));\n",
       "    canvas.classList.add('mpl-canvas');\n",
       "    canvas.setAttribute('style', 'box-sizing: content-box;');\n",
       "\n",
       "    this.context = canvas.getContext('2d');\n",
       "\n",
       "    var backingStore =\n",
       "        this.context.backingStorePixelRatio ||\n",
       "        this.context.webkitBackingStorePixelRatio ||\n",
       "        this.context.mozBackingStorePixelRatio ||\n",
       "        this.context.msBackingStorePixelRatio ||\n",
       "        this.context.oBackingStorePixelRatio ||\n",
       "        this.context.backingStorePixelRatio ||\n",
       "        1;\n",
       "\n",
       "    this.ratio = (window.devicePixelRatio || 1) / backingStore;\n",
       "    if (this.ratio !== 1) {\n",
       "        fig.send_message('set_dpi_ratio', { dpi_ratio: this.ratio });\n",
       "    }\n",
       "\n",
       "    var rubberband_canvas = (this.rubberband_canvas = document.createElement(\n",
       "        'canvas'\n",
       "    ));\n",
       "    rubberband_canvas.setAttribute(\n",
       "        'style',\n",
       "        'box-sizing: content-box; position: absolute; left: 0; top: 0; z-index: 1;'\n",
       "    );\n",
       "\n",
       "    // Apply a ponyfill if ResizeObserver is not implemented by browser.\n",
       "    if (this.ResizeObserver === undefined) {\n",
       "        if (window.ResizeObserver !== undefined) {\n",
       "            this.ResizeObserver = window.ResizeObserver;\n",
       "        } else {\n",
       "            var obs = _JSXTOOLS_RESIZE_OBSERVER({});\n",
       "            this.ResizeObserver = obs.ResizeObserver;\n",
       "        }\n",
       "    }\n",
       "\n",
       "    this.resizeObserverInstance = new this.ResizeObserver(function (entries) {\n",
       "        var nentries = entries.length;\n",
       "        for (var i = 0; i < nentries; i++) {\n",
       "            var entry = entries[i];\n",
       "            var width, height;\n",
       "            if (entry.contentBoxSize) {\n",
       "                if (entry.contentBoxSize instanceof Array) {\n",
       "                    // Chrome 84 implements new version of spec.\n",
       "                    width = entry.contentBoxSize[0].inlineSize;\n",
       "                    height = entry.contentBoxSize[0].blockSize;\n",
       "                } else {\n",
       "                    // Firefox implements old version of spec.\n",
       "                    width = entry.contentBoxSize.inlineSize;\n",
       "                    height = entry.contentBoxSize.blockSize;\n",
       "                }\n",
       "            } else {\n",
       "                // Chrome <84 implements even older version of spec.\n",
       "                width = entry.contentRect.width;\n",
       "                height = entry.contentRect.height;\n",
       "            }\n",
       "\n",
       "            // Keep the size of the canvas and rubber band canvas in sync with\n",
       "            // the canvas container.\n",
       "            if (entry.devicePixelContentBoxSize) {\n",
       "                // Chrome 84 implements new version of spec.\n",
       "                canvas.setAttribute(\n",
       "                    'width',\n",
       "                    entry.devicePixelContentBoxSize[0].inlineSize\n",
       "                );\n",
       "                canvas.setAttribute(\n",
       "                    'height',\n",
       "                    entry.devicePixelContentBoxSize[0].blockSize\n",
       "                );\n",
       "            } else {\n",
       "                canvas.setAttribute('width', width * fig.ratio);\n",
       "                canvas.setAttribute('height', height * fig.ratio);\n",
       "            }\n",
       "            canvas.setAttribute(\n",
       "                'style',\n",
       "                'width: ' + width + 'px; height: ' + height + 'px;'\n",
       "            );\n",
       "\n",
       "            rubberband_canvas.setAttribute('width', width);\n",
       "            rubberband_canvas.setAttribute('height', height);\n",
       "\n",
       "            // And update the size in Python. We ignore the initial 0/0 size\n",
       "            // that occurs as the element is placed into the DOM, which should\n",
       "            // otherwise not happen due to the minimum size styling.\n",
       "            if (width != 0 && height != 0) {\n",
       "                fig.request_resize(width, height);\n",
       "            }\n",
       "        }\n",
       "    });\n",
       "    this.resizeObserverInstance.observe(canvas_div);\n",
       "\n",
       "    function on_mouse_event_closure(name) {\n",
       "        return function (event) {\n",
       "            return fig.mouse_event(event, name);\n",
       "        };\n",
       "    }\n",
       "\n",
       "    rubberband_canvas.addEventListener(\n",
       "        'mousedown',\n",
       "        on_mouse_event_closure('button_press')\n",
       "    );\n",
       "    rubberband_canvas.addEventListener(\n",
       "        'mouseup',\n",
       "        on_mouse_event_closure('button_release')\n",
       "    );\n",
       "    // Throttle sequential mouse events to 1 every 20ms.\n",
       "    rubberband_canvas.addEventListener(\n",
       "        'mousemove',\n",
       "        on_mouse_event_closure('motion_notify')\n",
       "    );\n",
       "\n",
       "    rubberband_canvas.addEventListener(\n",
       "        'mouseenter',\n",
       "        on_mouse_event_closure('figure_enter')\n",
       "    );\n",
       "    rubberband_canvas.addEventListener(\n",
       "        'mouseleave',\n",
       "        on_mouse_event_closure('figure_leave')\n",
       "    );\n",
       "\n",
       "    canvas_div.addEventListener('wheel', function (event) {\n",
       "        if (event.deltaY < 0) {\n",
       "            event.step = 1;\n",
       "        } else {\n",
       "            event.step = -1;\n",
       "        }\n",
       "        on_mouse_event_closure('scroll')(event);\n",
       "    });\n",
       "\n",
       "    canvas_div.appendChild(canvas);\n",
       "    canvas_div.appendChild(rubberband_canvas);\n",
       "\n",
       "    this.rubberband_context = rubberband_canvas.getContext('2d');\n",
       "    this.rubberband_context.strokeStyle = '#000000';\n",
       "\n",
       "    this._resize_canvas = function (width, height, forward) {\n",
       "        if (forward) {\n",
       "            canvas_div.style.width = width + 'px';\n",
       "            canvas_div.style.height = height + 'px';\n",
       "        }\n",
       "    };\n",
       "\n",
       "    // Disable right mouse context menu.\n",
       "    this.rubberband_canvas.addEventListener('contextmenu', function (_e) {\n",
       "        event.preventDefault();\n",
       "        return false;\n",
       "    });\n",
       "\n",
       "    function set_focus() {\n",
       "        canvas.focus();\n",
       "        canvas_div.focus();\n",
       "    }\n",
       "\n",
       "    window.setTimeout(set_focus, 100);\n",
       "};\n",
       "\n",
       "mpl.figure.prototype._init_toolbar = function () {\n",
       "    var fig = this;\n",
       "\n",
       "    var toolbar = document.createElement('div');\n",
       "    toolbar.classList = 'mpl-toolbar';\n",
       "    this.root.appendChild(toolbar);\n",
       "\n",
       "    function on_click_closure(name) {\n",
       "        return function (_event) {\n",
       "            return fig.toolbar_button_onclick(name);\n",
       "        };\n",
       "    }\n",
       "\n",
       "    function on_mouseover_closure(tooltip) {\n",
       "        return function (event) {\n",
       "            if (!event.currentTarget.disabled) {\n",
       "                return fig.toolbar_button_onmouseover(tooltip);\n",
       "            }\n",
       "        };\n",
       "    }\n",
       "\n",
       "    fig.buttons = {};\n",
       "    var buttonGroup = document.createElement('div');\n",
       "    buttonGroup.classList = 'mpl-button-group';\n",
       "    for (var toolbar_ind in mpl.toolbar_items) {\n",
       "        var name = mpl.toolbar_items[toolbar_ind][0];\n",
       "        var tooltip = mpl.toolbar_items[toolbar_ind][1];\n",
       "        var image = mpl.toolbar_items[toolbar_ind][2];\n",
       "        var method_name = mpl.toolbar_items[toolbar_ind][3];\n",
       "\n",
       "        if (!name) {\n",
       "            /* Instead of a spacer, we start a new button group. */\n",
       "            if (buttonGroup.hasChildNodes()) {\n",
       "                toolbar.appendChild(buttonGroup);\n",
       "            }\n",
       "            buttonGroup = document.createElement('div');\n",
       "            buttonGroup.classList = 'mpl-button-group';\n",
       "            continue;\n",
       "        }\n",
       "\n",
       "        var button = (fig.buttons[name] = document.createElement('button'));\n",
       "        button.classList = 'mpl-widget';\n",
       "        button.setAttribute('role', 'button');\n",
       "        button.setAttribute('aria-disabled', 'false');\n",
       "        button.addEventListener('click', on_click_closure(method_name));\n",
       "        button.addEventListener('mouseover', on_mouseover_closure(tooltip));\n",
       "\n",
       "        var icon_img = document.createElement('img');\n",
       "        icon_img.src = '_images/' + image + '.png';\n",
       "        icon_img.srcset = '_images/' + image + '_large.png 2x';\n",
       "        icon_img.alt = tooltip;\n",
       "        button.appendChild(icon_img);\n",
       "\n",
       "        buttonGroup.appendChild(button);\n",
       "    }\n",
       "\n",
       "    if (buttonGroup.hasChildNodes()) {\n",
       "        toolbar.appendChild(buttonGroup);\n",
       "    }\n",
       "\n",
       "    var fmt_picker = document.createElement('select');\n",
       "    fmt_picker.classList = 'mpl-widget';\n",
       "    toolbar.appendChild(fmt_picker);\n",
       "    this.format_dropdown = fmt_picker;\n",
       "\n",
       "    for (var ind in mpl.extensions) {\n",
       "        var fmt = mpl.extensions[ind];\n",
       "        var option = document.createElement('option');\n",
       "        option.selected = fmt === mpl.default_extension;\n",
       "        option.innerHTML = fmt;\n",
       "        fmt_picker.appendChild(option);\n",
       "    }\n",
       "\n",
       "    var status_bar = document.createElement('span');\n",
       "    status_bar.classList = 'mpl-message';\n",
       "    toolbar.appendChild(status_bar);\n",
       "    this.message = status_bar;\n",
       "};\n",
       "\n",
       "mpl.figure.prototype.request_resize = function (x_pixels, y_pixels) {\n",
       "    // Request matplotlib to resize the figure. Matplotlib will then trigger a resize in the client,\n",
       "    // which will in turn request a refresh of the image.\n",
       "    this.send_message('resize', { width: x_pixels, height: y_pixels });\n",
       "};\n",
       "\n",
       "mpl.figure.prototype.send_message = function (type, properties) {\n",
       "    properties['type'] = type;\n",
       "    properties['figure_id'] = this.id;\n",
       "    this.ws.send(JSON.stringify(properties));\n",
       "};\n",
       "\n",
       "mpl.figure.prototype.send_draw_message = function () {\n",
       "    if (!this.waiting) {\n",
       "        this.waiting = true;\n",
       "        this.ws.send(JSON.stringify({ type: 'draw', figure_id: this.id }));\n",
       "    }\n",
       "};\n",
       "\n",
       "mpl.figure.prototype.handle_save = function (fig, _msg) {\n",
       "    var format_dropdown = fig.format_dropdown;\n",
       "    var format = format_dropdown.options[format_dropdown.selectedIndex].value;\n",
       "    fig.ondownload(fig, format);\n",
       "};\n",
       "\n",
       "mpl.figure.prototype.handle_resize = function (fig, msg) {\n",
       "    var size = msg['size'];\n",
       "    if (size[0] !== fig.canvas.width || size[1] !== fig.canvas.height) {\n",
       "        fig._resize_canvas(size[0], size[1], msg['forward']);\n",
       "        fig.send_message('refresh', {});\n",
       "    }\n",
       "};\n",
       "\n",
       "mpl.figure.prototype.handle_rubberband = function (fig, msg) {\n",
       "    var x0 = msg['x0'] / fig.ratio;\n",
       "    var y0 = (fig.canvas.height - msg['y0']) / fig.ratio;\n",
       "    var x1 = msg['x1'] / fig.ratio;\n",
       "    var y1 = (fig.canvas.height - msg['y1']) / fig.ratio;\n",
       "    x0 = Math.floor(x0) + 0.5;\n",
       "    y0 = Math.floor(y0) + 0.5;\n",
       "    x1 = Math.floor(x1) + 0.5;\n",
       "    y1 = Math.floor(y1) + 0.5;\n",
       "    var min_x = Math.min(x0, x1);\n",
       "    var min_y = Math.min(y0, y1);\n",
       "    var width = Math.abs(x1 - x0);\n",
       "    var height = Math.abs(y1 - y0);\n",
       "\n",
       "    fig.rubberband_context.clearRect(\n",
       "        0,\n",
       "        0,\n",
       "        fig.canvas.width / fig.ratio,\n",
       "        fig.canvas.height / fig.ratio\n",
       "    );\n",
       "\n",
       "    fig.rubberband_context.strokeRect(min_x, min_y, width, height);\n",
       "};\n",
       "\n",
       "mpl.figure.prototype.handle_figure_label = function (fig, msg) {\n",
       "    // Updates the figure title.\n",
       "    fig.header.textContent = msg['label'];\n",
       "};\n",
       "\n",
       "mpl.figure.prototype.handle_cursor = function (fig, msg) {\n",
       "    var cursor = msg['cursor'];\n",
       "    switch (cursor) {\n",
       "        case 0:\n",
       "            cursor = 'pointer';\n",
       "            break;\n",
       "        case 1:\n",
       "            cursor = 'default';\n",
       "            break;\n",
       "        case 2:\n",
       "            cursor = 'crosshair';\n",
       "            break;\n",
       "        case 3:\n",
       "            cursor = 'move';\n",
       "            break;\n",
       "    }\n",
       "    fig.rubberband_canvas.style.cursor = cursor;\n",
       "};\n",
       "\n",
       "mpl.figure.prototype.handle_message = function (fig, msg) {\n",
       "    fig.message.textContent = msg['message'];\n",
       "};\n",
       "\n",
       "mpl.figure.prototype.handle_draw = function (fig, _msg) {\n",
       "    // Request the server to send over a new figure.\n",
       "    fig.send_draw_message();\n",
       "};\n",
       "\n",
       "mpl.figure.prototype.handle_image_mode = function (fig, msg) {\n",
       "    fig.image_mode = msg['mode'];\n",
       "};\n",
       "\n",
       "mpl.figure.prototype.handle_history_buttons = function (fig, msg) {\n",
       "    for (var key in msg) {\n",
       "        if (!(key in fig.buttons)) {\n",
       "            continue;\n",
       "        }\n",
       "        fig.buttons[key].disabled = !msg[key];\n",
       "        fig.buttons[key].setAttribute('aria-disabled', !msg[key]);\n",
       "    }\n",
       "};\n",
       "\n",
       "mpl.figure.prototype.handle_navigate_mode = function (fig, msg) {\n",
       "    if (msg['mode'] === 'PAN') {\n",
       "        fig.buttons['Pan'].classList.add('active');\n",
       "        fig.buttons['Zoom'].classList.remove('active');\n",
       "    } else if (msg['mode'] === 'ZOOM') {\n",
       "        fig.buttons['Pan'].classList.remove('active');\n",
       "        fig.buttons['Zoom'].classList.add('active');\n",
       "    } else {\n",
       "        fig.buttons['Pan'].classList.remove('active');\n",
       "        fig.buttons['Zoom'].classList.remove('active');\n",
       "    }\n",
       "};\n",
       "\n",
       "mpl.figure.prototype.updated_canvas_event = function () {\n",
       "    // Called whenever the canvas gets updated.\n",
       "    this.send_message('ack', {});\n",
       "};\n",
       "\n",
       "// A function to construct a web socket function for onmessage handling.\n",
       "// Called in the figure constructor.\n",
       "mpl.figure.prototype._make_on_message_function = function (fig) {\n",
       "    return function socket_on_message(evt) {\n",
       "        if (evt.data instanceof Blob) {\n",
       "            /* FIXME: We get \"Resource interpreted as Image but\n",
       "             * transferred with MIME type text/plain:\" errors on\n",
       "             * Chrome.  But how to set the MIME type?  It doesn't seem\n",
       "             * to be part of the websocket stream */\n",
       "            evt.data.type = 'image/png';\n",
       "\n",
       "            /* Free the memory for the previous frames */\n",
       "            if (fig.imageObj.src) {\n",
       "                (window.URL || window.webkitURL).revokeObjectURL(\n",
       "                    fig.imageObj.src\n",
       "                );\n",
       "            }\n",
       "\n",
       "            fig.imageObj.src = (window.URL || window.webkitURL).createObjectURL(\n",
       "                evt.data\n",
       "            );\n",
       "            fig.updated_canvas_event();\n",
       "            fig.waiting = false;\n",
       "            return;\n",
       "        } else if (\n",
       "            typeof evt.data === 'string' &&\n",
       "            evt.data.slice(0, 21) === 'data:image/png;base64'\n",
       "        ) {\n",
       "            fig.imageObj.src = evt.data;\n",
       "            fig.updated_canvas_event();\n",
       "            fig.waiting = false;\n",
       "            return;\n",
       "        }\n",
       "\n",
       "        var msg = JSON.parse(evt.data);\n",
       "        var msg_type = msg['type'];\n",
       "\n",
       "        // Call the  \"handle_{type}\" callback, which takes\n",
       "        // the figure and JSON message as its only arguments.\n",
       "        try {\n",
       "            var callback = fig['handle_' + msg_type];\n",
       "        } catch (e) {\n",
       "            console.log(\n",
       "                \"No handler for the '\" + msg_type + \"' message type: \",\n",
       "                msg\n",
       "            );\n",
       "            return;\n",
       "        }\n",
       "\n",
       "        if (callback) {\n",
       "            try {\n",
       "                // console.log(\"Handling '\" + msg_type + \"' message: \", msg);\n",
       "                callback(fig, msg);\n",
       "            } catch (e) {\n",
       "                console.log(\n",
       "                    \"Exception inside the 'handler_\" + msg_type + \"' callback:\",\n",
       "                    e,\n",
       "                    e.stack,\n",
       "                    msg\n",
       "                );\n",
       "            }\n",
       "        }\n",
       "    };\n",
       "};\n",
       "\n",
       "// from http://stackoverflow.com/questions/1114465/getting-mouse-location-in-canvas\n",
       "mpl.findpos = function (e) {\n",
       "    //this section is from http://www.quirksmode.org/js/events_properties.html\n",
       "    var targ;\n",
       "    if (!e) {\n",
       "        e = window.event;\n",
       "    }\n",
       "    if (e.target) {\n",
       "        targ = e.target;\n",
       "    } else if (e.srcElement) {\n",
       "        targ = e.srcElement;\n",
       "    }\n",
       "    if (targ.nodeType === 3) {\n",
       "        // defeat Safari bug\n",
       "        targ = targ.parentNode;\n",
       "    }\n",
       "\n",
       "    // pageX,Y are the mouse positions relative to the document\n",
       "    var boundingRect = targ.getBoundingClientRect();\n",
       "    var x = e.pageX - (boundingRect.left + document.body.scrollLeft);\n",
       "    var y = e.pageY - (boundingRect.top + document.body.scrollTop);\n",
       "\n",
       "    return { x: x, y: y };\n",
       "};\n",
       "\n",
       "/*\n",
       " * return a copy of an object with only non-object keys\n",
       " * we need this to avoid circular references\n",
       " * http://stackoverflow.com/a/24161582/3208463\n",
       " */\n",
       "function simpleKeys(original) {\n",
       "    return Object.keys(original).reduce(function (obj, key) {\n",
       "        if (typeof original[key] !== 'object') {\n",
       "            obj[key] = original[key];\n",
       "        }\n",
       "        return obj;\n",
       "    }, {});\n",
       "}\n",
       "\n",
       "mpl.figure.prototype.mouse_event = function (event, name) {\n",
       "    var canvas_pos = mpl.findpos(event);\n",
       "\n",
       "    if (name === 'button_press') {\n",
       "        this.canvas.focus();\n",
       "        this.canvas_div.focus();\n",
       "    }\n",
       "\n",
       "    var x = canvas_pos.x * this.ratio;\n",
       "    var y = canvas_pos.y * this.ratio;\n",
       "\n",
       "    this.send_message(name, {\n",
       "        x: x,\n",
       "        y: y,\n",
       "        button: event.button,\n",
       "        step: event.step,\n",
       "        guiEvent: simpleKeys(event),\n",
       "    });\n",
       "\n",
       "    /* This prevents the web browser from automatically changing to\n",
       "     * the text insertion cursor when the button is pressed.  We want\n",
       "     * to control all of the cursor setting manually through the\n",
       "     * 'cursor' event from matplotlib */\n",
       "    event.preventDefault();\n",
       "    return false;\n",
       "};\n",
       "\n",
       "mpl.figure.prototype._key_event_extra = function (_event, _name) {\n",
       "    // Handle any extra behaviour associated with a key event\n",
       "};\n",
       "\n",
       "mpl.figure.prototype.key_event = function (event, name) {\n",
       "    // Prevent repeat events\n",
       "    if (name === 'key_press') {\n",
       "        if (event.which === this._key) {\n",
       "            return;\n",
       "        } else {\n",
       "            this._key = event.which;\n",
       "        }\n",
       "    }\n",
       "    if (name === 'key_release') {\n",
       "        this._key = null;\n",
       "    }\n",
       "\n",
       "    var value = '';\n",
       "    if (event.ctrlKey && event.which !== 17) {\n",
       "        value += 'ctrl+';\n",
       "    }\n",
       "    if (event.altKey && event.which !== 18) {\n",
       "        value += 'alt+';\n",
       "    }\n",
       "    if (event.shiftKey && event.which !== 16) {\n",
       "        value += 'shift+';\n",
       "    }\n",
       "\n",
       "    value += 'k';\n",
       "    value += event.which.toString();\n",
       "\n",
       "    this._key_event_extra(event, name);\n",
       "\n",
       "    this.send_message(name, { key: value, guiEvent: simpleKeys(event) });\n",
       "    return false;\n",
       "};\n",
       "\n",
       "mpl.figure.prototype.toolbar_button_onclick = function (name) {\n",
       "    if (name === 'download') {\n",
       "        this.handle_save(this, null);\n",
       "    } else {\n",
       "        this.send_message('toolbar_button', { name: name });\n",
       "    }\n",
       "};\n",
       "\n",
       "mpl.figure.prototype.toolbar_button_onmouseover = function (tooltip) {\n",
       "    this.message.textContent = tooltip;\n",
       "};\n",
       "\n",
       "///////////////// REMAINING CONTENT GENERATED BY embed_js.py /////////////////\n",
       "// prettier-ignore\n",
       "var _JSXTOOLS_RESIZE_OBSERVER=function(A){var t,i=new WeakMap,n=new WeakMap,a=new WeakMap,r=new WeakMap,o=new Set;function s(e){if(!(this instanceof s))throw new TypeError(\"Constructor requires 'new' operator\");i.set(this,e)}function h(){throw new TypeError(\"Function is not a constructor\")}function c(e,t,i,n){e=0 in arguments?Number(arguments[0]):0,t=1 in arguments?Number(arguments[1]):0,i=2 in arguments?Number(arguments[2]):0,n=3 in arguments?Number(arguments[3]):0,this.right=(this.x=this.left=e)+(this.width=i),this.bottom=(this.y=this.top=t)+(this.height=n),Object.freeze(this)}function d(){t=requestAnimationFrame(d);var s=new WeakMap,p=new Set;o.forEach((function(t){r.get(t).forEach((function(i){var r=t instanceof window.SVGElement,o=a.get(t),d=r?0:parseFloat(o.paddingTop),f=r?0:parseFloat(o.paddingRight),l=r?0:parseFloat(o.paddingBottom),u=r?0:parseFloat(o.paddingLeft),g=r?0:parseFloat(o.borderTopWidth),m=r?0:parseFloat(o.borderRightWidth),w=r?0:parseFloat(o.borderBottomWidth),b=u+f,F=d+l,v=(r?0:parseFloat(o.borderLeftWidth))+m,W=g+w,y=r?0:t.offsetHeight-W-t.clientHeight,E=r?0:t.offsetWidth-v-t.clientWidth,R=b+v,z=F+W,M=r?t.width:parseFloat(o.width)-R-E,O=r?t.height:parseFloat(o.height)-z-y;if(n.has(t)){var k=n.get(t);if(k[0]===M&&k[1]===O)return}n.set(t,[M,O]);var S=Object.create(h.prototype);S.target=t,S.contentRect=new c(u,d,M,O),s.has(i)||(s.set(i,[]),p.add(i)),s.get(i).push(S)}))})),p.forEach((function(e){i.get(e).call(e,s.get(e),e)}))}return s.prototype.observe=function(i){if(i instanceof window.Element){r.has(i)||(r.set(i,new Set),o.add(i),a.set(i,window.getComputedStyle(i)));var n=r.get(i);n.has(this)||n.add(this),cancelAnimationFrame(t),t=requestAnimationFrame(d)}},s.prototype.unobserve=function(i){if(i instanceof window.Element&&r.has(i)){var n=r.get(i);n.has(this)&&(n.delete(this),n.size||(r.delete(i),o.delete(i))),n.size||r.delete(i),o.size||cancelAnimationFrame(t)}},A.DOMRectReadOnly=c,A.ResizeObserver=s,A.ResizeObserverEntry=h,A}; // eslint-disable-line\n",
       "mpl.toolbar_items = [[\"Home\", \"Reset original view\", \"fa fa-home icon-home\", \"home\"], [\"Back\", \"Back to previous view\", \"fa fa-arrow-left icon-arrow-left\", \"back\"], [\"Forward\", \"Forward to next view\", \"fa fa-arrow-right icon-arrow-right\", \"forward\"], [\"\", \"\", \"\", \"\"], [\"Pan\", \"Left button pans, Right button zooms\\nx/y fixes axis, CTRL fixes aspect\", \"fa fa-arrows icon-move\", \"pan\"], [\"Zoom\", \"Zoom to rectangle\\nx/y fixes axis, CTRL fixes aspect\", \"fa fa-square-o icon-check-empty\", \"zoom\"], [\"\", \"\", \"\", \"\"], [\"Download\", \"Download plot\", \"fa fa-floppy-o icon-save\", \"download\"]];\n",
       "\n",
       "mpl.extensions = [\"eps\", \"jpeg\", \"pdf\", \"png\", \"ps\", \"raw\", \"svg\", \"tif\"];\n",
       "\n",
       "mpl.default_extension = \"png\";/* global mpl */\n",
       "\n",
       "var comm_websocket_adapter = function (comm) {\n",
       "    // Create a \"websocket\"-like object which calls the given IPython comm\n",
       "    // object with the appropriate methods. Currently this is a non binary\n",
       "    // socket, so there is still some room for performance tuning.\n",
       "    var ws = {};\n",
       "\n",
       "    ws.close = function () {\n",
       "        comm.close();\n",
       "    };\n",
       "    ws.send = function (m) {\n",
       "        //console.log('sending', m);\n",
       "        comm.send(m);\n",
       "    };\n",
       "    // Register the callback with on_msg.\n",
       "    comm.on_msg(function (msg) {\n",
       "        //console.log('receiving', msg['content']['data'], msg);\n",
       "        // Pass the mpl event to the overridden (by mpl) onmessage function.\n",
       "        ws.onmessage(msg['content']['data']);\n",
       "    });\n",
       "    return ws;\n",
       "};\n",
       "\n",
       "mpl.mpl_figure_comm = function (comm, msg) {\n",
       "    // This is the function which gets called when the mpl process\n",
       "    // starts-up an IPython Comm through the \"matplotlib\" channel.\n",
       "\n",
       "    var id = msg.content.data.id;\n",
       "    // Get hold of the div created by the display call when the Comm\n",
       "    // socket was opened in Python.\n",
       "    var element = document.getElementById(id);\n",
       "    var ws_proxy = comm_websocket_adapter(comm);\n",
       "\n",
       "    function ondownload(figure, _format) {\n",
       "        window.open(figure.canvas.toDataURL());\n",
       "    }\n",
       "\n",
       "    var fig = new mpl.figure(id, ws_proxy, ondownload, element);\n",
       "\n",
       "    // Call onopen now - mpl needs it, as it is assuming we've passed it a real\n",
       "    // web socket which is closed, not our websocket->open comm proxy.\n",
       "    ws_proxy.onopen();\n",
       "\n",
       "    fig.parent_element = element;\n",
       "    fig.cell_info = mpl.find_output_cell(\"<div id='\" + id + \"'></div>\");\n",
       "    if (!fig.cell_info) {\n",
       "        console.error('Failed to find cell for figure', id, fig);\n",
       "        return;\n",
       "    }\n",
       "    fig.cell_info[0].output_area.element.on(\n",
       "        'cleared',\n",
       "        { fig: fig },\n",
       "        fig._remove_fig_handler\n",
       "    );\n",
       "};\n",
       "\n",
       "mpl.figure.prototype.handle_close = function (fig, msg) {\n",
       "    var width = fig.canvas.width / fig.ratio;\n",
       "    fig.cell_info[0].output_area.element.off(\n",
       "        'cleared',\n",
       "        fig._remove_fig_handler\n",
       "    );\n",
       "    fig.resizeObserverInstance.unobserve(fig.canvas_div);\n",
       "\n",
       "    // Update the output cell to use the data from the current canvas.\n",
       "    fig.push_to_output();\n",
       "    var dataURL = fig.canvas.toDataURL();\n",
       "    // Re-enable the keyboard manager in IPython - without this line, in FF,\n",
       "    // the notebook keyboard shortcuts fail.\n",
       "    IPython.keyboard_manager.enable();\n",
       "    fig.parent_element.innerHTML =\n",
       "        '<img src=\"' + dataURL + '\" width=\"' + width + '\">';\n",
       "    fig.close_ws(fig, msg);\n",
       "};\n",
       "\n",
       "mpl.figure.prototype.close_ws = function (fig, msg) {\n",
       "    fig.send_message('closing', msg);\n",
       "    // fig.ws.close()\n",
       "};\n",
       "\n",
       "mpl.figure.prototype.push_to_output = function (_remove_interactive) {\n",
       "    // Turn the data on the canvas into data in the output cell.\n",
       "    var width = this.canvas.width / this.ratio;\n",
       "    var dataURL = this.canvas.toDataURL();\n",
       "    this.cell_info[1]['text/html'] =\n",
       "        '<img src=\"' + dataURL + '\" width=\"' + width + '\">';\n",
       "};\n",
       "\n",
       "mpl.figure.prototype.updated_canvas_event = function () {\n",
       "    // Tell IPython that the notebook contents must change.\n",
       "    IPython.notebook.set_dirty(true);\n",
       "    this.send_message('ack', {});\n",
       "    var fig = this;\n",
       "    // Wait a second, then push the new image to the DOM so\n",
       "    // that it is saved nicely (might be nice to debounce this).\n",
       "    setTimeout(function () {\n",
       "        fig.push_to_output();\n",
       "    }, 1000);\n",
       "};\n",
       "\n",
       "mpl.figure.prototype._init_toolbar = function () {\n",
       "    var fig = this;\n",
       "\n",
       "    var toolbar = document.createElement('div');\n",
       "    toolbar.classList = 'btn-toolbar';\n",
       "    this.root.appendChild(toolbar);\n",
       "\n",
       "    function on_click_closure(name) {\n",
       "        return function (_event) {\n",
       "            return fig.toolbar_button_onclick(name);\n",
       "        };\n",
       "    }\n",
       "\n",
       "    function on_mouseover_closure(tooltip) {\n",
       "        return function (event) {\n",
       "            if (!event.currentTarget.disabled) {\n",
       "                return fig.toolbar_button_onmouseover(tooltip);\n",
       "            }\n",
       "        };\n",
       "    }\n",
       "\n",
       "    fig.buttons = {};\n",
       "    var buttonGroup = document.createElement('div');\n",
       "    buttonGroup.classList = 'btn-group';\n",
       "    var button;\n",
       "    for (var toolbar_ind in mpl.toolbar_items) {\n",
       "        var name = mpl.toolbar_items[toolbar_ind][0];\n",
       "        var tooltip = mpl.toolbar_items[toolbar_ind][1];\n",
       "        var image = mpl.toolbar_items[toolbar_ind][2];\n",
       "        var method_name = mpl.toolbar_items[toolbar_ind][3];\n",
       "\n",
       "        if (!name) {\n",
       "            /* Instead of a spacer, we start a new button group. */\n",
       "            if (buttonGroup.hasChildNodes()) {\n",
       "                toolbar.appendChild(buttonGroup);\n",
       "            }\n",
       "            buttonGroup = document.createElement('div');\n",
       "            buttonGroup.classList = 'btn-group';\n",
       "            continue;\n",
       "        }\n",
       "\n",
       "        button = fig.buttons[name] = document.createElement('button');\n",
       "        button.classList = 'btn btn-default';\n",
       "        button.href = '#';\n",
       "        button.title = name;\n",
       "        button.innerHTML = '<i class=\"fa ' + image + ' fa-lg\"></i>';\n",
       "        button.addEventListener('click', on_click_closure(method_name));\n",
       "        button.addEventListener('mouseover', on_mouseover_closure(tooltip));\n",
       "        buttonGroup.appendChild(button);\n",
       "    }\n",
       "\n",
       "    if (buttonGroup.hasChildNodes()) {\n",
       "        toolbar.appendChild(buttonGroup);\n",
       "    }\n",
       "\n",
       "    // Add the status bar.\n",
       "    var status_bar = document.createElement('span');\n",
       "    status_bar.classList = 'mpl-message pull-right';\n",
       "    toolbar.appendChild(status_bar);\n",
       "    this.message = status_bar;\n",
       "\n",
       "    // Add the close button to the window.\n",
       "    var buttongrp = document.createElement('div');\n",
       "    buttongrp.classList = 'btn-group inline pull-right';\n",
       "    button = document.createElement('button');\n",
       "    button.classList = 'btn btn-mini btn-primary';\n",
       "    button.href = '#';\n",
       "    button.title = 'Stop Interaction';\n",
       "    button.innerHTML = '<i class=\"fa fa-power-off icon-remove icon-large\"></i>';\n",
       "    button.addEventListener('click', function (_evt) {\n",
       "        fig.handle_close(fig, {});\n",
       "    });\n",
       "    button.addEventListener(\n",
       "        'mouseover',\n",
       "        on_mouseover_closure('Stop Interaction')\n",
       "    );\n",
       "    buttongrp.appendChild(button);\n",
       "    var titlebar = this.root.querySelector('.ui-dialog-titlebar');\n",
       "    titlebar.insertBefore(buttongrp, titlebar.firstChild);\n",
       "};\n",
       "\n",
       "mpl.figure.prototype._remove_fig_handler = function (event) {\n",
       "    var fig = event.data.fig;\n",
       "    if (event.target !== this) {\n",
       "        // Ignore bubbled events from children.\n",
       "        return;\n",
       "    }\n",
       "    fig.close_ws(fig, {});\n",
       "};\n",
       "\n",
       "mpl.figure.prototype._root_extra_style = function (el) {\n",
       "    el.style.boxSizing = 'content-box'; // override notebook setting of border-box.\n",
       "};\n",
       "\n",
       "mpl.figure.prototype._canvas_extra_style = function (el) {\n",
       "    // this is important to make the div 'focusable\n",
       "    el.setAttribute('tabindex', 0);\n",
       "    // reach out to IPython and tell the keyboard manager to turn it's self\n",
       "    // off when our div gets focus\n",
       "\n",
       "    // location in version 3\n",
       "    if (IPython.notebook.keyboard_manager) {\n",
       "        IPython.notebook.keyboard_manager.register_events(el);\n",
       "    } else {\n",
       "        // location in version 2\n",
       "        IPython.keyboard_manager.register_events(el);\n",
       "    }\n",
       "};\n",
       "\n",
       "mpl.figure.prototype._key_event_extra = function (event, _name) {\n",
       "    var manager = IPython.notebook.keyboard_manager;\n",
       "    if (!manager) {\n",
       "        manager = IPython.keyboard_manager;\n",
       "    }\n",
       "\n",
       "    // Check for shift+enter\n",
       "    if (event.shiftKey && event.which === 13) {\n",
       "        this.canvas_div.blur();\n",
       "        // select the cell after this one\n",
       "        var index = IPython.notebook.find_cell_index(this.cell_info[0]);\n",
       "        IPython.notebook.select(index + 1);\n",
       "    }\n",
       "};\n",
       "\n",
       "mpl.figure.prototype.handle_save = function (fig, _msg) {\n",
       "    fig.ondownload(fig, null);\n",
       "};\n",
       "\n",
       "mpl.find_output_cell = function (html_output) {\n",
       "    // Return the cell and output element which can be found *uniquely* in the notebook.\n",
       "    // Note - this is a bit hacky, but it is done because the \"notebook_saving.Notebook\"\n",
       "    // IPython event is triggered only after the cells have been serialised, which for\n",
       "    // our purposes (turning an active figure into a static one), is too late.\n",
       "    var cells = IPython.notebook.get_cells();\n",
       "    var ncells = cells.length;\n",
       "    for (var i = 0; i < ncells; i++) {\n",
       "        var cell = cells[i];\n",
       "        if (cell.cell_type === 'code') {\n",
       "            for (var j = 0; j < cell.output_area.outputs.length; j++) {\n",
       "                var data = cell.output_area.outputs[j];\n",
       "                if (data.data) {\n",
       "                    // IPython >= 3 moved mimebundle to data attribute of output\n",
       "                    data = data.data;\n",
       "                }\n",
       "                if (data['text/html'] === html_output) {\n",
       "                    return [cell, data, j];\n",
       "                }\n",
       "            }\n",
       "        }\n",
       "    }\n",
       "};\n",
       "\n",
       "// Register the function which deals with the matplotlib target/channel.\n",
       "// The kernel may be null if the page has been refreshed.\n",
       "if (IPython.notebook.kernel !== null) {\n",
       "    IPython.notebook.kernel.comm_manager.register_target(\n",
       "        'matplotlib',\n",
       "        mpl.mpl_figure_comm\n",
       "    );\n",
       "}\n"
      ],
      "text/plain": [
       "<IPython.core.display.Javascript object>"
      ]
     },
     "metadata": {},
     "output_type": "display_data"
    },
    {
     "data": {
      "text/html": [
       "<img src=\"data:image/png;base64,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\" width=\"799.65\">"
      ],
      "text/plain": [
       "<IPython.core.display.HTML object>"
      ]
     },
     "metadata": {},
     "output_type": "display_data"
    },
    {
     "data": {
      "application/vnd.jupyter.widget-view+json": {
       "model_id": "96191340e11b4869b539da506cae42a9",
       "version_major": 2,
       "version_minor": 0
      },
      "text/plain": [
       "interactive(children=(IntSlider(value=1000, description='M', max=2000, min=100, step=10), FloatSlider(value=12…"
      ]
     },
     "metadata": {},
     "output_type": "display_data"
    }
   ],
   "source": [
    "%matplotlib notebook\n",
    "import ipywidgets as ipw\n",
    "import numpy as np\n",
    "import matplotlib.pyplot as plt\n",
    "from livePlot import *\n",
    "\n",
    "plot = livePlot()"
   ]
  },
  {
   "cell_type": "markdown",
   "metadata": {},
   "source": [
    "\n",
    "## Long-run Dynamics\n",
    "\n",
    "The distinction between long-run and short-run is critical for understanding dynamics that develop between the money market and the non-money goods market. In the long-run, the price level fully reflects changes in $AD$, whether the shift in $AD$ is a result of a change in $M$ or a change in $V$. In the short-run, changes in real income absorb changes in $AD$. While long-run changes are essentially inevitable, short-run changes do not ever need to occur. If they are observed, they occur only in the short-run.[1] After investigating long-run dynamics, we will consider short-run dynamics.\n",
    "\n",
    "### Case 1: Aggregate Demand Increases\n",
    "> <img src=\"https://github.com/jlcatonjr/Macroeconomics-Growth-and-Monetary-Equilibrium/blob/main/Chapter%206/Figure%202.png?raw=true\" alt=\"Aggregate Demand Increases\"/>\n",
    "> <center> <b> Figure 2\n",
    "\n",
    "\n",
    "\n",
    "An increase in $AD$ represents an increase in the value of total expenditures across the economy (Figure 2). By definition, this value of total expenditures matches the value of nominal income. In the long-run, an increase in $AD$ will lift the price level from $P_0$ to $P_1$. Notice that this results in an increase in nominal income from a value of $P_0y_0$ to $P_1y_0$. This increase in nominal income does not entail an increase in real income in the long-run. This would only happen if the long-run aggregate supply shifted to the right and would be represented by a $y_1$ whose value is greater than $y_0$.\n",
    "\n",
    "> <img src=\"https://github.com/jlcatonjr/Macroeconomics-Growth-and-Monetary-Equilibrium/blob/main/Chapter%206/Figure%203.png?raw=true\" alt=\"Decrease in Supply of Money\"/>\n",
    "> <center> <b> Figure 3\n",
    "\n",
    "The increase in $AD$ can come from one of two sources: either an increase in the quantity of money, $M$, or an increase in portfolio demand, $k$. We will consider the more intuitive case of an increase in $M$ first. If the increase in the quantity of money occurs when the economy is already in equilibrium, the shift will most obviously change the price of money, $P_m$. Since $P_m=\\frac{1}{P}$, the a change in the average price of money is simply the corollary to amovement of the price level in the opposite direction.\n",
    "\n",
    "The increase in the quantity of money represents a movement along the demand curve. This demand curve includes both portfolio demand, $k$, and transactions demand, $Py$. For now, we assume that these sources of demand remain constant. Thus, the increase from $M_0$ to $M_1$ translates directly to a fall in $P_m$ from $P_{m_0}$ to $P_{m_1}$.\n",
    "\n",
    "> <img src=\"https://github.com/jlcatonjr/Macroeconomics-Growth-and-Monetary-Equilibrium/blob/main/Chapter%206/Figure%204.png?raw=true\" alt=\"Decrease in Portfolio Demand for Money\"/>\n",
    "> <center> <b>Figure 4: \n",
    "\n",
    "Only a shift in $k$ represents an inverse change in portfolio demand as $k$ represents the portion of the money stock that individuals choose to hold throughout the period under consideration. Since $k$ is the inverse of $V$, so long as $V$ is greater than 1, then $k$ is a fraction less than 1. As with the increase in $M$, a fall in $k$ leads to a fall in the $P_m$ from $P_{m_0}$ to $P_{m_1}$. This coincides with an increase in $P$ from $P_0$ to $P_1$. Thus, a fall in the value of money is tantamount to a rise in the price level. This fall in the price level means that the new value of nominal income, $P_1y_0$ is less than the old value, $P_0y_0$.\n",
    "\n",
    "# Case 2: Aggregate Demand Falls\n",
    "\n",
    "> <img src=\"https://github.com/jlcatonjr/Macroeconomics-Growth-and-Monetary-Equilibrium/blob/main/Chapter%206/Figure%205.png?raw=true\" alt=\"Increase in AD\"/>\n",
    "> <center> <b>Figure 5 \n",
    "\n",
    "A fall in $AD$ represents an decrease in the value of total expenditures across the economy (Figure 6). This results in a fall in nominal income. In the long-run, an fall in $AD$ will depress the price level from $P_0$ to $P_1$. Notice that this results in a decrease in nominal income from a value of $P_0y_0$ to $P_1y_0$. The long-run level of real income, $y_0$, remains unaffected. Just as a rise in $M$ increases $AD$, a fall in $AD$ may occur due to a shrinking of the money stock. With less money in the economy, the previous equilibrium level of prices could only be sustained if individuals tended to decrease their cash holdings in response. For clarity, we consider cases where only one of the variables comprising aggregate demand changes.\n",
    "\n",
    "    \n",
    "> <img src=\"https://github.com/jlcatonjr/Macroeconomics-Growth-and-Monetary-Equilibrium/blob/main/Chapter%206/Figure%206.png?raw=true\" alt=\"Increase in Supply of Money\"/>\n",
    "> <center> <b>Figure 6 \n",
    "\n",
    "> <img src=\"https://github.com/jlcatonjr/Macroeconomics-Growth-and-Monetary-Equilibrium/blob/main/Chapter%206/Figure%207.png?raw=true\" alt=\"Increase in Portfolio Demand for Money\"/>\n",
    "> <center> <b>Figure 7 \n",
    "\n",
    "$AD$ may also fall due to an increase in demand to hold money. This increase in portfolio demand for money, $k$, is the same as a fall in the average velocity of money, $V$. An increase in demand to hold money leaves less money available for expenditure. This exerts a negative influence on prices and, necessarily, a positive influence on the price of money. Just as with a fall in the money supply, the equilibrium price of money rises from $P_{M_0}$ to $P_{M_1}$.\n",
    "\n",
    "## Short-run Dynamics: Excess Supply and Excess Demand\n",
    "\n",
    "The short-run is defined by any period of time that real income responds to changes in aggregate demand. The short-run is defined by a short-run aggregate supply ($SRAS$) is perfectly elastic. This means that it is horizontal, set at the value of the initial price level.  We assume that in the short-run, quantities adjust before the price level. In the long-run, any value of $y$ that is less than $y_0$ is less than the full potential that can be produced in the long-run. Any value of yy that is greater than $y_0$ cannot be sustained as it would demand that producers sustain real losses as input prices are bid upward. An scess demand for goods imply an excess supply of money and excess supply of goods implies an excess demand for money.\n",
    "\n",
    "It is not necessary that the short-run outcome actually occur. If forward looking agents expect that there will be a change in total expenditures and that this change will affect the price of particular goods, they may adjust these prices downward in expectation of the price change. However, there are cases where investors may be less willing to realize a loss by the sale of a home, such as might occur in the real estate market during a recession. Homeowners that have purchased their home with a mortgage will likely avoid such a sale if the value of the home falls below what is owed on the mortgage. In situations like this, assets that would otherwise be sold may remain unsold, leading to a fall in real income. This will be discussed in greater detail in the discussion of business cycles in a later chapter.\n",
    "\n",
    "### Case 1: Excess Supply of Money and Excess Demand for Goods\n",
    "\n",
    "> <img src=\"https://github.com/jlcatonjr/Macroeconomics-Growth-and-Monetary-Equilibrium/blob/main/Chapter%206/Figure%208.png?raw=true\" alt=\"Increase in AD: Excess Demand for Goods\"/>\n",
    "> <center> <b>Figure 8 \n",
    "\n",
    "If aggregate demand increases, the immediate effect will be for consumers to purchase goods at a rate that is not sustainable. If producers do not recognize this fact immediately, they may increase the quantity of goods produced. To the extent that prices rise as factor costs are bid up, the total value of production will be constrained compared to if the price level remained static.\n",
    "\n",
    "The excess supply of goods at price level $P_0$, defined by $y_t - y_0$, necessarily implies an excess demand for money. This occurs either by an increase in the quantity of money supplied to the market or by a relinquishing of money held on reserve by economic actors. The first instance is represented by an increase in the money stock. The latter instance is represented by a fall in portfolio demand for money, which is equivalent to a rise in velocity. As the quantity of money increase from $M_0$ to $M_1$, individuals find themselves holding more money than they desire at given prices. As individuals spend money, price of goods begin to rise on average as signified by an increase in the price level. Since the price of money, $P_M$, is the inverse of the price level, $P$, a rise in the price level indicates a fall in the price of money. Once the price of money falls from $P_{M_0}$ to $P_{M_1}$, the excess supply of money is offset.\n",
    "\n",
    "    \n",
    "> <img src=\"https://github.com/jlcatonjr/Macroeconomics-Growth-and-Monetary-Equilibrium/blob/main/Chapter%206/Figure%209.png?raw=true\" alt=\"Increase in Supply of Money: Excess Supply of Money\"/>\n",
    "> <center> <b> Figure 9 \n",
    "\n",
    "> <img src=\"https://github.com/jlcatonjr/Macroeconomics-Growth-and-Monetary-Equilibrium/blob/main/Chapter%206/Figure%2010.png?raw=true\" alt=\"Decrease in Portfolio Demand for Money: Excess Supply of Money\"/>\n",
    "> <center> <b>Figure 10 \n",
    "\n",
    "Nearly the same proces occurs when there is a fall in portfolio demand for money. Since consumers are willing to spend a greater of share of their income, they can increase their consumption of goods to the extent that prices do not rise in response to the new expenditure. At the given price level, $P_0$, consumers desire to hold less money. The difference between $M_0$ and $M_t$ represents the excess balances that consumers plan to spend. As these funds are spent, the price level moves from $P_0$ to $P_1$ and the price of money falls from $P_{M_0}$ to $P_{M_1}$. The fall in the value of money moves the quantity of money demanded back to an equilibrium where the quantity demanded of money matches the quantity supplied.\n",
    "\n",
    "### Case 2: Excess Demand for Money and Excess Supply of Goods\n",
    "\n",
    "> <img src=\"https://github.com/jlcatonjr/Macroeconomics-Growth-and-Monetary-Equilibrium/blob/main/Chapter%206/Figure%2011.png?raw=true\" alt=\"Decrease in AD: Excess Supply of Goods\"/>\n",
    "> <center> <b>Figure 11\n",
    "\n",
    "In the short-run, a fall in aggregate demand leads to a scenario where not all goods available in the market are purchased. If producers do not instantly respond to the change in prices, there will be more goods produced than can be purchased given the quantity of money available to be spent at the initial price level, $P_0$. \n",
    "\n",
    "The excess supply of goods is represented by the difference of $y_0$ and $y_t$. The fall in expenditures that drive the shift from $AD_0$ to $AD_1$ must occur either due to a fall in the quantity of money or a fall in the velocity of money which is equivalently an increase in portfolio demand for money. In the case the supply of money falls, agents must adjust their planned expenditures to account for the fall in the quantity of available funds. At $P_{M_0}$ the quantity of money demanded, $M_0$, is greater than the available quantity of money, $M_1$. If their demand to hold money does not change, this must occur by a fall expenditures so long as the price of money does not increase from $P_{M_0}$ to $P_{M_1}$P in response to the fall in supply of money.\n",
    "\n",
    "> <img src=\"https://github.com/jlcatonjr/Macroeconomics-Growth-and-Monetary-Equilibrium/blob/main/Chapter%206/Figure%2012.png?raw=true\" alt=\"Decrease in Supply of Money: Excess Demand for Money\"/>\n",
    "> <center> <b>Figure 12 \n",
    "    \n",
    "> <img src=\"https://github.com/jlcatonjr/Macroeconomics-Growth-and-Monetary-Equilibrium/blob/main/Chapter%206/Figure%2013.png?raw=true\" alt=\"Increase in Portfolio Demand for Money: Excess Demand for Money\"/>\n",
    "> <center> <b>Figure 13 \n",
    "\n",
    "The same fall in aggregate demand may occur as a result of an increase in demand to hold money on reserve. This increase in portfolio demand leads to an increase in the price of money in the long-run. Before prices respond to the change in demand for money, individuals will demand to hold more money than will allow for the clearing of the goods market. The excess demand for money, $M_t - M_0$, exactly matches the value of goods that remain unsold $y_0 - y_t$.\n",
    "\n",
    "## Aggregate Demand Driven Business Cycles\n",
    "\n",
    "Aggregate Demand Driven Business Cycles\n",
    "Excess demand and excess supplies play a fundamental role in explain macroeconomic fluctuations. Presuming that the economy produces a steady-state level of income and capital, deviations from these levels represent either an inflationary boom or a deflationary recession. Neither of these outcomes are necessary by a change in aggregate demand. Only in cases where prices are slow to adjust to changes in the money market will such macroeconomic disequilibrium occur. \n",
    "\n",
    "> <img src=\"https://github.com/jlcatonjr/Macroeconomics-Growth-and-Monetary-Equilibrium/blob/main/Chapter%206/Figure%2014.png?raw=true\" alt=\"RGNP and Increasing Central Bank Demand for Gold\"/>\n",
    "> <center> <b>Figure 14 \n",
    "\n",
    "This phenomenon occurred in an extreme manner during the Great Depression as many central banks their gold holdings without also increasing the quantity of central bank notes in circulation. The result was a fall in real income and substantial deflation, both of which occurred at an international scale. While there were many other factors, which include policies that disrupted credit, labor, and goods markets, the disruption of money markets by central banks was a feature of the Great Depression and is commonly a driving force of relatively extreme economic depressions.\n",
    "\n",
    "## Factors Unexplained by Aggregate Analysis\n",
    "\n",
    "Although aggregate analysis provides a powerful description of the macroeconomy, it does not capture many elements that are at play in the economic process. Consider the effects of money creation. There may result an economic boom due to a confusion between real and nominal profits. Producers, especially those who receive the new money first, will invest in expectation of earning increased profits. Some early producers may succeed in this endeavor, but as more producers enter the market, the price of production inputs are bid up. \n",
    "\n",
    "The expected increase in profits by investors often leads to construction of productive factors that  would otherwise not be created. Since we live in a world of scarcity, this means that productive processes that are producing goods that consumers truly value will not be created. The creation of new capital that is the result of this misallocation cannot be cheaply reversed. The process of readjustment of the capital structure may result in depression, or it may  result in the sustained production of relatively lower level of real income due to the misallocation of productive factors that will remain in use even after being repriced once the boom has slowed. \n",
    "\n",
    "Although aggregate analysis fails to capture this, this does not mean that the aggregate factors are not exerting force on the economic system. Macroeconomic forces described here are always at play. There are simply other factors that impact economic activity alongside these macroeconomic factors.\n",
    "\n",
    "# Conclusion\n",
    "\n",
    "Aggregate demand is defined as total expenditures. The value of real income that can be derived from these expenditures changes inversely to the price level. The economy tends to be subject to equillibrating forces such that the price level moves to a level that enables the production and purchase of level of output that is sustainable in the long-run. Deviance from the equilibrium price level represent movements away from the sustainable level of output and can drive macroeconomic fluctuations.\n",
    "\n",
    "## Footnotes \n",
    "\n",
    "[1] In reality, short-run effects can impact the capital structure, thereby influencing the production structure in different markets and leading the lasting equilibrium structure that is relatively inefficient compared to cases where the capital structure is not distorted by $AD$ shocks."
   ]
  }
 ],
 "metadata": {
  "kernelspec": {
   "display_name": "Python 3",
   "language": "python",
   "name": "python3"
  },
  "language_info": {
   "codemirror_mode": {
    "name": "ipython",
    "version": 3
   },
   "file_extension": ".py",
   "mimetype": "text/x-python",
   "name": "python",
   "nbconvert_exporter": "python",
   "pygments_lexer": "ipython3",
   "version": "3.7.6"
  },
  "nteract": {
   "version": "nteract-on-jupyter@2.1.3"
  },
  "widgets": {
   "application/vnd.jupyter.widget-state+json": {
    "state": {
     "01722fde7f1e4726a767fdd9d3a00602": {
      "model_module": "@jupyter-widgets/base",
      "model_module_version": "1.2.0",
      "model_name": "LayoutModel",
      "state": {}
     },
     "02c53153eb5d45688642be50ccb18f34": {
      "model_module": "@jupyter-widgets/controls",
      "model_module_version": "1.5.0",
      "model_name": "FloatSliderModel",
      "state": {
       "description": "V",
       "layout": "IPY_MODEL_24ce228b7aa845b2b417ecf164703bb2",
       "max": 16,
       "min": 0.8,
       "step": 0.1,
       "style": "IPY_MODEL_2b35c4a39df9401b9b1a05aa88eba7ca",
       "value": 12
      }
     },
     "031544f030c449098b36d0928fcc7eca": {
      "model_module": "@jupyter-widgets/controls",
      "model_module_version": "1.5.0",
      "model_name": "SliderStyleModel",
      "state": {
       "description_width": ""
      }
     },
     "03b56f4dee7f406baa11706ca0be8c7c": {
      "model_module": "@jupyter-widgets/base",
      "model_module_version": "1.2.0",
      "model_name": "LayoutModel",
      "state": {}
     },
     "0426472a84cc41ca963a04c7a20d0532": {
      "model_module": "@jupyter-widgets/base",
      "model_module_version": "1.2.0",
      "model_name": "LayoutModel",
      "state": {}
     },
     "0684197412b84bd2951101024aab8d27": {
      "model_module": "@jupyter-widgets/controls",
      "model_module_version": "1.5.0",
      "model_name": "IntSliderModel",
      "state": {
       "description": "y0",
       "layout": "IPY_MODEL_3040f6c3e4224cec8c86c5e4935a74ed",
       "max": 1000,
       "min": 250,
       "step": 5,
       "style": "IPY_MODEL_cf4703dc555c4bed891a8e7989c20195",
       "value": 250
      }
     },
     "06d5959ce78b47b8a028698746abfd81": {
      "model_module": "@jupyter-widgets/base",
      "model_module_version": "1.2.0",
      "model_name": "LayoutModel",
      "state": {}
     },
     "0833cae91c824a499bd1bf37420688fb": {
      "model_module": "@jupyter-widgets/controls",
      "model_module_version": "1.5.0",
      "model_name": "IntSliderModel",
      "state": {
       "description": "y0",
       "layout": "IPY_MODEL_2dbe69c1d3b04801b6b178cd9be47e0e",
       "max": 1000,
       "min": 250,
       "step": 5,
       "style": "IPY_MODEL_f188c2d1121c4a559b25a316605bd558",
       "value": 550
      }
     },
     "08cd0337ff1f49c68055ff1209621d27": {
      "model_module": "@jupyter-widgets/controls",
      "model_module_version": "1.5.0",
      "model_name": "SliderStyleModel",
      "state": {
       "description_width": ""
      }
     },
     "0bbcc7350b6343d5a9bf1534226a2b59": {
      "model_module": "@jupyter-widgets/base",
      "model_module_version": "1.2.0",
      "model_name": "LayoutModel",
      "state": {}
     },
     "0bfaff8aeebd46f4b1934270dc5821f4": {
      "model_module": "@jupyter-widgets/controls",
      "model_module_version": "1.5.0",
      "model_name": "SliderStyleModel",
      "state": {
       "description_width": ""
      }
     },
     "0cd357ed6a744cf4aafb15596e2d95a0": {
      "model_module": "@jupyter-widgets/controls",
      "model_module_version": "1.5.0",
      "model_name": "IntSliderModel",
      "state": {
       "description": "M",
       "layout": "IPY_MODEL_20a81c9c72bb4dd590cf7e7bd304bd96",
       "max": 2000,
       "min": 100,
       "step": 10,
       "style": "IPY_MODEL_6db52190285a4e33bfcc5048fba69e15",
       "value": 1000
      }
     },
     "0f9873ea044c4cd0b84bca0f63392f23": {
      "model_module": "@jupyter-widgets/controls",
      "model_module_version": "1.5.0",
      "model_name": "SliderStyleModel",
      "state": {
       "description_width": ""
      }
     },
     "0fbc15984e384b869dc3e8f4e15e17c7": {
      "model_module": "@jupyter-widgets/base",
      "model_module_version": "1.2.0",
      "model_name": "LayoutModel",
      "state": {}
     },
     "0ff87625c54d4d628aa6be7e90ec3d7b": {
      "model_module": "@jupyter-widgets/controls",
      "model_module_version": "1.5.0",
      "model_name": "SliderStyleModel",
      "state": {
       "description_width": ""
      }
     },
     "103e8cfb466d4caeb1f03d1a76755ec1": {
      "model_module": "@jupyter-widgets/controls",
      "model_module_version": "1.5.0",
      "model_name": "IntSliderModel",
      "state": {
       "description": "M",
       "layout": "IPY_MODEL_dc94f9a67770485593550c2c1f4a5c42",
       "max": 2000,
       "min": 100,
       "step": 10,
       "style": "IPY_MODEL_aebe0385024f49e599f85c6d74f08bd9",
       "value": 1330
      }
     },
     "128841b01a2a436d86a2157757da67fc": {
      "model_module": "@jupyter-widgets/base",
      "model_module_version": "1.2.0",
      "model_name": "LayoutModel",
      "state": {}
     },
     "155032d3a7a34297acdee78f41deb17d": {
      "model_module": "@jupyter-widgets/controls",
      "model_module_version": "1.5.0",
      "model_name": "IntSliderModel",
      "state": {
       "description": "y0",
       "layout": "IPY_MODEL_3517dcbec79a40eb91f2de3eabbaae0a",
       "max": 1000,
       "min": 250,
       "step": 5,
       "style": "IPY_MODEL_aafde4ddd907429e89d4f25f032e0191",
       "value": 250
      }
     },
     "1821cc80c03548e4a10c5d3cd10555ca": {
      "model_module": "@jupyter-widgets/controls",
      "model_module_version": "1.5.0",
      "model_name": "FloatSliderModel",
      "state": {
       "description": "V",
       "layout": "IPY_MODEL_03b56f4dee7f406baa11706ca0be8c7c",
       "max": 16,
       "min": 2,
       "step": 0.1,
       "style": "IPY_MODEL_63d0faf74f944c7b846e8af9b8c69f0a",
       "value": 12
      }
     },
     "189aa44d9e4c4c93b53d41301a090dcb": {
      "model_module": "@jupyter-widgets/base",
      "model_module_version": "1.2.0",
      "model_name": "LayoutModel",
      "state": {}
     },
     "1a911c16ec9c4781984b86658caa7c88": {
      "model_module": "@jupyter-widgets/controls",
      "model_module_version": "1.5.0",
      "model_name": "VBoxModel",
      "state": {
       "_dom_classes": [
        "widget-interact"
       ],
       "children": [
        "IPY_MODEL_d257c31226b0447aa2ae805339056610",
        "IPY_MODEL_64ab2db96e7b4511a26cac6aee684dd1",
        "IPY_MODEL_8e020db6efff4e758915d876c87b5613",
        "IPY_MODEL_c34300f22580441da1cff26ebfd100da"
       ],
       "layout": "IPY_MODEL_3223965bd9104096909906bd6e3488cf"
      }
     },
     "1d835be9021749f3927f75ef2b656149": {
      "model_module": "@jupyter-widgets/base",
      "model_module_version": "1.2.0",
      "model_name": "LayoutModel",
      "state": {}
     },
     "1db02c5639c14fb8b9cd2fac9eaf5bfd": {
      "model_module": "@jupyter-widgets/base",
      "model_module_version": "1.2.0",
      "model_name": "LayoutModel",
      "state": {}
     },
     "20a81c9c72bb4dd590cf7e7bd304bd96": {
      "model_module": "@jupyter-widgets/base",
      "model_module_version": "1.2.0",
      "model_name": "LayoutModel",
      "state": {}
     },
     "2476126508084a04b25656723c8cfe40": {
      "model_module": "@jupyter-widgets/base",
      "model_module_version": "1.2.0",
      "model_name": "LayoutModel",
      "state": {}
     },
     "24ce228b7aa845b2b417ecf164703bb2": {
      "model_module": "@jupyter-widgets/base",
      "model_module_version": "1.2.0",
      "model_name": "LayoutModel",
      "state": {}
     },
     "25c1de1f92bc464aa920bf5bced0e029": {
      "model_module": "@jupyter-widgets/controls",
      "model_module_version": "1.5.0",
      "model_name": "SliderStyleModel",
      "state": {
       "description_width": ""
      }
     },
     "27065ce0e1974bb3a52c430b7bac8ee7": {
      "model_module": "@jupyter-widgets/controls",
      "model_module_version": "1.5.0",
      "model_name": "FloatSliderModel",
      "state": {
       "description": "V",
       "layout": "IPY_MODEL_29f2326241344862b0540d40521ccce0",
       "max": 16,
       "min": 0.8,
       "step": 0.1,
       "style": "IPY_MODEL_a9a0ab712ffc4662a944d1796a69b624",
       "value": 12
      }
     },
     "287cd367abd94c6992bb09daa472b211": {
      "model_module": "@jupyter-widgets/base",
      "model_module_version": "1.2.0",
      "model_name": "LayoutModel",
      "state": {}
     },
     "2903054e93b643d1bf1cc6ff652f200d": {
      "model_module": "@jupyter-widgets/controls",
      "model_module_version": "1.5.0",
      "model_name": "SliderStyleModel",
      "state": {
       "description_width": ""
      }
     },
     "294c934efe674a1fa043b3ea676a34af": {
      "model_module": "@jupyter-widgets/output",
      "model_module_version": "1.0.0",
      "model_name": "OutputModel",
      "state": {
       "layout": "IPY_MODEL_8befc19f6cdf4e79baa11028ec661ad2"
      }
     },
     "297491fb0d1f4bcbaf6bcc533c42b858": {
      "model_module": "@jupyter-widgets/base",
      "model_module_version": "1.2.0",
      "model_name": "LayoutModel",
      "state": {}
     },
     "29f2326241344862b0540d40521ccce0": {
      "model_module": "@jupyter-widgets/base",
      "model_module_version": "1.2.0",
      "model_name": "LayoutModel",
      "state": {}
     },
     "2a8bc1c76c3d44ddbc14726f5f0b2399": {
      "model_module": "@jupyter-widgets/controls",
      "model_module_version": "1.5.0",
      "model_name": "IntSliderModel",
      "state": {
       "description": "y0",
       "layout": "IPY_MODEL_b77b73236d5944548c8a7da5b7f69097",
       "max": 1000,
       "min": 250,
       "step": 5,
       "style": "IPY_MODEL_e1b0573952fd48b0b950b8bda76d667a",
       "value": 250
      }
     },
     "2ab33c1d074541888c555755e2f5395a": {
      "model_module": "@jupyter-widgets/base",
      "model_module_version": "1.2.0",
      "model_name": "LayoutModel",
      "state": {}
     },
     "2b35c4a39df9401b9b1a05aa88eba7ca": {
      "model_module": "@jupyter-widgets/controls",
      "model_module_version": "1.5.0",
      "model_name": "SliderStyleModel",
      "state": {
       "description_width": ""
      }
     },
     "2dbe69c1d3b04801b6b178cd9be47e0e": {
      "model_module": "@jupyter-widgets/base",
      "model_module_version": "1.2.0",
      "model_name": "LayoutModel",
      "state": {}
     },
     "3040f6c3e4224cec8c86c5e4935a74ed": {
      "model_module": "@jupyter-widgets/base",
      "model_module_version": "1.2.0",
      "model_name": "LayoutModel",
      "state": {}
     },
     "31530e0024a6446893712c29c5dc9734": {
      "model_module": "@jupyter-widgets/base",
      "model_module_version": "1.2.0",
      "model_name": "LayoutModel",
      "state": {}
     },
     "3223965bd9104096909906bd6e3488cf": {
      "model_module": "@jupyter-widgets/base",
      "model_module_version": "1.2.0",
      "model_name": "LayoutModel",
      "state": {}
     },
     "34607a382c21449885b50ff5a2ed975f": {
      "model_module": "@jupyter-widgets/base",
      "model_module_version": "1.2.0",
      "model_name": "LayoutModel",
      "state": {}
     },
     "3517dcbec79a40eb91f2de3eabbaae0a": {
      "model_module": "@jupyter-widgets/base",
      "model_module_version": "1.2.0",
      "model_name": "LayoutModel",
      "state": {}
     },
     "3978787f1fe74913aaea2ea9a68a46cf": {
      "model_module": "@jupyter-widgets/base",
      "model_module_version": "1.2.0",
      "model_name": "LayoutModel",
      "state": {}
     },
     "3b605a1e7fa64a3c80e2278d093bfbff": {
      "model_module": "@jupyter-widgets/controls",
      "model_module_version": "1.5.0",
      "model_name": "FloatSliderModel",
      "state": {
       "description": "V",
       "layout": "IPY_MODEL_6c31d49480de431896c5fad51710c7fc",
       "max": 16,
       "min": 2,
       "step": 0.1,
       "style": "IPY_MODEL_bc3af383510349f39c5bf695f47cf52e",
       "value": 8.6
      }
     },
     "3b72653a77f043eb939004aff6944efb": {
      "model_module": "@jupyter-widgets/base",
      "model_module_version": "1.2.0",
      "model_name": "LayoutModel",
      "state": {}
     },
     "3db11db4052746efa4669cca1ba24ca3": {
      "model_module": "@jupyter-widgets/controls",
      "model_module_version": "1.5.0",
      "model_name": "IntSliderModel",
      "state": {
       "description": "M",
       "layout": "IPY_MODEL_eb4e885672e94373a3b8455278e87b26",
       "max": 2000,
       "min": 250,
       "step": 10,
       "style": "IPY_MODEL_4b106964302345a7826953866cfa30f4",
       "value": 1000
      }
     },
     "3fc71e17d8cd4291b0762f12ae0e74f7": {
      "model_module": "@jupyter-widgets/controls",
      "model_module_version": "1.5.0",
      "model_name": "SliderStyleModel",
      "state": {
       "description_width": ""
      }
     },
     "41eb5a321cd345529f854b3378f53ab4": {
      "model_module": "@jupyter-widgets/base",
      "model_module_version": "1.2.0",
      "model_name": "LayoutModel",
      "state": {}
     },
     "42cce5055a144abdade2a98035d2248d": {
      "model_module": "@jupyter-widgets/base",
      "model_module_version": "1.2.0",
      "model_name": "LayoutModel",
      "state": {}
     },
     "45b1c93e7ed94e35b321d0cd0563a0cd": {
      "model_module": "@jupyter-widgets/controls",
      "model_module_version": "1.5.0",
      "model_name": "IntSliderModel",
      "state": {
       "description": "y0",
       "layout": "IPY_MODEL_6276135cb658418f9759412a614cc30c",
       "max": 1000,
       "min": 50,
       "step": 5,
       "style": "IPY_MODEL_031544f030c449098b36d0928fcc7eca",
       "value": 50
      }
     },
     "46c3334759ea41f296f5b83ecdb0f5f4": {
      "model_module": "@jupyter-widgets/base",
      "model_module_version": "1.2.0",
      "model_name": "LayoutModel",
      "state": {}
     },
     "4731307daed142148f87fd037c130a3e": {
      "model_module": "@jupyter-widgets/controls",
      "model_module_version": "1.5.0",
      "model_name": "FloatSliderModel",
      "state": {
       "description": "V",
       "layout": "IPY_MODEL_b748c101385b421bb3fff14238f3d5fc",
       "max": 16,
       "min": 0.8,
       "step": 0.1,
       "style": "IPY_MODEL_9929e3afb149459d8339abcac719b0d9",
       "value": 16
      }
     },
     "47bedbeb64dc4ad098682f400b774134": {
      "model_module": "@jupyter-widgets/controls",
      "model_module_version": "1.5.0",
      "model_name": "SliderStyleModel",
      "state": {
       "description_width": ""
      }
     },
     "493dc50d0d984d2bb1b8cf68135625d7": {
      "model_module": "@jupyter-widgets/controls",
      "model_module_version": "1.5.0",
      "model_name": "VBoxModel",
      "state": {
       "_dom_classes": [
        "widget-interact"
       ],
       "children": [
        "IPY_MODEL_df7c2cee885a4030a71694b9b432d9d9",
        "IPY_MODEL_27065ce0e1974bb3a52c430b7bac8ee7",
        "IPY_MODEL_ca44ad27c46749378897d0ae18503d7a",
        "IPY_MODEL_dd13fd0e2d4746e58715f143e27b85b3"
       ],
       "layout": "IPY_MODEL_e1b4728375364dafab45e1beb81b4065"
      }
     },
     "49bc77407cfe483ba8a9efac15215441": {
      "model_module": "@jupyter-widgets/base",
      "model_module_version": "1.2.0",
      "model_name": "LayoutModel",
      "state": {}
     },
     "4a6746987bb14553a22e117f2bd66ae3": {
      "model_module": "@jupyter-widgets/controls",
      "model_module_version": "1.5.0",
      "model_name": "FloatSliderModel",
      "state": {
       "description": "V",
       "layout": "IPY_MODEL_a0b11c6248324d289a9ad769efc20453",
       "max": 16,
       "min": 0.8,
       "step": 0.1,
       "style": "IPY_MODEL_2903054e93b643d1bf1cc6ff652f200d",
       "value": 12
      }
     },
     "4b106964302345a7826953866cfa30f4": {
      "model_module": "@jupyter-widgets/controls",
      "model_module_version": "1.5.0",
      "model_name": "SliderStyleModel",
      "state": {
       "description_width": ""
      }
     },
     "4cc63c8968b34ccc8e0ff6c1faab3db7": {
      "model_module": "@jupyter-widgets/base",
      "model_module_version": "1.2.0",
      "model_name": "LayoutModel",
      "state": {}
     },
     "4f76d6cba4224bc9bc49c7b319c9054d": {
      "model_module": "@jupyter-widgets/controls",
      "model_module_version": "1.5.0",
      "model_name": "SliderStyleModel",
      "state": {
       "description_width": ""
      }
     },
     "4f8f6e6585104be29afad18aedabcfbd": {
      "model_module": "@jupyter-widgets/controls",
      "model_module_version": "1.5.0",
      "model_name": "VBoxModel",
      "state": {
       "_dom_classes": [
        "widget-interact"
       ],
       "children": [
        "IPY_MODEL_886cf9fe558744338713d7e1fda61b03",
        "IPY_MODEL_3b605a1e7fa64a3c80e2278d093bfbff",
        "IPY_MODEL_0833cae91c824a499bd1bf37420688fb",
        "IPY_MODEL_d58f8107f81b4a1db4f65fb91669c47f"
       ],
       "layout": "IPY_MODEL_49bc77407cfe483ba8a9efac15215441"
      }
     },
     "4faa0e69c3944031af28243a6c2cb838": {
      "model_module": "@jupyter-widgets/controls",
      "model_module_version": "1.5.0",
      "model_name": "IntSliderModel",
      "state": {
       "description": "y0",
       "layout": "IPY_MODEL_4cc63c8968b34ccc8e0ff6c1faab3db7",
       "max": 1000,
       "min": 250,
       "step": 5,
       "style": "IPY_MODEL_beab4cac0f874a0da4d5e81ce23127c0",
       "value": 250
      }
     },
     "52a99af8ac4f4cc88ff6133b32793c0c": {
      "model_module": "@jupyter-widgets/base",
      "model_module_version": "1.2.0",
      "model_name": "LayoutModel",
      "state": {}
     },
     "52c01293ca1546239ba901da85df142f": {
      "model_module": "@jupyter-widgets/output",
      "model_module_version": "1.0.0",
      "model_name": "OutputModel",
      "state": {
       "layout": "IPY_MODEL_dbc7d1bac8344c0aa0affbbfa51938e0"
      }
     },
     "52fba609c70a4513b5f8896980a5dd91": {
      "model_module": "@jupyter-widgets/base",
      "model_module_version": "1.2.0",
      "model_name": "LayoutModel",
      "state": {}
     },
     "53f8ef40c39241f4a22e8eb47ccde0b2": {
      "model_module": "@jupyter-widgets/controls",
      "model_module_version": "1.5.0",
      "model_name": "VBoxModel",
      "state": {
       "_dom_classes": [
        "widget-interact"
       ],
       "children": [
        "IPY_MODEL_b23f96b5c9034a9ba8133869e0ecf009",
        "IPY_MODEL_f98fd46f2bf5490388683a1db8ed0062",
        "IPY_MODEL_4faa0e69c3944031af28243a6c2cb838",
        "IPY_MODEL_cc9bdbc5ac9540b9ba207dc7655b42d7"
       ],
       "layout": "IPY_MODEL_d15bec5610154b83bbb0fcb958be3026"
      }
     },
     "54a4e78e32034147921199336392169c": {
      "model_module": "@jupyter-widgets/controls",
      "model_module_version": "1.5.0",
      "model_name": "SliderStyleModel",
      "state": {
       "description_width": ""
      }
     },
     "55170df18abe4f5f97112a0e4d83d51d": {
      "model_module": "@jupyter-widgets/base",
      "model_module_version": "1.2.0",
      "model_name": "LayoutModel",
      "state": {}
     },
     "5bef57869bf44e4492561d0c61c2be03": {
      "model_module": "@jupyter-widgets/controls",
      "model_module_version": "1.5.0",
      "model_name": "SliderStyleModel",
      "state": {
       "description_width": ""
      }
     },
     "5da8c92ad3754919aeb79454fb23ddfb": {
      "model_module": "@jupyter-widgets/base",
      "model_module_version": "1.2.0",
      "model_name": "LayoutModel",
      "state": {}
     },
     "60f9bd4195f546b8a7210ae7189d4a51": {
      "model_module": "@jupyter-widgets/controls",
      "model_module_version": "1.5.0",
      "model_name": "SliderStyleModel",
      "state": {
       "description_width": ""
      }
     },
     "6276135cb658418f9759412a614cc30c": {
      "model_module": "@jupyter-widgets/base",
      "model_module_version": "1.2.0",
      "model_name": "LayoutModel",
      "state": {}
     },
     "628d1045dde84584bb24be7fec0e9778": {
      "model_module": "@jupyter-widgets/base",
      "model_module_version": "1.2.0",
      "model_name": "LayoutModel",
      "state": {}
     },
     "63d0faf74f944c7b846e8af9b8c69f0a": {
      "model_module": "@jupyter-widgets/controls",
      "model_module_version": "1.5.0",
      "model_name": "SliderStyleModel",
      "state": {
       "description_width": ""
      }
     },
     "63f9d901c7794a858b89f51741352ea6": {
      "model_module": "@jupyter-widgets/base",
      "model_module_version": "1.2.0",
      "model_name": "LayoutModel",
      "state": {}
     },
     "64ab2db96e7b4511a26cac6aee684dd1": {
      "model_module": "@jupyter-widgets/controls",
      "model_module_version": "1.5.0",
      "model_name": "FloatSliderModel",
      "state": {
       "description": "V",
       "layout": "IPY_MODEL_b74fb1b45b0a4f37ad2d62ce14dc9e32",
       "max": 16,
       "min": 2,
       "step": 0.1,
       "style": "IPY_MODEL_a2a0bdb894644e019f8e5dbd9fbbf105",
       "value": 12
      }
     },
     "64d7c9f811a94f2886b3418926abfc62": {
      "model_module": "@jupyter-widgets/controls",
      "model_module_version": "1.5.0",
      "model_name": "FloatSliderModel",
      "state": {
       "description": "V",
       "layout": "IPY_MODEL_297491fb0d1f4bcbaf6bcc533c42b858",
       "max": 16,
       "min": 2,
       "step": 0.1,
       "style": "IPY_MODEL_5bef57869bf44e4492561d0c61c2be03",
       "value": 12
      }
     },
     "6507fe6bb4c846e7946f4edebe3460fc": {
      "model_module": "@jupyter-widgets/base",
      "model_module_version": "1.2.0",
      "model_name": "LayoutModel",
      "state": {}
     },
     "66591c52d1494ce6a8781f5c41bd49e9": {
      "model_module": "@jupyter-widgets/controls",
      "model_module_version": "1.5.0",
      "model_name": "IntSliderModel",
      "state": {
       "description": "M",
       "layout": "IPY_MODEL_41eb5a321cd345529f854b3378f53ab4",
       "max": 2000,
       "min": 250,
       "step": 10,
       "style": "IPY_MODEL_4f76d6cba4224bc9bc49c7b319c9054d",
       "value": 950
      }
     },
     "6857d4bb340d4832ab562b133d3bb9f9": {
      "model_module": "@jupyter-widgets/controls",
      "model_module_version": "1.5.0",
      "model_name": "FloatSliderModel",
      "state": {
       "description": "V",
       "layout": "IPY_MODEL_8adb7e6ac67f4845bd7e12b132ea29c0",
       "max": 16,
       "min": 2,
       "step": 0.1,
       "style": "IPY_MODEL_8a075aa4842d4bd08120e348e2082e65",
       "value": 12
      }
     },
     "6a0efb26fe374dce94765d555c41c2ae": {
      "model_module": "@jupyter-widgets/base",
      "model_module_version": "1.2.0",
      "model_name": "LayoutModel",
      "state": {}
     },
     "6ab42dfa2ae144418c9afb12c542ee27": {
      "model_module": "@jupyter-widgets/controls",
      "model_module_version": "1.5.0",
      "model_name": "VBoxModel",
      "state": {
       "_dom_classes": [
        "widget-interact"
       ],
       "children": [
        "IPY_MODEL_3db11db4052746efa4669cca1ba24ca3",
        "IPY_MODEL_64d7c9f811a94f2886b3418926abfc62",
        "IPY_MODEL_155032d3a7a34297acdee78f41deb17d",
        "IPY_MODEL_f658215027f04cb2ba75123d2eceb6b2"
       ],
       "layout": "IPY_MODEL_2476126508084a04b25656723c8cfe40"
      }
     },
     "6b04253dc2204833b1a08d045fe1f624": {
      "model_module": "@jupyter-widgets/controls",
      "model_module_version": "1.5.0",
      "model_name": "SliderStyleModel",
      "state": {
       "description_width": ""
      }
     },
     "6c31d49480de431896c5fad51710c7fc": {
      "model_module": "@jupyter-widgets/base",
      "model_module_version": "1.2.0",
      "model_name": "LayoutModel",
      "state": {}
     },
     "6db52190285a4e33bfcc5048fba69e15": {
      "model_module": "@jupyter-widgets/controls",
      "model_module_version": "1.5.0",
      "model_name": "SliderStyleModel",
      "state": {
       "description_width": ""
      }
     },
     "6ddee12c9c5444188dff2710a985bbf2": {
      "model_module": "@jupyter-widgets/base",
      "model_module_version": "1.2.0",
      "model_name": "LayoutModel",
      "state": {}
     },
     "7022e275f6a8476c8dfc47337bed3cf4": {
      "model_module": "@jupyter-widgets/output",
      "model_module_version": "1.0.0",
      "model_name": "OutputModel",
      "state": {
       "layout": "IPY_MODEL_3978787f1fe74913aaea2ea9a68a46cf"
      }
     },
     "73987a3146664bdb8d6f39d6088f6410": {
      "model_module": "@jupyter-widgets/base",
      "model_module_version": "1.2.0",
      "model_name": "LayoutModel",
      "state": {}
     },
     "762792f8cad6430ea47ff331eb8cfaaf": {
      "model_module": "@jupyter-widgets/output",
      "model_module_version": "1.0.0",
      "model_name": "OutputModel",
      "state": {
       "layout": "IPY_MODEL_0fbc15984e384b869dc3e8f4e15e17c7"
      }
     },
     "765d6ba078c74bc78ad0cf2f36356b2a": {
      "model_module": "@jupyter-widgets/controls",
      "model_module_version": "1.5.0",
      "model_name": "FloatSliderModel",
      "state": {
       "description": "V",
       "layout": "IPY_MODEL_0426472a84cc41ca963a04c7a20d0532",
       "max": 16,
       "min": 2,
       "step": 0.1,
       "style": "IPY_MODEL_60f9bd4195f546b8a7210ae7189d4a51",
       "value": 12
      }
     },
     "77a664a15f134b948d00629883887c8d": {
      "model_module": "@jupyter-widgets/base",
      "model_module_version": "1.2.0",
      "model_name": "LayoutModel",
      "state": {}
     },
     "7a4500d1ca184e30a9ec2149b9ea627c": {
      "model_module": "@jupyter-widgets/controls",
      "model_module_version": "1.5.0",
      "model_name": "SliderStyleModel",
      "state": {
       "description_width": ""
      }
     },
     "7a48af3b7aef42d087dff18e6bd9c464": {
      "model_module": "@jupyter-widgets/controls",
      "model_module_version": "1.5.0",
      "model_name": "VBoxModel",
      "state": {
       "_dom_classes": [
        "widget-interact"
       ],
       "children": [
        "IPY_MODEL_beeb58fe989a4f06b78180a34690f0e1",
        "IPY_MODEL_6857d4bb340d4832ab562b133d3bb9f9",
        "IPY_MODEL_0684197412b84bd2951101024aab8d27",
        "IPY_MODEL_7f184b32b04b4f07b41260537ea79e54"
       ],
       "layout": "IPY_MODEL_ba6d77c3cb0c4cedbfd63eb3873040ea"
      }
     },
     "7dabf9a317124183b271a8aa0895cd1e": {
      "model_module": "@jupyter-widgets/output",
      "model_module_version": "1.0.0",
      "model_name": "OutputModel",
      "state": {
       "layout": "IPY_MODEL_189aa44d9e4c4c93b53d41301a090dcb"
      }
     },
     "7f184b32b04b4f07b41260537ea79e54": {
      "model_module": "@jupyter-widgets/output",
      "model_module_version": "1.0.0",
      "model_name": "OutputModel",
      "state": {
       "layout": "IPY_MODEL_876575ed45394224a6209776b4d95840"
      }
     },
     "8102e93f0f24435fb5b3d4cf283b5804": {
      "model_module": "@jupyter-widgets/controls",
      "model_module_version": "1.5.0",
      "model_name": "VBoxModel",
      "state": {
       "_dom_classes": [
        "widget-interact"
       ],
       "children": [
        "IPY_MODEL_c1acee4afdc246d294ef898bd16facdc",
        "IPY_MODEL_955fedd2e1654e57b340d468f4fe8498",
        "IPY_MODEL_d50758d2abc14f798bbdc4d33c7ca91e",
        "IPY_MODEL_c87eb3e3100c4c92a4a8d664d3044307"
       ],
       "layout": "IPY_MODEL_6ddee12c9c5444188dff2710a985bbf2"
      }
     },
     "83de49a7bb0d4cbd8e9ab4a4538612f3": {
      "model_module": "@jupyter-widgets/controls",
      "model_module_version": "1.5.0",
      "model_name": "VBoxModel",
      "state": {
       "_dom_classes": [
        "widget-interact"
       ],
       "children": [
        "IPY_MODEL_e7ee727a023c4198a2a4d3d0e393b4d9",
        "IPY_MODEL_765d6ba078c74bc78ad0cf2f36356b2a",
        "IPY_MODEL_e547f03643054f538738dc888489be9d",
        "IPY_MODEL_c455c9d51c7f4bc3912e1295cb3afa7f"
       ],
       "layout": "IPY_MODEL_77a664a15f134b948d00629883887c8d"
      }
     },
     "876575ed45394224a6209776b4d95840": {
      "model_module": "@jupyter-widgets/base",
      "model_module_version": "1.2.0",
      "model_name": "LayoutModel",
      "state": {}
     },
     "87751c76cb4049ef97e6e58f31ea5982": {
      "model_module": "@jupyter-widgets/base",
      "model_module_version": "1.2.0",
      "model_name": "LayoutModel",
      "state": {}
     },
     "886cf9fe558744338713d7e1fda61b03": {
      "model_module": "@jupyter-widgets/controls",
      "model_module_version": "1.5.0",
      "model_name": "IntSliderModel",
      "state": {
       "description": "M",
       "layout": "IPY_MODEL_34607a382c21449885b50ff5a2ed975f",
       "max": 2000,
       "min": 250,
       "step": 10,
       "style": "IPY_MODEL_0ff87625c54d4d628aa6be7e90ec3d7b",
       "value": 1510
      }
     },
     "8a075aa4842d4bd08120e348e2082e65": {
      "model_module": "@jupyter-widgets/controls",
      "model_module_version": "1.5.0",
      "model_name": "SliderStyleModel",
      "state": {
       "description_width": ""
      }
     },
     "8adb7e6ac67f4845bd7e12b132ea29c0": {
      "model_module": "@jupyter-widgets/base",
      "model_module_version": "1.2.0",
      "model_name": "LayoutModel",
      "state": {}
     },
     "8befc19f6cdf4e79baa11028ec661ad2": {
      "model_module": "@jupyter-widgets/base",
      "model_module_version": "1.2.0",
      "model_name": "LayoutModel",
      "state": {}
     },
     "8d7791d412ce40bab330824504a15821": {
      "model_module": "@jupyter-widgets/controls",
      "model_module_version": "1.5.0",
      "model_name": "IntSliderModel",
      "state": {
       "description": "M",
       "layout": "IPY_MODEL_73987a3146664bdb8d6f39d6088f6410",
       "max": 2000,
       "min": 100,
       "step": 10,
       "style": "IPY_MODEL_e090d75bce5a443facb8e65f3edaec56",
       "value": 1000
      }
     },
     "8e020db6efff4e758915d876c87b5613": {
      "model_module": "@jupyter-widgets/controls",
      "model_module_version": "1.5.0",
      "model_name": "IntSliderModel",
      "state": {
       "description": "y0",
       "layout": "IPY_MODEL_63f9d901c7794a858b89f51741352ea6",
       "max": 1000,
       "min": 250,
       "step": 5,
       "style": "IPY_MODEL_c13762c5c5a449ffb1f7e3f1063ed5c9",
       "value": 250
      }
     },
     "93be7e2b0e7f47ab9604136135d79e2b": {
      "model_module": "@jupyter-widgets/controls",
      "model_module_version": "1.5.0",
      "model_name": "SliderStyleModel",
      "state": {
       "description_width": ""
      }
     },
     "955fedd2e1654e57b340d468f4fe8498": {
      "model_module": "@jupyter-widgets/controls",
      "model_module_version": "1.5.0",
      "model_name": "FloatSliderModel",
      "state": {
       "description": "V",
       "layout": "IPY_MODEL_31530e0024a6446893712c29c5dc9734",
       "max": 16,
       "min": 0.8,
       "step": 0.1,
       "style": "IPY_MODEL_a009d05e07524fd39f8340a0a2885907",
       "value": 12
      }
     },
     "9698579ee81d411685da58328f31f9fd": {
      "model_module": "@jupyter-widgets/controls",
      "model_module_version": "1.5.0",
      "model_name": "SliderStyleModel",
      "state": {
       "description_width": ""
      }
     },
     "9841dae8eea6473f91ddf63f054fc138": {
      "model_module": "@jupyter-widgets/controls",
      "model_module_version": "1.5.0",
      "model_name": "VBoxModel",
      "state": {
       "_dom_classes": [
        "widget-interact"
       ],
       "children": [
        "IPY_MODEL_0cd357ed6a744cf4aafb15596e2d95a0",
        "IPY_MODEL_f7945f6317a34acb9fe5a06743183a9d",
        "IPY_MODEL_a0d9708040da414dabd7eabd8a06e9a7",
        "IPY_MODEL_7dabf9a317124183b271a8aa0895cd1e"
       ],
       "layout": "IPY_MODEL_5da8c92ad3754919aeb79454fb23ddfb"
      }
     },
     "9929e3afb149459d8339abcac719b0d9": {
      "model_module": "@jupyter-widgets/controls",
      "model_module_version": "1.5.0",
      "model_name": "SliderStyleModel",
      "state": {
       "description_width": ""
      }
     },
     "9c5b4eeda9c24ac99947cd50f931cf3d": {
      "model_module": "@jupyter-widgets/base",
      "model_module_version": "1.2.0",
      "model_name": "LayoutModel",
      "state": {}
     },
     "9e920d46f319469fb11978be95aed64c": {
      "model_module": "@jupyter-widgets/controls",
      "model_module_version": "1.5.0",
      "model_name": "SliderStyleModel",
      "state": {
       "description_width": ""
      }
     },
     "9f170c583adb4d81bac766ca62254036": {
      "model_module": "@jupyter-widgets/base",
      "model_module_version": "1.2.0",
      "model_name": "LayoutModel",
      "state": {}
     },
     "a009d05e07524fd39f8340a0a2885907": {
      "model_module": "@jupyter-widgets/controls",
      "model_module_version": "1.5.0",
      "model_name": "SliderStyleModel",
      "state": {
       "description_width": ""
      }
     },
     "a0b11c6248324d289a9ad769efc20453": {
      "model_module": "@jupyter-widgets/base",
      "model_module_version": "1.2.0",
      "model_name": "LayoutModel",
      "state": {}
     },
     "a0d9708040da414dabd7eabd8a06e9a7": {
      "model_module": "@jupyter-widgets/controls",
      "model_module_version": "1.5.0",
      "model_name": "IntSliderModel",
      "state": {
       "description": "y0",
       "layout": "IPY_MODEL_c55ae050b6b74f33bb7ca8876b8ae617",
       "max": 1000,
       "min": 50,
       "step": 5,
       "style": "IPY_MODEL_25c1de1f92bc464aa920bf5bced0e029",
       "value": 50
      }
     },
     "a2a0bdb894644e019f8e5dbd9fbbf105": {
      "model_module": "@jupyter-widgets/controls",
      "model_module_version": "1.5.0",
      "model_name": "SliderStyleModel",
      "state": {
       "description_width": ""
      }
     },
     "a40ad48c698943c885ec32755a9d60fe": {
      "model_module": "@jupyter-widgets/controls",
      "model_module_version": "1.5.0",
      "model_name": "IntSliderModel",
      "state": {
       "description": "y0",
       "layout": "IPY_MODEL_01722fde7f1e4726a767fdd9d3a00602",
       "max": 1000,
       "min": 50,
       "step": 5,
       "style": "IPY_MODEL_9e920d46f319469fb11978be95aed64c",
       "value": 485
      }
     },
     "a6900206e75b45e09a2e2ee6a009839c": {
      "model_module": "@jupyter-widgets/controls",
      "model_module_version": "1.5.0",
      "model_name": "SliderStyleModel",
      "state": {
       "description_width": ""
      }
     },
     "a9a0ab712ffc4662a944d1796a69b624": {
      "model_module": "@jupyter-widgets/controls",
      "model_module_version": "1.5.0",
      "model_name": "SliderStyleModel",
      "state": {
       "description_width": ""
      }
     },
     "aafde4ddd907429e89d4f25f032e0191": {
      "model_module": "@jupyter-widgets/controls",
      "model_module_version": "1.5.0",
      "model_name": "SliderStyleModel",
      "state": {
       "description_width": ""
      }
     },
     "ab5e269e99a841369381f17a31577d7c": {
      "model_module": "@jupyter-widgets/base",
      "model_module_version": "1.2.0",
      "model_name": "LayoutModel",
      "state": {}
     },
     "ae4c08f102084384b7c1ab8892491841": {
      "model_module": "@jupyter-widgets/controls",
      "model_module_version": "1.5.0",
      "model_name": "VBoxModel",
      "state": {
       "_dom_classes": [
        "widget-interact"
       ],
       "children": [
        "IPY_MODEL_cba2d9b6bb114371b2f25b7db102f9ef",
        "IPY_MODEL_fae5601dcccf40d8ae246d905799b183",
        "IPY_MODEL_45b1c93e7ed94e35b321d0cd0563a0cd",
        "IPY_MODEL_ed2f12908b0e40d59edf0e7e6efd5c77"
       ],
       "layout": "IPY_MODEL_cfa04a5e4d4040aea94d2ab1c93dc7f5"
      }
     },
     "aebe0385024f49e599f85c6d74f08bd9": {
      "model_module": "@jupyter-widgets/controls",
      "model_module_version": "1.5.0",
      "model_name": "SliderStyleModel",
      "state": {
       "description_width": ""
      }
     },
     "aefd472098004357b486fe94c90dc9c2": {
      "model_module": "@jupyter-widgets/base",
      "model_module_version": "1.2.0",
      "model_name": "LayoutModel",
      "state": {}
     },
     "b181433014d4469badae671dab15a954": {
      "model_module": "@jupyter-widgets/controls",
      "model_module_version": "1.5.0",
      "model_name": "IntSliderModel",
      "state": {
       "description": "y0",
       "layout": "IPY_MODEL_06d5959ce78b47b8a028698746abfd81",
       "max": 1000,
       "min": 50,
       "step": 5,
       "style": "IPY_MODEL_e320293c996949548d99a7eca547bef9",
       "value": 495
      }
     },
     "b23f96b5c9034a9ba8133869e0ecf009": {
      "model_module": "@jupyter-widgets/controls",
      "model_module_version": "1.5.0",
      "model_name": "IntSliderModel",
      "state": {
       "description": "M",
       "layout": "IPY_MODEL_42cce5055a144abdade2a98035d2248d",
       "max": 2000,
       "min": 250,
       "step": 10,
       "style": "IPY_MODEL_54a4e78e32034147921199336392169c",
       "value": 1000
      }
     },
     "b373d8f3f0d5456fb545e7603c0fbc0a": {
      "model_module": "@jupyter-widgets/controls",
      "model_module_version": "1.5.0",
      "model_name": "VBoxModel",
      "state": {
       "_dom_classes": [
        "widget-interact"
       ],
       "children": [
        "IPY_MODEL_fb5b00b9494f4ce8b4fea35fb8e528d5",
        "IPY_MODEL_02c53153eb5d45688642be50ccb18f34",
        "IPY_MODEL_ca30e82190734e6fa1a8af111d8e73c0",
        "IPY_MODEL_52c01293ca1546239ba901da85df142f"
       ],
       "layout": "IPY_MODEL_52a99af8ac4f4cc88ff6133b32793c0c"
      }
     },
     "b748c101385b421bb3fff14238f3d5fc": {
      "model_module": "@jupyter-widgets/base",
      "model_module_version": "1.2.0",
      "model_name": "LayoutModel",
      "state": {}
     },
     "b74fb1b45b0a4f37ad2d62ce14dc9e32": {
      "model_module": "@jupyter-widgets/base",
      "model_module_version": "1.2.0",
      "model_name": "LayoutModel",
      "state": {}
     },
     "b77b73236d5944548c8a7da5b7f69097": {
      "model_module": "@jupyter-widgets/base",
      "model_module_version": "1.2.0",
      "model_name": "LayoutModel",
      "state": {}
     },
     "b7f643eedd304d0fb278793ba59bb0d7": {
      "model_module": "@jupyter-widgets/controls",
      "model_module_version": "1.5.0",
      "model_name": "SliderStyleModel",
      "state": {
       "description_width": ""
      }
     },
     "b81d874ba92345d2b2286d3e8c29df16": {
      "model_module": "@jupyter-widgets/base",
      "model_module_version": "1.2.0",
      "model_name": "LayoutModel",
      "state": {}
     },
     "ba4ccf5a891c45e89ae8c76e84df1377": {
      "model_module": "@jupyter-widgets/base",
      "model_module_version": "1.2.0",
      "model_name": "LayoutModel",
      "state": {}
     },
     "ba6d77c3cb0c4cedbfd63eb3873040ea": {
      "model_module": "@jupyter-widgets/base",
      "model_module_version": "1.2.0",
      "model_name": "LayoutModel",
      "state": {}
     },
     "bc3af383510349f39c5bf695f47cf52e": {
      "model_module": "@jupyter-widgets/controls",
      "model_module_version": "1.5.0",
      "model_name": "SliderStyleModel",
      "state": {
       "description_width": ""
      }
     },
     "beab4cac0f874a0da4d5e81ce23127c0": {
      "model_module": "@jupyter-widgets/controls",
      "model_module_version": "1.5.0",
      "model_name": "SliderStyleModel",
      "state": {
       "description_width": ""
      }
     },
     "beeb58fe989a4f06b78180a34690f0e1": {
      "model_module": "@jupyter-widgets/controls",
      "model_module_version": "1.5.0",
      "model_name": "IntSliderModel",
      "state": {
       "description": "M",
       "layout": "IPY_MODEL_e0e77434780d4c07a8601fe9dbe0ffe0",
       "max": 2000,
       "min": 250,
       "step": 10,
       "style": "IPY_MODEL_0bfaff8aeebd46f4b1934270dc5821f4",
       "value": 1000
      }
     },
     "c0b4af68733b43be904f3d3f85f5cfa7": {
      "model_module": "@jupyter-widgets/controls",
      "model_module_version": "1.5.0",
      "model_name": "SliderStyleModel",
      "state": {
       "description_width": ""
      }
     },
     "c13762c5c5a449ffb1f7e3f1063ed5c9": {
      "model_module": "@jupyter-widgets/controls",
      "model_module_version": "1.5.0",
      "model_name": "SliderStyleModel",
      "state": {
       "description_width": ""
      }
     },
     "c1acee4afdc246d294ef898bd16facdc": {
      "model_module": "@jupyter-widgets/controls",
      "model_module_version": "1.5.0",
      "model_name": "IntSliderModel",
      "state": {
       "description": "M",
       "layout": "IPY_MODEL_287cd367abd94c6992bb09daa472b211",
       "max": 2000,
       "min": 100,
       "step": 10,
       "style": "IPY_MODEL_0f9873ea044c4cd0b84bca0f63392f23",
       "value": 1000
      }
     },
     "c34300f22580441da1cff26ebfd100da": {
      "model_module": "@jupyter-widgets/output",
      "model_module_version": "1.0.0",
      "model_name": "OutputModel",
      "state": {
       "layout": "IPY_MODEL_f71a36c1202049fd895699395ba5ad87"
      }
     },
     "c455c9d51c7f4bc3912e1295cb3afa7f": {
      "model_module": "@jupyter-widgets/output",
      "model_module_version": "1.0.0",
      "model_name": "OutputModel",
      "state": {
       "layout": "IPY_MODEL_fdf7c9ad43a34cb49788a2487f7cafb5"
      }
     },
     "c55ae050b6b74f33bb7ca8876b8ae617": {
      "model_module": "@jupyter-widgets/base",
      "model_module_version": "1.2.0",
      "model_name": "LayoutModel",
      "state": {}
     },
     "c7ce90fb2d74453a86ce76372ced4936": {
      "model_module": "@jupyter-widgets/base",
      "model_module_version": "1.2.0",
      "model_name": "LayoutModel",
      "state": {}
     },
     "c87eb3e3100c4c92a4a8d664d3044307": {
      "model_module": "@jupyter-widgets/output",
      "model_module_version": "1.0.0",
      "model_name": "OutputModel",
      "state": {
       "layout": "IPY_MODEL_628d1045dde84584bb24be7fec0e9778"
      }
     },
     "ca30e82190734e6fa1a8af111d8e73c0": {
      "model_module": "@jupyter-widgets/controls",
      "model_module_version": "1.5.0",
      "model_name": "IntSliderModel",
      "state": {
       "description": "y0",
       "layout": "IPY_MODEL_ab5e269e99a841369381f17a31577d7c",
       "max": 1000,
       "min": 50,
       "step": 5,
       "style": "IPY_MODEL_9698579ee81d411685da58328f31f9fd",
       "value": 50
      }
     },
     "ca44ad27c46749378897d0ae18503d7a": {
      "model_module": "@jupyter-widgets/controls",
      "model_module_version": "1.5.0",
      "model_name": "IntSliderModel",
      "state": {
       "description": "y0",
       "layout": "IPY_MODEL_0bbcc7350b6343d5a9bf1534226a2b59",
       "max": 1000,
       "min": 50,
       "step": 5,
       "style": "IPY_MODEL_08cd0337ff1f49c68055ff1209621d27",
       "value": 580
      }
     },
     "cba2d9b6bb114371b2f25b7db102f9ef": {
      "model_module": "@jupyter-widgets/controls",
      "model_module_version": "1.5.0",
      "model_name": "IntSliderModel",
      "state": {
       "description": "M",
       "layout": "IPY_MODEL_55170df18abe4f5f97112a0e4d83d51d",
       "max": 2000,
       "min": 100,
       "step": 10,
       "style": "IPY_MODEL_6b04253dc2204833b1a08d045fe1f624",
       "value": 1000
      }
     },
     "cc9bdbc5ac9540b9ba207dc7655b42d7": {
      "model_module": "@jupyter-widgets/output",
      "model_module_version": "1.0.0",
      "model_name": "OutputModel",
      "state": {
       "layout": "IPY_MODEL_1db02c5639c14fb8b9cd2fac9eaf5bfd"
      }
     },
     "cf4703dc555c4bed891a8e7989c20195": {
      "model_module": "@jupyter-widgets/controls",
      "model_module_version": "1.5.0",
      "model_name": "SliderStyleModel",
      "state": {
       "description_width": ""
      }
     },
     "cfa04a5e4d4040aea94d2ab1c93dc7f5": {
      "model_module": "@jupyter-widgets/base",
      "model_module_version": "1.2.0",
      "model_name": "LayoutModel",
      "state": {}
     },
     "d15bec5610154b83bbb0fcb958be3026": {
      "model_module": "@jupyter-widgets/base",
      "model_module_version": "1.2.0",
      "model_name": "LayoutModel",
      "state": {}
     },
     "d257c31226b0447aa2ae805339056610": {
      "model_module": "@jupyter-widgets/controls",
      "model_module_version": "1.5.0",
      "model_name": "IntSliderModel",
      "state": {
       "description": "M",
       "layout": "IPY_MODEL_ba4ccf5a891c45e89ae8c76e84df1377",
       "max": 2000,
       "min": 250,
       "step": 10,
       "style": "IPY_MODEL_3fc71e17d8cd4291b0762f12ae0e74f7",
       "value": 1000
      }
     },
     "d50758d2abc14f798bbdc4d33c7ca91e": {
      "model_module": "@jupyter-widgets/controls",
      "model_module_version": "1.5.0",
      "model_name": "IntSliderModel",
      "state": {
       "description": "y0",
       "layout": "IPY_MODEL_6a0efb26fe374dce94765d555c41c2ae",
       "max": 1000,
       "min": 50,
       "step": 5,
       "style": "IPY_MODEL_c0b4af68733b43be904f3d3f85f5cfa7",
       "value": 50
      }
     },
     "d58f8107f81b4a1db4f65fb91669c47f": {
      "model_module": "@jupyter-widgets/output",
      "model_module_version": "1.0.0",
      "model_name": "OutputModel",
      "state": {
       "layout": "IPY_MODEL_3b72653a77f043eb939004aff6944efb"
      }
     },
     "dbc7d1bac8344c0aa0affbbfa51938e0": {
      "model_module": "@jupyter-widgets/base",
      "model_module_version": "1.2.0",
      "model_name": "LayoutModel",
      "state": {}
     },
     "dc94f9a67770485593550c2c1f4a5c42": {
      "model_module": "@jupyter-widgets/base",
      "model_module_version": "1.2.0",
      "model_name": "LayoutModel",
      "state": {}
     },
     "dd13fd0e2d4746e58715f143e27b85b3": {
      "model_module": "@jupyter-widgets/output",
      "model_module_version": "1.0.0",
      "model_name": "OutputModel",
      "state": {
       "layout": "IPY_MODEL_c7ce90fb2d74453a86ce76372ced4936"
      }
     },
     "ddfbd15e22b14699b878d674c8243f27": {
      "model_module": "@jupyter-widgets/base",
      "model_module_version": "1.2.0",
      "model_name": "LayoutModel",
      "state": {}
     },
     "df7c2cee885a4030a71694b9b432d9d9": {
      "model_module": "@jupyter-widgets/controls",
      "model_module_version": "1.5.0",
      "model_name": "IntSliderModel",
      "state": {
       "description": "M",
       "layout": "IPY_MODEL_ddfbd15e22b14699b878d674c8243f27",
       "max": 2000,
       "min": 100,
       "step": 10,
       "style": "IPY_MODEL_7a4500d1ca184e30a9ec2149b9ea627c",
       "value": 2000
      }
     },
     "e090d75bce5a443facb8e65f3edaec56": {
      "model_module": "@jupyter-widgets/controls",
      "model_module_version": "1.5.0",
      "model_name": "SliderStyleModel",
      "state": {
       "description_width": ""
      }
     },
     "e0e77434780d4c07a8601fe9dbe0ffe0": {
      "model_module": "@jupyter-widgets/base",
      "model_module_version": "1.2.0",
      "model_name": "LayoutModel",
      "state": {}
     },
     "e0eeedb6f58742b2bb808d4ff0690b86": {
      "model_module": "@jupyter-widgets/controls",
      "model_module_version": "1.5.0",
      "model_name": "SliderStyleModel",
      "state": {
       "description_width": ""
      }
     },
     "e1b0573952fd48b0b950b8bda76d667a": {
      "model_module": "@jupyter-widgets/controls",
      "model_module_version": "1.5.0",
      "model_name": "SliderStyleModel",
      "state": {
       "description_width": ""
      }
     },
     "e1b4728375364dafab45e1beb81b4065": {
      "model_module": "@jupyter-widgets/base",
      "model_module_version": "1.2.0",
      "model_name": "LayoutModel",
      "state": {}
     },
     "e320293c996949548d99a7eca547bef9": {
      "model_module": "@jupyter-widgets/controls",
      "model_module_version": "1.5.0",
      "model_name": "SliderStyleModel",
      "state": {
       "description_width": ""
      }
     },
     "e547f03643054f538738dc888489be9d": {
      "model_module": "@jupyter-widgets/controls",
      "model_module_version": "1.5.0",
      "model_name": "IntSliderModel",
      "state": {
       "description": "y0",
       "layout": "IPY_MODEL_1d835be9021749f3927f75ef2b656149",
       "max": 1000,
       "min": 250,
       "step": 5,
       "style": "IPY_MODEL_e0eeedb6f58742b2bb808d4ff0690b86",
       "value": 250
      }
     },
     "e6b87574b4a741ebbf97d6f5cdfceccc": {
      "model_module": "@jupyter-widgets/controls",
      "model_module_version": "1.5.0",
      "model_name": "VBoxModel",
      "state": {
       "_dom_classes": [
        "widget-interact"
       ],
       "children": [
        "IPY_MODEL_8d7791d412ce40bab330824504a15821",
        "IPY_MODEL_4a6746987bb14553a22e117f2bd66ae3",
        "IPY_MODEL_b181433014d4469badae671dab15a954",
        "IPY_MODEL_294c934efe674a1fa043b3ea676a34af"
       ],
       "layout": "IPY_MODEL_aefd472098004357b486fe94c90dc9c2"
      }
     },
     "e7ee727a023c4198a2a4d3d0e393b4d9": {
      "model_module": "@jupyter-widgets/controls",
      "model_module_version": "1.5.0",
      "model_name": "IntSliderModel",
      "state": {
       "description": "M",
       "layout": "IPY_MODEL_9f170c583adb4d81bac766ca62254036",
       "max": 2000,
       "min": 250,
       "step": 10,
       "style": "IPY_MODEL_a6900206e75b45e09a2e2ee6a009839c",
       "value": 1000
      }
     },
     "eb4e885672e94373a3b8455278e87b26": {
      "model_module": "@jupyter-widgets/base",
      "model_module_version": "1.2.0",
      "model_name": "LayoutModel",
      "state": {}
     },
     "ebbcd98eb306424492b1910f43a34b22": {
      "model_module": "@jupyter-widgets/controls",
      "model_module_version": "1.5.0",
      "model_name": "SliderStyleModel",
      "state": {
       "description_width": ""
      }
     },
     "ed2f12908b0e40d59edf0e7e6efd5c77": {
      "model_module": "@jupyter-widgets/output",
      "model_module_version": "1.0.0",
      "model_name": "OutputModel",
      "state": {
       "layout": "IPY_MODEL_b81d874ba92345d2b2286d3e8c29df16"
      }
     },
     "ed3ed0bb24844391a7316e80d2cc39b1": {
      "model_module": "@jupyter-widgets/controls",
      "model_module_version": "1.5.0",
      "model_name": "VBoxModel",
      "state": {
       "_dom_classes": [
        "widget-interact"
       ],
       "children": [
        "IPY_MODEL_66591c52d1494ce6a8781f5c41bd49e9",
        "IPY_MODEL_1821cc80c03548e4a10c5d3cd10555ca",
        "IPY_MODEL_2a8bc1c76c3d44ddbc14726f5f0b2399",
        "IPY_MODEL_7022e275f6a8476c8dfc47337bed3cf4"
       ],
       "layout": "IPY_MODEL_128841b01a2a436d86a2157757da67fc"
      }
     },
     "f188c2d1121c4a559b25a316605bd558": {
      "model_module": "@jupyter-widgets/controls",
      "model_module_version": "1.5.0",
      "model_name": "SliderStyleModel",
      "state": {
       "description_width": ""
      }
     },
     "f658215027f04cb2ba75123d2eceb6b2": {
      "model_module": "@jupyter-widgets/output",
      "model_module_version": "1.0.0",
      "model_name": "OutputModel",
      "state": {
       "layout": "IPY_MODEL_87751c76cb4049ef97e6e58f31ea5982"
      }
     },
     "f71a36c1202049fd895699395ba5ad87": {
      "model_module": "@jupyter-widgets/base",
      "model_module_version": "1.2.0",
      "model_name": "LayoutModel",
      "state": {}
     },
     "f7945f6317a34acb9fe5a06743183a9d": {
      "model_module": "@jupyter-widgets/controls",
      "model_module_version": "1.5.0",
      "model_name": "FloatSliderModel",
      "state": {
       "description": "V",
       "layout": "IPY_MODEL_46c3334759ea41f296f5b83ecdb0f5f4",
       "max": 16,
       "min": 0.8,
       "step": 0.1,
       "style": "IPY_MODEL_b7f643eedd304d0fb278793ba59bb0d7",
       "value": 12
      }
     },
     "f98fd46f2bf5490388683a1db8ed0062": {
      "model_module": "@jupyter-widgets/controls",
      "model_module_version": "1.5.0",
      "model_name": "FloatSliderModel",
      "state": {
       "description": "V",
       "layout": "IPY_MODEL_2ab33c1d074541888c555755e2f5395a",
       "max": 16,
       "min": 2,
       "step": 0.1,
       "style": "IPY_MODEL_47bedbeb64dc4ad098682f400b774134",
       "value": 12
      }
     },
     "fae5601dcccf40d8ae246d905799b183": {
      "model_module": "@jupyter-widgets/controls",
      "model_module_version": "1.5.0",
      "model_name": "FloatSliderModel",
      "state": {
       "description": "V",
       "layout": "IPY_MODEL_9c5b4eeda9c24ac99947cd50f931cf3d",
       "max": 16,
       "min": 0.8,
       "step": 0.1,
       "style": "IPY_MODEL_ebbcd98eb306424492b1910f43a34b22",
       "value": 12
      }
     },
     "fb5b00b9494f4ce8b4fea35fb8e528d5": {
      "model_module": "@jupyter-widgets/controls",
      "model_module_version": "1.5.0",
      "model_name": "IntSliderModel",
      "state": {
       "description": "M",
       "layout": "IPY_MODEL_52fba609c70a4513b5f8896980a5dd91",
       "max": 2000,
       "min": 100,
       "step": 10,
       "style": "IPY_MODEL_93be7e2b0e7f47ab9604136135d79e2b",
       "value": 1000
      }
     },
     "fc53b97bbf4246a282a3b0749f98510b": {
      "model_module": "@jupyter-widgets/controls",
      "model_module_version": "1.5.0",
      "model_name": "VBoxModel",
      "state": {
       "_dom_classes": [
        "widget-interact"
       ],
       "children": [
        "IPY_MODEL_103e8cfb466d4caeb1f03d1a76755ec1",
        "IPY_MODEL_4731307daed142148f87fd037c130a3e",
        "IPY_MODEL_a40ad48c698943c885ec32755a9d60fe",
        "IPY_MODEL_762792f8cad6430ea47ff331eb8cfaaf"
       ],
       "layout": "IPY_MODEL_6507fe6bb4c846e7946f4edebe3460fc"
      }
     },
     "fdf7c9ad43a34cb49788a2487f7cafb5": {
      "model_module": "@jupyter-widgets/base",
      "model_module_version": "1.2.0",
      "model_name": "LayoutModel",
      "state": {}
     }
    },
    "version_major": 2,
    "version_minor": 0
   }
  }
 },
 "nbformat": 4,
 "nbformat_minor": 4
}
