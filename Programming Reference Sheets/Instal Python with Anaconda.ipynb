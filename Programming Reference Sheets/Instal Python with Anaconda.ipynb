{
 "cells": [
  {
   "cell_type": "markdown",
   "metadata": {},
   "source": [
    "# Installation\n",
    "\n",
    "In this book, we will use Python 3. All examples will be generated from Spyder, the Integrated Development Environment provided in Anaconda. [Download](https://www.anaconda.com/distribution/#download-section) the Anaconda package at (https://www.anaconda.com/distribution/#download-section).\n",
    "\n",
    "Download the latest installer for Python 3 for the appropriate operating system. If you know your system is 64-bit, choose the 64-bit installer. Otherwise, choose the 32-bit installer. **If you have not installed Python on your system before, check the option “Add Anaconda to the system Path environment variable.** This option is “Not recommended” by the installation as it gives Anaconda preference over previously installed software. For our purposes, this should not be a problem. Once you have completed the installation, if you would like to install any package, open the command line (in Windows this is PowerShell) and type conda install package-name where package-name is replaced with the package you wish to install. For example, you can install numpy with conda install numpy. If a package is not available in Anaconda, you can install it using pip install package-name. The latest version of Anaconda will recognize a library installed in this manner. It is sometimes possible to install unofficial releases of packages with Anaconda, but this will not be necessary for the material covered. Unless otherwise specified, the packages we will be using are included in with the Anaconda installation.\n",
    "\n",
    "When you are ready to build your first program, open Spyder. You can find it by using the search function for your operating system. I recommend that you place it somewhere on your desktop or pin it to your taskbar.\n",
    "\n",
    "Python Scripts As you follow along with the book, you may prefer to view the .py scripts in your text editor. All scripts can be found at the github for this book."
   ]
  }
 ],
 "metadata": {
  "kernelspec": {
   "display_name": "Python 3",
   "language": "python",
   "name": "python3"
  },
  "language_info": {
   "codemirror_mode": {
    "name": "ipython",
    "version": 3
   },
   "file_extension": ".py",
   "mimetype": "text/x-python",
   "name": "python",
   "nbconvert_exporter": "python",
   "pygments_lexer": "ipython3",
   "version": "3.7.6"
  }
 },
 "nbformat": 4,
 "nbformat_minor": 4
}
