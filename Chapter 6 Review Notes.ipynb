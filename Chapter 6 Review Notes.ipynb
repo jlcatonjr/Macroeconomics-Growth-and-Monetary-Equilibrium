{
 "cells": [
  {
   "cell_type": "markdown",
   "metadata": {},
   "source": [
    "# 1. \n",
    "\n",
    "## Suppose that:\n",
    "\n",
    "$M_0 = 10000$\n",
    "\n",
    "$P_0 = 100$\n",
    "\n",
    "$y_0 = 1000$\n",
    "\n",
    "## Solve for V:\n",
    "\n",
    "$V=\\frac{Py}{M}$\n"
   ]
  },
  {
   "cell_type": "code",
   "execution_count": 4,
   "metadata": {},
   "outputs": [
    {
     "name": "stdout",
     "output_type": "stream",
     "text": [
      "V0 =  10.0\n"
     ]
    }
   ],
   "source": [
    "M0 = 10000\n",
    "P0 = 100\n",
    "y0 = 1000\n",
    "\n",
    "V0 = (y0 * P0) / M0\n",
    "\n",
    "print(\"V0 = \", V0)"
   ]
  },
  {
   "cell_type": "markdown",
   "metadata": {},
   "source": [
    "$$ V= 10 $$\n",
    "\n",
    "## Suppose M increases so that $M_1 = 11000$. In the short run, what is the highest value of y possible indicated by the equation of exchange? (Hint: hold P fixed, $P=P_0$\n",
    "\n",
    "$V_1 = V_0$\n",
    "\n",
    "$y_t = \\frac{M_1 V_1}{P_0}$"
   ]
  },
  {
   "cell_type": "code",
   "execution_count": 6,
   "metadata": {},
   "outputs": [
    {
     "name": "stdout",
     "output_type": "stream",
     "text": [
      "yt = 1100.0\n"
     ]
    }
   ],
   "source": [
    "V1 = V0\n",
    "M1 = 11000\n",
    "\n",
    "yt = (M1 * V1) / P0\n",
    "\n",
    "print(\"yt =\", yt)"
   ]
  },
  {
   "cell_type": "markdown",
   "metadata": {},
   "source": [
    "$$y_t=1100$$\n",
    "\n",
    "## Indicate the new price level that will prevail in the long-run. Recall that in the long-run, $y_1=y_0$\n",
    "\n",
    "$P_1 = \\frac{M_1 V_1}{y_1}$"
   ]
  },
  {
   "cell_type": "code",
   "execution_count": 7,
   "metadata": {},
   "outputs": [
    {
     "name": "stdout",
     "output_type": "stream",
     "text": [
      "P1 = 110.0\n"
     ]
    }
   ],
   "source": [
    "y1 = y0\n",
    "\n",
    "P1 = (M1 * V1) / y1\n",
    "print(\"P1 =\", P1)"
   ]
  }
 ],
 "metadata": {
  "kernelspec": {
   "display_name": "Python 3",
   "language": "python",
   "name": "python3"
  },
  "language_info": {
   "codemirror_mode": {
    "name": "ipython",
    "version": 3
   },
   "file_extension": ".py",
   "mimetype": "text/x-python",
   "name": "python",
   "nbconvert_exporter": "python",
   "pygments_lexer": "ipython3",
   "version": "3.7.6"
  }
 },
 "nbformat": 4,
 "nbformat_minor": 4
}
