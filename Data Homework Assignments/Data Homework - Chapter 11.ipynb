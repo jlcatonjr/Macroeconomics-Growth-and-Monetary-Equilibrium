{
 "cells": [
  {
   "cell_type": "markdown",
   "metadata": {},
   "source": [
    "# Data Homework: Chapter 11\n",
    "\n",
    "Name:<u> Enter your full name here"
   ]
  },
  {
   "cell_type": "markdown",
   "metadata": {},
   "source": [
    "Directions: Download the following data from [FRED](https://fred.stlouisfed.org/graph/?g=qN68) using pandas_datareader. \n",
    "\n",
    ">**Federal Reserve Balance Sheet and Components**\n",
    ">\n",
    ">*Assets*\n",
    ">\n",
    ">Total Assets: WALCL\n",
    ">\n",
    ">Repurchase Agreements: WORAL\n",
    ">\n",
    ">U.S. Treasury’s Held Outright by Federal Reserve: TREAST\n",
    ">\n",
    ">Mortgage-backed Securities Held by the Federal Reserves: WSHOMCB\n",
    ">\n",
    ">*Liabilities*\n",
    ">\n",
    ">Total Liabilities: WLTECL\n",
    ">\n",
    ">Monetary Base: BOGMBASEW\n",
    ">\n",
    ">Monetary Base not Sterilized by the Federal Reserve: WLFN \n",
    ">\n",
    ">Excess Reserves: EXCSRESNW\n",
    ">\n",
    ">Treasury’s General Account: WDTGAL\n",
    ">\n",
    ">Reverse Repurchase Agreements: WLRRAL\n",
    "\n",
    "Preface:\n",
    "\n",
    ">The Federal Reserve adds to the quantity of money when it purchases assets. The value of “Total Assets” reflects the total value of money creation by the Federal Reserve. The Federal Reserve removes money from the economy when it takes deposits or takes short-term loans. These are registered, along with the monetary base in circulation, as liabilities. \n",
    "\n",
    "1.\tCreate a variable called Excess Reserves and Treasury General Account. Plot these three variables together. Plot all three variables together along with Total Liabilities."
   ]
  },
  {
   "cell_type": "code",
   "execution_count": null,
   "metadata": {},
   "outputs": [],
   "source": []
  },
  {
   "cell_type": "markdown",
   "metadata": {},
   "source": [
    "2.\tCreate a variable that shows what percent of the base is collecting interest as excess reserves at the Federal Reserve."
   ]
  },
  {
   "cell_type": "code",
   "execution_count": null,
   "metadata": {},
   "outputs": [],
   "source": []
  },
  {
   "cell_type": "markdown",
   "metadata": {},
   "source": [
    "3.\tCreate a variable that shows what percent of the monetary base is held on deposit in the Treasury’s General Account."
   ]
  },
  {
   "cell_type": "code",
   "execution_count": null,
   "metadata": {},
   "outputs": [],
   "source": []
  },
  {
   "cell_type": "markdown",
   "metadata": {},
   "source": [
    "4.\tCreate a variable that sums the percent values from 2) and 3) plot all three percentages in one graph."
   ]
  },
  {
   "cell_type": "code",
   "execution_count": null,
   "metadata": {},
   "outputs": [],
   "source": []
  },
  {
   "cell_type": "markdown",
   "metadata": {},
   "source": [
    "5.\tRepurchase agreements represent short-term loans provided by the Federal Reserve to the investors in the overnight lending market. Reverse repurchase agreements represent loans provided by investors in the overnight lending market to the Federal Reserve.\n",
    "\n",
    ">a. Create a variable called “Net Repurchase Agreements”. To calcualte this, subtract reverse repurchase agreements from repurchase agreements. "
   ]
  },
  {
   "cell_type": "code",
   "execution_count": null,
   "metadata": {},
   "outputs": [],
   "source": []
  },
  {
   "cell_type": "markdown",
   "metadata": {},
   "source": [
    ">b. What is the Federal Reserve’s net effect on the overnight lending market in terms of repurchase agreements (i.e., negative values represent removal of funds  from the market).Plot all three variables in one graph."
   ]
  },
  {
   "cell_type": "code",
   "execution_count": null,
   "metadata": {},
   "outputs": [],
   "source": []
  },
  {
   "cell_type": "markdown",
   "metadata": {},
   "source": []
  },
  {
   "cell_type": "markdown",
   "metadata": {},
   "source": [
    "6.\tSum together U.S. Treasuries Held Outright by the Federal Reserve and Mortgage-backed Securities Held by the Federal Reserve. Call the variable “U.S. Treasuries and Mortgage-backed Securities held by Federal Reserve. Plot all three variables along with Total Assets."
   ]
  },
  {
   "cell_type": "code",
   "execution_count": null,
   "metadata": {},
   "outputs": [],
   "source": []
  },
  {
   "cell_type": "markdown",
   "metadata": {},
   "source": [
    "7.\tIn light of the lecture, explain why the Monetary Base has increased dramatically compared to the Monetary Base not Sterilized by the Federal Reserve."
   ]
  },
  {
   "cell_type": "markdown",
   "metadata": {},
   "source": []
  }
 ],
 "metadata": {
  "kernelspec": {
   "display_name": "Python 3",
   "language": "python",
   "name": "python3"
  },
  "language_info": {
   "codemirror_mode": {
    "name": "ipython",
    "version": 3
   },
   "file_extension": ".py",
   "mimetype": "text/x-python",
   "name": "python",
   "nbconvert_exporter": "python",
   "pygments_lexer": "ipython3",
   "version": "3.7.6"
  }
 },
 "nbformat": 4,
 "nbformat_minor": 4
}
