{
 "cells": [
  {
   "cell_type": "markdown",
   "metadata": {},
   "source": [
    "# Data Homework: Chapter 11\n",
    "\n",
    "Name:<u> Enter your full name here"
   ]
  },
  {
   "cell_type": "markdown",
   "metadata": {},
   "source": [
    "Directions: Download the following data from [FRED](https://fred.stlouisfed.org/graph/?g=qN68) using pandas_datareader. \n",
    "\n",
    ">**Federal Reserve Balance Sheet and Components**\n",
    ">\n",
    ">*Assets*\n",
    ">\n",
    ">Total Assets: WALCL\n",
    ">\n",
    ">Repurchase Agreements: WORAL\n",
    ">\n",
    ">U.S. Treasury’s Held Outright by Federal Reserve: TREAST\n",
    ">\n",
    ">Mortgage-backed Securities Held by the Federal Reserves: WSHOMCB\n",
    ">\n",
    ">*Liabilities*\n",
    ">\n",
    ">Total Liabilities: WLTLECL\n",
    ">\n",
    ">Monetary Base: BOGMBASEW\n",
    ">\n",
    ">Monetary Base not Sterilized by the Federal Reserve: WLFN \n",
    ">\n",
    ">Excess Reserves: EXCSRESNW\n",
    ">\n",
    ">Treasury’s General Account: WDTGAL\n",
    ">\n",
    ">Reverse Repurchase Agreements: WLRRAL\n",
    "\n",
    "Preface:\n",
    "\n",
    ">The Federal Reserve adds to the quantity of money when it purchases assets. The value of “Total Assets” reflects the total value of money creation by the Federal Reserve. The Federal Reserve removes money from the economy when it takes deposits or takes short-term loans. These are registered, along with the monetary base in circulation, as liabilities. \n",
    "\n",
    "1.\tCreate a variable called Excess Reserves and Treasury General Account. Create a third variable that is the sum of these two. Then plot all three variables together along with Total Liabilities."
   ]
  },
  {
   "cell_type": "code",
   "execution_count": 1,
   "metadata": {},
   "outputs": [],
   "source": [
    "#plots.py\n",
    "# if you have not installed pandas-datareader, uncomment the command \n",
    "# in the next line. After intallation, you can remove the command\n",
    "#!pip install pandas-datareader\n",
    "# pandas_datareader is imported in datlib.FRED\n",
    "import datetime\n",
    "from datlib.FRED import *\n",
    "# for each variable, enter the variable name followed by the variable code. \n",
    "# the first variable is completed for you\n",
    "data_codes  = {\"Total Assets\": \"WALCL\",\n",
    "               \"Repurchase Agreements\": \"WORAL\",\n",
    "               \"U.S. Treasuries Held Outright by Federal Reserve\": \"TREAST\",\n",
    "               \"Mortgage-backed Securities Held by the Federal Reserves\": \"WSHOMCB\",\n",
    "               \"Total Liabilities\": \"WLTLECL\",\n",
    "               \"Monetary Base\": \"BOGMBASEW\",\n",
    "               \"Monetary Base not Sterilized by the Federal Reserve\": \"WLFN\",\n",
    "               \"Excess Reserves\": \"EXCSRESNW\",\n",
    "               \"Treasury's General Account\": \"WDTGAL\",\n",
    "               \"Reverse Repurchase Agreements\": \"WLRRAL\"}\n",
    "# Select start and end dates\n",
    "# datetime.datetime(year, month, day)\n",
    "start = datetime.datetime(2003, 1, 1)\n",
    "end = datetime.datetime.today()"
   ]
  },
  {
   "cell_type": "code",
   "execution_count": 2,
   "metadata": {},
   "outputs": [],
   "source": [
    "data = gather_data(data_codes = data_codes, \n",
    "                   start = start, \n",
    "                   end = end, \n",
    "                   freq = \"W\")"
   ]
  },
  {
   "cell_type": "code",
   "execution_count": 3,
   "metadata": {},
   "outputs": [],
   "source": [
    "from datlib.plots import *\n",
    "plt.rcParams.update({\"font.size\":32})\n",
    "data[\"ER + TGA\"] = data[\"Excess Reserves\"].add(data[\"Treasury's General Account\"])"
   ]
  },
  {
   "cell_type": "markdown",
   "metadata": {},
   "source": [
    "2.\tCreate a variable that shows what percent of the value of the Federal Reserve's balance sheet that is composed of excess reserves (use the value of total assets even though excess reserves held on account of the Fed are a liability of the Fed)."
   ]
  },
  {
   "cell_type": "code",
   "execution_count": null,
   "metadata": {},
   "outputs": [],
   "source": []
  },
  {
   "cell_type": "markdown",
   "metadata": {},
   "source": [
    "3.\tCreate a variable that shows what percent of the balance sheet (use the value of total assets even though the base is a liability) is held on deposit in the Treasury’s General Account."
   ]
  },
  {
   "cell_type": "code",
   "execution_count": null,
   "metadata": {},
   "outputs": [],
   "source": []
  },
  {
   "cell_type": "markdown",
   "metadata": {},
   "source": [
    "4.\tCreate a variable that sums the percent values from 2) and 3) plot all three percentages in one graph."
   ]
  },
  {
   "cell_type": "code",
   "execution_count": null,
   "metadata": {},
   "outputs": [],
   "source": []
  },
  {
   "cell_type": "markdown",
   "metadata": {},
   "source": [
    "5.\tRepurchase agreements represent short-term loans provided by the Federal Reserve to the investors in the overnight lending market. Reverse repurchase agreements represent loans provided by investors in the overnight lending market to the Federal Reserve.\n",
    "\n",
    ">a. Create a variable called “Net Repurchase Agreements”. To calcualte this, subtract reverse repurchase agreements from repurchase agreements. "
   ]
  },
  {
   "cell_type": "code",
   "execution_count": null,
   "metadata": {},
   "outputs": [],
   "source": []
  },
  {
   "cell_type": "markdown",
   "metadata": {},
   "source": [
    ">b. What is the Federal Reserve’s net effect on the overnight lending market in terms of repurchase agreements (i.e., negative values represent removal of funds  from the market).Plot all three variables in one graph."
   ]
  },
  {
   "cell_type": "code",
   "execution_count": null,
   "metadata": {},
   "outputs": [],
   "source": []
  },
  {
   "cell_type": "markdown",
   "metadata": {},
   "source": []
  },
  {
   "cell_type": "markdown",
   "metadata": {},
   "source": [
    "6.\tSum together U.S. Treasuries Held Outright by the Federal Reserve and Mortgage-backed Securities Held by the Federal Reserve. Call the variable “U.S. Treasuries and Mortgage-backed Securities held by Federal Reserve. Plot all three variables along with Total Assets."
   ]
  },
  {
   "cell_type": "code",
   "execution_count": null,
   "metadata": {},
   "outputs": [],
   "source": []
  },
  {
   "cell_type": "markdown",
   "metadata": {},
   "source": [
    "7.\tIn light of the lecture, explain why the Monetary Base has increased dramatically compared to the Monetary Base not Sterilized by the Federal Reserve. (compared to the quantity of currency in circulation)"
   ]
  },
  {
   "cell_type": "markdown",
   "metadata": {},
   "source": []
  }
 ],
 "metadata": {
  "kernelspec": {
   "display_name": "Python 3",
   "language": "python",
   "name": "python3"
  },
  "language_info": {
   "codemirror_mode": {
    "name": "ipython",
    "version": 3
   },
   "file_extension": ".py",
   "mimetype": "text/x-python",
   "name": "python",
   "nbconvert_exporter": "python",
   "pygments_lexer": "ipython3",
   "version": "3.8.8"
  }
 },
 "nbformat": 4,
 "nbformat_minor": 4
}
