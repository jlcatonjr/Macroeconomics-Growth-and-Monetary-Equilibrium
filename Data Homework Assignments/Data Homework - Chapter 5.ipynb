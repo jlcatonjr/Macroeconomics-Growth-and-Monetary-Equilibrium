{
 "cells": [
  {
   "cell_type": "markdown",
   "metadata": {},
   "source": [
    "# Data Homework: Chapter 5\n",
    "\n",
    "Name:<u> Enter your full name here"
   ]
  },
  {
   "cell_type": "markdown",
   "metadata": {},
   "source": [
    "Directions: Download the following data in from [FRED] (https://fred.stlouisfed.org/graph/?g=pUAe) using pandas_datareader\n",
    " \n",
    ">GDP Deflator: GDPDEF\n",
    ">\n",
    ">Monetary Base: BOGMBASEW\n",
    "\n"
   ]
  },
  {
   "cell_type": "code",
   "execution_count": 1,
   "metadata": {},
   "outputs": [],
   "source": [
    "import datetime\n",
    "from datlib.FRED import *\n",
    "# for each variable, enter the variable name followed by the variable code. \n",
    "# the first variable is completed for you\n",
    "data_codes  = {\"GDP Deflator\": \"GDPDEF\",\n",
    "               \"Monetary Base\": \"BOGMBASEW\"\n",
    "}\n",
    "\n",
    "# Select start and end dates\n",
    "# datetime.datetime(year, month, day)\n",
    "start = datetime.datetime(1990, 1, 1)\n",
    "end = datetime.datetime.today()\n",
    "data = gather_data(data_codes = data_codes, \n",
    "                   start = start, \n",
    "                   end = end, \n",
    "                   freq = \"Q\")"
   ]
  },
  {
   "cell_type": "code",
   "execution_count": 2,
   "metadata": {},
   "outputs": [],
   "source": [
    "data.to_csv(\"Ch5HWData.csv\")"
   ]
  },
  {
   "cell_type": "markdown",
   "metadata": {},
   "source": [
    "1.\tCalculate the real base money stock (M/P) using data for the GDP Deflator and the Monetary Base. Make sure to reindex the price level by dividing it by 100.\n",
    "\n",
    "$(1/1/100) --> 1 * 100$"
   ]
  },
  {
   "cell_type": "code",
   "execution_count": 3,
   "metadata": {},
   "outputs": [],
   "source": [
    "GDP_deflator = data[\"GDP Deflator\"].div(100)\n",
    "data[\"Real Monetary Base\"] = data[\"Monetary Base\"].div(GDP_deflator)"
   ]
  },
  {
   "cell_type": "markdown",
   "metadata": {},
   "source": [
    "2.\tLog the values of the Monetary Base and the Real Monetary Base"
   ]
  },
  {
   "cell_type": "code",
   "execution_count": 4,
   "metadata": {},
   "outputs": [],
   "source": [
    "import numpy as np\n",
    "log_data = np.log(data)\n"
   ]
  },
  {
   "cell_type": "markdown",
   "metadata": {},
   "source": [
    "3.\tCalculate the First Difference (log(xt) – log(x t-1) of Logged Values for the Monetary Base and Real Monetary Base"
   ]
  },
  {
   "cell_type": "code",
   "execution_count": 5,
   "metadata": {},
   "outputs": [],
   "source": [
    "# hint: use log_data.diff()"
   ]
  },
  {
   "cell_type": "markdown",
   "metadata": {},
   "source": [
    "4.\tPlot the observed and the logged values for each variable on a single graph. Use a second y-axis for the logged values."
   ]
  },
  {
   "cell_type": "code",
   "execution_count": null,
   "metadata": {},
   "outputs": [],
   "source": []
  },
  {
   "cell_type": "markdown",
   "metadata": {},
   "source": [
    "5.\tGraph the differenced logged values of both the Monetary Base and the Real Monetary Base on a single graph."
   ]
  },
  {
   "cell_type": "code",
   "execution_count": null,
   "metadata": {},
   "outputs": [],
   "source": []
  },
  {
   "cell_type": "markdown",
   "metadata": {},
   "source": [
    "6.\tWhat does the slope of logged data approximate?"
   ]
  },
  {
   "cell_type": "markdown",
   "metadata": {},
   "source": []
  },
  {
   "cell_type": "markdown",
   "metadata": {},
   "source": [
    "7.\tWhat does the difference of logged values represent?"
   ]
  },
  {
   "cell_type": "markdown",
   "metadata": {},
   "source": []
  },
  {
   "cell_type": "markdown",
   "metadata": {},
   "source": [
    "8.\tWhat is the advantage of using logged values compared to using non-logged values for visualizing macroeconomic data?"
   ]
  },
  {
   "cell_type": "markdown",
   "metadata": {},
   "source": []
  }
 ],
 "metadata": {
  "kernelspec": {
   "display_name": "Python 3 (ipykernel)",
   "language": "python",
   "name": "python3"
  },
  "language_info": {
   "codemirror_mode": {
    "name": "ipython",
    "version": 3
   },
   "file_extension": ".py",
   "mimetype": "text/x-python",
   "name": "python",
   "nbconvert_exporter": "python",
   "pygments_lexer": "ipython3",
   "version": "3.9.13"
  }
 },
 "nbformat": 4,
 "nbformat_minor": 4
}
