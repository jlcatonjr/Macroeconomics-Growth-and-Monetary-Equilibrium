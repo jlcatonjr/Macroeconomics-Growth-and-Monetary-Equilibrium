{
 "cells": [
  {
   "cell_type": "markdown",
   "metadata": {},
   "source": [
    "# Data Homework: Chapter 3\n",
    "\n",
    "Name:<u> James Caton"
   ]
  },
  {
   "cell_type": "markdown",
   "metadata": {},
   "source": [
    "Download the following data:\n",
    "\n",
    ">Global Price of Brent Crude (U.S. Dollars per Pound): POILBREUSDQ\n",
    ">\n",
    ">Global Price of Bananas (U.S. Dollars per Pound): PBANSOPUSDQ\n",
    ">\n",
    ">Global Price of Orange (U.S. Dollars per Pound): PORANGUSDM\n",
    ">\n",
    ">CPI – Total All Items for the United States: CPIAUCSL"
   ]
  },
  {
   "cell_type": "code",
   "execution_count": 1,
   "metadata": {},
   "outputs": [],
   "source": [
    "#plots.py\n",
    "# if you have not installed pandas-datareader, uncomment the command \n",
    "# in the next line. After intallation, you can remove the command\n",
    "#!pip install pandas-datareader\n",
    "# pandas_datareader is imported in datlib.FRED\n",
    "import datetime\n",
    "from datlib.FRED import *\n",
    "# for each variable, enter the variable name followed by the variable code. \n",
    "# the first variable is completed for you\n",
    "data_codes  = {\"Brent Crude Oil Price\":\"POILBREUSDQ\",\n",
    "               \"Bananas Price\":\"PBANSOPUSDQ\",\n",
    "               \"Global Price of Oranges\":\"PORANGUSDM\",\n",
    "              \"CPI\": \"CPIAUCSL\"}\n",
    "# Select start and end dates\n",
    "# datetime.datetime(year, month, day)\n",
    "start = datetime.datetime(1990, 1, 1)\n",
    "end = datetime.datetime.today()"
   ]
  },
  {
   "cell_type": "code",
   "execution_count": 2,
   "metadata": {},
   "outputs": [],
   "source": [
    "data = gather_data(data_codes = data_codes, \n",
    "                   start = start, \n",
    "                   end = end, \n",
    "                   freq = \"Q\")"
   ]
  },
  {
   "cell_type": "code",
   "execution_count": 3,
   "metadata": {},
   "outputs": [
    {
     "data": {
      "text/html": [
       "<div>\n",
       "<style scoped>\n",
       "    .dataframe tbody tr th:only-of-type {\n",
       "        vertical-align: middle;\n",
       "    }\n",
       "\n",
       "    .dataframe tbody tr th {\n",
       "        vertical-align: top;\n",
       "    }\n",
       "\n",
       "    .dataframe thead th {\n",
       "        text-align: right;\n",
       "    }\n",
       "</style>\n",
       "<table border=\"1\" class=\"dataframe\">\n",
       "  <thead>\n",
       "    <tr style=\"text-align: right;\">\n",
       "      <th></th>\n",
       "      <th>Brent Crude Oil Price</th>\n",
       "      <th>Bananas Price</th>\n",
       "      <th>Global Price of Oranges</th>\n",
       "      <th>CPI</th>\n",
       "    </tr>\n",
       "    <tr>\n",
       "      <th>DATE</th>\n",
       "      <th></th>\n",
       "      <th></th>\n",
       "      <th></th>\n",
       "      <th></th>\n",
       "    </tr>\n",
       "  </thead>\n",
       "  <tbody>\n",
       "    <tr>\n",
       "      <th>1990-03-31</th>\n",
       "      <td>19.850000</td>\n",
       "      <td>591.033333</td>\n",
       "      <td>1.925521</td>\n",
       "      <td>128.033333</td>\n",
       "    </tr>\n",
       "    <tr>\n",
       "      <th>1990-06-30</th>\n",
       "      <td>15.960000</td>\n",
       "      <td>535.900000</td>\n",
       "      <td>1.924709</td>\n",
       "      <td>129.300000</td>\n",
       "    </tr>\n",
       "    <tr>\n",
       "      <th>1990-09-30</th>\n",
       "      <td>26.496667</td>\n",
       "      <td>565.200000</td>\n",
       "      <td>1.667892</td>\n",
       "      <td>131.533333</td>\n",
       "    </tr>\n",
       "    <tr>\n",
       "      <th>1990-12-31</th>\n",
       "      <td>32.536667</td>\n",
       "      <td>471.266667</td>\n",
       "      <td>1.149757</td>\n",
       "      <td>133.766667</td>\n",
       "    </tr>\n",
       "    <tr>\n",
       "      <th>1991-03-31</th>\n",
       "      <td>20.750000</td>\n",
       "      <td>709.230000</td>\n",
       "      <td>1.171534</td>\n",
       "      <td>134.766667</td>\n",
       "    </tr>\n",
       "    <tr>\n",
       "      <th>...</th>\n",
       "      <td>...</td>\n",
       "      <td>...</td>\n",
       "      <td>...</td>\n",
       "      <td>...</td>\n",
       "    </tr>\n",
       "    <tr>\n",
       "      <th>2020-09-30</th>\n",
       "      <td>42.718692</td>\n",
       "      <td>1252.543797</td>\n",
       "      <td>1.185122</td>\n",
       "      <td>259.421333</td>\n",
       "    </tr>\n",
       "    <tr>\n",
       "      <th>2020-12-31</th>\n",
       "      <td>44.516211</td>\n",
       "      <td>1139.648345</td>\n",
       "      <td>1.193290</td>\n",
       "      <td>260.983000</td>\n",
       "    </tr>\n",
       "    <tr>\n",
       "      <th>2021-03-31</th>\n",
       "      <td>60.567295</td>\n",
       "      <td>1231.528984</td>\n",
       "      <td>1.140388</td>\n",
       "      <td>263.395000</td>\n",
       "    </tr>\n",
       "    <tr>\n",
       "      <th>2021-06-30</th>\n",
       "      <td>68.626869</td>\n",
       "      <td>1229.281768</td>\n",
       "      <td>1.151946</td>\n",
       "      <td>268.788000</td>\n",
       "    </tr>\n",
       "    <tr>\n",
       "      <th>2021-09-30</th>\n",
       "      <td>73.001970</td>\n",
       "      <td>1218.399464</td>\n",
       "      <td>1.355883</td>\n",
       "      <td>273.138333</td>\n",
       "    </tr>\n",
       "  </tbody>\n",
       "</table>\n",
       "<p>127 rows × 4 columns</p>\n",
       "</div>"
      ],
      "text/plain": [
       "            Brent Crude Oil Price  Bananas Price  Global Price of Oranges  \\\n",
       "DATE                                                                        \n",
       "1990-03-31              19.850000     591.033333                 1.925521   \n",
       "1990-06-30              15.960000     535.900000                 1.924709   \n",
       "1990-09-30              26.496667     565.200000                 1.667892   \n",
       "1990-12-31              32.536667     471.266667                 1.149757   \n",
       "1991-03-31              20.750000     709.230000                 1.171534   \n",
       "...                           ...            ...                      ...   \n",
       "2020-09-30              42.718692    1252.543797                 1.185122   \n",
       "2020-12-31              44.516211    1139.648345                 1.193290   \n",
       "2021-03-31              60.567295    1231.528984                 1.140388   \n",
       "2021-06-30              68.626869    1229.281768                 1.151946   \n",
       "2021-09-30              73.001970    1218.399464                 1.355883   \n",
       "\n",
       "                   CPI  \n",
       "DATE                    \n",
       "1990-03-31  128.033333  \n",
       "1990-06-30  129.300000  \n",
       "1990-09-30  131.533333  \n",
       "1990-12-31  133.766667  \n",
       "1991-03-31  134.766667  \n",
       "...                ...  \n",
       "2020-09-30  259.421333  \n",
       "2020-12-31  260.983000  \n",
       "2021-03-31  263.395000  \n",
       "2021-06-30  268.788000  \n",
       "2021-09-30  273.138333  \n",
       "\n",
       "[127 rows x 4 columns]"
      ]
     },
     "execution_count": 3,
     "metadata": {},
     "output_type": "execute_result"
    }
   ],
   "source": [
    "data"
   ]
  },
  {
   "cell_type": "markdown",
   "metadata": {},
   "source": [
    "1. Create line graphs reflecting the prices of each commodity over time. "
   ]
  },
  {
   "cell_type": "code",
   "execution_count": 4,
   "metadata": {},
   "outputs": [],
   "source": [
    "# you will need to use functions from the datlib folder. \n",
    "# Reference the Data Homework Guide if you are unfamiliar with this\n",
    "from datlib.plots import * "
   ]
  },
  {
   "cell_type": "markdown",
   "metadata": {},
   "source": [
    "2. The real price of commodity $i$ is calculated as $\\frac{p_i}{P}$, the price of good $i$ divided by the price level. Calculate the real price of each good using $CPI$ as the price level, $P$."
   ]
  },
  {
   "cell_type": "code",
   "execution_count": 5,
   "metadata": {},
   "outputs": [],
   "source": [
    "#Hint: Use data[real_name] = data[name].div(data[\"CPI\"])\n",
    "# This could be easily accompished with a for loop. You are not required to use a for loop."
   ]
  },
  {
   "cell_type": "markdown",
   "metadata": {},
   "source": [
    "3. Create a separate graph of the real price for each good $i$."
   ]
  },
  {
   "cell_type": "code",
   "execution_count": null,
   "metadata": {},
   "outputs": [],
   "source": []
  },
  {
   "cell_type": "markdown",
   "metadata": {},
   "source": [
    "4. Have goods tended to become more or less expensive in real terms? Why do you think this is?\n"
   ]
  },
  {
   "cell_type": "markdown",
   "metadata": {},
   "source": [
    "Here is where I will type my response..."
   ]
  },
  {
   "cell_type": "markdown",
   "metadata": {},
   "source": [
    "5. Calculate a dataframe that holds that annual percent change of each variable, and plot all of the variables on the same graph.\n",
    "(Hint: The dataframe has been created for you. It calculate the percent change of each variable over 4 quarters, or 1 year)"
   ]
  },
  {
   "cell_type": "code",
   "execution_count": 6,
   "metadata": {},
   "outputs": [],
   "source": [
    "#Hint: pct_change_data = data.pct_change(num_periods).dropna()"
   ]
  },
  {
   "cell_type": "code",
   "execution_count": null,
   "metadata": {},
   "outputs": [],
   "source": []
  },
  {
   "cell_type": "markdown",
   "metadata": {},
   "source": [
    "6. Is the price level more or less stable than the price of specific goods? Whatever your response, why do you think this is the case?"
   ]
  },
  {
   "cell_type": "markdown",
   "metadata": {},
   "source": [
    "Answer the other long form question here."
   ]
  }
 ],
 "metadata": {
  "kernelspec": {
   "display_name": "Python 3",
   "language": "python",
   "name": "python3"
  },
  "language_info": {
   "codemirror_mode": {
    "name": "ipython",
    "version": 3
   },
   "file_extension": ".py",
   "mimetype": "text/x-python",
   "name": "python",
   "nbconvert_exporter": "python",
   "pygments_lexer": "ipython3",
   "version": "3.8.8"
  }
 },
 "nbformat": 4,
 "nbformat_minor": 4
}
