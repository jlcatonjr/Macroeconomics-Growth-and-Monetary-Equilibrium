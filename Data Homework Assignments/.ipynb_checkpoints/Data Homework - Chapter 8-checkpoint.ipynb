{
 "cells": [
  {
   "cell_type": "markdown",
   "metadata": {},
   "source": [
    "# Data Homework: Chapter 8\n",
    "\n",
    "Name:<u> Enter your full name here"
   ]
  },
  {
   "cell_type": "markdown",
   "metadata": {},
   "source": [
    "Directions: Download the following data from [FRED](https://fred.stlouisfed.org/graph/?g=pUBg) using pandas_datareader\n",
    "\n",
    ">Base Money; Currency in Circulation: WCURCIR\n",
    ">\n",
    ">M1: M1\n",
    ">\n",
    ">M2: M2\n",
    ">\n",
    ">Gross Domestic Private Investment: GPDI\n",
    ">\n",
    ">Nominal GDP: GDP\n",
    ">\n",
    ">10 Year U.S. Treasury Rate: DGS10 "
   ]
  },
  {
   "cell_type": "code",
   "execution_count": 1,
   "metadata": {},
   "outputs": [],
   "source": [
    "#plots.py\n",
    "# if you have not installed pandas-datareader, uncomment the command \n",
    "# in the next line. After intallation, you can remove the command\n",
    "#!pip install pandas-datareader\n",
    "# pandas_datareader is imported in datlib.FRED\n",
    "import datetime\n",
    "from datlib.FRED import *\n",
    "# for each variable, enter the variable name followed by the variable code. \n",
    "# the first variable is completed for you\n",
    "data_codes  = {\n",
    "    \"Currency in Circulation\": \"WCURCIR\",\n",
    "    \"M1\": \"M1\",\n",
    "    \"M2\": \"M2\",\n",
    "    \"Gross Domestic Private Investment\": \"GPDI\",\n",
    "    \"NGDP\": \"GDP\",\n",
    "    \"10 Year U.S. Treasury Rate\": \"DGS10\"}\n",
    "\n",
    "# Select start and end dates\n",
    "# datetime.datetime(year, month, day)\n",
    "start = datetime.datetime(1990, 1, 1)\n",
    "end = datetime.datetime.today()\n",
    "data = gather_data(data_codes = data_codes, \n",
    "                   start = start, \n",
    "                   end = end, \n",
    "                   freq = \"Q\")"
   ]
  },
  {
   "cell_type": "code",
   "execution_count": 2,
   "metadata": {},
   "outputs": [],
   "source": [
    "data.to_csv(\"Ch8HWData.csv\")"
   ]
  },
  {
   "cell_type": "markdown",
   "metadata": {},
   "source": [
    "1.\tGenerate logged values for each variable except for the 10 Year U.S. Treasury Rate. Plot each of these variables on a single graph."
   ]
  },
  {
   "cell_type": "code",
   "execution_count": null,
   "metadata": {},
   "outputs": [],
   "source": []
  },
  {
   "cell_type": "markdown",
   "metadata": {},
   "source": [
    "2.\tGenerate differenced values for each of the logged variable. Also generate the difference (not logged difference) of the 10 year U.S. Treasury Rate. Plot each of these values on a single graph."
   ]
  },
  {
   "cell_type": "code",
   "execution_count": null,
   "metadata": {},
   "outputs": [],
   "source": []
  },
  {
   "cell_type": "markdown",
   "metadata": {},
   "source": [
    "3.\tPlot log M1 and log GDPI in a single scatter plot"
   ]
  },
  {
   "cell_type": "code",
   "execution_count": null,
   "metadata": {},
   "outputs": [],
   "source": []
  },
  {
   "cell_type": "markdown",
   "metadata": {},
   "source": [
    "4.\tPlot log M2 and log GDPI in a single scatter plot"
   ]
  },
  {
   "cell_type": "code",
   "execution_count": null,
   "metadata": {},
   "outputs": [],
   "source": []
  },
  {
   "cell_type": "markdown",
   "metadata": {},
   "source": [
    "5. Plot log Nominal GDP and log GDPI in a single scatter plot? "
   ]
  },
  {
   "cell_type": "code",
   "execution_count": null,
   "metadata": {},
   "outputs": [],
   "source": []
  },
  {
   "cell_type": "markdown",
   "metadata": {},
   "source": [
    "6. Plot the differenced values of each pair from 3, 4, and 5."
   ]
  },
  {
   "cell_type": "code",
   "execution_count": null,
   "metadata": {},
   "outputs": [],
   "source": []
  },
  {
   "cell_type": "markdown",
   "metadata": {},
   "source": [
    "7.\tAre M1 and M2 correlated with GDPI? Why or why not?"
   ]
  },
  {
   "cell_type": "markdown",
   "metadata": {},
   "source": []
  },
  {
   "cell_type": "markdown",
   "metadata": {},
   "source": [
    "8.\tIs Nominal GDP correlated with GDPI? Why or why not?"
   ]
  },
  {
   "cell_type": "markdown",
   "metadata": {},
   "source": []
  },
  {
   "cell_type": "markdown",
   "metadata": {},
   "source": [
    "9. Calculate the velocity of currency in circulation. Generate a scatter plot comparing velocity of currency in circulation with the 10 year U.S. Treasury Rate."
   ]
  },
  {
   "cell_type": "code",
   "execution_count": null,
   "metadata": {},
   "outputs": [],
   "source": []
  }
 ],
 "metadata": {
  "kernelspec": {
   "display_name": "Python 3 (ipykernel)",
   "language": "python",
   "name": "python3"
  },
  "language_info": {
   "codemirror_mode": {
    "name": "ipython",
    "version": 3
   },
   "file_extension": ".py",
   "mimetype": "text/x-python",
   "name": "python",
   "nbconvert_exporter": "python",
   "pygments_lexer": "ipython3",
   "version": "3.9.13"
  }
 },
 "nbformat": 4,
 "nbformat_minor": 4
}
