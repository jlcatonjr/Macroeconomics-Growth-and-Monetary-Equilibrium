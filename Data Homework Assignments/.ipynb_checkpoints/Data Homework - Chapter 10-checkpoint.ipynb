{
 "cells": [
  {
   "cell_type": "markdown",
   "metadata": {},
   "source": [
    "# Data Homework: Chapter 10\n",
    "\n",
    "Name:<u> Enter your full name here"
   ]
  },
  {
   "cell_type": "markdown",
   "metadata": {},
   "source": [
    "Directions: Download the following data from [FRED](https://fred.stlouisfed.org/graph/?g=qJmt) using pandas_datareader.\n",
    "    \n",
    "Civilian Labor Force Level: CLF16OV\n",
    ">All Employees: CE16OV\n",
    ">\n",
    ">All Employees (Nonfarm): PAYEMS \n",
    ">\n",
    ">Unemployment Rate: UNRATE\n",
    ">\n",
    ">Labor Force Participation Rate: CIVPART"
   ]
  },
  {
   "cell_type": "markdown",
   "metadata": {},
   "source": [
    "1.\tPlot the unemployment rate alongside the Labor Force Participation Rate."
   ]
  },
  {
   "cell_type": "code",
   "execution_count": null,
   "metadata": {},
   "outputs": [],
   "source": []
  },
  {
   "cell_type": "markdown",
   "metadata": {},
   "source": [
    "2.\tCalculate the employment rate using Civilian Labor Force Level and All Employees (CE16OV)."
   ]
  },
  {
   "cell_type": "code",
   "execution_count": null,
   "metadata": {},
   "outputs": [],
   "source": []
  },
  {
   "cell_type": "markdown",
   "metadata": {},
   "source": [
    "3.\tCalculate the rate of unemployment using the employment rate data that you calculated in (1). Make sure the data matches the unemployment rate (UNRATE) that was initially downloaded."
   ]
  },
  {
   "cell_type": "code",
   "execution_count": null,
   "metadata": {},
   "outputs": [],
   "source": []
  },
  {
   "cell_type": "markdown",
   "metadata": {},
   "source": [
    "4.\tGraph the unemployment rate you calculated alongside the unemployment rate that you downloaded from FRED."
   ]
  },
  {
   "cell_type": "code",
   "execution_count": null,
   "metadata": {},
   "outputs": [],
   "source": []
  },
  {
   "cell_type": "markdown",
   "metadata": {},
   "source": [
    "5.\tCalculate the fraction of labor that works in farming. Plot the newly created data. (Hint: You will have to calculate non-farm labor as a percentage of labor first) "
   ]
  },
  {
   "cell_type": "code",
   "execution_count": null,
   "metadata": {},
   "outputs": [],
   "source": []
  },
  {
   "cell_type": "markdown",
   "metadata": {},
   "source": [
    "6.\tGo to the BLS website: https://www.bls.gov/cps/definitions.htm#nilf. Explain why some persons might not be considered as part of the labor force even if they would like to have a job. How do you think this effects the estimate of the unemployment rate"
   ]
  },
  {
   "cell_type": "code",
   "execution_count": null,
   "metadata": {},
   "outputs": [],
   "source": []
  }
 ],
 "metadata": {
  "kernelspec": {
   "display_name": "Python 3",
   "language": "python",
   "name": "python3"
  },
  "language_info": {
   "codemirror_mode": {
    "name": "ipython",
    "version": 3
   },
   "file_extension": ".py",
   "mimetype": "text/x-python",
   "name": "python",
   "nbconvert_exporter": "python",
   "pygments_lexer": "ipython3",
   "version": "3.7.6"
  }
 },
 "nbformat": 4,
 "nbformat_minor": 4
}
