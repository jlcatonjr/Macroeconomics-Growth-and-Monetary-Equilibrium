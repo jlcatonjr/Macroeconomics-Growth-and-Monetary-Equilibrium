{
 "cells": [
  {
   "cell_type": "markdown",
   "metadata": {},
   "source": [
    "# Data Homework: Chapter 6\n",
    "\n",
    "Name:<u> Enter your full name here"
   ]
  },
  {
   "cell_type": "markdown",
   "metadata": {},
   "source": [
    "Directions: Download the following data from [FRED](https://fred.stlouisfed.org/graph/?g=pUAn) using pandas_datareader:\n",
    "\n",
    ">Base Money; Currency in Circulation: WCURCIR\n",
    ">\n",
    ">Price Level: GDPDEF\n",
    ">\n",
    ">Nominal GDP: GDP"
   ]
  },
  {
   "cell_type": "code",
   "execution_count": 1,
   "metadata": {},
   "outputs": [],
   "source": [
    "#plots.py\n",
    "# if you have not installed pandas-datareader, uncomment the command \n",
    "# in the next line. After intallation, you can remove the command\n",
    "#!pip install pandas-datareader\n",
    "# pandas_datareader is imported in datlib.FRED\n",
    "import datetime\n",
    "from datlib.FRED import *\n",
    "# for each variable, enter the variable name followed by the variable code. \n",
    "# the first variable is completed for you\n",
    "data_codes  = {\"C\": \"WCURCIR\",\n",
    "               \"P\": \"GDPDEF\",\n",
    "               \"NGDP\": \"GDP\"}\n",
    "\n",
    "# Select start and end dates\n",
    "# datetime.datetime(year, month, day)\n",
    "start = datetime.datetime(1990, 1, 1)\n",
    "end = datetime.datetime.today()\n",
    "data = gather_data(data_codes = data_codes, \n",
    "                   start = start, \n",
    "                   end = end, \n",
    "                   freq = \"Q\")"
   ]
  },
  {
   "cell_type": "code",
   "execution_count": 2,
   "metadata": {},
   "outputs": [],
   "source": [
    "data.to_csv(\"Ch6HWData.csv\")"
   ]
  },
  {
   "cell_type": "markdown",
   "metadata": {},
   "source": [
    "1.\tCalculate Real GDP using data for Nominal GDP and the Price Level (Be sure to divide the price level by 100 first). Plot this variable."
   ]
  },
  {
   "cell_type": "code",
   "execution_count": 3,
   "metadata": {},
   "outputs": [
    {
     "data": {
      "text/plain": [
       "DATE\n",
       "1990-03-31    0.62714\n",
       "1990-06-30    0.63416\n",
       "1990-09-30    0.63960\n",
       "1990-12-31    0.64436\n",
       "1991-03-31    0.65067\n",
       "               ...   \n",
       "2022-09-30    1.28269\n",
       "2022-12-31    1.29508\n",
       "2023-03-31    1.30800\n",
       "2023-06-30    1.31518\n",
       "2023-09-30        NaN\n",
       "Freq: Q-DEC, Name: P, Length: 135, dtype: float64"
      ]
     },
     "execution_count": 3,
     "metadata": {},
     "output_type": "execute_result"
    }
   ],
   "source": [
    "data[\"P\"] = data[\"P\"].div(100)\n",
    "data[\"P\"]"
   ]
  },
  {
   "cell_type": "markdown",
   "metadata": {},
   "source": [
    "2.\tCalculate the Velocity of Base Money (Currency in Circulation) by dividing Nominal GDP by the values for that variable. Plot this variable."
   ]
  },
  {
   "cell_type": "code",
   "execution_count": null,
   "metadata": {},
   "outputs": [],
   "source": []
  },
  {
   "cell_type": "markdown",
   "metadata": {},
   "source": [
    "3.\tCalculate portfolio demand for Base Money (Currency in Circulation). This is the inverse of velocity. Plot this variable."
   ]
  },
  {
   "cell_type": "code",
   "execution_count": null,
   "metadata": {},
   "outputs": [],
   "source": []
  },
  {
   "cell_type": "markdown",
   "metadata": {},
   "source": [
    "4.\tAfter the depression in 2008, what happened to the portfolio demand for Base Money (that is, demand to hold money)? "
   ]
  },
  {
   "cell_type": "markdown",
   "metadata": {},
   "source": []
  },
  {
   "cell_type": "markdown",
   "metadata": {},
   "source": [
    "5.\tWhy might individuals and banks be inclined to spend money and/or invest at a lower rate than before the crisis?"
   ]
  },
  {
   "cell_type": "markdown",
   "metadata": {},
   "source": []
  }
 ],
 "metadata": {
  "kernelspec": {
   "display_name": "Python 3 (ipykernel)",
   "language": "python",
   "name": "python3"
  },
  "language_info": {
   "codemirror_mode": {
    "name": "ipython",
    "version": 3
   },
   "file_extension": ".py",
   "mimetype": "text/x-python",
   "name": "python",
   "nbconvert_exporter": "python",
   "pygments_lexer": "ipython3",
   "version": "3.9.13"
  }
 },
 "nbformat": 4,
 "nbformat_minor": 4
}
