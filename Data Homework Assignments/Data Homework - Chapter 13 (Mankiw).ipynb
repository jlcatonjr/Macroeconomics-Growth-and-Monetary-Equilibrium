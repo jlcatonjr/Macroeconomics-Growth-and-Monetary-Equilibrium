{
 "cells": [
  {
   "cell_type": "markdown",
   "metadata": {},
   "source": [
    "# Data Homework: Chapter 13 (Mankiw)\n",
    "\n",
    "Name:<u>Enter your full name here"
   ]
  },
  {
   "cell_type": "markdown",
   "metadata": {},
   "source": [
    "Download the following data from [FRED](https://fred.stlouisfed.org/graph/?g=pUBj) using pandas_datareader.\n",
    "\n",
    ">Real Imports: IMPGSC1\n",
    ">\n",
    ">Real Exports: EXPGSC1\n",
    ">\n",
    ">Real GDP: GDPC1\n",
    ">\n",
    ">Real Trade Weighted Dollar: TWEXBPA"
   ]
  },
  {
   "cell_type": "code",
   "execution_count": 1,
   "metadata": {},
   "outputs": [],
   "source": [
    "import datetime\n",
    "from datlib.plots import *\n",
    "from datlib.FRED import *\n",
    "import pandas as pd\n",
    "import numpy as np\n",
    "import matplotlib.pyplot as plt\n",
    "plt.rcParams.update({'font.size': 40})\n",
    "\n",
    "#Import monetary base\n",
    "# {data_name1:data_code1,\n",
    "#  data_name2:data_code2}\n",
    "data_codes  = {\"Real Imports\": \"IMPGSC1\",\n",
    "               \"Real Exports\": \"EXPGSC1\",\n",
    "               \"Real GDP\": \"GDPC1\",\n",
    "               \"Real Trade Weighted Dollar\": \"TWEXBPA\"}\n",
    "# Select start and end dates\n",
    "start = datetime.datetime(1947, 1, 1)\n",
    "end = datetime.datetime.today()\n",
    "data = gather_data(data_codes = data_codes, \n",
    "                   start = start, \n",
    "                   end = end, \n",
    "                   freq = \"Q\")"
   ]
  },
  {
   "cell_type": "markdown",
   "metadata": {},
   "source": [
    "1.\tGenerate logged values for each variable."
   ]
  },
  {
   "cell_type": "code",
   "execution_count": 2,
   "metadata": {},
   "outputs": [],
   "source": [
    "for key, val in data.items():\n",
    "    data[\"Log \" + key] = np.log(val)\n",
    "data[\"Net Real Exports\"] = data[\"Real Exports\"].sub(data[\"Real Imports\"])\n",
    "data[\"Net Real Exports (Log)\"] = data[\"Log Real Exports\"].sub(data[\"Log Real Imports\"])"
   ]
  },
  {
   "cell_type": "markdown",
   "metadata": {},
   "source": [
    "2.\tPlot the logged values of each variable on a single graph"
   ]
  },
  {
   "cell_type": "code",
   "execution_count": null,
   "metadata": {},
   "outputs": [],
   "source": []
  },
  {
   "cell_type": "markdown",
   "metadata": {},
   "source": [
    "3.\tGenerate differenced logged values for each variable"
   ]
  },
  {
   "cell_type": "code",
   "execution_count": null,
   "metadata": {},
   "outputs": [],
   "source": []
  },
  {
   "cell_type": "markdown",
   "metadata": {},
   "source": [
    "4.\tPlot the differenced logged values for each variable on a single graph."
   ]
  },
  {
   "cell_type": "code",
   "execution_count": null,
   "metadata": {},
   "outputs": [],
   "source": []
  },
  {
   "cell_type": "markdown",
   "metadata": {},
   "source": [
    "5.\tGenerate scatter plot of the log differenced values of Imports, Exports, and Real GDP (i.e., define one variable for the x-axis and the other for the y-axis). "
   ]
  },
  {
   "cell_type": "code",
   "execution_count": null,
   "metadata": {},
   "outputs": [],
   "source": []
  },
  {
   "cell_type": "markdown",
   "metadata": {},
   "source": [
    "6.\tAre real imports and real exports positively or negatively correlated?"
   ]
  },
  {
   "cell_type": "code",
   "execution_count": null,
   "metadata": {},
   "outputs": [],
   "source": []
  },
  {
   "cell_type": "markdown",
   "metadata": {},
   "source": [
    "7.\tCreate a scatter plot of log differenced values for Net Real Exports and the Real Trade Weighted U.S. Dollar Index."
   ]
  },
  {
   "cell_type": "code",
   "execution_count": null,
   "metadata": {
    "scrolled": true
   },
   "outputs": [],
   "source": []
  },
  {
   "cell_type": "markdown",
   "metadata": {},
   "source": [
    "9. Do changes in the level of imports or the level of exports appearto be impacted by changes in the value of the dollar?"
   ]
  },
  {
   "cell_type": "code",
   "execution_count": null,
   "metadata": {},
   "outputs": [],
   "source": []
  },
  {
   "cell_type": "markdown",
   "metadata": {},
   "source": [
    "9.\tWhich do you think the data indicates is a more significant driver of the level of imports: real GDP or the value of the dollar as reflected by the Real Trade Weighted U.S. Dollar Index? Defend your answer."
   ]
  },
  {
   "cell_type": "markdown",
   "metadata": {},
   "source": []
  }
 ],
 "metadata": {
  "kernelspec": {
   "display_name": "Python 3",
   "language": "python",
   "name": "python3"
  },
  "language_info": {
   "codemirror_mode": {
    "name": "ipython",
    "version": 3
   },
   "file_extension": ".py",
   "mimetype": "text/x-python",
   "name": "python",
   "nbconvert_exporter": "python",
   "pygments_lexer": "ipython3",
   "version": "3.8.8"
  }
 },
 "nbformat": 4,
 "nbformat_minor": 4
}
