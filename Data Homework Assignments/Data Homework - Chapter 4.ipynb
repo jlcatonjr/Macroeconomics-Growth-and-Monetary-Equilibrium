{
 "cells": [
  {
   "cell_type": "markdown",
   "metadata": {},
   "source": [
    "# Data Homework: Chapter 4\n",
    "\n",
    "Name:<u> Enter your full name here"
   ]
  },
  {
   "cell_type": "markdown",
   "metadata": {},
   "source": [
    "Directions: Download the following data from [FRED](https://fred.stlouisfed.org/graph/?g=pUA9) using pandas_datareader.\n",
    "\n",
    ">Capital Stock (Millions of 2017 U.S. Dollars): RKNANPUSA666NRUG\n",
    ">\n",
    ">Population (Thousands): B230RC0A052NBEA\n",
    ">\n",
    ">GDP Deflator: GDPDEF\n",
    ">\n",
    ">Nominal GDP (Billions of U.S. Dollars): GDP"
   ]
  },
  {
   "cell_type": "code",
   "execution_count": 1,
   "metadata": {},
   "outputs": [],
   "source": [
    "#plots.py\n",
    "# if you have not installed pandas-datareader, uncomment the command \n",
    "# in the next line. After intallation, you can remove the command\n",
    "#!pip install pandas-datareader\n",
    "# pandas_datareader is imported in datlib.FRED\n",
    "import datetime\n",
    "from datlib.FRED import *\n",
    "# for each variable, enter the variable name followed by the variable code. \n",
    "# the first variable is completed for you\n",
    "data_codes  = {\"Capital Stock\":\"RKNANPUSA666NRUG\",\n",
    "               \"Population\":\"B230RC0A052NBEA\",\n",
    "               \"GDP Deflator\":\"GDPDEF\",\n",
    "              \"Nominal GDP\": \"GDP\"}\n",
    "# Select start and end dates\n",
    "# datetime.datetime(year, month, day)\n",
    "start = datetime.datetime(1990, 1, 1)\n",
    "end = datetime.datetime.today()"
   ]
  },
  {
   "cell_type": "code",
   "execution_count": 2,
   "metadata": {},
   "outputs": [],
   "source": [
    "data = gather_data(data_codes = data_codes, \n",
    "                   start = start, \n",
    "                   end = end, \n",
    "                   freq = \"A\")\n",
    "data.to_csv(\"Ch4HWData.csv\")"
   ]
  },
  {
   "cell_type": "markdown",
   "metadata": {},
   "source": [
    "1.\tAlign the units of GDP, the capital stock, and population by transforming values of GDP and population into millions. "
   ]
  },
  {
   "cell_type": "code",
   "execution_count": 3,
   "metadata": {},
   "outputs": [],
   "source": [
    "# 1 Billion == 1000 Million\n",
    "# Transform Billions to Millions\n",
    "# X Billion == X * 1000 Million\n",
    "# 100 Billion == 100(1000) Million\n",
    "# 100 Billion == 100,000 Million\n",
    "\n",
    "# Nominal GDP in Billions --> Millions\n",
    "data[\"Nominal GDP (Mil)\"] = data[\"Nominal GDP\"].mul(1000)\n",
    "\n"
   ]
  },
  {
   "cell_type": "code",
   "execution_count": 4,
   "metadata": {},
   "outputs": [],
   "source": [
    "# 1 Million == 1000 Thousand\n",
    "# Transform from Thousand to Million\n",
    "# X Thousand == (X / 1000) Million\n",
    "# Example \n",
    "# 100 thousand == (100 / 1000) Million\n",
    "#  100 thousand == 0.1 Million\n",
    "\n",
    "\n",
    "# Population in Thousands --> Millions\n",
    "data[\"Population (Mil)\"] = data[\"Population\"].div(1000)"
   ]
  },
  {
   "cell_type": "markdown",
   "metadata": {},
   "source": [
    "2.\tTransform the price level so that the base year is 2017. The index equals 100 in its base year. (Divide every price level value by the value in 2017.)"
   ]
  },
  {
   "cell_type": "code",
   "execution_count": 5,
   "metadata": {},
   "outputs": [],
   "source": [
    "# using data.loc[ix][col].values makes sure that the value at ix in col is applied for all rows\n",
    "# not just the row at index value ix \n"
   ]
  },
  {
   "cell_type": "markdown",
   "metadata": {},
   "source": [
    "3.\tUsing the transformed price level, calculate real GDP."
   ]
  },
  {
   "cell_type": "code",
   "execution_count": 6,
   "metadata": {},
   "outputs": [],
   "source": [
    "# y = Py / p\n"
   ]
  },
  {
   "cell_type": "code",
   "execution_count": 7,
   "metadata": {},
   "outputs": [],
   "source": [
    "# y = Py / P\n",
    "# y = Real Income --> Real GDP\n",
    "# Py = Nominal Income --> Nominal GDP\n",
    "# P = Price level --> GDP Deflator\n"
   ]
  },
  {
   "cell_type": "markdown",
   "metadata": {},
   "source": [
    "4.\tUsing the population data and real GDP, calculate real GDP per capita."
   ]
  },
  {
   "cell_type": "code",
   "execution_count": 8,
   "metadata": {},
   "outputs": [],
   "source": [
    "# make sure your units are the same -- Use Milliions\n"
   ]
  },
  {
   "cell_type": "markdown",
   "metadata": {},
   "source": [
    "5.\tUsing the population data and the capital stock, calculate the effective capital stock. Assume a value of α = .5"
   ]
  },
  {
   "cell_type": "code",
   "execution_count": 9,
   "metadata": {},
   "outputs": [],
   "source": [
    "# k = K / L -- k = capital stock / population\n",
    "#K: capital stock\n",
    "#L: population"
   ]
  },
  {
   "cell_type": "markdown",
   "metadata": {},
   "source": [
    "6.\tUsing real GDP per capita and the effective capital stock, calculate the technical efficiency of capital (Solow’s A)."
   ]
  },
  {
   "cell_type": "code",
   "execution_count": 10,
   "metadata": {},
   "outputs": [],
   "source": [
    "# y = Ak^a\n",
    "# A = y / k^a\n",
    "# a = 0.5\n",
    "# part of your answer will include this: \n",
    "# data[\"Effective Capital\"].pow(a)"
   ]
  },
  {
   "cell_type": "markdown",
   "metadata": {},
   "source": [
    "7.\tPlot each variable individually."
   ]
  },
  {
   "cell_type": "code",
   "execution_count": 11,
   "metadata": {},
   "outputs": [],
   "source": [
    "# from datlib.plots import *\n",
    "# plt.rcParams.update({\"font.size\":32})\n",
    "# for key in data:\n",
    "#     plot_lines(data[[key]])\n"
   ]
  },
  {
   "cell_type": "markdown",
   "metadata": {},
   "source": [
    "8.\tPlot Real GDP per capita and the Solow Residual on the same plot using a secondary vertical axis for one of the values. Explain why these values follow a similar trajectory."
   ]
  },
  {
   "cell_type": "code",
   "execution_count": null,
   "metadata": {},
   "outputs": [],
   "source": []
  }
 ],
 "metadata": {
  "kernelspec": {
   "display_name": "Python 3 (ipykernel)",
   "language": "python",
   "name": "python3"
  },
  "language_info": {
   "codemirror_mode": {
    "name": "ipython",
    "version": 3
   },
   "file_extension": ".py",
   "mimetype": "text/x-python",
   "name": "python",
   "nbconvert_exporter": "python",
   "pygments_lexer": "ipython3",
   "version": "3.9.13"
  }
 },
 "nbformat": 4,
 "nbformat_minor": 4
}
