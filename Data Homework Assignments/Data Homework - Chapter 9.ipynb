{
 "cells": [
  {
   "cell_type": "markdown",
   "metadata": {},
   "source": [
    "# Data Homework: Chapter 9\n",
    "\n",
    "Name:<u> Enter your full name here"
   ]
  },
  {
   "cell_type": "markdown",
   "metadata": {},
   "source": [
    "Directions: Download the following data from [FRED](https://fred.stlouisfed.org/graph/?g=pUBb) using pandas_datareader.\n",
    "\n",
    ">Real Potential GDP: GDPPOT\n",
    ">\n",
    ">Potential GDP: NGDPPOT\n",
    ">\n",
    ">Real GDP: GDPC1\n",
    ">\n",
    ">Consumption: PCEC\n",
    ">\n",
    ">Investment: GDPI\n",
    ">\n",
    ">Government Spending: FGEXPND\n",
    ">\n",
    ">Nominal GDP: GDP\n"
   ]
  },
  {
   "cell_type": "markdown",
   "metadata": {},
   "source": [
    "1.\tCalculate the difference between Potential GDP and observed GDP. Assume that Potential GDP represents Long-run Aggregate Supply (LRAS). Plot these values. Indicate whether positive (negative) values represent an excess supply of goods or excess demand for goods."
   ]
  },
  {
   "cell_type": "code",
   "execution_count": null,
   "metadata": {},
   "outputs": [],
   "source": []
  },
  {
   "cell_type": "markdown",
   "metadata": {},
   "source": []
  },
  {
   "cell_type": "markdown",
   "metadata": {},
   "source": [
    "2.\tCalculate Real Excess Supply of or Demand for Goods using calculation similar to those used in questions 1. Plot these values. Indicate whether positive (negative) values represent an excess supply of goods or excess demand for goods."
   ]
  },
  {
   "cell_type": "code",
   "execution_count": null,
   "metadata": {},
   "outputs": [],
   "source": []
  },
  {
   "cell_type": "markdown",
   "metadata": {},
   "source": []
  },
  {
   "cell_type": "markdown",
   "metadata": {},
   "source": [
    "3.\tCalculate the logged-difference for each variable Real Potential GDP, Potential GDP, Real GDP, and Nominal GDP. "
   ]
  },
  {
   "cell_type": "code",
   "execution_count": null,
   "metadata": {},
   "outputs": [],
   "source": []
  },
  {
   "cell_type": "markdown",
   "metadata": {},
   "source": [
    "4.\tUsing rates instead of observed values, calculate Excess Demand of or Excess Supply of Goods."
   ]
  },
  {
   "cell_type": "code",
   "execution_count": null,
   "metadata": {},
   "outputs": [],
   "source": []
  },
  {
   "cell_type": "markdown",
   "metadata": {},
   "source": [
    "5.\tUsing rates instead of observed values, calculate Real Excess Demand of or Real Excess Supply of Goods."
   ]
  },
  {
   "cell_type": "code",
   "execution_count": null,
   "metadata": {},
   "outputs": [],
   "source": []
  },
  {
   "cell_type": "markdown",
   "metadata": {},
   "source": [
    "6.\tCalculate government spending as a percent of Nominal GDP. How has this changed over the last several decades?"
   ]
  },
  {
   "cell_type": "code",
   "execution_count": null,
   "metadata": {},
   "outputs": [],
   "source": []
  },
  {
   "cell_type": "markdown",
   "metadata": {},
   "source": []
  }
 ],
 "metadata": {
  "kernelspec": {
   "display_name": "Python 3",
   "language": "python",
   "name": "python3"
  },
  "language_info": {
   "codemirror_mode": {
    "name": "ipython",
    "version": 3
   },
   "file_extension": ".py",
   "mimetype": "text/x-python",
   "name": "python",
   "nbconvert_exporter": "python",
   "pygments_lexer": "ipython3",
   "version": "3.7.6"
  }
 },
 "nbformat": 4,
 "nbformat_minor": 4
}
