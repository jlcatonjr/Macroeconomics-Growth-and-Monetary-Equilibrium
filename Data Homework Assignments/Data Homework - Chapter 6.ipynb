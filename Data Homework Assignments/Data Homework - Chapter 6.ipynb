{
 "cells": [
  {
   "cell_type": "markdown",
   "metadata": {},
   "source": [
    "# Data Homework: Chapter 6\n",
    "\n",
    "Name:<u> Enter your full name here"
   ]
  },
  {
   "cell_type": "markdown",
   "metadata": {},
   "source": [
    "Directions: Download the following data from [FRED](https://fred.stlouisfed.org/graph/?g=pUAn) using pandas_datareader:\n",
    "\n",
    ">Base Money; Currency in Circulation: WCURCIR\n",
    ">\n",
    ">Price Level: GDPDEF\n",
    ">\n",
    ">Nominal GDP: GDP"
   ]
  },
  {
   "cell_type": "code",
   "execution_count": null,
   "metadata": {},
   "outputs": [],
   "source": []
  },
  {
   "cell_type": "markdown",
   "metadata": {},
   "source": [
    "1.\tTransform Nominal GDP so that it reflects the same units as Base Money (Currency in Circulation). The final result should reflect units of Millions of Dollars instead of Billions of Dollars."
   ]
  },
  {
   "cell_type": "code",
   "execution_count": null,
   "metadata": {},
   "outputs": [],
   "source": []
  },
  {
   "cell_type": "markdown",
   "metadata": {},
   "source": [
    "2.\tCalculate Real GDP using data for Nominal GDP and the Price Level (Be sure to divide the price level by 100 first)."
   ]
  },
  {
   "cell_type": "code",
   "execution_count": null,
   "metadata": {},
   "outputs": [],
   "source": [
    "data[\"GDP Deflator\"] = data[\"GDP Deflator\"].div(100)"
   ]
  },
  {
   "cell_type": "markdown",
   "metadata": {},
   "source": [
    "3.\tCalculate the Velocity of Base Money (Currency in Circulation) by dividing Nominal GDP by the values for that variable."
   ]
  },
  {
   "cell_type": "code",
   "execution_count": null,
   "metadata": {},
   "outputs": [],
   "source": []
  },
  {
   "cell_type": "markdown",
   "metadata": {},
   "source": [
    "4.\tCalculate portfolio demand for Base Money (Currency in Circulation). This is the inverse of velocity."
   ]
  },
  {
   "cell_type": "code",
   "execution_count": null,
   "metadata": {},
   "outputs": [],
   "source": []
  },
  {
   "cell_type": "markdown",
   "metadata": {},
   "source": [
    "5.\tAfter the depression in 2008, what happened to the portfolio demand for Base Money (that is, demand to hold money)? "
   ]
  },
  {
   "cell_type": "markdown",
   "metadata": {},
   "source": []
  },
  {
   "cell_type": "markdown",
   "metadata": {},
   "source": [
    "6.\tWhy might individuals and banks be inclined to spend money and/or invest at a lower rate than before the crisis?"
   ]
  },
  {
   "cell_type": "markdown",
   "metadata": {},
   "source": []
  }
 ],
 "metadata": {
  "kernelspec": {
   "display_name": "Python 3 (ipykernel)",
   "language": "python",
   "name": "python3"
  },
  "language_info": {
   "codemirror_mode": {
    "name": "ipython",
    "version": 3
   },
   "file_extension": ".py",
   "mimetype": "text/x-python",
   "name": "python",
   "nbconvert_exporter": "python",
   "pygments_lexer": "ipython3",
   "version": "3.9.7"
  }
 },
 "nbformat": 4,
 "nbformat_minor": 4
}
