{
 "cells": [
  {
   "cell_type": "markdown",
   "metadata": {},
   "source": [
    "# 1. \n",
    "\n",
    "\n",
    "## Suppose that:\n",
    "\n",
    "$M_0 = 10000$\n",
    "\n",
    "$P_0 = 100$\n",
    "\n",
    "$y_0 = 1000$\n",
    "\n",
    "### Solve for $V$:\n",
    "\n",
    "$V = \\frac{Py}{M}$\n",
    "\n",
    "$$V = \\frac{(100)(1000)}{10000}$$"
   ]
  },
  {
   "cell_type": "code",
   "execution_count": 19,
   "metadata": {},
   "outputs": [
    {
     "name": "stdout",
     "output_type": "stream",
     "text": [
      "V0 = 10.0\n"
     ]
    }
   ],
   "source": [
    "M0 = 10000\n",
    "P0 = 100\n",
    "y0 = 1000\n",
    "\n",
    "V0 =(y0 * P0) / M0\n",
    "\n",
    "print(\"V0 =\", V0)"
   ]
  },
  {
   "cell_type": "markdown",
   "metadata": {},
   "source": [
    "$$V_0=10$$\n",
    "\n",
    "## Suppose M increases so that $M_1=11000$. In the short run (i.e., with $P$ fixed at $P_0$), what is the highest of y possible as indicated by the equation of exchange?\n",
    "\n",
    "$V_1=V_0$\n",
    "\n",
    "$y_t = \\frac{M_1 V_1}{P_0}$"
   ]
  },
  {
   "cell_type": "code",
   "execution_count": 13,
   "metadata": {},
   "outputs": [
    {
     "name": "stdout",
     "output_type": "stream",
     "text": [
      "yt = 1100.0\n"
     ]
    }
   ],
   "source": [
    "V1 = V0\n",
    "M1 = 11000\n",
    "yt = (M1 * V0) / P0\n",
    "\n",
    "print(\"yt =\", yt)"
   ]
  },
  {
   "cell_type": "markdown",
   "metadata": {},
   "source": [
    "$$y_t=1100$$\n",
    "\n",
    "## Indicate the new price level that will prevail in the long-run. Recall that in the long-run, $y_1=y_0$.\n",
    "\n",
    "\n",
    "$P_1=\\frac{M_1 V_1}{y_1}$"
   ]
  },
  {
   "cell_type": "code",
   "execution_count": 17,
   "metadata": {},
   "outputs": [
    {
     "name": "stdout",
     "output_type": "stream",
     "text": [
      "P1 =  110.0\n"
     ]
    }
   ],
   "source": [
    "y1 = y0\n",
    "P1 = (M1 * V1) / y1\n",
    "print(\"P1 = \", P1)"
   ]
  },
  {
   "cell_type": "markdown",
   "metadata": {},
   "source": [
    "$$P_1 = 110$$\n",
    "***\n",
    "***\n",
    "***\n",
    "***\n",
    "***\n",
    "***"
   ]
  },
  {
   "cell_type": "markdown",
   "metadata": {},
   "source": [
    "# 2. \n",
    "\n",
    "\n",
    "## Suppose that:\n",
    "\n",
    "$M_0 = 5000$\n",
    "\n",
    "$P_0 = 100$\n",
    "\n",
    "$y_0 = 1000$\n",
    "\n",
    "## Solve for $V$:\n",
    "\n",
    "$V = \\frac{Py}{M}$"
   ]
  },
  {
   "cell_type": "code",
   "execution_count": 21,
   "metadata": {},
   "outputs": [
    {
     "name": "stdout",
     "output_type": "stream",
     "text": [
      "P0y0 = 100000\n",
      "V0 = 20.0\n"
     ]
    }
   ],
   "source": [
    "M0 = 5000\n",
    "P0 = 100\n",
    "y0 = 1000\n",
    "\n",
    "Py0 = P0 * y0\n",
    "print(\"P0y0 =\", Py0)\n",
    "\n",
    "V0 = (P0 * y0) / M0\n",
    "print(\"V0 =\", V0)"
   ]
  },
  {
   "cell_type": "markdown",
   "metadata": {},
   "source": [
    "$$V_0=20$$\n",
    "\n",
    "## Suppose M increases so that $M_1=4500$. In the short run (i.e., with $P$ fixed at $P_0$), what is the highest of y possible as indicated by the equation of exchange?\n",
    "\n",
    "$V_1=V_0$\n",
    "\n",
    "$y_t = \\frac{M_1 V_1}{P_0}$"
   ]
  },
  {
   "cell_type": "code",
   "execution_count": 22,
   "metadata": {},
   "outputs": [
    {
     "name": "stdout",
     "output_type": "stream",
     "text": [
      "yt = 900.0\n"
     ]
    }
   ],
   "source": [
    "V1 = V0\n",
    "M1 = 4500\n",
    "yt = (M1 * V1) / P0\n",
    "\n",
    "print(\"yt =\", yt)"
   ]
  },
  {
   "cell_type": "markdown",
   "metadata": {},
   "source": [
    "$$y_t = 900$$\n",
    "\n",
    "## Indicate the new price level that will prevail in the long-run. Recall that in the long-run, $y_1=y_0$.\n",
    "\n",
    "\n",
    "$P_1=\\frac{M_1 V_1}{y_1}$"
   ]
  },
  {
   "cell_type": "code",
   "execution_count": 23,
   "metadata": {},
   "outputs": [
    {
     "name": "stdout",
     "output_type": "stream",
     "text": [
      "P1 = 90.0\n"
     ]
    }
   ],
   "source": [
    "y1 = y0\n",
    "\n",
    "P1 = (M1 * V1) / y1\n",
    "\n",
    "print(\"P1 =\", P1)"
   ]
  },
  {
   "cell_type": "markdown",
   "metadata": {},
   "source": [
    "$$P_1=90$$\n",
    "***\n",
    "***\n",
    "***\n",
    "***\n",
    "***"
   ]
  },
  {
   "cell_type": "markdown",
   "metadata": {},
   "source": [
    "# 3. \n",
    "\n",
    "\n",
    "## Suppose that:\n",
    "\n",
    "$M_0 = 10000$\n",
    "\n",
    "$P_0 = 100$\n",
    "\n",
    "$y_0 = 1000$\n",
    "\n",
    "## Solve for $V$:\n",
    "\n",
    "$V = \\frac{Py}{M}$"
   ]
  },
  {
   "cell_type": "code",
   "execution_count": 24,
   "metadata": {},
   "outputs": [
    {
     "name": "stdout",
     "output_type": "stream",
     "text": [
      "V0 = 10.0\n"
     ]
    }
   ],
   "source": [
    "M0 = 10000\n",
    "P0 = 100\n",
    "y0 = 1000\n",
    "\n",
    "V0 = (P0 * y0) / M0\n",
    "\n",
    "print(\"V0 =\", V0)"
   ]
  },
  {
   "cell_type": "markdown",
   "metadata": {},
   "source": [
    "$$V_0=10$$\n",
    "\n",
    "## Suppose V increases so that $V_1=20$. In the short run (i.e., with $P$ fixed at $P_0$), what is the highest of y possible as indicated by the equation of exchange?\n",
    "\n",
    "$M_1=M_0$\n",
    "\n",
    "$y_t = \\frac{M_1 V_1}{P_0}$"
   ]
  },
  {
   "cell_type": "code",
   "execution_count": 25,
   "metadata": {},
   "outputs": [
    {
     "name": "stdout",
     "output_type": "stream",
     "text": [
      "yt = 2000.0\n"
     ]
    }
   ],
   "source": [
    "V1 = 20\n",
    "M1 = M0\n",
    "\n",
    "yt = (M1 * V1) / P0\n",
    "\n",
    "print(\"yt =\", yt)"
   ]
  },
  {
   "cell_type": "markdown",
   "metadata": {},
   "source": [
    "$$y_t = 2000$$\n",
    "\n",
    "## Indicate the new price level that will prevail in the long-run. Recall that in the long-run, $y_1=y_0$.\n",
    "\n",
    "\n",
    "$P_1=\\frac{M_1 V_1}{y_1}$"
   ]
  },
  {
   "cell_type": "code",
   "execution_count": 26,
   "metadata": {},
   "outputs": [
    {
     "name": "stdout",
     "output_type": "stream",
     "text": [
      "P1 = 200.0\n"
     ]
    }
   ],
   "source": [
    "y1 = y0\n",
    "P1 = (M1 * V1) / y1\n",
    "\n",
    "print(\"P1 =\", (M1 * V1) / y1)"
   ]
  },
  {
   "cell_type": "markdown",
   "metadata": {},
   "source": [
    "$$P_1 = 200$$\n",
    "***\n",
    "***\n",
    "***\n",
    "***\n",
    "***"
   ]
  },
  {
   "cell_type": "markdown",
   "metadata": {},
   "source": [
    "# 4. \n",
    "\n",
    "\n",
    "## Suppose that:\n",
    "\n",
    "$M_0 = 10000$\n",
    "\n",
    "$P_0 = 100$\n",
    "\n",
    "$y_0 = 5000$\n",
    "\n",
    "## Solve for $V$:\n",
    "\n",
    "$V = \\frac{Py}{M}$"
   ]
  },
  {
   "cell_type": "code",
   "execution_count": 27,
   "metadata": {},
   "outputs": [
    {
     "name": "stdout",
     "output_type": "stream",
     "text": [
      "V0 = 50.0\n"
     ]
    }
   ],
   "source": [
    "M0 = 10000\n",
    "P0 = 100\n",
    "y0 = 5000\n",
    "\n",
    "V0 = (P0 * y0) / M0\n",
    "\n",
    "print(\"V0 =\", V0)"
   ]
  },
  {
   "cell_type": "markdown",
   "metadata": {},
   "source": [
    "$$V_0=50$$\n",
    "\n",
    "## Suppose V increases so that $V_1=40$. In the short run (i.e., with $P$ fixed at $P_0$), what is the highest of y possible as indicated by the equation of exchange?\n",
    "\n",
    "$M_1=M_0$\n",
    "\n",
    "$y_t = \\frac{M_1 V_1}{P_0}$"
   ]
  },
  {
   "cell_type": "code",
   "execution_count": 30,
   "metadata": {},
   "outputs": [
    {
     "name": "stdout",
     "output_type": "stream",
     "text": [
      "yt = 4000.0\n"
     ]
    }
   ],
   "source": [
    "V1 = 40\n",
    "M1 = M0\n",
    "\n",
    "yt = (M1 * V1) / P0\n",
    "\n",
    "print(\"yt =\", yt)"
   ]
  },
  {
   "cell_type": "markdown",
   "metadata": {},
   "source": [
    "$$y_t = 4000$$\n",
    "\n",
    "## Indicate the new price level that will prevail in the long-run. Recall that in the long-run, $y_1=y_0$.\n",
    "\n",
    "\n",
    "$P_1=\\frac{M_1 V_1}{y_1}$"
   ]
  },
  {
   "cell_type": "code",
   "execution_count": 31,
   "metadata": {},
   "outputs": [
    {
     "name": "stdout",
     "output_type": "stream",
     "text": [
      "P1 = 80.0\n"
     ]
    }
   ],
   "source": [
    "y1 = y0\n",
    "\n",
    "P1 = (M1 * V1) / y1\n",
    "print(\"P1 =\", P1)"
   ]
  },
  {
   "cell_type": "markdown",
   "metadata": {},
   "source": [
    "$$P_1=80$$"
   ]
  }
 ],
 "metadata": {
  "kernelspec": {
   "display_name": "Python 3",
   "language": "python",
   "name": "python3"
  },
  "language_info": {
   "codemirror_mode": {
    "name": "ipython",
    "version": 3
   },
   "file_extension": ".py",
   "mimetype": "text/x-python",
   "name": "python",
   "nbconvert_exporter": "python",
   "pygments_lexer": "ipython3",
   "version": "3.7.6"
  }
 },
 "nbformat": 4,
 "nbformat_minor": 4
}
