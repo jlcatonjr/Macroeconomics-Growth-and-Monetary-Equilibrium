{
 "cells": [
  {
   "cell_type": "code",
   "execution_count": null,
   "id": "300d4019",
   "metadata": {
    "collapsed": true
   },
   "outputs": [],
   "source": []
  },
  {
   "cell_type": "markdown",
   "id": "57134a69",
   "metadata": {},
   "source": [
    "Two challenging observations observed by Muth:\n",
    "\n",
    "1. Averages of expectations in an industry are more accurate than naive models and as accurate as elaborate equation systems, although there are considerable cross-sectional differences of opinion\n",
    "\n",
    "2. Reported expectations generally understimtae the extent of changes that actually take place\n",
    "\n",
    "The rational expectaions hypothesis asserts:\n",
    "\n",
    "1. Information is scarce, and the economic system generally does not waste it.\n",
    "\n",
    "2. The way expectations are formed depends specifically on the teh structure of the relevant system describing the economy\n",
    "\n",
    "3. A 'public prediction,' in the sense of Grunberg and Modigliani, will have no substantial effect on the operation of the economic system (unless it is based on inside information. This is not quite the same thing as stating that the marginal revenue product of economics is zero, because expectations of a single firm may still be subject to greater error than theory.\n",
    "\n",
    "\"It *oes not* assert that the scratch work of entrepreneurs resembles the system of equations in any way; nor does it state that predictions of entreprenerus are perfect or that their expectations are all the same.\"\n",
    " \n",
    " \n",
    " Assumptions:\n",
    " \n",
    " 1. The random disturbances are normallly distributed\n",
    " \n",
    " 2. Certainty equivalents exist for the variable to be predicted.\n",
    " \n",
    " 3. The equations of the system, including the expectations formulas, are linear.\n",
    " \n",
    " \n",
    "Variables reference deviations from equilibrium values:\n",
    "\n",
    "Demand: $C_t = -\\beta p_t$\n",
    "Supply: $P_t = \\gamma p_t^e + u_t$ \n",
    "\n",
    "Equilibrium: \n",
    "\n",
    "$$P_t = C_t$$\n",
    "$$-\\beta p_t = \\gamma p_t^e + u_t$$\n",
    "\n",
    "On average, the price charged by the firm is a function of the price predicted by theory.\n",
    "\n",
    "$$p_t = -\\frac{\\gamma}{\\beta}p_t^e -\\frac{1}{\\beta}u_t$$\n",
    "\n",
    "Since $E(u_t)=0$:\n",
    "\n",
    "$$E(p_t) =  -\\frac{\\gamma}{\\beta}p_t^e$$\n",
    "\n",
    "If the aggregate expectations of firms is the same as that predicted by theory:\n",
    "\n",
    "$$E(P_t) = p_t^e$$\n",
    "\n",
    "If agents are fully \"rational\", then $p_t^e=0$. There is no deviation between the equilirbium price and the observed price if all information is fully integrated into observed prices.\n",
    "\n",
    "\n",
    "\n",
    "## Efficient Markets Hypothesis\n",
    "\n",
    "### Weak Form\n",
    "\n",
    "All information from past prices are fully integrated into present prices\n",
    "\n",
    "### Semi-strong From\n",
    "\n",
    "All publicly available information is integrated into present prices\n",
    "\n",
    "### Strong Form\n",
    "\n",
    "All public *and* private information is fully integrated into present prices\n",
    "\n"
   ]
  }
 ],
 "metadata": {
  "kernelspec": {
   "display_name": "Python 3 (ipykernel)",
   "language": "python",
   "name": "python3"
  },
  "language_info": {
   "codemirror_mode": {
    "name": "ipython",
    "version": 3
   },
   "file_extension": ".py",
   "mimetype": "text/x-python",
   "name": "python",
   "nbconvert_exporter": "python",
   "pygments_lexer": "ipython3",
   "version": "3.9.12"
  }
 },
 "nbformat": 4,
 "nbformat_minor": 5
}
